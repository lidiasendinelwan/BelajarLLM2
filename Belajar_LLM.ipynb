{
  "nbformat": 4,
  "nbformat_minor": 0,
  "metadata": {
    "colab": {
      "provenance": [],
      "gpuType": "T4",
      "authorship_tag": "ABX9TyMA0SothuiqWNv2DoL9GGfO",
      "include_colab_link": true
    },
    "kernelspec": {
      "name": "python3",
      "display_name": "Python 3"
    },
    "language_info": {
      "name": "python"
    },
    "accelerator": "GPU",
    "widgets": {
      "application/vnd.jupyter.widget-state+json": {
        "a97fa97720d746ae85014a1cf3344e18": {
          "model_module": "@jupyter-widgets/controls",
          "model_name": "HBoxModel",
          "model_module_version": "1.5.0",
          "state": {
            "_dom_classes": [],
            "_model_module": "@jupyter-widgets/controls",
            "_model_module_version": "1.5.0",
            "_model_name": "HBoxModel",
            "_view_count": null,
            "_view_module": "@jupyter-widgets/controls",
            "_view_module_version": "1.5.0",
            "_view_name": "HBoxView",
            "box_style": "",
            "children": [
              "IPY_MODEL_71802b86b93f40c59f6285c08837549f",
              "IPY_MODEL_9b7d157f394d43189797cd5ea01904db",
              "IPY_MODEL_7d99b9213d62463f90494cbf4b82724a"
            ],
            "layout": "IPY_MODEL_a27e87e3a85049519cd2912711188de1"
          }
        },
        "71802b86b93f40c59f6285c08837549f": {
          "model_module": "@jupyter-widgets/controls",
          "model_name": "HTMLModel",
          "model_module_version": "1.5.0",
          "state": {
            "_dom_classes": [],
            "_model_module": "@jupyter-widgets/controls",
            "_model_module_version": "1.5.0",
            "_model_name": "HTMLModel",
            "_view_count": null,
            "_view_module": "@jupyter-widgets/controls",
            "_view_module_version": "1.5.0",
            "_view_name": "HTMLView",
            "description": "",
            "description_tooltip": null,
            "layout": "IPY_MODEL_b393dd98449f4ccdaea98fd60e3f60c5",
            "placeholder": "​",
            "style": "IPY_MODEL_23d6ea6ef8714c5d88029b2c6bd2d3ab",
            "value": "Downloading: 100%"
          }
        },
        "9b7d157f394d43189797cd5ea01904db": {
          "model_module": "@jupyter-widgets/controls",
          "model_name": "FloatProgressModel",
          "model_module_version": "1.5.0",
          "state": {
            "_dom_classes": [],
            "_model_module": "@jupyter-widgets/controls",
            "_model_module_version": "1.5.0",
            "_model_name": "FloatProgressModel",
            "_view_count": null,
            "_view_module": "@jupyter-widgets/controls",
            "_view_module_version": "1.5.0",
            "_view_name": "ProgressView",
            "bar_style": "success",
            "description": "",
            "description_tooltip": null,
            "layout": "IPY_MODEL_8e6e0ab69bb64faaaf9aad98d62fbcbe",
            "max": 930,
            "min": 0,
            "orientation": "horizontal",
            "style": "IPY_MODEL_0fbd2cea6e104c0aacfffaa056aadbb2",
            "value": 930
          }
        },
        "7d99b9213d62463f90494cbf4b82724a": {
          "model_module": "@jupyter-widgets/controls",
          "model_name": "HTMLModel",
          "model_module_version": "1.5.0",
          "state": {
            "_dom_classes": [],
            "_model_module": "@jupyter-widgets/controls",
            "_model_module_version": "1.5.0",
            "_model_name": "HTMLModel",
            "_view_count": null,
            "_view_module": "@jupyter-widgets/controls",
            "_view_module_version": "1.5.0",
            "_view_name": "HTMLView",
            "description": "",
            "description_tooltip": null,
            "layout": "IPY_MODEL_5be056183f35467d84be22c4cc4ac0f9",
            "placeholder": "​",
            "style": "IPY_MODEL_3e8a1d75d941403ebcf824aa2ca85b8b",
            "value": " 930/930 [00:00&lt;00:00, 57.5kB/s]"
          }
        },
        "a27e87e3a85049519cd2912711188de1": {
          "model_module": "@jupyter-widgets/base",
          "model_name": "LayoutModel",
          "model_module_version": "1.2.0",
          "state": {
            "_model_module": "@jupyter-widgets/base",
            "_model_module_version": "1.2.0",
            "_model_name": "LayoutModel",
            "_view_count": null,
            "_view_module": "@jupyter-widgets/base",
            "_view_module_version": "1.2.0",
            "_view_name": "LayoutView",
            "align_content": null,
            "align_items": null,
            "align_self": null,
            "border": null,
            "bottom": null,
            "display": null,
            "flex": null,
            "flex_flow": null,
            "grid_area": null,
            "grid_auto_columns": null,
            "grid_auto_flow": null,
            "grid_auto_rows": null,
            "grid_column": null,
            "grid_gap": null,
            "grid_row": null,
            "grid_template_areas": null,
            "grid_template_columns": null,
            "grid_template_rows": null,
            "height": null,
            "justify_content": null,
            "justify_items": null,
            "left": null,
            "margin": null,
            "max_height": null,
            "max_width": null,
            "min_height": null,
            "min_width": null,
            "object_fit": null,
            "object_position": null,
            "order": null,
            "overflow": null,
            "overflow_x": null,
            "overflow_y": null,
            "padding": null,
            "right": null,
            "top": null,
            "visibility": null,
            "width": null
          }
        },
        "b393dd98449f4ccdaea98fd60e3f60c5": {
          "model_module": "@jupyter-widgets/base",
          "model_name": "LayoutModel",
          "model_module_version": "1.2.0",
          "state": {
            "_model_module": "@jupyter-widgets/base",
            "_model_module_version": "1.2.0",
            "_model_name": "LayoutModel",
            "_view_count": null,
            "_view_module": "@jupyter-widgets/base",
            "_view_module_version": "1.2.0",
            "_view_name": "LayoutView",
            "align_content": null,
            "align_items": null,
            "align_self": null,
            "border": null,
            "bottom": null,
            "display": null,
            "flex": null,
            "flex_flow": null,
            "grid_area": null,
            "grid_auto_columns": null,
            "grid_auto_flow": null,
            "grid_auto_rows": null,
            "grid_column": null,
            "grid_gap": null,
            "grid_row": null,
            "grid_template_areas": null,
            "grid_template_columns": null,
            "grid_template_rows": null,
            "height": null,
            "justify_content": null,
            "justify_items": null,
            "left": null,
            "margin": null,
            "max_height": null,
            "max_width": null,
            "min_height": null,
            "min_width": null,
            "object_fit": null,
            "object_position": null,
            "order": null,
            "overflow": null,
            "overflow_x": null,
            "overflow_y": null,
            "padding": null,
            "right": null,
            "top": null,
            "visibility": null,
            "width": null
          }
        },
        "23d6ea6ef8714c5d88029b2c6bd2d3ab": {
          "model_module": "@jupyter-widgets/controls",
          "model_name": "DescriptionStyleModel",
          "model_module_version": "1.5.0",
          "state": {
            "_model_module": "@jupyter-widgets/controls",
            "_model_module_version": "1.5.0",
            "_model_name": "DescriptionStyleModel",
            "_view_count": null,
            "_view_module": "@jupyter-widgets/base",
            "_view_module_version": "1.2.0",
            "_view_name": "StyleView",
            "description_width": ""
          }
        },
        "8e6e0ab69bb64faaaf9aad98d62fbcbe": {
          "model_module": "@jupyter-widgets/base",
          "model_name": "LayoutModel",
          "model_module_version": "1.2.0",
          "state": {
            "_model_module": "@jupyter-widgets/base",
            "_model_module_version": "1.2.0",
            "_model_name": "LayoutModel",
            "_view_count": null,
            "_view_module": "@jupyter-widgets/base",
            "_view_module_version": "1.2.0",
            "_view_name": "LayoutView",
            "align_content": null,
            "align_items": null,
            "align_self": null,
            "border": null,
            "bottom": null,
            "display": null,
            "flex": null,
            "flex_flow": null,
            "grid_area": null,
            "grid_auto_columns": null,
            "grid_auto_flow": null,
            "grid_auto_rows": null,
            "grid_column": null,
            "grid_gap": null,
            "grid_row": null,
            "grid_template_areas": null,
            "grid_template_columns": null,
            "grid_template_rows": null,
            "height": null,
            "justify_content": null,
            "justify_items": null,
            "left": null,
            "margin": null,
            "max_height": null,
            "max_width": null,
            "min_height": null,
            "min_width": null,
            "object_fit": null,
            "object_position": null,
            "order": null,
            "overflow": null,
            "overflow_x": null,
            "overflow_y": null,
            "padding": null,
            "right": null,
            "top": null,
            "visibility": null,
            "width": null
          }
        },
        "0fbd2cea6e104c0aacfffaa056aadbb2": {
          "model_module": "@jupyter-widgets/controls",
          "model_name": "ProgressStyleModel",
          "model_module_version": "1.5.0",
          "state": {
            "_model_module": "@jupyter-widgets/controls",
            "_model_module_version": "1.5.0",
            "_model_name": "ProgressStyleModel",
            "_view_count": null,
            "_view_module": "@jupyter-widgets/base",
            "_view_module_version": "1.2.0",
            "_view_name": "StyleView",
            "bar_color": null,
            "description_width": ""
          }
        },
        "5be056183f35467d84be22c4cc4ac0f9": {
          "model_module": "@jupyter-widgets/base",
          "model_name": "LayoutModel",
          "model_module_version": "1.2.0",
          "state": {
            "_model_module": "@jupyter-widgets/base",
            "_model_module_version": "1.2.0",
            "_model_name": "LayoutModel",
            "_view_count": null,
            "_view_module": "@jupyter-widgets/base",
            "_view_module_version": "1.2.0",
            "_view_name": "LayoutView",
            "align_content": null,
            "align_items": null,
            "align_self": null,
            "border": null,
            "bottom": null,
            "display": null,
            "flex": null,
            "flex_flow": null,
            "grid_area": null,
            "grid_auto_columns": null,
            "grid_auto_flow": null,
            "grid_auto_rows": null,
            "grid_column": null,
            "grid_gap": null,
            "grid_row": null,
            "grid_template_areas": null,
            "grid_template_columns": null,
            "grid_template_rows": null,
            "height": null,
            "justify_content": null,
            "justify_items": null,
            "left": null,
            "margin": null,
            "max_height": null,
            "max_width": null,
            "min_height": null,
            "min_width": null,
            "object_fit": null,
            "object_position": null,
            "order": null,
            "overflow": null,
            "overflow_x": null,
            "overflow_y": null,
            "padding": null,
            "right": null,
            "top": null,
            "visibility": null,
            "width": null
          }
        },
        "3e8a1d75d941403ebcf824aa2ca85b8b": {
          "model_module": "@jupyter-widgets/controls",
          "model_name": "DescriptionStyleModel",
          "model_module_version": "1.5.0",
          "state": {
            "_model_module": "@jupyter-widgets/controls",
            "_model_module_version": "1.5.0",
            "_model_name": "DescriptionStyleModel",
            "_view_count": null,
            "_view_module": "@jupyter-widgets/base",
            "_view_module_version": "1.2.0",
            "_view_name": "StyleView",
            "description_width": ""
          }
        },
        "9dcd4ae0b00c4b90971a428014b65843": {
          "model_module": "@jupyter-widgets/controls",
          "model_name": "HBoxModel",
          "model_module_version": "1.5.0",
          "state": {
            "_dom_classes": [],
            "_model_module": "@jupyter-widgets/controls",
            "_model_module_version": "1.5.0",
            "_model_name": "HBoxModel",
            "_view_count": null,
            "_view_module": "@jupyter-widgets/controls",
            "_view_module_version": "1.5.0",
            "_view_name": "HBoxView",
            "box_style": "",
            "children": [
              "IPY_MODEL_fbe02ccfd1e44f2b928dd01f70ab72f0",
              "IPY_MODEL_0dc5e50a3a5149e8949329358bc0c774",
              "IPY_MODEL_e31213fe34044504a35da7e1a3c7895a"
            ],
            "layout": "IPY_MODEL_d19759d98af74b278c09eaed1a3bbbc8"
          }
        },
        "fbe02ccfd1e44f2b928dd01f70ab72f0": {
          "model_module": "@jupyter-widgets/controls",
          "model_name": "HTMLModel",
          "model_module_version": "1.5.0",
          "state": {
            "_dom_classes": [],
            "_model_module": "@jupyter-widgets/controls",
            "_model_module_version": "1.5.0",
            "_model_name": "HTMLModel",
            "_view_count": null,
            "_view_module": "@jupyter-widgets/controls",
            "_view_module_version": "1.5.0",
            "_view_name": "HTMLView",
            "description": "",
            "description_tooltip": null,
            "layout": "IPY_MODEL_a62e7f7ac93842bd9ab1edfcaf7808f8",
            "placeholder": "​",
            "style": "IPY_MODEL_9e23e29529464472b557e415732b42f8",
            "value": "Downloading: 100%"
          }
        },
        "0dc5e50a3a5149e8949329358bc0c774": {
          "model_module": "@jupyter-widgets/controls",
          "model_name": "FloatProgressModel",
          "model_module_version": "1.5.0",
          "state": {
            "_dom_classes": [],
            "_model_module": "@jupyter-widgets/controls",
            "_model_module_version": "1.5.0",
            "_model_name": "FloatProgressModel",
            "_view_count": null,
            "_view_module": "@jupyter-widgets/controls",
            "_view_module_version": "1.5.0",
            "_view_name": "ProgressView",
            "bar_style": "success",
            "description": "",
            "description_tooltip": null,
            "layout": "IPY_MODEL_36e3e71ec55d4c3f87732f462913f1fb",
            "max": 619,
            "min": 0,
            "orientation": "horizontal",
            "style": "IPY_MODEL_953bd96cf3a5483fbc563247953080e2",
            "value": 619
          }
        },
        "e31213fe34044504a35da7e1a3c7895a": {
          "model_module": "@jupyter-widgets/controls",
          "model_name": "HTMLModel",
          "model_module_version": "1.5.0",
          "state": {
            "_dom_classes": [],
            "_model_module": "@jupyter-widgets/controls",
            "_model_module_version": "1.5.0",
            "_model_name": "HTMLModel",
            "_view_count": null,
            "_view_module": "@jupyter-widgets/controls",
            "_view_module_version": "1.5.0",
            "_view_name": "HTMLView",
            "description": "",
            "description_tooltip": null,
            "layout": "IPY_MODEL_7cc75c21953c4088a90c07140b96ce01",
            "placeholder": "​",
            "style": "IPY_MODEL_ba1ab08d96844cacaf71edd889b25fb6",
            "value": " 619/619 [00:00&lt;00:00, 43.2kB/s]"
          }
        },
        "d19759d98af74b278c09eaed1a3bbbc8": {
          "model_module": "@jupyter-widgets/base",
          "model_name": "LayoutModel",
          "model_module_version": "1.2.0",
          "state": {
            "_model_module": "@jupyter-widgets/base",
            "_model_module_version": "1.2.0",
            "_model_name": "LayoutModel",
            "_view_count": null,
            "_view_module": "@jupyter-widgets/base",
            "_view_module_version": "1.2.0",
            "_view_name": "LayoutView",
            "align_content": null,
            "align_items": null,
            "align_self": null,
            "border": null,
            "bottom": null,
            "display": null,
            "flex": null,
            "flex_flow": null,
            "grid_area": null,
            "grid_auto_columns": null,
            "grid_auto_flow": null,
            "grid_auto_rows": null,
            "grid_column": null,
            "grid_gap": null,
            "grid_row": null,
            "grid_template_areas": null,
            "grid_template_columns": null,
            "grid_template_rows": null,
            "height": null,
            "justify_content": null,
            "justify_items": null,
            "left": null,
            "margin": null,
            "max_height": null,
            "max_width": null,
            "min_height": null,
            "min_width": null,
            "object_fit": null,
            "object_position": null,
            "order": null,
            "overflow": null,
            "overflow_x": null,
            "overflow_y": null,
            "padding": null,
            "right": null,
            "top": null,
            "visibility": null,
            "width": null
          }
        },
        "a62e7f7ac93842bd9ab1edfcaf7808f8": {
          "model_module": "@jupyter-widgets/base",
          "model_name": "LayoutModel",
          "model_module_version": "1.2.0",
          "state": {
            "_model_module": "@jupyter-widgets/base",
            "_model_module_version": "1.2.0",
            "_model_name": "LayoutModel",
            "_view_count": null,
            "_view_module": "@jupyter-widgets/base",
            "_view_module_version": "1.2.0",
            "_view_name": "LayoutView",
            "align_content": null,
            "align_items": null,
            "align_self": null,
            "border": null,
            "bottom": null,
            "display": null,
            "flex": null,
            "flex_flow": null,
            "grid_area": null,
            "grid_auto_columns": null,
            "grid_auto_flow": null,
            "grid_auto_rows": null,
            "grid_column": null,
            "grid_gap": null,
            "grid_row": null,
            "grid_template_areas": null,
            "grid_template_columns": null,
            "grid_template_rows": null,
            "height": null,
            "justify_content": null,
            "justify_items": null,
            "left": null,
            "margin": null,
            "max_height": null,
            "max_width": null,
            "min_height": null,
            "min_width": null,
            "object_fit": null,
            "object_position": null,
            "order": null,
            "overflow": null,
            "overflow_x": null,
            "overflow_y": null,
            "padding": null,
            "right": null,
            "top": null,
            "visibility": null,
            "width": null
          }
        },
        "9e23e29529464472b557e415732b42f8": {
          "model_module": "@jupyter-widgets/controls",
          "model_name": "DescriptionStyleModel",
          "model_module_version": "1.5.0",
          "state": {
            "_model_module": "@jupyter-widgets/controls",
            "_model_module_version": "1.5.0",
            "_model_name": "DescriptionStyleModel",
            "_view_count": null,
            "_view_module": "@jupyter-widgets/base",
            "_view_module_version": "1.2.0",
            "_view_name": "StyleView",
            "description_width": ""
          }
        },
        "36e3e71ec55d4c3f87732f462913f1fb": {
          "model_module": "@jupyter-widgets/base",
          "model_name": "LayoutModel",
          "model_module_version": "1.2.0",
          "state": {
            "_model_module": "@jupyter-widgets/base",
            "_model_module_version": "1.2.0",
            "_model_name": "LayoutModel",
            "_view_count": null,
            "_view_module": "@jupyter-widgets/base",
            "_view_module_version": "1.2.0",
            "_view_name": "LayoutView",
            "align_content": null,
            "align_items": null,
            "align_self": null,
            "border": null,
            "bottom": null,
            "display": null,
            "flex": null,
            "flex_flow": null,
            "grid_area": null,
            "grid_auto_columns": null,
            "grid_auto_flow": null,
            "grid_auto_rows": null,
            "grid_column": null,
            "grid_gap": null,
            "grid_row": null,
            "grid_template_areas": null,
            "grid_template_columns": null,
            "grid_template_rows": null,
            "height": null,
            "justify_content": null,
            "justify_items": null,
            "left": null,
            "margin": null,
            "max_height": null,
            "max_width": null,
            "min_height": null,
            "min_width": null,
            "object_fit": null,
            "object_position": null,
            "order": null,
            "overflow": null,
            "overflow_x": null,
            "overflow_y": null,
            "padding": null,
            "right": null,
            "top": null,
            "visibility": null,
            "width": null
          }
        },
        "953bd96cf3a5483fbc563247953080e2": {
          "model_module": "@jupyter-widgets/controls",
          "model_name": "ProgressStyleModel",
          "model_module_version": "1.5.0",
          "state": {
            "_model_module": "@jupyter-widgets/controls",
            "_model_module_version": "1.5.0",
            "_model_name": "ProgressStyleModel",
            "_view_count": null,
            "_view_module": "@jupyter-widgets/base",
            "_view_module_version": "1.2.0",
            "_view_name": "StyleView",
            "bar_color": null,
            "description_width": ""
          }
        },
        "7cc75c21953c4088a90c07140b96ce01": {
          "model_module": "@jupyter-widgets/base",
          "model_name": "LayoutModel",
          "model_module_version": "1.2.0",
          "state": {
            "_model_module": "@jupyter-widgets/base",
            "_model_module_version": "1.2.0",
            "_model_name": "LayoutModel",
            "_view_count": null,
            "_view_module": "@jupyter-widgets/base",
            "_view_module_version": "1.2.0",
            "_view_name": "LayoutView",
            "align_content": null,
            "align_items": null,
            "align_self": null,
            "border": null,
            "bottom": null,
            "display": null,
            "flex": null,
            "flex_flow": null,
            "grid_area": null,
            "grid_auto_columns": null,
            "grid_auto_flow": null,
            "grid_auto_rows": null,
            "grid_column": null,
            "grid_gap": null,
            "grid_row": null,
            "grid_template_areas": null,
            "grid_template_columns": null,
            "grid_template_rows": null,
            "height": null,
            "justify_content": null,
            "justify_items": null,
            "left": null,
            "margin": null,
            "max_height": null,
            "max_width": null,
            "min_height": null,
            "min_width": null,
            "object_fit": null,
            "object_position": null,
            "order": null,
            "overflow": null,
            "overflow_x": null,
            "overflow_y": null,
            "padding": null,
            "right": null,
            "top": null,
            "visibility": null,
            "width": null
          }
        },
        "ba1ab08d96844cacaf71edd889b25fb6": {
          "model_module": "@jupyter-widgets/controls",
          "model_name": "DescriptionStyleModel",
          "model_module_version": "1.5.0",
          "state": {
            "_model_module": "@jupyter-widgets/controls",
            "_model_module_version": "1.5.0",
            "_model_name": "DescriptionStyleModel",
            "_view_count": null,
            "_view_module": "@jupyter-widgets/base",
            "_view_module_version": "1.2.0",
            "_view_name": "StyleView",
            "description_width": ""
          }
        },
        "aa3b51a4946244b1899033a2f66e2336": {
          "model_module": "@jupyter-widgets/controls",
          "model_name": "HBoxModel",
          "model_module_version": "1.5.0",
          "state": {
            "_dom_classes": [],
            "_model_module": "@jupyter-widgets/controls",
            "_model_module_version": "1.5.0",
            "_model_name": "HBoxModel",
            "_view_count": null,
            "_view_module": "@jupyter-widgets/controls",
            "_view_module_version": "1.5.0",
            "_view_name": "HBoxView",
            "box_style": "",
            "children": [
              "IPY_MODEL_1ca2d3f653a54740baa00122a99032ad",
              "IPY_MODEL_37e2471baa694dc3bc375ae1dec94715",
              "IPY_MODEL_c191818d9a3d4169b2f04640d28cd496"
            ],
            "layout": "IPY_MODEL_2ec402dd112c478d9d9f17b4a4b6f982"
          }
        },
        "1ca2d3f653a54740baa00122a99032ad": {
          "model_module": "@jupyter-widgets/controls",
          "model_name": "HTMLModel",
          "model_module_version": "1.5.0",
          "state": {
            "_dom_classes": [],
            "_model_module": "@jupyter-widgets/controls",
            "_model_module_version": "1.5.0",
            "_model_name": "HTMLModel",
            "_view_count": null,
            "_view_module": "@jupyter-widgets/controls",
            "_view_module_version": "1.5.0",
            "_view_name": "HTMLView",
            "description": "",
            "description_tooltip": null,
            "layout": "IPY_MODEL_d4d70f7bdec74136b38dc3ed8bf568fe",
            "placeholder": "​",
            "style": "IPY_MODEL_eca16ba21f144692a5d49f3e27db4098",
            "value": "Downloading: 100%"
          }
        },
        "37e2471baa694dc3bc375ae1dec94715": {
          "model_module": "@jupyter-widgets/controls",
          "model_name": "FloatProgressModel",
          "model_module_version": "1.5.0",
          "state": {
            "_dom_classes": [],
            "_model_module": "@jupyter-widgets/controls",
            "_model_module_version": "1.5.0",
            "_model_name": "FloatProgressModel",
            "_view_count": null,
            "_view_module": "@jupyter-widgets/controls",
            "_view_module_version": "1.5.0",
            "_view_name": "ProgressView",
            "bar_style": "success",
            "description": "",
            "description_tooltip": null,
            "layout": "IPY_MODEL_6d691ba42fb240a7b67d21ef8bf538ca",
            "max": 798156,
            "min": 0,
            "orientation": "horizontal",
            "style": "IPY_MODEL_c6d5820f9af145ef9db2bdba5bad166a",
            "value": 798156
          }
        },
        "c191818d9a3d4169b2f04640d28cd496": {
          "model_module": "@jupyter-widgets/controls",
          "model_name": "HTMLModel",
          "model_module_version": "1.5.0",
          "state": {
            "_dom_classes": [],
            "_model_module": "@jupyter-widgets/controls",
            "_model_module_version": "1.5.0",
            "_model_name": "HTMLModel",
            "_view_count": null,
            "_view_module": "@jupyter-widgets/controls",
            "_view_module_version": "1.5.0",
            "_view_name": "HTMLView",
            "description": "",
            "description_tooltip": null,
            "layout": "IPY_MODEL_1a90c69766c74b5da79ab336f4a27060",
            "placeholder": "​",
            "style": "IPY_MODEL_ef5e7be0550e42539e2e597eb7c77d67",
            "value": " 779k/779k [00:00&lt;00:00, 3.17MB/s]"
          }
        },
        "2ec402dd112c478d9d9f17b4a4b6f982": {
          "model_module": "@jupyter-widgets/base",
          "model_name": "LayoutModel",
          "model_module_version": "1.2.0",
          "state": {
            "_model_module": "@jupyter-widgets/base",
            "_model_module_version": "1.2.0",
            "_model_name": "LayoutModel",
            "_view_count": null,
            "_view_module": "@jupyter-widgets/base",
            "_view_module_version": "1.2.0",
            "_view_name": "LayoutView",
            "align_content": null,
            "align_items": null,
            "align_self": null,
            "border": null,
            "bottom": null,
            "display": null,
            "flex": null,
            "flex_flow": null,
            "grid_area": null,
            "grid_auto_columns": null,
            "grid_auto_flow": null,
            "grid_auto_rows": null,
            "grid_column": null,
            "grid_gap": null,
            "grid_row": null,
            "grid_template_areas": null,
            "grid_template_columns": null,
            "grid_template_rows": null,
            "height": null,
            "justify_content": null,
            "justify_items": null,
            "left": null,
            "margin": null,
            "max_height": null,
            "max_width": null,
            "min_height": null,
            "min_width": null,
            "object_fit": null,
            "object_position": null,
            "order": null,
            "overflow": null,
            "overflow_x": null,
            "overflow_y": null,
            "padding": null,
            "right": null,
            "top": null,
            "visibility": null,
            "width": null
          }
        },
        "d4d70f7bdec74136b38dc3ed8bf568fe": {
          "model_module": "@jupyter-widgets/base",
          "model_name": "LayoutModel",
          "model_module_version": "1.2.0",
          "state": {
            "_model_module": "@jupyter-widgets/base",
            "_model_module_version": "1.2.0",
            "_model_name": "LayoutModel",
            "_view_count": null,
            "_view_module": "@jupyter-widgets/base",
            "_view_module_version": "1.2.0",
            "_view_name": "LayoutView",
            "align_content": null,
            "align_items": null,
            "align_self": null,
            "border": null,
            "bottom": null,
            "display": null,
            "flex": null,
            "flex_flow": null,
            "grid_area": null,
            "grid_auto_columns": null,
            "grid_auto_flow": null,
            "grid_auto_rows": null,
            "grid_column": null,
            "grid_gap": null,
            "grid_row": null,
            "grid_template_areas": null,
            "grid_template_columns": null,
            "grid_template_rows": null,
            "height": null,
            "justify_content": null,
            "justify_items": null,
            "left": null,
            "margin": null,
            "max_height": null,
            "max_width": null,
            "min_height": null,
            "min_width": null,
            "object_fit": null,
            "object_position": null,
            "order": null,
            "overflow": null,
            "overflow_x": null,
            "overflow_y": null,
            "padding": null,
            "right": null,
            "top": null,
            "visibility": null,
            "width": null
          }
        },
        "eca16ba21f144692a5d49f3e27db4098": {
          "model_module": "@jupyter-widgets/controls",
          "model_name": "DescriptionStyleModel",
          "model_module_version": "1.5.0",
          "state": {
            "_model_module": "@jupyter-widgets/controls",
            "_model_module_version": "1.5.0",
            "_model_name": "DescriptionStyleModel",
            "_view_count": null,
            "_view_module": "@jupyter-widgets/base",
            "_view_module_version": "1.2.0",
            "_view_name": "StyleView",
            "description_width": ""
          }
        },
        "6d691ba42fb240a7b67d21ef8bf538ca": {
          "model_module": "@jupyter-widgets/base",
          "model_name": "LayoutModel",
          "model_module_version": "1.2.0",
          "state": {
            "_model_module": "@jupyter-widgets/base",
            "_model_module_version": "1.2.0",
            "_model_name": "LayoutModel",
            "_view_count": null,
            "_view_module": "@jupyter-widgets/base",
            "_view_module_version": "1.2.0",
            "_view_name": "LayoutView",
            "align_content": null,
            "align_items": null,
            "align_self": null,
            "border": null,
            "bottom": null,
            "display": null,
            "flex": null,
            "flex_flow": null,
            "grid_area": null,
            "grid_auto_columns": null,
            "grid_auto_flow": null,
            "grid_auto_rows": null,
            "grid_column": null,
            "grid_gap": null,
            "grid_row": null,
            "grid_template_areas": null,
            "grid_template_columns": null,
            "grid_template_rows": null,
            "height": null,
            "justify_content": null,
            "justify_items": null,
            "left": null,
            "margin": null,
            "max_height": null,
            "max_width": null,
            "min_height": null,
            "min_width": null,
            "object_fit": null,
            "object_position": null,
            "order": null,
            "overflow": null,
            "overflow_x": null,
            "overflow_y": null,
            "padding": null,
            "right": null,
            "top": null,
            "visibility": null,
            "width": null
          }
        },
        "c6d5820f9af145ef9db2bdba5bad166a": {
          "model_module": "@jupyter-widgets/controls",
          "model_name": "ProgressStyleModel",
          "model_module_version": "1.5.0",
          "state": {
            "_model_module": "@jupyter-widgets/controls",
            "_model_module_version": "1.5.0",
            "_model_name": "ProgressStyleModel",
            "_view_count": null,
            "_view_module": "@jupyter-widgets/base",
            "_view_module_version": "1.2.0",
            "_view_name": "StyleView",
            "bar_color": null,
            "description_width": ""
          }
        },
        "1a90c69766c74b5da79ab336f4a27060": {
          "model_module": "@jupyter-widgets/base",
          "model_name": "LayoutModel",
          "model_module_version": "1.2.0",
          "state": {
            "_model_module": "@jupyter-widgets/base",
            "_model_module_version": "1.2.0",
            "_model_name": "LayoutModel",
            "_view_count": null,
            "_view_module": "@jupyter-widgets/base",
            "_view_module_version": "1.2.0",
            "_view_name": "LayoutView",
            "align_content": null,
            "align_items": null,
            "align_self": null,
            "border": null,
            "bottom": null,
            "display": null,
            "flex": null,
            "flex_flow": null,
            "grid_area": null,
            "grid_auto_columns": null,
            "grid_auto_flow": null,
            "grid_auto_rows": null,
            "grid_column": null,
            "grid_gap": null,
            "grid_row": null,
            "grid_template_areas": null,
            "grid_template_columns": null,
            "grid_template_rows": null,
            "height": null,
            "justify_content": null,
            "justify_items": null,
            "left": null,
            "margin": null,
            "max_height": null,
            "max_width": null,
            "min_height": null,
            "min_width": null,
            "object_fit": null,
            "object_position": null,
            "order": null,
            "overflow": null,
            "overflow_x": null,
            "overflow_y": null,
            "padding": null,
            "right": null,
            "top": null,
            "visibility": null,
            "width": null
          }
        },
        "ef5e7be0550e42539e2e597eb7c77d67": {
          "model_module": "@jupyter-widgets/controls",
          "model_name": "DescriptionStyleModel",
          "model_module_version": "1.5.0",
          "state": {
            "_model_module": "@jupyter-widgets/controls",
            "_model_module_version": "1.5.0",
            "_model_name": "DescriptionStyleModel",
            "_view_count": null,
            "_view_module": "@jupyter-widgets/base",
            "_view_module_version": "1.2.0",
            "_view_name": "StyleView",
            "description_width": ""
          }
        },
        "d7f90b41e1964072b43ff26adb07b86c": {
          "model_module": "@jupyter-widgets/controls",
          "model_name": "HBoxModel",
          "model_module_version": "1.5.0",
          "state": {
            "_dom_classes": [],
            "_model_module": "@jupyter-widgets/controls",
            "_model_module_version": "1.5.0",
            "_model_name": "HBoxModel",
            "_view_count": null,
            "_view_module": "@jupyter-widgets/controls",
            "_view_module_version": "1.5.0",
            "_view_name": "HBoxView",
            "box_style": "",
            "children": [
              "IPY_MODEL_40382cdf9e3a4579a45d359fbbaa36ce",
              "IPY_MODEL_f5f56b1359554745901c7d335ad00052",
              "IPY_MODEL_6ff734b61e83423a956f8b7e34647010"
            ],
            "layout": "IPY_MODEL_7aad97c5ea38440e8cbd5e06355150c3"
          }
        },
        "40382cdf9e3a4579a45d359fbbaa36ce": {
          "model_module": "@jupyter-widgets/controls",
          "model_name": "HTMLModel",
          "model_module_version": "1.5.0",
          "state": {
            "_dom_classes": [],
            "_model_module": "@jupyter-widgets/controls",
            "_model_module_version": "1.5.0",
            "_model_name": "HTMLModel",
            "_view_count": null,
            "_view_module": "@jupyter-widgets/controls",
            "_view_module_version": "1.5.0",
            "_view_name": "HTMLView",
            "description": "",
            "description_tooltip": null,
            "layout": "IPY_MODEL_c8cc9a4b661544a4b0dcf454249f256a",
            "placeholder": "​",
            "style": "IPY_MODEL_e6008157c5f241eba75eb2ad7217b1a7",
            "value": "Downloading: 100%"
          }
        },
        "f5f56b1359554745901c7d335ad00052": {
          "model_module": "@jupyter-widgets/controls",
          "model_name": "FloatProgressModel",
          "model_module_version": "1.5.0",
          "state": {
            "_dom_classes": [],
            "_model_module": "@jupyter-widgets/controls",
            "_model_module_version": "1.5.0",
            "_model_name": "FloatProgressModel",
            "_view_count": null,
            "_view_module": "@jupyter-widgets/controls",
            "_view_module_version": "1.5.0",
            "_view_name": "ProgressView",
            "bar_style": "success",
            "description": "",
            "description_tooltip": null,
            "layout": "IPY_MODEL_002780a964fd4278818b9ed6590b4164",
            "max": 456356,
            "min": 0,
            "orientation": "horizontal",
            "style": "IPY_MODEL_310768d7d8cf4654b7b345bcc9c17af8",
            "value": 456356
          }
        },
        "6ff734b61e83423a956f8b7e34647010": {
          "model_module": "@jupyter-widgets/controls",
          "model_name": "HTMLModel",
          "model_module_version": "1.5.0",
          "state": {
            "_dom_classes": [],
            "_model_module": "@jupyter-widgets/controls",
            "_model_module_version": "1.5.0",
            "_model_name": "HTMLModel",
            "_view_count": null,
            "_view_module": "@jupyter-widgets/controls",
            "_view_module_version": "1.5.0",
            "_view_name": "HTMLView",
            "description": "",
            "description_tooltip": null,
            "layout": "IPY_MODEL_502d6f870e3d41528384340e8daf0f18",
            "placeholder": "​",
            "style": "IPY_MODEL_bf132265009543a899d54d69c1787008",
            "value": " 446k/446k [00:00&lt;00:00, 2.49MB/s]"
          }
        },
        "7aad97c5ea38440e8cbd5e06355150c3": {
          "model_module": "@jupyter-widgets/base",
          "model_name": "LayoutModel",
          "model_module_version": "1.2.0",
          "state": {
            "_model_module": "@jupyter-widgets/base",
            "_model_module_version": "1.2.0",
            "_model_name": "LayoutModel",
            "_view_count": null,
            "_view_module": "@jupyter-widgets/base",
            "_view_module_version": "1.2.0",
            "_view_name": "LayoutView",
            "align_content": null,
            "align_items": null,
            "align_self": null,
            "border": null,
            "bottom": null,
            "display": null,
            "flex": null,
            "flex_flow": null,
            "grid_area": null,
            "grid_auto_columns": null,
            "grid_auto_flow": null,
            "grid_auto_rows": null,
            "grid_column": null,
            "grid_gap": null,
            "grid_row": null,
            "grid_template_areas": null,
            "grid_template_columns": null,
            "grid_template_rows": null,
            "height": null,
            "justify_content": null,
            "justify_items": null,
            "left": null,
            "margin": null,
            "max_height": null,
            "max_width": null,
            "min_height": null,
            "min_width": null,
            "object_fit": null,
            "object_position": null,
            "order": null,
            "overflow": null,
            "overflow_x": null,
            "overflow_y": null,
            "padding": null,
            "right": null,
            "top": null,
            "visibility": null,
            "width": null
          }
        },
        "c8cc9a4b661544a4b0dcf454249f256a": {
          "model_module": "@jupyter-widgets/base",
          "model_name": "LayoutModel",
          "model_module_version": "1.2.0",
          "state": {
            "_model_module": "@jupyter-widgets/base",
            "_model_module_version": "1.2.0",
            "_model_name": "LayoutModel",
            "_view_count": null,
            "_view_module": "@jupyter-widgets/base",
            "_view_module_version": "1.2.0",
            "_view_name": "LayoutView",
            "align_content": null,
            "align_items": null,
            "align_self": null,
            "border": null,
            "bottom": null,
            "display": null,
            "flex": null,
            "flex_flow": null,
            "grid_area": null,
            "grid_auto_columns": null,
            "grid_auto_flow": null,
            "grid_auto_rows": null,
            "grid_column": null,
            "grid_gap": null,
            "grid_row": null,
            "grid_template_areas": null,
            "grid_template_columns": null,
            "grid_template_rows": null,
            "height": null,
            "justify_content": null,
            "justify_items": null,
            "left": null,
            "margin": null,
            "max_height": null,
            "max_width": null,
            "min_height": null,
            "min_width": null,
            "object_fit": null,
            "object_position": null,
            "order": null,
            "overflow": null,
            "overflow_x": null,
            "overflow_y": null,
            "padding": null,
            "right": null,
            "top": null,
            "visibility": null,
            "width": null
          }
        },
        "e6008157c5f241eba75eb2ad7217b1a7": {
          "model_module": "@jupyter-widgets/controls",
          "model_name": "DescriptionStyleModel",
          "model_module_version": "1.5.0",
          "state": {
            "_model_module": "@jupyter-widgets/controls",
            "_model_module_version": "1.5.0",
            "_model_name": "DescriptionStyleModel",
            "_view_count": null,
            "_view_module": "@jupyter-widgets/base",
            "_view_module_version": "1.2.0",
            "_view_name": "StyleView",
            "description_width": ""
          }
        },
        "002780a964fd4278818b9ed6590b4164": {
          "model_module": "@jupyter-widgets/base",
          "model_name": "LayoutModel",
          "model_module_version": "1.2.0",
          "state": {
            "_model_module": "@jupyter-widgets/base",
            "_model_module_version": "1.2.0",
            "_model_name": "LayoutModel",
            "_view_count": null,
            "_view_module": "@jupyter-widgets/base",
            "_view_module_version": "1.2.0",
            "_view_name": "LayoutView",
            "align_content": null,
            "align_items": null,
            "align_self": null,
            "border": null,
            "bottom": null,
            "display": null,
            "flex": null,
            "flex_flow": null,
            "grid_area": null,
            "grid_auto_columns": null,
            "grid_auto_flow": null,
            "grid_auto_rows": null,
            "grid_column": null,
            "grid_gap": null,
            "grid_row": null,
            "grid_template_areas": null,
            "grid_template_columns": null,
            "grid_template_rows": null,
            "height": null,
            "justify_content": null,
            "justify_items": null,
            "left": null,
            "margin": null,
            "max_height": null,
            "max_width": null,
            "min_height": null,
            "min_width": null,
            "object_fit": null,
            "object_position": null,
            "order": null,
            "overflow": null,
            "overflow_x": null,
            "overflow_y": null,
            "padding": null,
            "right": null,
            "top": null,
            "visibility": null,
            "width": null
          }
        },
        "310768d7d8cf4654b7b345bcc9c17af8": {
          "model_module": "@jupyter-widgets/controls",
          "model_name": "ProgressStyleModel",
          "model_module_version": "1.5.0",
          "state": {
            "_model_module": "@jupyter-widgets/controls",
            "_model_module_version": "1.5.0",
            "_model_name": "ProgressStyleModel",
            "_view_count": null,
            "_view_module": "@jupyter-widgets/base",
            "_view_module_version": "1.2.0",
            "_view_name": "StyleView",
            "bar_color": null,
            "description_width": ""
          }
        },
        "502d6f870e3d41528384340e8daf0f18": {
          "model_module": "@jupyter-widgets/base",
          "model_name": "LayoutModel",
          "model_module_version": "1.2.0",
          "state": {
            "_model_module": "@jupyter-widgets/base",
            "_model_module_version": "1.2.0",
            "_model_name": "LayoutModel",
            "_view_count": null,
            "_view_module": "@jupyter-widgets/base",
            "_view_module_version": "1.2.0",
            "_view_name": "LayoutView",
            "align_content": null,
            "align_items": null,
            "align_self": null,
            "border": null,
            "bottom": null,
            "display": null,
            "flex": null,
            "flex_flow": null,
            "grid_area": null,
            "grid_auto_columns": null,
            "grid_auto_flow": null,
            "grid_auto_rows": null,
            "grid_column": null,
            "grid_gap": null,
            "grid_row": null,
            "grid_template_areas": null,
            "grid_template_columns": null,
            "grid_template_rows": null,
            "height": null,
            "justify_content": null,
            "justify_items": null,
            "left": null,
            "margin": null,
            "max_height": null,
            "max_width": null,
            "min_height": null,
            "min_width": null,
            "object_fit": null,
            "object_position": null,
            "order": null,
            "overflow": null,
            "overflow_x": null,
            "overflow_y": null,
            "padding": null,
            "right": null,
            "top": null,
            "visibility": null,
            "width": null
          }
        },
        "bf132265009543a899d54d69c1787008": {
          "model_module": "@jupyter-widgets/controls",
          "model_name": "DescriptionStyleModel",
          "model_module_version": "1.5.0",
          "state": {
            "_model_module": "@jupyter-widgets/controls",
            "_model_module_version": "1.5.0",
            "_model_name": "DescriptionStyleModel",
            "_view_count": null,
            "_view_module": "@jupyter-widgets/base",
            "_view_module_version": "1.2.0",
            "_view_name": "StyleView",
            "description_width": ""
          }
        },
        "c4c0edf6066944eaa4bcbeba46556ac7": {
          "model_module": "@jupyter-widgets/controls",
          "model_name": "HBoxModel",
          "model_module_version": "1.5.0",
          "state": {
            "_dom_classes": [],
            "_model_module": "@jupyter-widgets/controls",
            "_model_module_version": "1.5.0",
            "_model_name": "HBoxModel",
            "_view_count": null,
            "_view_module": "@jupyter-widgets/controls",
            "_view_module_version": "1.5.0",
            "_view_name": "HBoxView",
            "box_style": "",
            "children": [
              "IPY_MODEL_46195e18798441e4a4f03f3ad776da22",
              "IPY_MODEL_0032f15a435e4202a3a94704db790707",
              "IPY_MODEL_82ec472bfdcd4965b3630bea8079d2df"
            ],
            "layout": "IPY_MODEL_ef30479ecda244ed8883d6e54182a210"
          }
        },
        "46195e18798441e4a4f03f3ad776da22": {
          "model_module": "@jupyter-widgets/controls",
          "model_name": "HTMLModel",
          "model_module_version": "1.5.0",
          "state": {
            "_dom_classes": [],
            "_model_module": "@jupyter-widgets/controls",
            "_model_module_version": "1.5.0",
            "_model_name": "HTMLModel",
            "_view_count": null,
            "_view_module": "@jupyter-widgets/controls",
            "_view_module_version": "1.5.0",
            "_view_name": "HTMLView",
            "description": "",
            "description_tooltip": null,
            "layout": "IPY_MODEL_27eef1af3f604a388e66c00fafdbdce8",
            "placeholder": "​",
            "style": "IPY_MODEL_a40c5c7fc2a6444fa9dea25d1970c926",
            "value": "Downloading: 100%"
          }
        },
        "0032f15a435e4202a3a94704db790707": {
          "model_module": "@jupyter-widgets/controls",
          "model_name": "FloatProgressModel",
          "model_module_version": "1.5.0",
          "state": {
            "_dom_classes": [],
            "_model_module": "@jupyter-widgets/controls",
            "_model_module_version": "1.5.0",
            "_model_name": "FloatProgressModel",
            "_view_count": null,
            "_view_module": "@jupyter-widgets/controls",
            "_view_module_version": "1.5.0",
            "_view_name": "ProgressView",
            "bar_style": "success",
            "description": "",
            "description_tooltip": null,
            "layout": "IPY_MODEL_960b3df38662448fa424af289a0f1597",
            "max": 1373465,
            "min": 0,
            "orientation": "horizontal",
            "style": "IPY_MODEL_5c0088dd1ade4cffa3fbc51b8490467b",
            "value": 1373465
          }
        },
        "82ec472bfdcd4965b3630bea8079d2df": {
          "model_module": "@jupyter-widgets/controls",
          "model_name": "HTMLModel",
          "model_module_version": "1.5.0",
          "state": {
            "_dom_classes": [],
            "_model_module": "@jupyter-widgets/controls",
            "_model_module_version": "1.5.0",
            "_model_name": "HTMLModel",
            "_view_count": null,
            "_view_module": "@jupyter-widgets/controls",
            "_view_module_version": "1.5.0",
            "_view_name": "HTMLView",
            "description": "",
            "description_tooltip": null,
            "layout": "IPY_MODEL_87687e1a6fa54332a6d7a3b31b0bf52b",
            "placeholder": "​",
            "style": "IPY_MODEL_60e3cfe12ac14ecd8cdedc2ed8840950",
            "value": " 1.31M/1.31M [00:00&lt;00:00, 4.83MB/s]"
          }
        },
        "ef30479ecda244ed8883d6e54182a210": {
          "model_module": "@jupyter-widgets/base",
          "model_name": "LayoutModel",
          "model_module_version": "1.2.0",
          "state": {
            "_model_module": "@jupyter-widgets/base",
            "_model_module_version": "1.2.0",
            "_model_name": "LayoutModel",
            "_view_count": null,
            "_view_module": "@jupyter-widgets/base",
            "_view_module_version": "1.2.0",
            "_view_name": "LayoutView",
            "align_content": null,
            "align_items": null,
            "align_self": null,
            "border": null,
            "bottom": null,
            "display": null,
            "flex": null,
            "flex_flow": null,
            "grid_area": null,
            "grid_auto_columns": null,
            "grid_auto_flow": null,
            "grid_auto_rows": null,
            "grid_column": null,
            "grid_gap": null,
            "grid_row": null,
            "grid_template_areas": null,
            "grid_template_columns": null,
            "grid_template_rows": null,
            "height": null,
            "justify_content": null,
            "justify_items": null,
            "left": null,
            "margin": null,
            "max_height": null,
            "max_width": null,
            "min_height": null,
            "min_width": null,
            "object_fit": null,
            "object_position": null,
            "order": null,
            "overflow": null,
            "overflow_x": null,
            "overflow_y": null,
            "padding": null,
            "right": null,
            "top": null,
            "visibility": null,
            "width": null
          }
        },
        "27eef1af3f604a388e66c00fafdbdce8": {
          "model_module": "@jupyter-widgets/base",
          "model_name": "LayoutModel",
          "model_module_version": "1.2.0",
          "state": {
            "_model_module": "@jupyter-widgets/base",
            "_model_module_version": "1.2.0",
            "_model_name": "LayoutModel",
            "_view_count": null,
            "_view_module": "@jupyter-widgets/base",
            "_view_module_version": "1.2.0",
            "_view_name": "LayoutView",
            "align_content": null,
            "align_items": null,
            "align_self": null,
            "border": null,
            "bottom": null,
            "display": null,
            "flex": null,
            "flex_flow": null,
            "grid_area": null,
            "grid_auto_columns": null,
            "grid_auto_flow": null,
            "grid_auto_rows": null,
            "grid_column": null,
            "grid_gap": null,
            "grid_row": null,
            "grid_template_areas": null,
            "grid_template_columns": null,
            "grid_template_rows": null,
            "height": null,
            "justify_content": null,
            "justify_items": null,
            "left": null,
            "margin": null,
            "max_height": null,
            "max_width": null,
            "min_height": null,
            "min_width": null,
            "object_fit": null,
            "object_position": null,
            "order": null,
            "overflow": null,
            "overflow_x": null,
            "overflow_y": null,
            "padding": null,
            "right": null,
            "top": null,
            "visibility": null,
            "width": null
          }
        },
        "a40c5c7fc2a6444fa9dea25d1970c926": {
          "model_module": "@jupyter-widgets/controls",
          "model_name": "DescriptionStyleModel",
          "model_module_version": "1.5.0",
          "state": {
            "_model_module": "@jupyter-widgets/controls",
            "_model_module_version": "1.5.0",
            "_model_name": "DescriptionStyleModel",
            "_view_count": null,
            "_view_module": "@jupyter-widgets/base",
            "_view_module_version": "1.2.0",
            "_view_name": "StyleView",
            "description_width": ""
          }
        },
        "960b3df38662448fa424af289a0f1597": {
          "model_module": "@jupyter-widgets/base",
          "model_name": "LayoutModel",
          "model_module_version": "1.2.0",
          "state": {
            "_model_module": "@jupyter-widgets/base",
            "_model_module_version": "1.2.0",
            "_model_name": "LayoutModel",
            "_view_count": null,
            "_view_module": "@jupyter-widgets/base",
            "_view_module_version": "1.2.0",
            "_view_name": "LayoutView",
            "align_content": null,
            "align_items": null,
            "align_self": null,
            "border": null,
            "bottom": null,
            "display": null,
            "flex": null,
            "flex_flow": null,
            "grid_area": null,
            "grid_auto_columns": null,
            "grid_auto_flow": null,
            "grid_auto_rows": null,
            "grid_column": null,
            "grid_gap": null,
            "grid_row": null,
            "grid_template_areas": null,
            "grid_template_columns": null,
            "grid_template_rows": null,
            "height": null,
            "justify_content": null,
            "justify_items": null,
            "left": null,
            "margin": null,
            "max_height": null,
            "max_width": null,
            "min_height": null,
            "min_width": null,
            "object_fit": null,
            "object_position": null,
            "order": null,
            "overflow": null,
            "overflow_x": null,
            "overflow_y": null,
            "padding": null,
            "right": null,
            "top": null,
            "visibility": null,
            "width": null
          }
        },
        "5c0088dd1ade4cffa3fbc51b8490467b": {
          "model_module": "@jupyter-widgets/controls",
          "model_name": "ProgressStyleModel",
          "model_module_version": "1.5.0",
          "state": {
            "_model_module": "@jupyter-widgets/controls",
            "_model_module_version": "1.5.0",
            "_model_name": "ProgressStyleModel",
            "_view_count": null,
            "_view_module": "@jupyter-widgets/base",
            "_view_module_version": "1.2.0",
            "_view_name": "StyleView",
            "bar_color": null,
            "description_width": ""
          }
        },
        "87687e1a6fa54332a6d7a3b31b0bf52b": {
          "model_module": "@jupyter-widgets/base",
          "model_name": "LayoutModel",
          "model_module_version": "1.2.0",
          "state": {
            "_model_module": "@jupyter-widgets/base",
            "_model_module_version": "1.2.0",
            "_model_name": "LayoutModel",
            "_view_count": null,
            "_view_module": "@jupyter-widgets/base",
            "_view_module_version": "1.2.0",
            "_view_name": "LayoutView",
            "align_content": null,
            "align_items": null,
            "align_self": null,
            "border": null,
            "bottom": null,
            "display": null,
            "flex": null,
            "flex_flow": null,
            "grid_area": null,
            "grid_auto_columns": null,
            "grid_auto_flow": null,
            "grid_auto_rows": null,
            "grid_column": null,
            "grid_gap": null,
            "grid_row": null,
            "grid_template_areas": null,
            "grid_template_columns": null,
            "grid_template_rows": null,
            "height": null,
            "justify_content": null,
            "justify_items": null,
            "left": null,
            "margin": null,
            "max_height": null,
            "max_width": null,
            "min_height": null,
            "min_width": null,
            "object_fit": null,
            "object_position": null,
            "order": null,
            "overflow": null,
            "overflow_x": null,
            "overflow_y": null,
            "padding": null,
            "right": null,
            "top": null,
            "visibility": null,
            "width": null
          }
        },
        "60e3cfe12ac14ecd8cdedc2ed8840950": {
          "model_module": "@jupyter-widgets/controls",
          "model_name": "DescriptionStyleModel",
          "model_module_version": "1.5.0",
          "state": {
            "_model_module": "@jupyter-widgets/controls",
            "_model_module_version": "1.5.0",
            "_model_name": "DescriptionStyleModel",
            "_view_count": null,
            "_view_module": "@jupyter-widgets/base",
            "_view_module_version": "1.2.0",
            "_view_name": "StyleView",
            "description_width": ""
          }
        },
        "cf5ac303955d4d838f108679125515b6": {
          "model_module": "@jupyter-widgets/controls",
          "model_name": "HBoxModel",
          "model_module_version": "1.5.0",
          "state": {
            "_dom_classes": [],
            "_model_module": "@jupyter-widgets/controls",
            "_model_module_version": "1.5.0",
            "_model_name": "HBoxModel",
            "_view_count": null,
            "_view_module": "@jupyter-widgets/controls",
            "_view_module_version": "1.5.0",
            "_view_name": "HBoxView",
            "box_style": "",
            "children": [
              "IPY_MODEL_6fedc4ce862d46e38a69300f36680975",
              "IPY_MODEL_bc5b0a720b4d427bbc8e08fbef5c412a",
              "IPY_MODEL_329e20a67d2142a09bdada138044dea0"
            ],
            "layout": "IPY_MODEL_584c67008c974238956fd1c2820c2e31"
          }
        },
        "6fedc4ce862d46e38a69300f36680975": {
          "model_module": "@jupyter-widgets/controls",
          "model_name": "HTMLModel",
          "model_module_version": "1.5.0",
          "state": {
            "_dom_classes": [],
            "_model_module": "@jupyter-widgets/controls",
            "_model_module_version": "1.5.0",
            "_model_name": "HTMLModel",
            "_view_count": null,
            "_view_module": "@jupyter-widgets/controls",
            "_view_module_version": "1.5.0",
            "_view_name": "HTMLView",
            "description": "",
            "description_tooltip": null,
            "layout": "IPY_MODEL_b38f019c9de344fb9b63d419061051cb",
            "placeholder": "​",
            "style": "IPY_MODEL_1057f8cec73a4e63a6bfa632f460a96e",
            "value": "Downloading: 100%"
          }
        },
        "bc5b0a720b4d427bbc8e08fbef5c412a": {
          "model_module": "@jupyter-widgets/controls",
          "model_name": "FloatProgressModel",
          "model_module_version": "1.5.0",
          "state": {
            "_dom_classes": [],
            "_model_module": "@jupyter-widgets/controls",
            "_model_module_version": "1.5.0",
            "_model_name": "FloatProgressModel",
            "_view_count": null,
            "_view_module": "@jupyter-widgets/controls",
            "_view_module_version": "1.5.0",
            "_view_name": "ProgressView",
            "bar_style": "success",
            "description": "",
            "description_tooltip": null,
            "layout": "IPY_MODEL_0f2050be06a143988093d44b401db978",
            "max": 4039,
            "min": 0,
            "orientation": "horizontal",
            "style": "IPY_MODEL_0cc4cb9965174a8f95200ea2733dc17b",
            "value": 4039
          }
        },
        "329e20a67d2142a09bdada138044dea0": {
          "model_module": "@jupyter-widgets/controls",
          "model_name": "HTMLModel",
          "model_module_version": "1.5.0",
          "state": {
            "_dom_classes": [],
            "_model_module": "@jupyter-widgets/controls",
            "_model_module_version": "1.5.0",
            "_model_name": "HTMLModel",
            "_view_count": null,
            "_view_module": "@jupyter-widgets/controls",
            "_view_module_version": "1.5.0",
            "_view_name": "HTMLView",
            "description": "",
            "description_tooltip": null,
            "layout": "IPY_MODEL_e56412a3abba4da59344b9095daad31b",
            "placeholder": "​",
            "style": "IPY_MODEL_7d437f6e55ad4e818edb9b09007770d6",
            "value": " 3.94k/3.94k [00:00&lt;00:00, 177kB/s]"
          }
        },
        "584c67008c974238956fd1c2820c2e31": {
          "model_module": "@jupyter-widgets/base",
          "model_name": "LayoutModel",
          "model_module_version": "1.2.0",
          "state": {
            "_model_module": "@jupyter-widgets/base",
            "_model_module_version": "1.2.0",
            "_model_name": "LayoutModel",
            "_view_count": null,
            "_view_module": "@jupyter-widgets/base",
            "_view_module_version": "1.2.0",
            "_view_name": "LayoutView",
            "align_content": null,
            "align_items": null,
            "align_self": null,
            "border": null,
            "bottom": null,
            "display": null,
            "flex": null,
            "flex_flow": null,
            "grid_area": null,
            "grid_auto_columns": null,
            "grid_auto_flow": null,
            "grid_auto_rows": null,
            "grid_column": null,
            "grid_gap": null,
            "grid_row": null,
            "grid_template_areas": null,
            "grid_template_columns": null,
            "grid_template_rows": null,
            "height": null,
            "justify_content": null,
            "justify_items": null,
            "left": null,
            "margin": null,
            "max_height": null,
            "max_width": null,
            "min_height": null,
            "min_width": null,
            "object_fit": null,
            "object_position": null,
            "order": null,
            "overflow": null,
            "overflow_x": null,
            "overflow_y": null,
            "padding": null,
            "right": null,
            "top": null,
            "visibility": null,
            "width": null
          }
        },
        "b38f019c9de344fb9b63d419061051cb": {
          "model_module": "@jupyter-widgets/base",
          "model_name": "LayoutModel",
          "model_module_version": "1.2.0",
          "state": {
            "_model_module": "@jupyter-widgets/base",
            "_model_module_version": "1.2.0",
            "_model_name": "LayoutModel",
            "_view_count": null,
            "_view_module": "@jupyter-widgets/base",
            "_view_module_version": "1.2.0",
            "_view_name": "LayoutView",
            "align_content": null,
            "align_items": null,
            "align_self": null,
            "border": null,
            "bottom": null,
            "display": null,
            "flex": null,
            "flex_flow": null,
            "grid_area": null,
            "grid_auto_columns": null,
            "grid_auto_flow": null,
            "grid_auto_rows": null,
            "grid_column": null,
            "grid_gap": null,
            "grid_row": null,
            "grid_template_areas": null,
            "grid_template_columns": null,
            "grid_template_rows": null,
            "height": null,
            "justify_content": null,
            "justify_items": null,
            "left": null,
            "margin": null,
            "max_height": null,
            "max_width": null,
            "min_height": null,
            "min_width": null,
            "object_fit": null,
            "object_position": null,
            "order": null,
            "overflow": null,
            "overflow_x": null,
            "overflow_y": null,
            "padding": null,
            "right": null,
            "top": null,
            "visibility": null,
            "width": null
          }
        },
        "1057f8cec73a4e63a6bfa632f460a96e": {
          "model_module": "@jupyter-widgets/controls",
          "model_name": "DescriptionStyleModel",
          "model_module_version": "1.5.0",
          "state": {
            "_model_module": "@jupyter-widgets/controls",
            "_model_module_version": "1.5.0",
            "_model_name": "DescriptionStyleModel",
            "_view_count": null,
            "_view_module": "@jupyter-widgets/base",
            "_view_module_version": "1.2.0",
            "_view_name": "StyleView",
            "description_width": ""
          }
        },
        "0f2050be06a143988093d44b401db978": {
          "model_module": "@jupyter-widgets/base",
          "model_name": "LayoutModel",
          "model_module_version": "1.2.0",
          "state": {
            "_model_module": "@jupyter-widgets/base",
            "_model_module_version": "1.2.0",
            "_model_name": "LayoutModel",
            "_view_count": null,
            "_view_module": "@jupyter-widgets/base",
            "_view_module_version": "1.2.0",
            "_view_name": "LayoutView",
            "align_content": null,
            "align_items": null,
            "align_self": null,
            "border": null,
            "bottom": null,
            "display": null,
            "flex": null,
            "flex_flow": null,
            "grid_area": null,
            "grid_auto_columns": null,
            "grid_auto_flow": null,
            "grid_auto_rows": null,
            "grid_column": null,
            "grid_gap": null,
            "grid_row": null,
            "grid_template_areas": null,
            "grid_template_columns": null,
            "grid_template_rows": null,
            "height": null,
            "justify_content": null,
            "justify_items": null,
            "left": null,
            "margin": null,
            "max_height": null,
            "max_width": null,
            "min_height": null,
            "min_width": null,
            "object_fit": null,
            "object_position": null,
            "order": null,
            "overflow": null,
            "overflow_x": null,
            "overflow_y": null,
            "padding": null,
            "right": null,
            "top": null,
            "visibility": null,
            "width": null
          }
        },
        "0cc4cb9965174a8f95200ea2733dc17b": {
          "model_module": "@jupyter-widgets/controls",
          "model_name": "ProgressStyleModel",
          "model_module_version": "1.5.0",
          "state": {
            "_model_module": "@jupyter-widgets/controls",
            "_model_module_version": "1.5.0",
            "_model_name": "ProgressStyleModel",
            "_view_count": null,
            "_view_module": "@jupyter-widgets/base",
            "_view_module_version": "1.2.0",
            "_view_name": "StyleView",
            "bar_color": null,
            "description_width": ""
          }
        },
        "e56412a3abba4da59344b9095daad31b": {
          "model_module": "@jupyter-widgets/base",
          "model_name": "LayoutModel",
          "model_module_version": "1.2.0",
          "state": {
            "_model_module": "@jupyter-widgets/base",
            "_model_module_version": "1.2.0",
            "_model_name": "LayoutModel",
            "_view_count": null,
            "_view_module": "@jupyter-widgets/base",
            "_view_module_version": "1.2.0",
            "_view_name": "LayoutView",
            "align_content": null,
            "align_items": null,
            "align_self": null,
            "border": null,
            "bottom": null,
            "display": null,
            "flex": null,
            "flex_flow": null,
            "grid_area": null,
            "grid_auto_columns": null,
            "grid_auto_flow": null,
            "grid_auto_rows": null,
            "grid_column": null,
            "grid_gap": null,
            "grid_row": null,
            "grid_template_areas": null,
            "grid_template_columns": null,
            "grid_template_rows": null,
            "height": null,
            "justify_content": null,
            "justify_items": null,
            "left": null,
            "margin": null,
            "max_height": null,
            "max_width": null,
            "min_height": null,
            "min_width": null,
            "object_fit": null,
            "object_position": null,
            "order": null,
            "overflow": null,
            "overflow_x": null,
            "overflow_y": null,
            "padding": null,
            "right": null,
            "top": null,
            "visibility": null,
            "width": null
          }
        },
        "7d437f6e55ad4e818edb9b09007770d6": {
          "model_module": "@jupyter-widgets/controls",
          "model_name": "DescriptionStyleModel",
          "model_module_version": "1.5.0",
          "state": {
            "_model_module": "@jupyter-widgets/controls",
            "_model_module_version": "1.5.0",
            "_model_name": "DescriptionStyleModel",
            "_view_count": null,
            "_view_module": "@jupyter-widgets/base",
            "_view_module_version": "1.2.0",
            "_view_name": "StyleView",
            "description_width": ""
          }
        },
        "0c052fe1880e4ac6b0a2a50b7cff8d40": {
          "model_module": "@jupyter-widgets/controls",
          "model_name": "HBoxModel",
          "model_module_version": "1.5.0",
          "state": {
            "_dom_classes": [],
            "_model_module": "@jupyter-widgets/controls",
            "_model_module_version": "1.5.0",
            "_model_name": "HBoxModel",
            "_view_count": null,
            "_view_module": "@jupyter-widgets/controls",
            "_view_module_version": "1.5.0",
            "_view_name": "HBoxView",
            "box_style": "",
            "children": [
              "IPY_MODEL_59d518468e054ef8adb20e115892827b",
              "IPY_MODEL_d9e24e208aaa42e89d3dbade324b66f4",
              "IPY_MODEL_b9bba4c064b04211930dd790672c79bf"
            ],
            "layout": "IPY_MODEL_0eb9d9b2532c4fd6a7dced63a7ec43c9"
          }
        },
        "59d518468e054ef8adb20e115892827b": {
          "model_module": "@jupyter-widgets/controls",
          "model_name": "HTMLModel",
          "model_module_version": "1.5.0",
          "state": {
            "_dom_classes": [],
            "_model_module": "@jupyter-widgets/controls",
            "_model_module_version": "1.5.0",
            "_model_name": "HTMLModel",
            "_view_count": null,
            "_view_module": "@jupyter-widgets/controls",
            "_view_module_version": "1.5.0",
            "_view_name": "HTMLView",
            "description": "",
            "description_tooltip": null,
            "layout": "IPY_MODEL_c79007224c9643b1a344f0728342070f",
            "placeholder": "​",
            "style": "IPY_MODEL_25d71674406f40fba7e2ad9f4e74dce9",
            "value": "Downloading: 100%"
          }
        },
        "d9e24e208aaa42e89d3dbade324b66f4": {
          "model_module": "@jupyter-widgets/controls",
          "model_name": "FloatProgressModel",
          "model_module_version": "1.5.0",
          "state": {
            "_dom_classes": [],
            "_model_module": "@jupyter-widgets/controls",
            "_model_module_version": "1.5.0",
            "_model_name": "FloatProgressModel",
            "_view_count": null,
            "_view_module": "@jupyter-widgets/controls",
            "_view_module_version": "1.5.0",
            "_view_name": "ProgressView",
            "bar_style": "success",
            "description": "",
            "description_tooltip": null,
            "layout": "IPY_MODEL_2f4a988b59e4477d97ec31ffbd2e9e6b",
            "max": 357,
            "min": 0,
            "orientation": "horizontal",
            "style": "IPY_MODEL_0243ebbe1be140838fe9814c0bbb7809",
            "value": 357
          }
        },
        "b9bba4c064b04211930dd790672c79bf": {
          "model_module": "@jupyter-widgets/controls",
          "model_name": "HTMLModel",
          "model_module_version": "1.5.0",
          "state": {
            "_dom_classes": [],
            "_model_module": "@jupyter-widgets/controls",
            "_model_module_version": "1.5.0",
            "_model_name": "HTMLModel",
            "_view_count": null,
            "_view_module": "@jupyter-widgets/controls",
            "_view_module_version": "1.5.0",
            "_view_name": "HTMLView",
            "description": "",
            "description_tooltip": null,
            "layout": "IPY_MODEL_1600008ac57a457882c5d3049e4b6d3b",
            "placeholder": "​",
            "style": "IPY_MODEL_fdd3f7e8d79d4032ad76cd63a32279e9",
            "value": " 357/357 [00:00&lt;00:00, 16.2kB/s]"
          }
        },
        "0eb9d9b2532c4fd6a7dced63a7ec43c9": {
          "model_module": "@jupyter-widgets/base",
          "model_name": "LayoutModel",
          "model_module_version": "1.2.0",
          "state": {
            "_model_module": "@jupyter-widgets/base",
            "_model_module_version": "1.2.0",
            "_model_name": "LayoutModel",
            "_view_count": null,
            "_view_module": "@jupyter-widgets/base",
            "_view_module_version": "1.2.0",
            "_view_name": "LayoutView",
            "align_content": null,
            "align_items": null,
            "align_self": null,
            "border": null,
            "bottom": null,
            "display": null,
            "flex": null,
            "flex_flow": null,
            "grid_area": null,
            "grid_auto_columns": null,
            "grid_auto_flow": null,
            "grid_auto_rows": null,
            "grid_column": null,
            "grid_gap": null,
            "grid_row": null,
            "grid_template_areas": null,
            "grid_template_columns": null,
            "grid_template_rows": null,
            "height": null,
            "justify_content": null,
            "justify_items": null,
            "left": null,
            "margin": null,
            "max_height": null,
            "max_width": null,
            "min_height": null,
            "min_width": null,
            "object_fit": null,
            "object_position": null,
            "order": null,
            "overflow": null,
            "overflow_x": null,
            "overflow_y": null,
            "padding": null,
            "right": null,
            "top": null,
            "visibility": null,
            "width": null
          }
        },
        "c79007224c9643b1a344f0728342070f": {
          "model_module": "@jupyter-widgets/base",
          "model_name": "LayoutModel",
          "model_module_version": "1.2.0",
          "state": {
            "_model_module": "@jupyter-widgets/base",
            "_model_module_version": "1.2.0",
            "_model_name": "LayoutModel",
            "_view_count": null,
            "_view_module": "@jupyter-widgets/base",
            "_view_module_version": "1.2.0",
            "_view_name": "LayoutView",
            "align_content": null,
            "align_items": null,
            "align_self": null,
            "border": null,
            "bottom": null,
            "display": null,
            "flex": null,
            "flex_flow": null,
            "grid_area": null,
            "grid_auto_columns": null,
            "grid_auto_flow": null,
            "grid_auto_rows": null,
            "grid_column": null,
            "grid_gap": null,
            "grid_row": null,
            "grid_template_areas": null,
            "grid_template_columns": null,
            "grid_template_rows": null,
            "height": null,
            "justify_content": null,
            "justify_items": null,
            "left": null,
            "margin": null,
            "max_height": null,
            "max_width": null,
            "min_height": null,
            "min_width": null,
            "object_fit": null,
            "object_position": null,
            "order": null,
            "overflow": null,
            "overflow_x": null,
            "overflow_y": null,
            "padding": null,
            "right": null,
            "top": null,
            "visibility": null,
            "width": null
          }
        },
        "25d71674406f40fba7e2ad9f4e74dce9": {
          "model_module": "@jupyter-widgets/controls",
          "model_name": "DescriptionStyleModel",
          "model_module_version": "1.5.0",
          "state": {
            "_model_module": "@jupyter-widgets/controls",
            "_model_module_version": "1.5.0",
            "_model_name": "DescriptionStyleModel",
            "_view_count": null,
            "_view_module": "@jupyter-widgets/base",
            "_view_module_version": "1.2.0",
            "_view_name": "StyleView",
            "description_width": ""
          }
        },
        "2f4a988b59e4477d97ec31ffbd2e9e6b": {
          "model_module": "@jupyter-widgets/base",
          "model_name": "LayoutModel",
          "model_module_version": "1.2.0",
          "state": {
            "_model_module": "@jupyter-widgets/base",
            "_model_module_version": "1.2.0",
            "_model_name": "LayoutModel",
            "_view_count": null,
            "_view_module": "@jupyter-widgets/base",
            "_view_module_version": "1.2.0",
            "_view_name": "LayoutView",
            "align_content": null,
            "align_items": null,
            "align_self": null,
            "border": null,
            "bottom": null,
            "display": null,
            "flex": null,
            "flex_flow": null,
            "grid_area": null,
            "grid_auto_columns": null,
            "grid_auto_flow": null,
            "grid_auto_rows": null,
            "grid_column": null,
            "grid_gap": null,
            "grid_row": null,
            "grid_template_areas": null,
            "grid_template_columns": null,
            "grid_template_rows": null,
            "height": null,
            "justify_content": null,
            "justify_items": null,
            "left": null,
            "margin": null,
            "max_height": null,
            "max_width": null,
            "min_height": null,
            "min_width": null,
            "object_fit": null,
            "object_position": null,
            "order": null,
            "overflow": null,
            "overflow_x": null,
            "overflow_y": null,
            "padding": null,
            "right": null,
            "top": null,
            "visibility": null,
            "width": null
          }
        },
        "0243ebbe1be140838fe9814c0bbb7809": {
          "model_module": "@jupyter-widgets/controls",
          "model_name": "ProgressStyleModel",
          "model_module_version": "1.5.0",
          "state": {
            "_model_module": "@jupyter-widgets/controls",
            "_model_module_version": "1.5.0",
            "_model_name": "ProgressStyleModel",
            "_view_count": null,
            "_view_module": "@jupyter-widgets/base",
            "_view_module_version": "1.2.0",
            "_view_name": "StyleView",
            "bar_color": null,
            "description_width": ""
          }
        },
        "1600008ac57a457882c5d3049e4b6d3b": {
          "model_module": "@jupyter-widgets/base",
          "model_name": "LayoutModel",
          "model_module_version": "1.2.0",
          "state": {
            "_model_module": "@jupyter-widgets/base",
            "_model_module_version": "1.2.0",
            "_model_name": "LayoutModel",
            "_view_count": null,
            "_view_module": "@jupyter-widgets/base",
            "_view_module_version": "1.2.0",
            "_view_name": "LayoutView",
            "align_content": null,
            "align_items": null,
            "align_self": null,
            "border": null,
            "bottom": null,
            "display": null,
            "flex": null,
            "flex_flow": null,
            "grid_area": null,
            "grid_auto_columns": null,
            "grid_auto_flow": null,
            "grid_auto_rows": null,
            "grid_column": null,
            "grid_gap": null,
            "grid_row": null,
            "grid_template_areas": null,
            "grid_template_columns": null,
            "grid_template_rows": null,
            "height": null,
            "justify_content": null,
            "justify_items": null,
            "left": null,
            "margin": null,
            "max_height": null,
            "max_width": null,
            "min_height": null,
            "min_width": null,
            "object_fit": null,
            "object_position": null,
            "order": null,
            "overflow": null,
            "overflow_x": null,
            "overflow_y": null,
            "padding": null,
            "right": null,
            "top": null,
            "visibility": null,
            "width": null
          }
        },
        "fdd3f7e8d79d4032ad76cd63a32279e9": {
          "model_module": "@jupyter-widgets/controls",
          "model_name": "DescriptionStyleModel",
          "model_module_version": "1.5.0",
          "state": {
            "_model_module": "@jupyter-widgets/controls",
            "_model_module_version": "1.5.0",
            "_model_name": "DescriptionStyleModel",
            "_view_count": null,
            "_view_module": "@jupyter-widgets/base",
            "_view_module_version": "1.2.0",
            "_view_name": "StyleView",
            "description_width": ""
          }
        },
        "17ae860e9f474cdbb17756fa8c5f17fb": {
          "model_module": "@jupyter-widgets/controls",
          "model_name": "HBoxModel",
          "model_module_version": "1.5.0",
          "state": {
            "_dom_classes": [],
            "_model_module": "@jupyter-widgets/controls",
            "_model_module_version": "1.5.0",
            "_model_name": "HBoxModel",
            "_view_count": null,
            "_view_module": "@jupyter-widgets/controls",
            "_view_module_version": "1.5.0",
            "_view_name": "HBoxView",
            "box_style": "",
            "children": [
              "IPY_MODEL_a79f948797c94c4c8d8018922e116558",
              "IPY_MODEL_4b75975a20464e72877818d4908e1ebe",
              "IPY_MODEL_397b93fdfc204be59ab5d9dce6c57fc3"
            ],
            "layout": "IPY_MODEL_bb2b63cf77df44cf885ecd377628ced6"
          }
        },
        "a79f948797c94c4c8d8018922e116558": {
          "model_module": "@jupyter-widgets/controls",
          "model_name": "HTMLModel",
          "model_module_version": "1.5.0",
          "state": {
            "_dom_classes": [],
            "_model_module": "@jupyter-widgets/controls",
            "_model_module_version": "1.5.0",
            "_model_name": "HTMLModel",
            "_view_count": null,
            "_view_module": "@jupyter-widgets/controls",
            "_view_module_version": "1.5.0",
            "_view_name": "HTMLView",
            "description": "",
            "description_tooltip": null,
            "layout": "IPY_MODEL_542981591fa847829db3081483b41f5b",
            "placeholder": "​",
            "style": "IPY_MODEL_eb407742d5ab4686b10558f32d1a7517",
            "value": "Downloading: 100%"
          }
        },
        "4b75975a20464e72877818d4908e1ebe": {
          "model_module": "@jupyter-widgets/controls",
          "model_name": "FloatProgressModel",
          "model_module_version": "1.5.0",
          "state": {
            "_dom_classes": [],
            "_model_module": "@jupyter-widgets/controls",
            "_model_module_version": "1.5.0",
            "_model_name": "FloatProgressModel",
            "_view_count": null,
            "_view_module": "@jupyter-widgets/controls",
            "_view_module_version": "1.5.0",
            "_view_name": "ProgressView",
            "bar_style": "success",
            "description": "",
            "description_tooltip": null,
            "layout": "IPY_MODEL_cbd26656034a492fa011f66cab670b9a",
            "max": 1021,
            "min": 0,
            "orientation": "horizontal",
            "style": "IPY_MODEL_2c2111c4da6343bb9d562685eb4cb097",
            "value": 1021
          }
        },
        "397b93fdfc204be59ab5d9dce6c57fc3": {
          "model_module": "@jupyter-widgets/controls",
          "model_name": "HTMLModel",
          "model_module_version": "1.5.0",
          "state": {
            "_dom_classes": [],
            "_model_module": "@jupyter-widgets/controls",
            "_model_module_version": "1.5.0",
            "_model_name": "HTMLModel",
            "_view_count": null,
            "_view_module": "@jupyter-widgets/controls",
            "_view_module_version": "1.5.0",
            "_view_name": "HTMLView",
            "description": "",
            "description_tooltip": null,
            "layout": "IPY_MODEL_981ec643c0c844c4b94eb94e4050f549",
            "placeholder": "​",
            "style": "IPY_MODEL_955e735b4dc5485cb9dab29a55e42b78",
            "value": " 1.00k/1.00k [00:00&lt;00:00, 62.8kB/s]"
          }
        },
        "bb2b63cf77df44cf885ecd377628ced6": {
          "model_module": "@jupyter-widgets/base",
          "model_name": "LayoutModel",
          "model_module_version": "1.2.0",
          "state": {
            "_model_module": "@jupyter-widgets/base",
            "_model_module_version": "1.2.0",
            "_model_name": "LayoutModel",
            "_view_count": null,
            "_view_module": "@jupyter-widgets/base",
            "_view_module_version": "1.2.0",
            "_view_name": "LayoutView",
            "align_content": null,
            "align_items": null,
            "align_self": null,
            "border": null,
            "bottom": null,
            "display": null,
            "flex": null,
            "flex_flow": null,
            "grid_area": null,
            "grid_auto_columns": null,
            "grid_auto_flow": null,
            "grid_auto_rows": null,
            "grid_column": null,
            "grid_gap": null,
            "grid_row": null,
            "grid_template_areas": null,
            "grid_template_columns": null,
            "grid_template_rows": null,
            "height": null,
            "justify_content": null,
            "justify_items": null,
            "left": null,
            "margin": null,
            "max_height": null,
            "max_width": null,
            "min_height": null,
            "min_width": null,
            "object_fit": null,
            "object_position": null,
            "order": null,
            "overflow": null,
            "overflow_x": null,
            "overflow_y": null,
            "padding": null,
            "right": null,
            "top": null,
            "visibility": null,
            "width": null
          }
        },
        "542981591fa847829db3081483b41f5b": {
          "model_module": "@jupyter-widgets/base",
          "model_name": "LayoutModel",
          "model_module_version": "1.2.0",
          "state": {
            "_model_module": "@jupyter-widgets/base",
            "_model_module_version": "1.2.0",
            "_model_name": "LayoutModel",
            "_view_count": null,
            "_view_module": "@jupyter-widgets/base",
            "_view_module_version": "1.2.0",
            "_view_name": "LayoutView",
            "align_content": null,
            "align_items": null,
            "align_self": null,
            "border": null,
            "bottom": null,
            "display": null,
            "flex": null,
            "flex_flow": null,
            "grid_area": null,
            "grid_auto_columns": null,
            "grid_auto_flow": null,
            "grid_auto_rows": null,
            "grid_column": null,
            "grid_gap": null,
            "grid_row": null,
            "grid_template_areas": null,
            "grid_template_columns": null,
            "grid_template_rows": null,
            "height": null,
            "justify_content": null,
            "justify_items": null,
            "left": null,
            "margin": null,
            "max_height": null,
            "max_width": null,
            "min_height": null,
            "min_width": null,
            "object_fit": null,
            "object_position": null,
            "order": null,
            "overflow": null,
            "overflow_x": null,
            "overflow_y": null,
            "padding": null,
            "right": null,
            "top": null,
            "visibility": null,
            "width": null
          }
        },
        "eb407742d5ab4686b10558f32d1a7517": {
          "model_module": "@jupyter-widgets/controls",
          "model_name": "DescriptionStyleModel",
          "model_module_version": "1.5.0",
          "state": {
            "_model_module": "@jupyter-widgets/controls",
            "_model_module_version": "1.5.0",
            "_model_name": "DescriptionStyleModel",
            "_view_count": null,
            "_view_module": "@jupyter-widgets/base",
            "_view_module_version": "1.2.0",
            "_view_name": "StyleView",
            "description_width": ""
          }
        },
        "cbd26656034a492fa011f66cab670b9a": {
          "model_module": "@jupyter-widgets/base",
          "model_name": "LayoutModel",
          "model_module_version": "1.2.0",
          "state": {
            "_model_module": "@jupyter-widgets/base",
            "_model_module_version": "1.2.0",
            "_model_name": "LayoutModel",
            "_view_count": null,
            "_view_module": "@jupyter-widgets/base",
            "_view_module_version": "1.2.0",
            "_view_name": "LayoutView",
            "align_content": null,
            "align_items": null,
            "align_self": null,
            "border": null,
            "bottom": null,
            "display": null,
            "flex": null,
            "flex_flow": null,
            "grid_area": null,
            "grid_auto_columns": null,
            "grid_auto_flow": null,
            "grid_auto_rows": null,
            "grid_column": null,
            "grid_gap": null,
            "grid_row": null,
            "grid_template_areas": null,
            "grid_template_columns": null,
            "grid_template_rows": null,
            "height": null,
            "justify_content": null,
            "justify_items": null,
            "left": null,
            "margin": null,
            "max_height": null,
            "max_width": null,
            "min_height": null,
            "min_width": null,
            "object_fit": null,
            "object_position": null,
            "order": null,
            "overflow": null,
            "overflow_x": null,
            "overflow_y": null,
            "padding": null,
            "right": null,
            "top": null,
            "visibility": null,
            "width": null
          }
        },
        "2c2111c4da6343bb9d562685eb4cb097": {
          "model_module": "@jupyter-widgets/controls",
          "model_name": "ProgressStyleModel",
          "model_module_version": "1.5.0",
          "state": {
            "_model_module": "@jupyter-widgets/controls",
            "_model_module_version": "1.5.0",
            "_model_name": "ProgressStyleModel",
            "_view_count": null,
            "_view_module": "@jupyter-widgets/base",
            "_view_module_version": "1.2.0",
            "_view_name": "StyleView",
            "bar_color": null,
            "description_width": ""
          }
        },
        "981ec643c0c844c4b94eb94e4050f549": {
          "model_module": "@jupyter-widgets/base",
          "model_name": "LayoutModel",
          "model_module_version": "1.2.0",
          "state": {
            "_model_module": "@jupyter-widgets/base",
            "_model_module_version": "1.2.0",
            "_model_name": "LayoutModel",
            "_view_count": null,
            "_view_module": "@jupyter-widgets/base",
            "_view_module_version": "1.2.0",
            "_view_name": "LayoutView",
            "align_content": null,
            "align_items": null,
            "align_self": null,
            "border": null,
            "bottom": null,
            "display": null,
            "flex": null,
            "flex_flow": null,
            "grid_area": null,
            "grid_auto_columns": null,
            "grid_auto_flow": null,
            "grid_auto_rows": null,
            "grid_column": null,
            "grid_gap": null,
            "grid_row": null,
            "grid_template_areas": null,
            "grid_template_columns": null,
            "grid_template_rows": null,
            "height": null,
            "justify_content": null,
            "justify_items": null,
            "left": null,
            "margin": null,
            "max_height": null,
            "max_width": null,
            "min_height": null,
            "min_width": null,
            "object_fit": null,
            "object_position": null,
            "order": null,
            "overflow": null,
            "overflow_x": null,
            "overflow_y": null,
            "padding": null,
            "right": null,
            "top": null,
            "visibility": null,
            "width": null
          }
        },
        "955e735b4dc5485cb9dab29a55e42b78": {
          "model_module": "@jupyter-widgets/controls",
          "model_name": "DescriptionStyleModel",
          "model_module_version": "1.5.0",
          "state": {
            "_model_module": "@jupyter-widgets/controls",
            "_model_module_version": "1.5.0",
            "_model_name": "DescriptionStyleModel",
            "_view_count": null,
            "_view_module": "@jupyter-widgets/base",
            "_view_module_version": "1.2.0",
            "_view_name": "StyleView",
            "description_width": ""
          }
        },
        "1552f07c39f04cfb94307b59e8c94e75": {
          "model_module": "@jupyter-widgets/controls",
          "model_name": "HBoxModel",
          "model_module_version": "1.5.0",
          "state": {
            "_dom_classes": [],
            "_model_module": "@jupyter-widgets/controls",
            "_model_module_version": "1.5.0",
            "_model_name": "HBoxModel",
            "_view_count": null,
            "_view_module": "@jupyter-widgets/controls",
            "_view_module_version": "1.5.0",
            "_view_name": "HBoxView",
            "box_style": "",
            "children": [
              "IPY_MODEL_2b5f7ccb08084ce98a52fab5b6d6b062",
              "IPY_MODEL_9ab478afa3bf4d8f87a9ce2990c23f83",
              "IPY_MODEL_5a15955e1aac475b9d11e518bbf2fa8d"
            ],
            "layout": "IPY_MODEL_443f319f816a422ab89b079c004aeed1"
          }
        },
        "2b5f7ccb08084ce98a52fab5b6d6b062": {
          "model_module": "@jupyter-widgets/controls",
          "model_name": "HTMLModel",
          "model_module_version": "1.5.0",
          "state": {
            "_dom_classes": [],
            "_model_module": "@jupyter-widgets/controls",
            "_model_module_version": "1.5.0",
            "_model_name": "HTMLModel",
            "_view_count": null,
            "_view_module": "@jupyter-widgets/controls",
            "_view_module_version": "1.5.0",
            "_view_name": "HTMLView",
            "description": "",
            "description_tooltip": null,
            "layout": "IPY_MODEL_71cd5a62af8047b5a1a7d9f1f2ad85e2",
            "placeholder": "​",
            "style": "IPY_MODEL_812617ac1eeb42deafac190f93d6df39",
            "value": "Downloading: 100%"
          }
        },
        "9ab478afa3bf4d8f87a9ce2990c23f83": {
          "model_module": "@jupyter-widgets/controls",
          "model_name": "FloatProgressModel",
          "model_module_version": "1.5.0",
          "state": {
            "_dom_classes": [],
            "_model_module": "@jupyter-widgets/controls",
            "_model_module_version": "1.5.0",
            "_model_name": "FloatProgressModel",
            "_view_count": null,
            "_view_module": "@jupyter-widgets/controls",
            "_view_module_version": "1.5.0",
            "_view_name": "ProgressView",
            "bar_style": "success",
            "description": "",
            "description_tooltip": null,
            "layout": "IPY_MODEL_b4b613632fbc4494ae6e842db1583742",
            "max": 6177012613,
            "min": 0,
            "orientation": "horizontal",
            "style": "IPY_MODEL_bc42cdf19df6400f8b468ef7ba2b14a2",
            "value": 6177012613
          }
        },
        "5a15955e1aac475b9d11e518bbf2fa8d": {
          "model_module": "@jupyter-widgets/controls",
          "model_name": "HTMLModel",
          "model_module_version": "1.5.0",
          "state": {
            "_dom_classes": [],
            "_model_module": "@jupyter-widgets/controls",
            "_model_module_version": "1.5.0",
            "_model_name": "HTMLModel",
            "_view_count": null,
            "_view_module": "@jupyter-widgets/controls",
            "_view_module_version": "1.5.0",
            "_view_name": "HTMLView",
            "description": "",
            "description_tooltip": null,
            "layout": "IPY_MODEL_fd29a64fdb8d4be18273e7d8f3e3f9e5",
            "placeholder": "​",
            "style": "IPY_MODEL_e5957e77f6fa4de2a4d308816354272e",
            "value": " 5.75G/5.75G [01:35&lt;00:00, 50.1MB/s]"
          }
        },
        "443f319f816a422ab89b079c004aeed1": {
          "model_module": "@jupyter-widgets/base",
          "model_name": "LayoutModel",
          "model_module_version": "1.2.0",
          "state": {
            "_model_module": "@jupyter-widgets/base",
            "_model_module_version": "1.2.0",
            "_model_name": "LayoutModel",
            "_view_count": null,
            "_view_module": "@jupyter-widgets/base",
            "_view_module_version": "1.2.0",
            "_view_name": "LayoutView",
            "align_content": null,
            "align_items": null,
            "align_self": null,
            "border": null,
            "bottom": null,
            "display": null,
            "flex": null,
            "flex_flow": null,
            "grid_area": null,
            "grid_auto_columns": null,
            "grid_auto_flow": null,
            "grid_auto_rows": null,
            "grid_column": null,
            "grid_gap": null,
            "grid_row": null,
            "grid_template_areas": null,
            "grid_template_columns": null,
            "grid_template_rows": null,
            "height": null,
            "justify_content": null,
            "justify_items": null,
            "left": null,
            "margin": null,
            "max_height": null,
            "max_width": null,
            "min_height": null,
            "min_width": null,
            "object_fit": null,
            "object_position": null,
            "order": null,
            "overflow": null,
            "overflow_x": null,
            "overflow_y": null,
            "padding": null,
            "right": null,
            "top": null,
            "visibility": null,
            "width": null
          }
        },
        "71cd5a62af8047b5a1a7d9f1f2ad85e2": {
          "model_module": "@jupyter-widgets/base",
          "model_name": "LayoutModel",
          "model_module_version": "1.2.0",
          "state": {
            "_model_module": "@jupyter-widgets/base",
            "_model_module_version": "1.2.0",
            "_model_name": "LayoutModel",
            "_view_count": null,
            "_view_module": "@jupyter-widgets/base",
            "_view_module_version": "1.2.0",
            "_view_name": "LayoutView",
            "align_content": null,
            "align_items": null,
            "align_self": null,
            "border": null,
            "bottom": null,
            "display": null,
            "flex": null,
            "flex_flow": null,
            "grid_area": null,
            "grid_auto_columns": null,
            "grid_auto_flow": null,
            "grid_auto_rows": null,
            "grid_column": null,
            "grid_gap": null,
            "grid_row": null,
            "grid_template_areas": null,
            "grid_template_columns": null,
            "grid_template_rows": null,
            "height": null,
            "justify_content": null,
            "justify_items": null,
            "left": null,
            "margin": null,
            "max_height": null,
            "max_width": null,
            "min_height": null,
            "min_width": null,
            "object_fit": null,
            "object_position": null,
            "order": null,
            "overflow": null,
            "overflow_x": null,
            "overflow_y": null,
            "padding": null,
            "right": null,
            "top": null,
            "visibility": null,
            "width": null
          }
        },
        "812617ac1eeb42deafac190f93d6df39": {
          "model_module": "@jupyter-widgets/controls",
          "model_name": "DescriptionStyleModel",
          "model_module_version": "1.5.0",
          "state": {
            "_model_module": "@jupyter-widgets/controls",
            "_model_module_version": "1.5.0",
            "_model_name": "DescriptionStyleModel",
            "_view_count": null,
            "_view_module": "@jupyter-widgets/base",
            "_view_module_version": "1.2.0",
            "_view_name": "StyleView",
            "description_width": ""
          }
        },
        "b4b613632fbc4494ae6e842db1583742": {
          "model_module": "@jupyter-widgets/base",
          "model_name": "LayoutModel",
          "model_module_version": "1.2.0",
          "state": {
            "_model_module": "@jupyter-widgets/base",
            "_model_module_version": "1.2.0",
            "_model_name": "LayoutModel",
            "_view_count": null,
            "_view_module": "@jupyter-widgets/base",
            "_view_module_version": "1.2.0",
            "_view_name": "LayoutView",
            "align_content": null,
            "align_items": null,
            "align_self": null,
            "border": null,
            "bottom": null,
            "display": null,
            "flex": null,
            "flex_flow": null,
            "grid_area": null,
            "grid_auto_columns": null,
            "grid_auto_flow": null,
            "grid_auto_rows": null,
            "grid_column": null,
            "grid_gap": null,
            "grid_row": null,
            "grid_template_areas": null,
            "grid_template_columns": null,
            "grid_template_rows": null,
            "height": null,
            "justify_content": null,
            "justify_items": null,
            "left": null,
            "margin": null,
            "max_height": null,
            "max_width": null,
            "min_height": null,
            "min_width": null,
            "object_fit": null,
            "object_position": null,
            "order": null,
            "overflow": null,
            "overflow_x": null,
            "overflow_y": null,
            "padding": null,
            "right": null,
            "top": null,
            "visibility": null,
            "width": null
          }
        },
        "bc42cdf19df6400f8b468ef7ba2b14a2": {
          "model_module": "@jupyter-widgets/controls",
          "model_name": "ProgressStyleModel",
          "model_module_version": "1.5.0",
          "state": {
            "_model_module": "@jupyter-widgets/controls",
            "_model_module_version": "1.5.0",
            "_model_name": "ProgressStyleModel",
            "_view_count": null,
            "_view_module": "@jupyter-widgets/base",
            "_view_module_version": "1.2.0",
            "_view_name": "StyleView",
            "bar_color": null,
            "description_width": ""
          }
        },
        "fd29a64fdb8d4be18273e7d8f3e3f9e5": {
          "model_module": "@jupyter-widgets/base",
          "model_name": "LayoutModel",
          "model_module_version": "1.2.0",
          "state": {
            "_model_module": "@jupyter-widgets/base",
            "_model_module_version": "1.2.0",
            "_model_name": "LayoutModel",
            "_view_count": null,
            "_view_module": "@jupyter-widgets/base",
            "_view_module_version": "1.2.0",
            "_view_name": "LayoutView",
            "align_content": null,
            "align_items": null,
            "align_self": null,
            "border": null,
            "bottom": null,
            "display": null,
            "flex": null,
            "flex_flow": null,
            "grid_area": null,
            "grid_auto_columns": null,
            "grid_auto_flow": null,
            "grid_auto_rows": null,
            "grid_column": null,
            "grid_gap": null,
            "grid_row": null,
            "grid_template_areas": null,
            "grid_template_columns": null,
            "grid_template_rows": null,
            "height": null,
            "justify_content": null,
            "justify_items": null,
            "left": null,
            "margin": null,
            "max_height": null,
            "max_width": null,
            "min_height": null,
            "min_width": null,
            "object_fit": null,
            "object_position": null,
            "order": null,
            "overflow": null,
            "overflow_x": null,
            "overflow_y": null,
            "padding": null,
            "right": null,
            "top": null,
            "visibility": null,
            "width": null
          }
        },
        "e5957e77f6fa4de2a4d308816354272e": {
          "model_module": "@jupyter-widgets/controls",
          "model_name": "DescriptionStyleModel",
          "model_module_version": "1.5.0",
          "state": {
            "_model_module": "@jupyter-widgets/controls",
            "_model_module_version": "1.5.0",
            "_model_name": "DescriptionStyleModel",
            "_view_count": null,
            "_view_module": "@jupyter-widgets/base",
            "_view_module_version": "1.2.0",
            "_view_name": "StyleView",
            "description_width": ""
          }
        },
        "3caced0d3704481da0da5baaaa114d65": {
          "model_module": "@jupyter-widgets/controls",
          "model_name": "HBoxModel",
          "model_module_version": "1.5.0",
          "state": {
            "_dom_classes": [],
            "_model_module": "@jupyter-widgets/controls",
            "_model_module_version": "1.5.0",
            "_model_name": "HBoxModel",
            "_view_count": null,
            "_view_module": "@jupyter-widgets/controls",
            "_view_module_version": "1.5.0",
            "_view_name": "HBoxView",
            "box_style": "",
            "children": [
              "IPY_MODEL_f900f96c2eed4278a279e2db0e9c4121",
              "IPY_MODEL_829cbe4c5af146e2a2774ca82bf702a1",
              "IPY_MODEL_478873d35e5a4a49bae11ef3c1d0b402"
            ],
            "layout": "IPY_MODEL_dee774a7ffa54e9bb352704bfe58fc77"
          }
        },
        "f900f96c2eed4278a279e2db0e9c4121": {
          "model_module": "@jupyter-widgets/controls",
          "model_name": "HTMLModel",
          "model_module_version": "1.5.0",
          "state": {
            "_dom_classes": [],
            "_model_module": "@jupyter-widgets/controls",
            "_model_module_version": "1.5.0",
            "_model_name": "HTMLModel",
            "_view_count": null,
            "_view_module": "@jupyter-widgets/controls",
            "_view_module_version": "1.5.0",
            "_view_name": "HTMLView",
            "description": "",
            "description_tooltip": null,
            "layout": "IPY_MODEL_06b816fa81284ac8afd181ee845f6264",
            "placeholder": "​",
            "style": "IPY_MODEL_fc4d53bf0f4e4f38bf4a88de768cde03",
            "value": "100%"
          }
        },
        "829cbe4c5af146e2a2774ca82bf702a1": {
          "model_module": "@jupyter-widgets/controls",
          "model_name": "FloatProgressModel",
          "model_module_version": "1.5.0",
          "state": {
            "_dom_classes": [],
            "_model_module": "@jupyter-widgets/controls",
            "_model_module_version": "1.5.0",
            "_model_name": "FloatProgressModel",
            "_view_count": null,
            "_view_module": "@jupyter-widgets/controls",
            "_view_module_version": "1.5.0",
            "_view_name": "ProgressView",
            "bar_style": "success",
            "description": "",
            "description_tooltip": null,
            "layout": "IPY_MODEL_427ec3c6e4bb41b7887628ee6e9f01a7",
            "max": 1,
            "min": 0,
            "orientation": "horizontal",
            "style": "IPY_MODEL_feb7917df7f7408e9dc5e362fcbb5115",
            "value": 1
          }
        },
        "478873d35e5a4a49bae11ef3c1d0b402": {
          "model_module": "@jupyter-widgets/controls",
          "model_name": "HTMLModel",
          "model_module_version": "1.5.0",
          "state": {
            "_dom_classes": [],
            "_model_module": "@jupyter-widgets/controls",
            "_model_module_version": "1.5.0",
            "_model_name": "HTMLModel",
            "_view_count": null,
            "_view_module": "@jupyter-widgets/controls",
            "_view_module_version": "1.5.0",
            "_view_name": "HTMLView",
            "description": "",
            "description_tooltip": null,
            "layout": "IPY_MODEL_7b5e02346ae24e4ba2f0eeff146ff478",
            "placeholder": "​",
            "style": "IPY_MODEL_1679795e195746c88acc6f823c60e640",
            "value": " 1/1 [00:00&lt;00:00, 51.27it/s]"
          }
        },
        "dee774a7ffa54e9bb352704bfe58fc77": {
          "model_module": "@jupyter-widgets/base",
          "model_name": "LayoutModel",
          "model_module_version": "1.2.0",
          "state": {
            "_model_module": "@jupyter-widgets/base",
            "_model_module_version": "1.2.0",
            "_model_name": "LayoutModel",
            "_view_count": null,
            "_view_module": "@jupyter-widgets/base",
            "_view_module_version": "1.2.0",
            "_view_name": "LayoutView",
            "align_content": null,
            "align_items": null,
            "align_self": null,
            "border": null,
            "bottom": null,
            "display": null,
            "flex": null,
            "flex_flow": null,
            "grid_area": null,
            "grid_auto_columns": null,
            "grid_auto_flow": null,
            "grid_auto_rows": null,
            "grid_column": null,
            "grid_gap": null,
            "grid_row": null,
            "grid_template_areas": null,
            "grid_template_columns": null,
            "grid_template_rows": null,
            "height": null,
            "justify_content": null,
            "justify_items": null,
            "left": null,
            "margin": null,
            "max_height": null,
            "max_width": null,
            "min_height": null,
            "min_width": null,
            "object_fit": null,
            "object_position": null,
            "order": null,
            "overflow": null,
            "overflow_x": null,
            "overflow_y": null,
            "padding": null,
            "right": null,
            "top": null,
            "visibility": null,
            "width": null
          }
        },
        "06b816fa81284ac8afd181ee845f6264": {
          "model_module": "@jupyter-widgets/base",
          "model_name": "LayoutModel",
          "model_module_version": "1.2.0",
          "state": {
            "_model_module": "@jupyter-widgets/base",
            "_model_module_version": "1.2.0",
            "_model_name": "LayoutModel",
            "_view_count": null,
            "_view_module": "@jupyter-widgets/base",
            "_view_module_version": "1.2.0",
            "_view_name": "LayoutView",
            "align_content": null,
            "align_items": null,
            "align_self": null,
            "border": null,
            "bottom": null,
            "display": null,
            "flex": null,
            "flex_flow": null,
            "grid_area": null,
            "grid_auto_columns": null,
            "grid_auto_flow": null,
            "grid_auto_rows": null,
            "grid_column": null,
            "grid_gap": null,
            "grid_row": null,
            "grid_template_areas": null,
            "grid_template_columns": null,
            "grid_template_rows": null,
            "height": null,
            "justify_content": null,
            "justify_items": null,
            "left": null,
            "margin": null,
            "max_height": null,
            "max_width": null,
            "min_height": null,
            "min_width": null,
            "object_fit": null,
            "object_position": null,
            "order": null,
            "overflow": null,
            "overflow_x": null,
            "overflow_y": null,
            "padding": null,
            "right": null,
            "top": null,
            "visibility": null,
            "width": null
          }
        },
        "fc4d53bf0f4e4f38bf4a88de768cde03": {
          "model_module": "@jupyter-widgets/controls",
          "model_name": "DescriptionStyleModel",
          "model_module_version": "1.5.0",
          "state": {
            "_model_module": "@jupyter-widgets/controls",
            "_model_module_version": "1.5.0",
            "_model_name": "DescriptionStyleModel",
            "_view_count": null,
            "_view_module": "@jupyter-widgets/base",
            "_view_module_version": "1.2.0",
            "_view_name": "StyleView",
            "description_width": ""
          }
        },
        "427ec3c6e4bb41b7887628ee6e9f01a7": {
          "model_module": "@jupyter-widgets/base",
          "model_name": "LayoutModel",
          "model_module_version": "1.2.0",
          "state": {
            "_model_module": "@jupyter-widgets/base",
            "_model_module_version": "1.2.0",
            "_model_name": "LayoutModel",
            "_view_count": null,
            "_view_module": "@jupyter-widgets/base",
            "_view_module_version": "1.2.0",
            "_view_name": "LayoutView",
            "align_content": null,
            "align_items": null,
            "align_self": null,
            "border": null,
            "bottom": null,
            "display": null,
            "flex": null,
            "flex_flow": null,
            "grid_area": null,
            "grid_auto_columns": null,
            "grid_auto_flow": null,
            "grid_auto_rows": null,
            "grid_column": null,
            "grid_gap": null,
            "grid_row": null,
            "grid_template_areas": null,
            "grid_template_columns": null,
            "grid_template_rows": null,
            "height": null,
            "justify_content": null,
            "justify_items": null,
            "left": null,
            "margin": null,
            "max_height": null,
            "max_width": null,
            "min_height": null,
            "min_width": null,
            "object_fit": null,
            "object_position": null,
            "order": null,
            "overflow": null,
            "overflow_x": null,
            "overflow_y": null,
            "padding": null,
            "right": null,
            "top": null,
            "visibility": null,
            "width": null
          }
        },
        "feb7917df7f7408e9dc5e362fcbb5115": {
          "model_module": "@jupyter-widgets/controls",
          "model_name": "ProgressStyleModel",
          "model_module_version": "1.5.0",
          "state": {
            "_model_module": "@jupyter-widgets/controls",
            "_model_module_version": "1.5.0",
            "_model_name": "ProgressStyleModel",
            "_view_count": null,
            "_view_module": "@jupyter-widgets/base",
            "_view_module_version": "1.2.0",
            "_view_name": "StyleView",
            "bar_color": null,
            "description_width": ""
          }
        },
        "7b5e02346ae24e4ba2f0eeff146ff478": {
          "model_module": "@jupyter-widgets/base",
          "model_name": "LayoutModel",
          "model_module_version": "1.2.0",
          "state": {
            "_model_module": "@jupyter-widgets/base",
            "_model_module_version": "1.2.0",
            "_model_name": "LayoutModel",
            "_view_count": null,
            "_view_module": "@jupyter-widgets/base",
            "_view_module_version": "1.2.0",
            "_view_name": "LayoutView",
            "align_content": null,
            "align_items": null,
            "align_self": null,
            "border": null,
            "bottom": null,
            "display": null,
            "flex": null,
            "flex_flow": null,
            "grid_area": null,
            "grid_auto_columns": null,
            "grid_auto_flow": null,
            "grid_auto_rows": null,
            "grid_column": null,
            "grid_gap": null,
            "grid_row": null,
            "grid_template_areas": null,
            "grid_template_columns": null,
            "grid_template_rows": null,
            "height": null,
            "justify_content": null,
            "justify_items": null,
            "left": null,
            "margin": null,
            "max_height": null,
            "max_width": null,
            "min_height": null,
            "min_width": null,
            "object_fit": null,
            "object_position": null,
            "order": null,
            "overflow": null,
            "overflow_x": null,
            "overflow_y": null,
            "padding": null,
            "right": null,
            "top": null,
            "visibility": null,
            "width": null
          }
        },
        "1679795e195746c88acc6f823c60e640": {
          "model_module": "@jupyter-widgets/controls",
          "model_name": "DescriptionStyleModel",
          "model_module_version": "1.5.0",
          "state": {
            "_model_module": "@jupyter-widgets/controls",
            "_model_module_version": "1.5.0",
            "_model_name": "DescriptionStyleModel",
            "_view_count": null,
            "_view_module": "@jupyter-widgets/base",
            "_view_module_version": "1.2.0",
            "_view_name": "StyleView",
            "description_width": ""
          }
        },
        "c1258d508b314da0aa71c96267a19e7b": {
          "model_module": "@jupyter-widgets/controls",
          "model_name": "HBoxModel",
          "model_module_version": "1.5.0",
          "state": {
            "_dom_classes": [],
            "_model_module": "@jupyter-widgets/controls",
            "_model_module_version": "1.5.0",
            "_model_name": "HBoxModel",
            "_view_count": null,
            "_view_module": "@jupyter-widgets/controls",
            "_view_module_version": "1.5.0",
            "_view_name": "HBoxView",
            "box_style": "",
            "children": [
              "IPY_MODEL_239dccdd25d24af3a641d15f7476c990",
              "IPY_MODEL_89f4c9b019c4432ba46e4f0ecba12e9f",
              "IPY_MODEL_0ea906785629497eaed5d80c6ac41d15"
            ],
            "layout": "IPY_MODEL_c4cabc25bf2e42b09148c9e1930c09e7"
          }
        },
        "239dccdd25d24af3a641d15f7476c990": {
          "model_module": "@jupyter-widgets/controls",
          "model_name": "HTMLModel",
          "model_module_version": "1.5.0",
          "state": {
            "_dom_classes": [],
            "_model_module": "@jupyter-widgets/controls",
            "_model_module_version": "1.5.0",
            "_model_name": "HTMLModel",
            "_view_count": null,
            "_view_module": "@jupyter-widgets/controls",
            "_view_module_version": "1.5.0",
            "_view_name": "HTMLView",
            "description": "",
            "description_tooltip": null,
            "layout": "IPY_MODEL_755d53e43b224bc098655795369af689",
            "placeholder": "​",
            "style": "IPY_MODEL_4531fc438fed43538db156b884e413a1",
            "value": "100%"
          }
        },
        "89f4c9b019c4432ba46e4f0ecba12e9f": {
          "model_module": "@jupyter-widgets/controls",
          "model_name": "FloatProgressModel",
          "model_module_version": "1.5.0",
          "state": {
            "_dom_classes": [],
            "_model_module": "@jupyter-widgets/controls",
            "_model_module_version": "1.5.0",
            "_model_name": "FloatProgressModel",
            "_view_count": null,
            "_view_module": "@jupyter-widgets/controls",
            "_view_module_version": "1.5.0",
            "_view_name": "ProgressView",
            "bar_style": "success",
            "description": "",
            "description_tooltip": null,
            "layout": "IPY_MODEL_69f897b8f8bc4e36a380f7c993cec403",
            "max": 1,
            "min": 0,
            "orientation": "horizontal",
            "style": "IPY_MODEL_69cd3856b2774c31a634a6d57c00588a",
            "value": 1
          }
        },
        "0ea906785629497eaed5d80c6ac41d15": {
          "model_module": "@jupyter-widgets/controls",
          "model_name": "HTMLModel",
          "model_module_version": "1.5.0",
          "state": {
            "_dom_classes": [],
            "_model_module": "@jupyter-widgets/controls",
            "_model_module_version": "1.5.0",
            "_model_name": "HTMLModel",
            "_view_count": null,
            "_view_module": "@jupyter-widgets/controls",
            "_view_module_version": "1.5.0",
            "_view_name": "HTMLView",
            "description": "",
            "description_tooltip": null,
            "layout": "IPY_MODEL_30c9c548920c4f6ea5b76ccf3f8d0682",
            "placeholder": "​",
            "style": "IPY_MODEL_f43a05f679954fd0a714118b17a53402",
            "value": " 1/1 [00:00&lt;00:00, 39.28it/s]"
          }
        },
        "c4cabc25bf2e42b09148c9e1930c09e7": {
          "model_module": "@jupyter-widgets/base",
          "model_name": "LayoutModel",
          "model_module_version": "1.2.0",
          "state": {
            "_model_module": "@jupyter-widgets/base",
            "_model_module_version": "1.2.0",
            "_model_name": "LayoutModel",
            "_view_count": null,
            "_view_module": "@jupyter-widgets/base",
            "_view_module_version": "1.2.0",
            "_view_name": "LayoutView",
            "align_content": null,
            "align_items": null,
            "align_self": null,
            "border": null,
            "bottom": null,
            "display": null,
            "flex": null,
            "flex_flow": null,
            "grid_area": null,
            "grid_auto_columns": null,
            "grid_auto_flow": null,
            "grid_auto_rows": null,
            "grid_column": null,
            "grid_gap": null,
            "grid_row": null,
            "grid_template_areas": null,
            "grid_template_columns": null,
            "grid_template_rows": null,
            "height": null,
            "justify_content": null,
            "justify_items": null,
            "left": null,
            "margin": null,
            "max_height": null,
            "max_width": null,
            "min_height": null,
            "min_width": null,
            "object_fit": null,
            "object_position": null,
            "order": null,
            "overflow": null,
            "overflow_x": null,
            "overflow_y": null,
            "padding": null,
            "right": null,
            "top": null,
            "visibility": null,
            "width": null
          }
        },
        "755d53e43b224bc098655795369af689": {
          "model_module": "@jupyter-widgets/base",
          "model_name": "LayoutModel",
          "model_module_version": "1.2.0",
          "state": {
            "_model_module": "@jupyter-widgets/base",
            "_model_module_version": "1.2.0",
            "_model_name": "LayoutModel",
            "_view_count": null,
            "_view_module": "@jupyter-widgets/base",
            "_view_module_version": "1.2.0",
            "_view_name": "LayoutView",
            "align_content": null,
            "align_items": null,
            "align_self": null,
            "border": null,
            "bottom": null,
            "display": null,
            "flex": null,
            "flex_flow": null,
            "grid_area": null,
            "grid_auto_columns": null,
            "grid_auto_flow": null,
            "grid_auto_rows": null,
            "grid_column": null,
            "grid_gap": null,
            "grid_row": null,
            "grid_template_areas": null,
            "grid_template_columns": null,
            "grid_template_rows": null,
            "height": null,
            "justify_content": null,
            "justify_items": null,
            "left": null,
            "margin": null,
            "max_height": null,
            "max_width": null,
            "min_height": null,
            "min_width": null,
            "object_fit": null,
            "object_position": null,
            "order": null,
            "overflow": null,
            "overflow_x": null,
            "overflow_y": null,
            "padding": null,
            "right": null,
            "top": null,
            "visibility": null,
            "width": null
          }
        },
        "4531fc438fed43538db156b884e413a1": {
          "model_module": "@jupyter-widgets/controls",
          "model_name": "DescriptionStyleModel",
          "model_module_version": "1.5.0",
          "state": {
            "_model_module": "@jupyter-widgets/controls",
            "_model_module_version": "1.5.0",
            "_model_name": "DescriptionStyleModel",
            "_view_count": null,
            "_view_module": "@jupyter-widgets/base",
            "_view_module_version": "1.2.0",
            "_view_name": "StyleView",
            "description_width": ""
          }
        },
        "69f897b8f8bc4e36a380f7c993cec403": {
          "model_module": "@jupyter-widgets/base",
          "model_name": "LayoutModel",
          "model_module_version": "1.2.0",
          "state": {
            "_model_module": "@jupyter-widgets/base",
            "_model_module_version": "1.2.0",
            "_model_name": "LayoutModel",
            "_view_count": null,
            "_view_module": "@jupyter-widgets/base",
            "_view_module_version": "1.2.0",
            "_view_name": "LayoutView",
            "align_content": null,
            "align_items": null,
            "align_self": null,
            "border": null,
            "bottom": null,
            "display": null,
            "flex": null,
            "flex_flow": null,
            "grid_area": null,
            "grid_auto_columns": null,
            "grid_auto_flow": null,
            "grid_auto_rows": null,
            "grid_column": null,
            "grid_gap": null,
            "grid_row": null,
            "grid_template_areas": null,
            "grid_template_columns": null,
            "grid_template_rows": null,
            "height": null,
            "justify_content": null,
            "justify_items": null,
            "left": null,
            "margin": null,
            "max_height": null,
            "max_width": null,
            "min_height": null,
            "min_width": null,
            "object_fit": null,
            "object_position": null,
            "order": null,
            "overflow": null,
            "overflow_x": null,
            "overflow_y": null,
            "padding": null,
            "right": null,
            "top": null,
            "visibility": null,
            "width": null
          }
        },
        "69cd3856b2774c31a634a6d57c00588a": {
          "model_module": "@jupyter-widgets/controls",
          "model_name": "ProgressStyleModel",
          "model_module_version": "1.5.0",
          "state": {
            "_model_module": "@jupyter-widgets/controls",
            "_model_module_version": "1.5.0",
            "_model_name": "ProgressStyleModel",
            "_view_count": null,
            "_view_module": "@jupyter-widgets/base",
            "_view_module_version": "1.2.0",
            "_view_name": "StyleView",
            "bar_color": null,
            "description_width": ""
          }
        },
        "30c9c548920c4f6ea5b76ccf3f8d0682": {
          "model_module": "@jupyter-widgets/base",
          "model_name": "LayoutModel",
          "model_module_version": "1.2.0",
          "state": {
            "_model_module": "@jupyter-widgets/base",
            "_model_module_version": "1.2.0",
            "_model_name": "LayoutModel",
            "_view_count": null,
            "_view_module": "@jupyter-widgets/base",
            "_view_module_version": "1.2.0",
            "_view_name": "LayoutView",
            "align_content": null,
            "align_items": null,
            "align_self": null,
            "border": null,
            "bottom": null,
            "display": null,
            "flex": null,
            "flex_flow": null,
            "grid_area": null,
            "grid_auto_columns": null,
            "grid_auto_flow": null,
            "grid_auto_rows": null,
            "grid_column": null,
            "grid_gap": null,
            "grid_row": null,
            "grid_template_areas": null,
            "grid_template_columns": null,
            "grid_template_rows": null,
            "height": null,
            "justify_content": null,
            "justify_items": null,
            "left": null,
            "margin": null,
            "max_height": null,
            "max_width": null,
            "min_height": null,
            "min_width": null,
            "object_fit": null,
            "object_position": null,
            "order": null,
            "overflow": null,
            "overflow_x": null,
            "overflow_y": null,
            "padding": null,
            "right": null,
            "top": null,
            "visibility": null,
            "width": null
          }
        },
        "f43a05f679954fd0a714118b17a53402": {
          "model_module": "@jupyter-widgets/controls",
          "model_name": "DescriptionStyleModel",
          "model_module_version": "1.5.0",
          "state": {
            "_model_module": "@jupyter-widgets/controls",
            "_model_module_version": "1.5.0",
            "_model_name": "DescriptionStyleModel",
            "_view_count": null,
            "_view_module": "@jupyter-widgets/base",
            "_view_module_version": "1.2.0",
            "_view_name": "StyleView",
            "description_width": ""
          }
        },
        "c61a0e30cb354e19a2350a73f17ad635": {
          "model_module": "@jupyter-widgets/controls",
          "model_name": "HBoxModel",
          "model_module_version": "1.5.0",
          "state": {
            "_dom_classes": [],
            "_model_module": "@jupyter-widgets/controls",
            "_model_module_version": "1.5.0",
            "_model_name": "HBoxModel",
            "_view_count": null,
            "_view_module": "@jupyter-widgets/controls",
            "_view_module_version": "1.5.0",
            "_view_name": "HBoxView",
            "box_style": "",
            "children": [
              "IPY_MODEL_5b805d968fe94da1a63730318ea7a685",
              "IPY_MODEL_cecb879ef4d54c58a93f49b845b2029a",
              "IPY_MODEL_a3bcca7e819a4589b7abafb9e33aeba7"
            ],
            "layout": "IPY_MODEL_0e46f5807d1444efb41a9ccbf19d315f"
          }
        },
        "5b805d968fe94da1a63730318ea7a685": {
          "model_module": "@jupyter-widgets/controls",
          "model_name": "HTMLModel",
          "model_module_version": "1.5.0",
          "state": {
            "_dom_classes": [],
            "_model_module": "@jupyter-widgets/controls",
            "_model_module_version": "1.5.0",
            "_model_name": "HTMLModel",
            "_view_count": null,
            "_view_module": "@jupyter-widgets/controls",
            "_view_module_version": "1.5.0",
            "_view_name": "HTMLView",
            "description": "",
            "description_tooltip": null,
            "layout": "IPY_MODEL_f519d78f0b5444b2ae6b81eb749bac9d",
            "placeholder": "​",
            "style": "IPY_MODEL_2073fc76a311420bb6c73e04c1da2057",
            "value": "100%"
          }
        },
        "cecb879ef4d54c58a93f49b845b2029a": {
          "model_module": "@jupyter-widgets/controls",
          "model_name": "FloatProgressModel",
          "model_module_version": "1.5.0",
          "state": {
            "_dom_classes": [],
            "_model_module": "@jupyter-widgets/controls",
            "_model_module_version": "1.5.0",
            "_model_name": "FloatProgressModel",
            "_view_count": null,
            "_view_module": "@jupyter-widgets/controls",
            "_view_module_version": "1.5.0",
            "_view_name": "ProgressView",
            "bar_style": "success",
            "description": "",
            "description_tooltip": null,
            "layout": "IPY_MODEL_54890cc2bf694de5a4482de2d6495fc5",
            "max": 1,
            "min": 0,
            "orientation": "horizontal",
            "style": "IPY_MODEL_eee0ac813dcf4c7d8d80175775a0333a",
            "value": 1
          }
        },
        "a3bcca7e819a4589b7abafb9e33aeba7": {
          "model_module": "@jupyter-widgets/controls",
          "model_name": "HTMLModel",
          "model_module_version": "1.5.0",
          "state": {
            "_dom_classes": [],
            "_model_module": "@jupyter-widgets/controls",
            "_model_module_version": "1.5.0",
            "_model_name": "HTMLModel",
            "_view_count": null,
            "_view_module": "@jupyter-widgets/controls",
            "_view_module_version": "1.5.0",
            "_view_name": "HTMLView",
            "description": "",
            "description_tooltip": null,
            "layout": "IPY_MODEL_4cf0e6346238429baad647cadac1878e",
            "placeholder": "​",
            "style": "IPY_MODEL_5fdfc7049566472c88e723a09f11de60",
            "value": " 1/1 [00:00&lt;00:00, 35.92it/s]"
          }
        },
        "0e46f5807d1444efb41a9ccbf19d315f": {
          "model_module": "@jupyter-widgets/base",
          "model_name": "LayoutModel",
          "model_module_version": "1.2.0",
          "state": {
            "_model_module": "@jupyter-widgets/base",
            "_model_module_version": "1.2.0",
            "_model_name": "LayoutModel",
            "_view_count": null,
            "_view_module": "@jupyter-widgets/base",
            "_view_module_version": "1.2.0",
            "_view_name": "LayoutView",
            "align_content": null,
            "align_items": null,
            "align_self": null,
            "border": null,
            "bottom": null,
            "display": null,
            "flex": null,
            "flex_flow": null,
            "grid_area": null,
            "grid_auto_columns": null,
            "grid_auto_flow": null,
            "grid_auto_rows": null,
            "grid_column": null,
            "grid_gap": null,
            "grid_row": null,
            "grid_template_areas": null,
            "grid_template_columns": null,
            "grid_template_rows": null,
            "height": null,
            "justify_content": null,
            "justify_items": null,
            "left": null,
            "margin": null,
            "max_height": null,
            "max_width": null,
            "min_height": null,
            "min_width": null,
            "object_fit": null,
            "object_position": null,
            "order": null,
            "overflow": null,
            "overflow_x": null,
            "overflow_y": null,
            "padding": null,
            "right": null,
            "top": null,
            "visibility": null,
            "width": null
          }
        },
        "f519d78f0b5444b2ae6b81eb749bac9d": {
          "model_module": "@jupyter-widgets/base",
          "model_name": "LayoutModel",
          "model_module_version": "1.2.0",
          "state": {
            "_model_module": "@jupyter-widgets/base",
            "_model_module_version": "1.2.0",
            "_model_name": "LayoutModel",
            "_view_count": null,
            "_view_module": "@jupyter-widgets/base",
            "_view_module_version": "1.2.0",
            "_view_name": "LayoutView",
            "align_content": null,
            "align_items": null,
            "align_self": null,
            "border": null,
            "bottom": null,
            "display": null,
            "flex": null,
            "flex_flow": null,
            "grid_area": null,
            "grid_auto_columns": null,
            "grid_auto_flow": null,
            "grid_auto_rows": null,
            "grid_column": null,
            "grid_gap": null,
            "grid_row": null,
            "grid_template_areas": null,
            "grid_template_columns": null,
            "grid_template_rows": null,
            "height": null,
            "justify_content": null,
            "justify_items": null,
            "left": null,
            "margin": null,
            "max_height": null,
            "max_width": null,
            "min_height": null,
            "min_width": null,
            "object_fit": null,
            "object_position": null,
            "order": null,
            "overflow": null,
            "overflow_x": null,
            "overflow_y": null,
            "padding": null,
            "right": null,
            "top": null,
            "visibility": null,
            "width": null
          }
        },
        "2073fc76a311420bb6c73e04c1da2057": {
          "model_module": "@jupyter-widgets/controls",
          "model_name": "DescriptionStyleModel",
          "model_module_version": "1.5.0",
          "state": {
            "_model_module": "@jupyter-widgets/controls",
            "_model_module_version": "1.5.0",
            "_model_name": "DescriptionStyleModel",
            "_view_count": null,
            "_view_module": "@jupyter-widgets/base",
            "_view_module_version": "1.2.0",
            "_view_name": "StyleView",
            "description_width": ""
          }
        },
        "54890cc2bf694de5a4482de2d6495fc5": {
          "model_module": "@jupyter-widgets/base",
          "model_name": "LayoutModel",
          "model_module_version": "1.2.0",
          "state": {
            "_model_module": "@jupyter-widgets/base",
            "_model_module_version": "1.2.0",
            "_model_name": "LayoutModel",
            "_view_count": null,
            "_view_module": "@jupyter-widgets/base",
            "_view_module_version": "1.2.0",
            "_view_name": "LayoutView",
            "align_content": null,
            "align_items": null,
            "align_self": null,
            "border": null,
            "bottom": null,
            "display": null,
            "flex": null,
            "flex_flow": null,
            "grid_area": null,
            "grid_auto_columns": null,
            "grid_auto_flow": null,
            "grid_auto_rows": null,
            "grid_column": null,
            "grid_gap": null,
            "grid_row": null,
            "grid_template_areas": null,
            "grid_template_columns": null,
            "grid_template_rows": null,
            "height": null,
            "justify_content": null,
            "justify_items": null,
            "left": null,
            "margin": null,
            "max_height": null,
            "max_width": null,
            "min_height": null,
            "min_width": null,
            "object_fit": null,
            "object_position": null,
            "order": null,
            "overflow": null,
            "overflow_x": null,
            "overflow_y": null,
            "padding": null,
            "right": null,
            "top": null,
            "visibility": null,
            "width": null
          }
        },
        "eee0ac813dcf4c7d8d80175775a0333a": {
          "model_module": "@jupyter-widgets/controls",
          "model_name": "ProgressStyleModel",
          "model_module_version": "1.5.0",
          "state": {
            "_model_module": "@jupyter-widgets/controls",
            "_model_module_version": "1.5.0",
            "_model_name": "ProgressStyleModel",
            "_view_count": null,
            "_view_module": "@jupyter-widgets/base",
            "_view_module_version": "1.2.0",
            "_view_name": "StyleView",
            "bar_color": null,
            "description_width": ""
          }
        },
        "4cf0e6346238429baad647cadac1878e": {
          "model_module": "@jupyter-widgets/base",
          "model_name": "LayoutModel",
          "model_module_version": "1.2.0",
          "state": {
            "_model_module": "@jupyter-widgets/base",
            "_model_module_version": "1.2.0",
            "_model_name": "LayoutModel",
            "_view_count": null,
            "_view_module": "@jupyter-widgets/base",
            "_view_module_version": "1.2.0",
            "_view_name": "LayoutView",
            "align_content": null,
            "align_items": null,
            "align_self": null,
            "border": null,
            "bottom": null,
            "display": null,
            "flex": null,
            "flex_flow": null,
            "grid_area": null,
            "grid_auto_columns": null,
            "grid_auto_flow": null,
            "grid_auto_rows": null,
            "grid_column": null,
            "grid_gap": null,
            "grid_row": null,
            "grid_template_areas": null,
            "grid_template_columns": null,
            "grid_template_rows": null,
            "height": null,
            "justify_content": null,
            "justify_items": null,
            "left": null,
            "margin": null,
            "max_height": null,
            "max_width": null,
            "min_height": null,
            "min_width": null,
            "object_fit": null,
            "object_position": null,
            "order": null,
            "overflow": null,
            "overflow_x": null,
            "overflow_y": null,
            "padding": null,
            "right": null,
            "top": null,
            "visibility": null,
            "width": null
          }
        },
        "5fdfc7049566472c88e723a09f11de60": {
          "model_module": "@jupyter-widgets/controls",
          "model_name": "DescriptionStyleModel",
          "model_module_version": "1.5.0",
          "state": {
            "_model_module": "@jupyter-widgets/controls",
            "_model_module_version": "1.5.0",
            "_model_name": "DescriptionStyleModel",
            "_view_count": null,
            "_view_module": "@jupyter-widgets/base",
            "_view_module_version": "1.2.0",
            "_view_name": "StyleView",
            "description_width": ""
          }
        },
        "f29c63837b6b4a7da7ebd01d3a6a8328": {
          "model_module": "@jupyter-widgets/controls",
          "model_name": "HBoxModel",
          "model_module_version": "1.5.0",
          "state": {
            "_dom_classes": [],
            "_model_module": "@jupyter-widgets/controls",
            "_model_module_version": "1.5.0",
            "_model_name": "HBoxModel",
            "_view_count": null,
            "_view_module": "@jupyter-widgets/controls",
            "_view_module_version": "1.5.0",
            "_view_name": "HBoxView",
            "box_style": "",
            "children": [
              "IPY_MODEL_61a656fcf7334729898bb0c6b8977692",
              "IPY_MODEL_3cec74bbc2e74f7dafa874b89a5430aa",
              "IPY_MODEL_16f6ee1d4919412e8fceb4eead2af10b"
            ],
            "layout": "IPY_MODEL_b4e0fd1db62c44c2969aef20bdb10987"
          }
        },
        "61a656fcf7334729898bb0c6b8977692": {
          "model_module": "@jupyter-widgets/controls",
          "model_name": "HTMLModel",
          "model_module_version": "1.5.0",
          "state": {
            "_dom_classes": [],
            "_model_module": "@jupyter-widgets/controls",
            "_model_module_version": "1.5.0",
            "_model_name": "HTMLModel",
            "_view_count": null,
            "_view_module": "@jupyter-widgets/controls",
            "_view_module_version": "1.5.0",
            "_view_name": "HTMLView",
            "description": "",
            "description_tooltip": null,
            "layout": "IPY_MODEL_85d31c01b4774477a612da269cb5843e",
            "placeholder": "​",
            "style": "IPY_MODEL_5d6143b7586b48059efae07e229a746a",
            "value": "100%"
          }
        },
        "3cec74bbc2e74f7dafa874b89a5430aa": {
          "model_module": "@jupyter-widgets/controls",
          "model_name": "FloatProgressModel",
          "model_module_version": "1.5.0",
          "state": {
            "_dom_classes": [],
            "_model_module": "@jupyter-widgets/controls",
            "_model_module_version": "1.5.0",
            "_model_name": "FloatProgressModel",
            "_view_count": null,
            "_view_module": "@jupyter-widgets/controls",
            "_view_module_version": "1.5.0",
            "_view_name": "ProgressView",
            "bar_style": "success",
            "description": "",
            "description_tooltip": null,
            "layout": "IPY_MODEL_ab7e55e60f8c44f1a23d6378e68fdeb6",
            "max": 1,
            "min": 0,
            "orientation": "horizontal",
            "style": "IPY_MODEL_13c699a92fec47c4881f131c5e707529",
            "value": 1
          }
        },
        "16f6ee1d4919412e8fceb4eead2af10b": {
          "model_module": "@jupyter-widgets/controls",
          "model_name": "HTMLModel",
          "model_module_version": "1.5.0",
          "state": {
            "_dom_classes": [],
            "_model_module": "@jupyter-widgets/controls",
            "_model_module_version": "1.5.0",
            "_model_name": "HTMLModel",
            "_view_count": null,
            "_view_module": "@jupyter-widgets/controls",
            "_view_module_version": "1.5.0",
            "_view_name": "HTMLView",
            "description": "",
            "description_tooltip": null,
            "layout": "IPY_MODEL_b1e49badb1e34579b7e1a1b7efceac21",
            "placeholder": "​",
            "style": "IPY_MODEL_3e511cc729be4128aa5bead005153678",
            "value": " 1/1 [00:00&lt;00:00,  4.81ba/s]"
          }
        },
        "b4e0fd1db62c44c2969aef20bdb10987": {
          "model_module": "@jupyter-widgets/base",
          "model_name": "LayoutModel",
          "model_module_version": "1.2.0",
          "state": {
            "_model_module": "@jupyter-widgets/base",
            "_model_module_version": "1.2.0",
            "_model_name": "LayoutModel",
            "_view_count": null,
            "_view_module": "@jupyter-widgets/base",
            "_view_module_version": "1.2.0",
            "_view_name": "LayoutView",
            "align_content": null,
            "align_items": null,
            "align_self": null,
            "border": null,
            "bottom": null,
            "display": null,
            "flex": null,
            "flex_flow": null,
            "grid_area": null,
            "grid_auto_columns": null,
            "grid_auto_flow": null,
            "grid_auto_rows": null,
            "grid_column": null,
            "grid_gap": null,
            "grid_row": null,
            "grid_template_areas": null,
            "grid_template_columns": null,
            "grid_template_rows": null,
            "height": null,
            "justify_content": null,
            "justify_items": null,
            "left": null,
            "margin": null,
            "max_height": null,
            "max_width": null,
            "min_height": null,
            "min_width": null,
            "object_fit": null,
            "object_position": null,
            "order": null,
            "overflow": null,
            "overflow_x": null,
            "overflow_y": null,
            "padding": null,
            "right": null,
            "top": null,
            "visibility": null,
            "width": null
          }
        },
        "85d31c01b4774477a612da269cb5843e": {
          "model_module": "@jupyter-widgets/base",
          "model_name": "LayoutModel",
          "model_module_version": "1.2.0",
          "state": {
            "_model_module": "@jupyter-widgets/base",
            "_model_module_version": "1.2.0",
            "_model_name": "LayoutModel",
            "_view_count": null,
            "_view_module": "@jupyter-widgets/base",
            "_view_module_version": "1.2.0",
            "_view_name": "LayoutView",
            "align_content": null,
            "align_items": null,
            "align_self": null,
            "border": null,
            "bottom": null,
            "display": null,
            "flex": null,
            "flex_flow": null,
            "grid_area": null,
            "grid_auto_columns": null,
            "grid_auto_flow": null,
            "grid_auto_rows": null,
            "grid_column": null,
            "grid_gap": null,
            "grid_row": null,
            "grid_template_areas": null,
            "grid_template_columns": null,
            "grid_template_rows": null,
            "height": null,
            "justify_content": null,
            "justify_items": null,
            "left": null,
            "margin": null,
            "max_height": null,
            "max_width": null,
            "min_height": null,
            "min_width": null,
            "object_fit": null,
            "object_position": null,
            "order": null,
            "overflow": null,
            "overflow_x": null,
            "overflow_y": null,
            "padding": null,
            "right": null,
            "top": null,
            "visibility": null,
            "width": null
          }
        },
        "5d6143b7586b48059efae07e229a746a": {
          "model_module": "@jupyter-widgets/controls",
          "model_name": "DescriptionStyleModel",
          "model_module_version": "1.5.0",
          "state": {
            "_model_module": "@jupyter-widgets/controls",
            "_model_module_version": "1.5.0",
            "_model_name": "DescriptionStyleModel",
            "_view_count": null,
            "_view_module": "@jupyter-widgets/base",
            "_view_module_version": "1.2.0",
            "_view_name": "StyleView",
            "description_width": ""
          }
        },
        "ab7e55e60f8c44f1a23d6378e68fdeb6": {
          "model_module": "@jupyter-widgets/base",
          "model_name": "LayoutModel",
          "model_module_version": "1.2.0",
          "state": {
            "_model_module": "@jupyter-widgets/base",
            "_model_module_version": "1.2.0",
            "_model_name": "LayoutModel",
            "_view_count": null,
            "_view_module": "@jupyter-widgets/base",
            "_view_module_version": "1.2.0",
            "_view_name": "LayoutView",
            "align_content": null,
            "align_items": null,
            "align_self": null,
            "border": null,
            "bottom": null,
            "display": null,
            "flex": null,
            "flex_flow": null,
            "grid_area": null,
            "grid_auto_columns": null,
            "grid_auto_flow": null,
            "grid_auto_rows": null,
            "grid_column": null,
            "grid_gap": null,
            "grid_row": null,
            "grid_template_areas": null,
            "grid_template_columns": null,
            "grid_template_rows": null,
            "height": null,
            "justify_content": null,
            "justify_items": null,
            "left": null,
            "margin": null,
            "max_height": null,
            "max_width": null,
            "min_height": null,
            "min_width": null,
            "object_fit": null,
            "object_position": null,
            "order": null,
            "overflow": null,
            "overflow_x": null,
            "overflow_y": null,
            "padding": null,
            "right": null,
            "top": null,
            "visibility": null,
            "width": null
          }
        },
        "13c699a92fec47c4881f131c5e707529": {
          "model_module": "@jupyter-widgets/controls",
          "model_name": "ProgressStyleModel",
          "model_module_version": "1.5.0",
          "state": {
            "_model_module": "@jupyter-widgets/controls",
            "_model_module_version": "1.5.0",
            "_model_name": "ProgressStyleModel",
            "_view_count": null,
            "_view_module": "@jupyter-widgets/base",
            "_view_module_version": "1.2.0",
            "_view_name": "StyleView",
            "bar_color": null,
            "description_width": ""
          }
        },
        "b1e49badb1e34579b7e1a1b7efceac21": {
          "model_module": "@jupyter-widgets/base",
          "model_name": "LayoutModel",
          "model_module_version": "1.2.0",
          "state": {
            "_model_module": "@jupyter-widgets/base",
            "_model_module_version": "1.2.0",
            "_model_name": "LayoutModel",
            "_view_count": null,
            "_view_module": "@jupyter-widgets/base",
            "_view_module_version": "1.2.0",
            "_view_name": "LayoutView",
            "align_content": null,
            "align_items": null,
            "align_self": null,
            "border": null,
            "bottom": null,
            "display": null,
            "flex": null,
            "flex_flow": null,
            "grid_area": null,
            "grid_auto_columns": null,
            "grid_auto_flow": null,
            "grid_auto_rows": null,
            "grid_column": null,
            "grid_gap": null,
            "grid_row": null,
            "grid_template_areas": null,
            "grid_template_columns": null,
            "grid_template_rows": null,
            "height": null,
            "justify_content": null,
            "justify_items": null,
            "left": null,
            "margin": null,
            "max_height": null,
            "max_width": null,
            "min_height": null,
            "min_width": null,
            "object_fit": null,
            "object_position": null,
            "order": null,
            "overflow": null,
            "overflow_x": null,
            "overflow_y": null,
            "padding": null,
            "right": null,
            "top": null,
            "visibility": null,
            "width": null
          }
        },
        "3e511cc729be4128aa5bead005153678": {
          "model_module": "@jupyter-widgets/controls",
          "model_name": "DescriptionStyleModel",
          "model_module_version": "1.5.0",
          "state": {
            "_model_module": "@jupyter-widgets/controls",
            "_model_module_version": "1.5.0",
            "_model_name": "DescriptionStyleModel",
            "_view_count": null,
            "_view_module": "@jupyter-widgets/base",
            "_view_module_version": "1.2.0",
            "_view_name": "StyleView",
            "description_width": ""
          }
        },
        "ce33ab792ce140e798a16733326df896": {
          "model_module": "@jupyter-widgets/controls",
          "model_name": "HBoxModel",
          "model_module_version": "1.5.0",
          "state": {
            "_dom_classes": [],
            "_model_module": "@jupyter-widgets/controls",
            "_model_module_version": "1.5.0",
            "_model_name": "HBoxModel",
            "_view_count": null,
            "_view_module": "@jupyter-widgets/controls",
            "_view_module_version": "1.5.0",
            "_view_name": "HBoxView",
            "box_style": "",
            "children": [
              "IPY_MODEL_2e2da550410e4ce584d01f230aa86aac",
              "IPY_MODEL_04d097bdba3842f2b0f19fdf88cc3c59",
              "IPY_MODEL_db677177b7954606883e49a8cda799d3"
            ],
            "layout": "IPY_MODEL_b9a2f5cf892f4b6daf2eadf866830852"
          }
        },
        "2e2da550410e4ce584d01f230aa86aac": {
          "model_module": "@jupyter-widgets/controls",
          "model_name": "HTMLModel",
          "model_module_version": "1.5.0",
          "state": {
            "_dom_classes": [],
            "_model_module": "@jupyter-widgets/controls",
            "_model_module_version": "1.5.0",
            "_model_name": "HTMLModel",
            "_view_count": null,
            "_view_module": "@jupyter-widgets/controls",
            "_view_module_version": "1.5.0",
            "_view_name": "HTMLView",
            "description": "",
            "description_tooltip": null,
            "layout": "IPY_MODEL_bdaecdea645b4e81acd65a685c45b661",
            "placeholder": "​",
            "style": "IPY_MODEL_2a81192b51ec40c08d003930425597fa",
            "value": "100%"
          }
        },
        "04d097bdba3842f2b0f19fdf88cc3c59": {
          "model_module": "@jupyter-widgets/controls",
          "model_name": "FloatProgressModel",
          "model_module_version": "1.5.0",
          "state": {
            "_dom_classes": [],
            "_model_module": "@jupyter-widgets/controls",
            "_model_module_version": "1.5.0",
            "_model_name": "FloatProgressModel",
            "_view_count": null,
            "_view_module": "@jupyter-widgets/controls",
            "_view_module_version": "1.5.0",
            "_view_name": "ProgressView",
            "bar_style": "",
            "description": "",
            "description_tooltip": null,
            "layout": "IPY_MODEL_45468f1c3a744c67bc5548aae76636ec",
            "max": 680,
            "min": 0,
            "orientation": "horizontal",
            "style": "IPY_MODEL_141474c0f6d9403c93e7a7c24b79250d",
            "value": 680
          }
        },
        "db677177b7954606883e49a8cda799d3": {
          "model_module": "@jupyter-widgets/controls",
          "model_name": "HTMLModel",
          "model_module_version": "1.5.0",
          "state": {
            "_dom_classes": [],
            "_model_module": "@jupyter-widgets/controls",
            "_model_module_version": "1.5.0",
            "_model_name": "HTMLModel",
            "_view_count": null,
            "_view_module": "@jupyter-widgets/controls",
            "_view_module_version": "1.5.0",
            "_view_name": "HTMLView",
            "description": "",
            "description_tooltip": null,
            "layout": "IPY_MODEL_2173f65886b94747977e3342c996910d",
            "placeholder": "​",
            "style": "IPY_MODEL_e946fe5d89a441dfb4781339ca53dcdd",
            "value": " 680/680 [1:24:41&lt;00:00,  6.45s/it]"
          }
        },
        "b9a2f5cf892f4b6daf2eadf866830852": {
          "model_module": "@jupyter-widgets/base",
          "model_name": "LayoutModel",
          "model_module_version": "1.2.0",
          "state": {
            "_model_module": "@jupyter-widgets/base",
            "_model_module_version": "1.2.0",
            "_model_name": "LayoutModel",
            "_view_count": null,
            "_view_module": "@jupyter-widgets/base",
            "_view_module_version": "1.2.0",
            "_view_name": "LayoutView",
            "align_content": null,
            "align_items": null,
            "align_self": null,
            "border": null,
            "bottom": null,
            "display": null,
            "flex": null,
            "flex_flow": null,
            "grid_area": null,
            "grid_auto_columns": null,
            "grid_auto_flow": null,
            "grid_auto_rows": null,
            "grid_column": null,
            "grid_gap": null,
            "grid_row": null,
            "grid_template_areas": null,
            "grid_template_columns": null,
            "grid_template_rows": null,
            "height": null,
            "justify_content": null,
            "justify_items": null,
            "left": null,
            "margin": null,
            "max_height": null,
            "max_width": null,
            "min_height": null,
            "min_width": null,
            "object_fit": null,
            "object_position": null,
            "order": null,
            "overflow": null,
            "overflow_x": null,
            "overflow_y": null,
            "padding": null,
            "right": null,
            "top": null,
            "visibility": null,
            "width": null
          }
        },
        "bdaecdea645b4e81acd65a685c45b661": {
          "model_module": "@jupyter-widgets/base",
          "model_name": "LayoutModel",
          "model_module_version": "1.2.0",
          "state": {
            "_model_module": "@jupyter-widgets/base",
            "_model_module_version": "1.2.0",
            "_model_name": "LayoutModel",
            "_view_count": null,
            "_view_module": "@jupyter-widgets/base",
            "_view_module_version": "1.2.0",
            "_view_name": "LayoutView",
            "align_content": null,
            "align_items": null,
            "align_self": null,
            "border": null,
            "bottom": null,
            "display": null,
            "flex": null,
            "flex_flow": null,
            "grid_area": null,
            "grid_auto_columns": null,
            "grid_auto_flow": null,
            "grid_auto_rows": null,
            "grid_column": null,
            "grid_gap": null,
            "grid_row": null,
            "grid_template_areas": null,
            "grid_template_columns": null,
            "grid_template_rows": null,
            "height": null,
            "justify_content": null,
            "justify_items": null,
            "left": null,
            "margin": null,
            "max_height": null,
            "max_width": null,
            "min_height": null,
            "min_width": null,
            "object_fit": null,
            "object_position": null,
            "order": null,
            "overflow": null,
            "overflow_x": null,
            "overflow_y": null,
            "padding": null,
            "right": null,
            "top": null,
            "visibility": null,
            "width": null
          }
        },
        "2a81192b51ec40c08d003930425597fa": {
          "model_module": "@jupyter-widgets/controls",
          "model_name": "DescriptionStyleModel",
          "model_module_version": "1.5.0",
          "state": {
            "_model_module": "@jupyter-widgets/controls",
            "_model_module_version": "1.5.0",
            "_model_name": "DescriptionStyleModel",
            "_view_count": null,
            "_view_module": "@jupyter-widgets/base",
            "_view_module_version": "1.2.0",
            "_view_name": "StyleView",
            "description_width": ""
          }
        },
        "45468f1c3a744c67bc5548aae76636ec": {
          "model_module": "@jupyter-widgets/base",
          "model_name": "LayoutModel",
          "model_module_version": "1.2.0",
          "state": {
            "_model_module": "@jupyter-widgets/base",
            "_model_module_version": "1.2.0",
            "_model_name": "LayoutModel",
            "_view_count": null,
            "_view_module": "@jupyter-widgets/base",
            "_view_module_version": "1.2.0",
            "_view_name": "LayoutView",
            "align_content": null,
            "align_items": null,
            "align_self": null,
            "border": null,
            "bottom": null,
            "display": null,
            "flex": null,
            "flex_flow": null,
            "grid_area": null,
            "grid_auto_columns": null,
            "grid_auto_flow": null,
            "grid_auto_rows": null,
            "grid_column": null,
            "grid_gap": null,
            "grid_row": null,
            "grid_template_areas": null,
            "grid_template_columns": null,
            "grid_template_rows": null,
            "height": null,
            "justify_content": null,
            "justify_items": null,
            "left": null,
            "margin": null,
            "max_height": null,
            "max_width": null,
            "min_height": null,
            "min_width": null,
            "object_fit": null,
            "object_position": null,
            "order": null,
            "overflow": null,
            "overflow_x": null,
            "overflow_y": null,
            "padding": null,
            "right": null,
            "top": null,
            "visibility": null,
            "width": null
          }
        },
        "141474c0f6d9403c93e7a7c24b79250d": {
          "model_module": "@jupyter-widgets/controls",
          "model_name": "ProgressStyleModel",
          "model_module_version": "1.5.0",
          "state": {
            "_model_module": "@jupyter-widgets/controls",
            "_model_module_version": "1.5.0",
            "_model_name": "ProgressStyleModel",
            "_view_count": null,
            "_view_module": "@jupyter-widgets/base",
            "_view_module_version": "1.2.0",
            "_view_name": "StyleView",
            "bar_color": null,
            "description_width": ""
          }
        },
        "2173f65886b94747977e3342c996910d": {
          "model_module": "@jupyter-widgets/base",
          "model_name": "LayoutModel",
          "model_module_version": "1.2.0",
          "state": {
            "_model_module": "@jupyter-widgets/base",
            "_model_module_version": "1.2.0",
            "_model_name": "LayoutModel",
            "_view_count": null,
            "_view_module": "@jupyter-widgets/base",
            "_view_module_version": "1.2.0",
            "_view_name": "LayoutView",
            "align_content": null,
            "align_items": null,
            "align_self": null,
            "border": null,
            "bottom": null,
            "display": null,
            "flex": null,
            "flex_flow": null,
            "grid_area": null,
            "grid_auto_columns": null,
            "grid_auto_flow": null,
            "grid_auto_rows": null,
            "grid_column": null,
            "grid_gap": null,
            "grid_row": null,
            "grid_template_areas": null,
            "grid_template_columns": null,
            "grid_template_rows": null,
            "height": null,
            "justify_content": null,
            "justify_items": null,
            "left": null,
            "margin": null,
            "max_height": null,
            "max_width": null,
            "min_height": null,
            "min_width": null,
            "object_fit": null,
            "object_position": null,
            "order": null,
            "overflow": null,
            "overflow_x": null,
            "overflow_y": null,
            "padding": null,
            "right": null,
            "top": null,
            "visibility": null,
            "width": null
          }
        },
        "e946fe5d89a441dfb4781339ca53dcdd": {
          "model_module": "@jupyter-widgets/controls",
          "model_name": "DescriptionStyleModel",
          "model_module_version": "1.5.0",
          "state": {
            "_model_module": "@jupyter-widgets/controls",
            "_model_module_version": "1.5.0",
            "_model_name": "DescriptionStyleModel",
            "_view_count": null,
            "_view_module": "@jupyter-widgets/base",
            "_view_module_version": "1.2.0",
            "_view_name": "StyleView",
            "description_width": ""
          }
        }
      }
    }
  },
  "cells": [
    {
      "cell_type": "markdown",
      "metadata": {
        "id": "view-in-github",
        "colab_type": "text"
      },
      "source": [
        "<a href=\"https://colab.research.google.com/github/lidiasendinelwan/BelajarLLM2/blob/main/Belajar_LLM.ipynb\" target=\"_parent\"><img src=\"https://colab.research.google.com/assets/colab-badge.svg\" alt=\"Open In Colab\"/></a>"
      ]
    },
    {
      "cell_type": "code",
      "execution_count": 2,
      "metadata": {
        "colab": {
          "base_uri": "https://localhost:8080/"
        },
        "id": "Js400F-xmpGL",
        "outputId": "4fe68404-1844-4f85-a08b-041759c597c9"
      },
      "outputs": [
        {
          "output_type": "stream",
          "name": "stdout",
          "text": [
            "Python 3.10.12\n",
            "Collecting transformers==4.18\n",
            "  Downloading transformers-4.18.0-py3-none-any.whl (4.0 MB)\n",
            "\u001b[2K     \u001b[90m━━━━━━━━━━━━━━━━━━━━━━━━━━━━━━━━━━━━━━━━\u001b[0m \u001b[32m4.0/4.0 MB\u001b[0m \u001b[31m20.0 MB/s\u001b[0m eta \u001b[36m0:00:00\u001b[0m\n",
            "\u001b[?25hRequirement already satisfied: filelock in /usr/local/lib/python3.10/dist-packages (from transformers==4.18) (3.12.2)\n",
            "Collecting huggingface-hub<1.0,>=0.1.0 (from transformers==4.18)\n",
            "  Downloading huggingface_hub-0.16.4-py3-none-any.whl (268 kB)\n",
            "\u001b[2K     \u001b[90m━━━━━━━━━━━━━━━━━━━━━━━━━━━━━━━━━━━━━━\u001b[0m \u001b[32m268.8/268.8 kB\u001b[0m \u001b[31m29.5 MB/s\u001b[0m eta \u001b[36m0:00:00\u001b[0m\n",
            "\u001b[?25hRequirement already satisfied: numpy>=1.17 in /usr/local/lib/python3.10/dist-packages (from transformers==4.18) (1.23.5)\n",
            "Requirement already satisfied: packaging>=20.0 in /usr/local/lib/python3.10/dist-packages (from transformers==4.18) (23.1)\n",
            "Requirement already satisfied: pyyaml>=5.1 in /usr/local/lib/python3.10/dist-packages (from transformers==4.18) (6.0.1)\n",
            "Requirement already satisfied: regex!=2019.12.17 in /usr/local/lib/python3.10/dist-packages (from transformers==4.18) (2023.6.3)\n",
            "Requirement already satisfied: requests in /usr/local/lib/python3.10/dist-packages (from transformers==4.18) (2.31.0)\n",
            "Collecting sacremoses (from transformers==4.18)\n",
            "  Downloading sacremoses-0.0.53.tar.gz (880 kB)\n",
            "\u001b[2K     \u001b[90m━━━━━━━━━━━━━━━━━━━━━━━━━━━━━━━━━━━━━━\u001b[0m \u001b[32m880.6/880.6 kB\u001b[0m \u001b[31m31.5 MB/s\u001b[0m eta \u001b[36m0:00:00\u001b[0m\n",
            "\u001b[?25h  Preparing metadata (setup.py) ... \u001b[?25l\u001b[?25hdone\n",
            "Collecting tokenizers!=0.11.3,<0.13,>=0.11.1 (from transformers==4.18)\n",
            "  Downloading tokenizers-0.12.1-cp310-cp310-manylinux_2_12_x86_64.manylinux2010_x86_64.whl (6.6 MB)\n",
            "\u001b[2K     \u001b[90m━━━━━━━━━━━━━━━━━━━━━━━━━━━━━━━━━━━━━━━━\u001b[0m \u001b[32m6.6/6.6 MB\u001b[0m \u001b[31m50.2 MB/s\u001b[0m eta \u001b[36m0:00:00\u001b[0m\n",
            "\u001b[?25hRequirement already satisfied: tqdm>=4.27 in /usr/local/lib/python3.10/dist-packages (from transformers==4.18) (4.66.1)\n",
            "Requirement already satisfied: fsspec in /usr/local/lib/python3.10/dist-packages (from huggingface-hub<1.0,>=0.1.0->transformers==4.18) (2023.6.0)\n",
            "Requirement already satisfied: typing-extensions>=3.7.4.3 in /usr/local/lib/python3.10/dist-packages (from huggingface-hub<1.0,>=0.1.0->transformers==4.18) (4.7.1)\n",
            "Requirement already satisfied: charset-normalizer<4,>=2 in /usr/local/lib/python3.10/dist-packages (from requests->transformers==4.18) (3.2.0)\n",
            "Requirement already satisfied: idna<4,>=2.5 in /usr/local/lib/python3.10/dist-packages (from requests->transformers==4.18) (3.4)\n",
            "Requirement already satisfied: urllib3<3,>=1.21.1 in /usr/local/lib/python3.10/dist-packages (from requests->transformers==4.18) (2.0.4)\n",
            "Requirement already satisfied: certifi>=2017.4.17 in /usr/local/lib/python3.10/dist-packages (from requests->transformers==4.18) (2023.7.22)\n",
            "Requirement already satisfied: six in /usr/local/lib/python3.10/dist-packages (from sacremoses->transformers==4.18) (1.16.0)\n",
            "Requirement already satisfied: click in /usr/local/lib/python3.10/dist-packages (from sacremoses->transformers==4.18) (8.1.7)\n",
            "Requirement already satisfied: joblib in /usr/local/lib/python3.10/dist-packages (from sacremoses->transformers==4.18) (1.3.2)\n",
            "Building wheels for collected packages: sacremoses\n",
            "  Building wheel for sacremoses (setup.py) ... \u001b[?25l\u001b[?25hdone\n",
            "  Created wheel for sacremoses: filename=sacremoses-0.0.53-py3-none-any.whl size=895241 sha256=7d750421798f3ae30b8fc6e63a1c7f072534b96d6dbebfa304686847c9cf4ca0\n",
            "  Stored in directory: /root/.cache/pip/wheels/00/24/97/a2ea5324f36bc626e1ea0267f33db6aa80d157ee977e9e42fb\n",
            "Successfully built sacremoses\n",
            "Installing collected packages: tokenizers, sacremoses, huggingface-hub, transformers\n",
            "Successfully installed huggingface-hub-0.16.4 sacremoses-0.0.53 tokenizers-0.12.1 transformers-4.18.0\n",
            "Collecting bitsandbytes\n",
            "  Downloading bitsandbytes-0.41.1-py3-none-any.whl (92.6 MB)\n",
            "\u001b[2K     \u001b[90m━━━━━━━━━━━━━━━━━━━━━━━━━━━━━━━━━━━━━━━━\u001b[0m \u001b[32m92.6/92.6 MB\u001b[0m \u001b[31m9.6 MB/s\u001b[0m eta \u001b[36m0:00:00\u001b[0m\n",
            "\u001b[?25hInstalling collected packages: bitsandbytes\n",
            "Successfully installed bitsandbytes-0.41.1\n",
            "Collecting datasets==1.16.1\n",
            "  Downloading datasets-1.16.1-py3-none-any.whl (298 kB)\n",
            "\u001b[2K     \u001b[90m━━━━━━━━━━━━━━━━━━━━━━━━━━━━━━━━━━━━━━━\u001b[0m \u001b[32m298.3/298.3 kB\u001b[0m \u001b[31m6.5 MB/s\u001b[0m eta \u001b[36m0:00:00\u001b[0m\n",
            "\u001b[?25hRequirement already satisfied: numpy>=1.17 in /usr/local/lib/python3.10/dist-packages (from datasets==1.16.1) (1.23.5)\n",
            "Requirement already satisfied: pyarrow!=4.0.0,>=3.0.0 in /usr/local/lib/python3.10/dist-packages (from datasets==1.16.1) (9.0.0)\n",
            "Collecting dill (from datasets==1.16.1)\n",
            "  Downloading dill-0.3.7-py3-none-any.whl (115 kB)\n",
            "\u001b[2K     \u001b[90m━━━━━━━━━━━━━━━━━━━━━━━━━━━━━━━━━━━━━━\u001b[0m \u001b[32m115.3/115.3 kB\u001b[0m \u001b[31m13.9 MB/s\u001b[0m eta \u001b[36m0:00:00\u001b[0m\n",
            "\u001b[?25hRequirement already satisfied: pandas in /usr/local/lib/python3.10/dist-packages (from datasets==1.16.1) (1.5.3)\n",
            "Requirement already satisfied: requests>=2.19.0 in /usr/local/lib/python3.10/dist-packages (from datasets==1.16.1) (2.31.0)\n",
            "Requirement already satisfied: tqdm>=4.62.1 in /usr/local/lib/python3.10/dist-packages (from datasets==1.16.1) (4.66.1)\n",
            "Collecting xxhash (from datasets==1.16.1)\n",
            "  Downloading xxhash-3.3.0-cp310-cp310-manylinux_2_17_x86_64.manylinux2014_x86_64.whl (194 kB)\n",
            "\u001b[2K     \u001b[90m━━━━━━━━━━━━━━━━━━━━━━━━━━━━━━━━━━━━━━\u001b[0m \u001b[32m194.1/194.1 kB\u001b[0m \u001b[31m13.4 MB/s\u001b[0m eta \u001b[36m0:00:00\u001b[0m\n",
            "\u001b[?25hCollecting multiprocess (from datasets==1.16.1)\n",
            "  Downloading multiprocess-0.70.15-py310-none-any.whl (134 kB)\n",
            "\u001b[2K     \u001b[90m━━━━━━━━━━━━━━━━━━━━━━━━━━━━━━━━━━━━━━\u001b[0m \u001b[32m134.8/134.8 kB\u001b[0m \u001b[31m12.6 MB/s\u001b[0m eta \u001b[36m0:00:00\u001b[0m\n",
            "\u001b[?25hRequirement already satisfied: fsspec[http]>=2021.05.0 in /usr/local/lib/python3.10/dist-packages (from datasets==1.16.1) (2023.6.0)\n",
            "Requirement already satisfied: aiohttp in /usr/local/lib/python3.10/dist-packages (from datasets==1.16.1) (3.8.5)\n",
            "Requirement already satisfied: huggingface-hub<1.0.0,>=0.1.0 in /usr/local/lib/python3.10/dist-packages (from datasets==1.16.1) (0.16.4)\n",
            "Requirement already satisfied: packaging in /usr/local/lib/python3.10/dist-packages (from datasets==1.16.1) (23.1)\n",
            "Requirement already satisfied: attrs>=17.3.0 in /usr/local/lib/python3.10/dist-packages (from aiohttp->datasets==1.16.1) (23.1.0)\n",
            "Requirement already satisfied: charset-normalizer<4.0,>=2.0 in /usr/local/lib/python3.10/dist-packages (from aiohttp->datasets==1.16.1) (3.2.0)\n",
            "Requirement already satisfied: multidict<7.0,>=4.5 in /usr/local/lib/python3.10/dist-packages (from aiohttp->datasets==1.16.1) (6.0.4)\n",
            "Requirement already satisfied: async-timeout<5.0,>=4.0.0a3 in /usr/local/lib/python3.10/dist-packages (from aiohttp->datasets==1.16.1) (4.0.3)\n",
            "Requirement already satisfied: yarl<2.0,>=1.0 in /usr/local/lib/python3.10/dist-packages (from aiohttp->datasets==1.16.1) (1.9.2)\n",
            "Requirement already satisfied: frozenlist>=1.1.1 in /usr/local/lib/python3.10/dist-packages (from aiohttp->datasets==1.16.1) (1.4.0)\n",
            "Requirement already satisfied: aiosignal>=1.1.2 in /usr/local/lib/python3.10/dist-packages (from aiohttp->datasets==1.16.1) (1.3.1)\n",
            "Requirement already satisfied: filelock in /usr/local/lib/python3.10/dist-packages (from huggingface-hub<1.0.0,>=0.1.0->datasets==1.16.1) (3.12.2)\n",
            "Requirement already satisfied: pyyaml>=5.1 in /usr/local/lib/python3.10/dist-packages (from huggingface-hub<1.0.0,>=0.1.0->datasets==1.16.1) (6.0.1)\n",
            "Requirement already satisfied: typing-extensions>=3.7.4.3 in /usr/local/lib/python3.10/dist-packages (from huggingface-hub<1.0.0,>=0.1.0->datasets==1.16.1) (4.7.1)\n",
            "Requirement already satisfied: idna<4,>=2.5 in /usr/local/lib/python3.10/dist-packages (from requests>=2.19.0->datasets==1.16.1) (3.4)\n",
            "Requirement already satisfied: urllib3<3,>=1.21.1 in /usr/local/lib/python3.10/dist-packages (from requests>=2.19.0->datasets==1.16.1) (2.0.4)\n",
            "Requirement already satisfied: certifi>=2017.4.17 in /usr/local/lib/python3.10/dist-packages (from requests>=2.19.0->datasets==1.16.1) (2023.7.22)\n",
            "Requirement already satisfied: python-dateutil>=2.8.1 in /usr/local/lib/python3.10/dist-packages (from pandas->datasets==1.16.1) (2.8.2)\n",
            "Requirement already satisfied: pytz>=2020.1 in /usr/local/lib/python3.10/dist-packages (from pandas->datasets==1.16.1) (2023.3)\n",
            "Requirement already satisfied: six>=1.5 in /usr/local/lib/python3.10/dist-packages (from python-dateutil>=2.8.1->pandas->datasets==1.16.1) (1.16.0)\n",
            "Installing collected packages: xxhash, dill, multiprocess, datasets\n",
            "Successfully installed datasets-1.16.1 dill-0.3.7 multiprocess-0.70.15 xxhash-3.3.0\n",
            "Collecting accelerate\n",
            "  Downloading accelerate-0.22.0-py3-none-any.whl (251 kB)\n",
            "\u001b[2K     \u001b[90m━━━━━━━━━━━━━━━━━━━━━━━━━━━━━━━━━━━━━━━\u001b[0m \u001b[32m251.2/251.2 kB\u001b[0m \u001b[31m5.5 MB/s\u001b[0m eta \u001b[36m0:00:00\u001b[0m\n",
            "\u001b[?25hRequirement already satisfied: numpy>=1.17 in /usr/local/lib/python3.10/dist-packages (from accelerate) (1.23.5)\n",
            "Requirement already satisfied: packaging>=20.0 in /usr/local/lib/python3.10/dist-packages (from accelerate) (23.1)\n",
            "Requirement already satisfied: psutil in /usr/local/lib/python3.10/dist-packages (from accelerate) (5.9.5)\n",
            "Requirement already satisfied: pyyaml in /usr/local/lib/python3.10/dist-packages (from accelerate) (6.0.1)\n",
            "Requirement already satisfied: torch>=1.10.0 in /usr/local/lib/python3.10/dist-packages (from accelerate) (2.0.1+cu118)\n",
            "Requirement already satisfied: filelock in /usr/local/lib/python3.10/dist-packages (from torch>=1.10.0->accelerate) (3.12.2)\n",
            "Requirement already satisfied: typing-extensions in /usr/local/lib/python3.10/dist-packages (from torch>=1.10.0->accelerate) (4.7.1)\n",
            "Requirement already satisfied: sympy in /usr/local/lib/python3.10/dist-packages (from torch>=1.10.0->accelerate) (1.12)\n",
            "Requirement already satisfied: networkx in /usr/local/lib/python3.10/dist-packages (from torch>=1.10.0->accelerate) (3.1)\n",
            "Requirement already satisfied: jinja2 in /usr/local/lib/python3.10/dist-packages (from torch>=1.10.0->accelerate) (3.1.2)\n",
            "Requirement already satisfied: triton==2.0.0 in /usr/local/lib/python3.10/dist-packages (from torch>=1.10.0->accelerate) (2.0.0)\n",
            "Requirement already satisfied: cmake in /usr/local/lib/python3.10/dist-packages (from triton==2.0.0->torch>=1.10.0->accelerate) (3.27.2)\n",
            "Requirement already satisfied: lit in /usr/local/lib/python3.10/dist-packages (from triton==2.0.0->torch>=1.10.0->accelerate) (16.0.6)\n",
            "Requirement already satisfied: MarkupSafe>=2.0 in /usr/local/lib/python3.10/dist-packages (from jinja2->torch>=1.10.0->accelerate) (2.1.3)\n",
            "Requirement already satisfied: mpmath>=0.19 in /usr/local/lib/python3.10/dist-packages (from sympy->torch>=1.10.0->accelerate) (1.3.0)\n",
            "Installing collected packages: accelerate\n",
            "Successfully installed accelerate-0.22.0\n"
          ]
        }
      ],
      "source": [
        "#@title Install Depedencies\n",
        "!python --version\n",
        "!pip install transformers==4.18\n",
        "!pip install bitsandbytes\n",
        "!pip install datasets==1.16.1\n",
        "!pip install accelerate"
      ]
    },
    {
      "cell_type": "code",
      "source": [
        "from sklearn.model_selection import train_test_split\n",
        "\n",
        "import transformers\n",
        "\n",
        "import pandas as pd\n",
        "\n",
        "import torch\n",
        "import torch.nn.functional as F\n",
        "from torch import nn\n",
        "from torch.cuda.amp import custom_fwd, custom_bwd\n",
        "\n",
        "from bitsandbytes.functional import quantize_blockwise, dequantize_blockwise\n",
        "\n",
        "from tqdm.auto import tqdm"
      ],
      "metadata": {
        "id": "N65r0M2sm0F7"
      },
      "execution_count": 3,
      "outputs": []
    },
    {
      "cell_type": "code",
      "source": [
        "from google.colab import drive\n",
        "drive.mount(\"/content/drive\")"
      ],
      "metadata": {
        "colab": {
          "base_uri": "https://localhost:8080/"
        },
        "id": "zj2XdliNm0QI",
        "outputId": "46c3c7ba-cdee-45ed-aceb-b8bf5ed4dc4f"
      },
      "execution_count": 4,
      "outputs": [
        {
          "output_type": "stream",
          "name": "stdout",
          "text": [
            "Mounted at /content/drive\n"
          ]
        }
      ]
    },
    {
      "cell_type": "code",
      "source": [
        "class FrozenBNBLinear(nn.Module):\n",
        "    def __init__(self, weight, absmax, code, bias=None):\n",
        "        assert isinstance(bias, nn.Parameter) or bias is None\n",
        "        super().__init__()\n",
        "        self.out_features, self.in_features = weight.shape\n",
        "        self.register_buffer(\"weight\", weight.requires_grad_(False))\n",
        "        self.register_buffer(\"absmax\", absmax.requires_grad_(False))\n",
        "        self.register_buffer(\"code\", code.requires_grad_(False))\n",
        "        self.adapter = None\n",
        "        self.bias = bias\n",
        "\n",
        "    def forward(self, input):\n",
        "        output = DequantizeAndLinear.apply(input, self.weight, self.absmax, self.code, self.bias)\n",
        "        output_clone = output.clone()\n",
        "        if self.adapter:\n",
        "            output_clone += self.adapter(input)\n",
        "        return output_clone\n",
        "\n",
        "    @classmethod\n",
        "    def from_linear(cls, linear: nn.Linear) -> \"FrozenBNBLinear\":\n",
        "        weights_int8, state = quantize_blockise_lowmemory(linear.weight)\n",
        "        return cls(weights_int8, *state, linear.bias)\n",
        "\n",
        "    def __repr__(self):\n",
        "        return f\"{self.__class__.__name__}({self.in_features}, {self.out_features})\"\n",
        "\n",
        "\n",
        "class DequantizeAndLinear(torch.autograd.Function):\n",
        "    @staticmethod\n",
        "    @custom_fwd\n",
        "    def forward(ctx, input: torch.Tensor, weights_quantized: torch.ByteTensor,\n",
        "                absmax: torch.FloatTensor, code: torch.FloatTensor, bias: torch.FloatTensor):\n",
        "        weights_deq = dequantize_blockwise(weights_quantized, absmax=absmax, code=code)\n",
        "        ctx.save_for_backward(input, weights_quantized, absmax, code)\n",
        "        ctx._has_bias = bias is not None\n",
        "        return F.linear(input, weights_deq, bias)\n",
        "\n",
        "    @staticmethod\n",
        "    @custom_bwd\n",
        "    def backward(ctx, grad_output: torch.Tensor):\n",
        "        assert not ctx.needs_input_grad[1] and not ctx.needs_input_grad[2] and not ctx.needs_input_grad[3]\n",
        "        input, weights_quantized, absmax, code = ctx.saved_tensors\n",
        "        # grad_output: [*batch, out_features]\n",
        "        weights_deq = dequantize_blockwise(weights_quantized, absmax=absmax, code=code)\n",
        "        grad_input = grad_output @ weights_deq\n",
        "        grad_bias = grad_output.flatten(0, -2).sum(dim=0) if ctx._has_bias else None\n",
        "        return grad_input, None, None, None, grad_bias\n",
        "\n",
        "\n",
        "class FrozenBNBEmbedding(nn.Module):\n",
        "    def __init__(self, weight, absmax, code):\n",
        "        super().__init__()\n",
        "        self.num_embeddings, self.embedding_dim = weight.shape\n",
        "        self.register_buffer(\"weight\", weight.requires_grad_(False))\n",
        "        self.register_buffer(\"absmax\", absmax.requires_grad_(False))\n",
        "        self.register_buffer(\"code\", code.requires_grad_(False))\n",
        "        self.adapter = None\n",
        "\n",
        "    def forward(self, input, **kwargs):\n",
        "        with torch.no_grad():\n",
        "            # note: both quantuized weights and input indices are *not* differentiable\n",
        "            weight_deq = dequantize_blockwise(self.weight, absmax=self.absmax, code=self.code)\n",
        "            output = F.embedding(input, weight_deq, **kwargs)\n",
        "        if self.adapter:\n",
        "            output += self.adapter(input)\n",
        "        return output\n",
        "\n",
        "    @classmethod\n",
        "    def from_embedding(cls, embedding: nn.Embedding) -> \"FrozenBNBEmbedding\":\n",
        "        weights_int8, state = quantize_blockise_lowmemory(embedding.weight)\n",
        "        return cls(weights_int8, *state)\n",
        "\n",
        "    def __repr__(self):\n",
        "        return f\"{self.__class__.__name__}({self.num_embeddings}, {self.embedding_dim})\"\n",
        "\n",
        "\n",
        "def quantize_blockise_lowmemory(matrix: torch.Tensor, chunk_size: int = 2 ** 20):\n",
        "    assert chunk_size % 4096 == 0\n",
        "    code = None\n",
        "    chunks = []\n",
        "    absmaxes = []\n",
        "    flat_tensor = matrix.view(-1)\n",
        "    for i in range((matrix.numel() - 1) // chunk_size + 1):\n",
        "        input_chunk = flat_tensor[i * chunk_size: (i + 1) * chunk_size].clone()\n",
        "        quantized_chunk, (absmax_chunk, code) = quantize_blockwise(input_chunk, code=code)\n",
        "        chunks.append(quantized_chunk)\n",
        "        absmaxes.append(absmax_chunk)\n",
        "\n",
        "    matrix_i8 = torch.cat(chunks).reshape_as(matrix)\n",
        "    absmax = torch.cat(absmaxes)\n",
        "    return matrix_i8, (absmax, code)\n",
        "\n",
        "\n",
        "def convert_to_int8(model):\n",
        "    \"\"\"Convert linear and embedding modules to 8-bit with optional adapters\"\"\"\n",
        "    for module in list(model.modules()):\n",
        "        for name, child in module.named_children():\n",
        "            if isinstance(child, nn.Linear):\n",
        "                print(name, child)\n",
        "                setattr(\n",
        "                    module,\n",
        "                    name,\n",
        "                    FrozenBNBLinear(\n",
        "                        weight=torch.zeros(child.out_features, child.in_features, dtype=torch.uint8),\n",
        "                        absmax=torch.zeros((child.weight.numel() - 1) // 4096 + 1),\n",
        "                        code=torch.zeros(256),\n",
        "                        bias=child.bias,\n",
        "                    ),\n",
        "                )\n",
        "            elif isinstance(child, nn.Embedding):\n",
        "                setattr(\n",
        "                    module,\n",
        "                    name,\n",
        "                    FrozenBNBEmbedding(\n",
        "                        weight=torch.zeros(child.num_embeddings, child.embedding_dim, dtype=torch.uint8),\n",
        "                        absmax=torch.zeros((child.weight.numel() - 1) // 4096 + 1),\n",
        "                        code=torch.zeros(256),\n",
        "                    )\n",
        "                )"
      ],
      "metadata": {
        "id": "Bhe8ko0Ym0VY"
      },
      "execution_count": 5,
      "outputs": []
    },
    {
      "cell_type": "code",
      "source": [
        "class GPTJBlock(transformers.models.gptj.modeling_gptj.GPTJBlock):\n",
        "    def __init__(self, config):\n",
        "        super().__init__(config)\n",
        "\n",
        "        convert_to_int8(self.attn)\n",
        "        convert_to_int8(self.mlp)\n",
        "\n",
        "\n",
        "class GPTJModel(transformers.models.gptj.modeling_gptj.GPTJModel):\n",
        "    def __init__(self, config):\n",
        "        super().__init__(config)\n",
        "        convert_to_int8(self)\n",
        "\n",
        "\n",
        "class GPTJForCausalLM(transformers.models.gptj.modeling_gptj.GPTJForCausalLM):\n",
        "    def __init__(self, config):\n",
        "        super().__init__(config)\n",
        "        convert_to_int8(self)\n",
        "\n",
        "\n",
        "transformers.models.gptj.modeling_gptj.GPTJBlock = GPTJBlock"
      ],
      "metadata": {
        "id": "4NpLEbUVn92F"
      },
      "execution_count": 6,
      "outputs": []
    },
    {
      "cell_type": "code",
      "source": [
        "class T5ForConditionalGeneration(transformers.models.t5.modeling_t5.T5ForConditionalGeneration):\n",
        "    def __init__(self, config):\n",
        "        super().__init__(config)\n",
        "        # convert_to_int8(self)\n",
        "\n",
        "transformers.models.t5.modeling_t5.T5ForConditionalGeneration = T5ForConditionalGeneration"
      ],
      "metadata": {
        "id": "jIdmHaEQm0bp"
      },
      "execution_count": 7,
      "outputs": []
    },
    {
      "cell_type": "code",
      "source": [
        "config = transformers.GPTJConfig.from_pretrained(\"EleutherAI/gpt-j-6b\")\n",
        "tokenizer = transformers.AutoTokenizer.from_pretrained(\"EleutherAI/gpt-j-6b\")"
      ],
      "metadata": {
        "colab": {
          "base_uri": "https://localhost:8080/",
          "height": 241,
          "referenced_widgets": [
            "a97fa97720d746ae85014a1cf3344e18",
            "71802b86b93f40c59f6285c08837549f",
            "9b7d157f394d43189797cd5ea01904db",
            "7d99b9213d62463f90494cbf4b82724a",
            "a27e87e3a85049519cd2912711188de1",
            "b393dd98449f4ccdaea98fd60e3f60c5",
            "23d6ea6ef8714c5d88029b2c6bd2d3ab",
            "8e6e0ab69bb64faaaf9aad98d62fbcbe",
            "0fbd2cea6e104c0aacfffaa056aadbb2",
            "5be056183f35467d84be22c4cc4ac0f9",
            "3e8a1d75d941403ebcf824aa2ca85b8b",
            "9dcd4ae0b00c4b90971a428014b65843",
            "fbe02ccfd1e44f2b928dd01f70ab72f0",
            "0dc5e50a3a5149e8949329358bc0c774",
            "e31213fe34044504a35da7e1a3c7895a",
            "d19759d98af74b278c09eaed1a3bbbc8",
            "a62e7f7ac93842bd9ab1edfcaf7808f8",
            "9e23e29529464472b557e415732b42f8",
            "36e3e71ec55d4c3f87732f462913f1fb",
            "953bd96cf3a5483fbc563247953080e2",
            "7cc75c21953c4088a90c07140b96ce01",
            "ba1ab08d96844cacaf71edd889b25fb6",
            "aa3b51a4946244b1899033a2f66e2336",
            "1ca2d3f653a54740baa00122a99032ad",
            "37e2471baa694dc3bc375ae1dec94715",
            "c191818d9a3d4169b2f04640d28cd496",
            "2ec402dd112c478d9d9f17b4a4b6f982",
            "d4d70f7bdec74136b38dc3ed8bf568fe",
            "eca16ba21f144692a5d49f3e27db4098",
            "6d691ba42fb240a7b67d21ef8bf538ca",
            "c6d5820f9af145ef9db2bdba5bad166a",
            "1a90c69766c74b5da79ab336f4a27060",
            "ef5e7be0550e42539e2e597eb7c77d67",
            "d7f90b41e1964072b43ff26adb07b86c",
            "40382cdf9e3a4579a45d359fbbaa36ce",
            "f5f56b1359554745901c7d335ad00052",
            "6ff734b61e83423a956f8b7e34647010",
            "7aad97c5ea38440e8cbd5e06355150c3",
            "c8cc9a4b661544a4b0dcf454249f256a",
            "e6008157c5f241eba75eb2ad7217b1a7",
            "002780a964fd4278818b9ed6590b4164",
            "310768d7d8cf4654b7b345bcc9c17af8",
            "502d6f870e3d41528384340e8daf0f18",
            "bf132265009543a899d54d69c1787008",
            "c4c0edf6066944eaa4bcbeba46556ac7",
            "46195e18798441e4a4f03f3ad776da22",
            "0032f15a435e4202a3a94704db790707",
            "82ec472bfdcd4965b3630bea8079d2df",
            "ef30479ecda244ed8883d6e54182a210",
            "27eef1af3f604a388e66c00fafdbdce8",
            "a40c5c7fc2a6444fa9dea25d1970c926",
            "960b3df38662448fa424af289a0f1597",
            "5c0088dd1ade4cffa3fbc51b8490467b",
            "87687e1a6fa54332a6d7a3b31b0bf52b",
            "60e3cfe12ac14ecd8cdedc2ed8840950",
            "cf5ac303955d4d838f108679125515b6",
            "6fedc4ce862d46e38a69300f36680975",
            "bc5b0a720b4d427bbc8e08fbef5c412a",
            "329e20a67d2142a09bdada138044dea0",
            "584c67008c974238956fd1c2820c2e31",
            "b38f019c9de344fb9b63d419061051cb",
            "1057f8cec73a4e63a6bfa632f460a96e",
            "0f2050be06a143988093d44b401db978",
            "0cc4cb9965174a8f95200ea2733dc17b",
            "e56412a3abba4da59344b9095daad31b",
            "7d437f6e55ad4e818edb9b09007770d6",
            "0c052fe1880e4ac6b0a2a50b7cff8d40",
            "59d518468e054ef8adb20e115892827b",
            "d9e24e208aaa42e89d3dbade324b66f4",
            "b9bba4c064b04211930dd790672c79bf",
            "0eb9d9b2532c4fd6a7dced63a7ec43c9",
            "c79007224c9643b1a344f0728342070f",
            "25d71674406f40fba7e2ad9f4e74dce9",
            "2f4a988b59e4477d97ec31ffbd2e9e6b",
            "0243ebbe1be140838fe9814c0bbb7809",
            "1600008ac57a457882c5d3049e4b6d3b",
            "fdd3f7e8d79d4032ad76cd63a32279e9"
          ]
        },
        "id": "JbG50zx3UDtC",
        "outputId": "5abc69c9-2ee9-4001-ba5e-71d246902a72"
      },
      "execution_count": 8,
      "outputs": [
        {
          "output_type": "display_data",
          "data": {
            "text/plain": [
              "Downloading:   0%|          | 0.00/930 [00:00<?, ?B/s]"
            ],
            "application/vnd.jupyter.widget-view+json": {
              "version_major": 2,
              "version_minor": 0,
              "model_id": "a97fa97720d746ae85014a1cf3344e18"
            }
          },
          "metadata": {}
        },
        {
          "output_type": "display_data",
          "data": {
            "text/plain": [
              "Downloading:   0%|          | 0.00/619 [00:00<?, ?B/s]"
            ],
            "application/vnd.jupyter.widget-view+json": {
              "version_major": 2,
              "version_minor": 0,
              "model_id": "9dcd4ae0b00c4b90971a428014b65843"
            }
          },
          "metadata": {}
        },
        {
          "output_type": "display_data",
          "data": {
            "text/plain": [
              "Downloading:   0%|          | 0.00/779k [00:00<?, ?B/s]"
            ],
            "application/vnd.jupyter.widget-view+json": {
              "version_major": 2,
              "version_minor": 0,
              "model_id": "aa3b51a4946244b1899033a2f66e2336"
            }
          },
          "metadata": {}
        },
        {
          "output_type": "display_data",
          "data": {
            "text/plain": [
              "Downloading:   0%|          | 0.00/446k [00:00<?, ?B/s]"
            ],
            "application/vnd.jupyter.widget-view+json": {
              "version_major": 2,
              "version_minor": 0,
              "model_id": "d7f90b41e1964072b43ff26adb07b86c"
            }
          },
          "metadata": {}
        },
        {
          "output_type": "display_data",
          "data": {
            "text/plain": [
              "Downloading:   0%|          | 0.00/1.31M [00:00<?, ?B/s]"
            ],
            "application/vnd.jupyter.widget-view+json": {
              "version_major": 2,
              "version_minor": 0,
              "model_id": "c4c0edf6066944eaa4bcbeba46556ac7"
            }
          },
          "metadata": {}
        },
        {
          "output_type": "display_data",
          "data": {
            "text/plain": [
              "Downloading:   0%|          | 0.00/3.94k [00:00<?, ?B/s]"
            ],
            "application/vnd.jupyter.widget-view+json": {
              "version_major": 2,
              "version_minor": 0,
              "model_id": "cf5ac303955d4d838f108679125515b6"
            }
          },
          "metadata": {}
        },
        {
          "output_type": "display_data",
          "data": {
            "text/plain": [
              "Downloading:   0%|          | 0.00/357 [00:00<?, ?B/s]"
            ],
            "application/vnd.jupyter.widget-view+json": {
              "version_major": 2,
              "version_minor": 0,
              "model_id": "0c052fe1880e4ac6b0a2a50b7cff8d40"
            }
          },
          "metadata": {}
        }
      ]
    },
    {
      "cell_type": "code",
      "source": [
        "config.pad_token_id = config.eos_token_id\n",
        "tokenizer.pad_token = config.pad_token_id"
      ],
      "metadata": {
        "id": "_jNu0wqSUHLD"
      },
      "execution_count": 9,
      "outputs": []
    },
    {
      "cell_type": "code",
      "source": [
        "gpt = GPTJForCausalLM.from_pretrained(\"hivemind/gpt-j-6B-8bit\", low_cpu_mem_usage=True)"
      ],
      "metadata": {
        "colab": {
          "base_uri": "https://localhost:8080/",
          "height": 1000,
          "referenced_widgets": [
            "17ae860e9f474cdbb17756fa8c5f17fb",
            "a79f948797c94c4c8d8018922e116558",
            "4b75975a20464e72877818d4908e1ebe",
            "397b93fdfc204be59ab5d9dce6c57fc3",
            "bb2b63cf77df44cf885ecd377628ced6",
            "542981591fa847829db3081483b41f5b",
            "eb407742d5ab4686b10558f32d1a7517",
            "cbd26656034a492fa011f66cab670b9a",
            "2c2111c4da6343bb9d562685eb4cb097",
            "981ec643c0c844c4b94eb94e4050f549",
            "955e735b4dc5485cb9dab29a55e42b78",
            "1552f07c39f04cfb94307b59e8c94e75",
            "2b5f7ccb08084ce98a52fab5b6d6b062",
            "9ab478afa3bf4d8f87a9ce2990c23f83",
            "5a15955e1aac475b9d11e518bbf2fa8d",
            "443f319f816a422ab89b079c004aeed1",
            "71cd5a62af8047b5a1a7d9f1f2ad85e2",
            "812617ac1eeb42deafac190f93d6df39",
            "b4b613632fbc4494ae6e842db1583742",
            "bc42cdf19df6400f8b468ef7ba2b14a2",
            "fd29a64fdb8d4be18273e7d8f3e3f9e5",
            "e5957e77f6fa4de2a4d308816354272e"
          ]
        },
        "id": "Bgs9xKkmULDa",
        "outputId": "8ddfefa1-fce9-4591-e470-57b0453b2b95"
      },
      "execution_count": 10,
      "outputs": [
        {
          "output_type": "display_data",
          "data": {
            "text/plain": [
              "Downloading:   0%|          | 0.00/1.00k [00:00<?, ?B/s]"
            ],
            "application/vnd.jupyter.widget-view+json": {
              "version_major": 2,
              "version_minor": 0,
              "model_id": "17ae860e9f474cdbb17756fa8c5f17fb"
            }
          },
          "metadata": {}
        },
        {
          "output_type": "display_data",
          "data": {
            "text/plain": [
              "Downloading:   0%|          | 0.00/5.75G [00:00<?, ?B/s]"
            ],
            "application/vnd.jupyter.widget-view+json": {
              "version_major": 2,
              "version_minor": 0,
              "model_id": "1552f07c39f04cfb94307b59e8c94e75"
            }
          },
          "metadata": {}
        },
        {
          "output_type": "stream",
          "name": "stdout",
          "text": [
            "k_proj Linear(in_features=4096, out_features=4096, bias=False)\n",
            "v_proj Linear(in_features=4096, out_features=4096, bias=False)\n",
            "q_proj Linear(in_features=4096, out_features=4096, bias=False)\n",
            "out_proj Linear(in_features=4096, out_features=4096, bias=False)\n",
            "fc_in Linear(in_features=4096, out_features=16384, bias=True)\n",
            "fc_out Linear(in_features=16384, out_features=4096, bias=True)\n",
            "k_proj Linear(in_features=4096, out_features=4096, bias=False)\n",
            "v_proj Linear(in_features=4096, out_features=4096, bias=False)\n",
            "q_proj Linear(in_features=4096, out_features=4096, bias=False)\n",
            "out_proj Linear(in_features=4096, out_features=4096, bias=False)\n",
            "fc_in Linear(in_features=4096, out_features=16384, bias=True)\n",
            "fc_out Linear(in_features=16384, out_features=4096, bias=True)\n",
            "k_proj Linear(in_features=4096, out_features=4096, bias=False)\n",
            "v_proj Linear(in_features=4096, out_features=4096, bias=False)\n",
            "q_proj Linear(in_features=4096, out_features=4096, bias=False)\n",
            "out_proj Linear(in_features=4096, out_features=4096, bias=False)\n",
            "fc_in Linear(in_features=4096, out_features=16384, bias=True)\n",
            "fc_out Linear(in_features=16384, out_features=4096, bias=True)\n",
            "k_proj Linear(in_features=4096, out_features=4096, bias=False)\n",
            "v_proj Linear(in_features=4096, out_features=4096, bias=False)\n",
            "q_proj Linear(in_features=4096, out_features=4096, bias=False)\n",
            "out_proj Linear(in_features=4096, out_features=4096, bias=False)\n",
            "fc_in Linear(in_features=4096, out_features=16384, bias=True)\n",
            "fc_out Linear(in_features=16384, out_features=4096, bias=True)\n",
            "k_proj Linear(in_features=4096, out_features=4096, bias=False)\n",
            "v_proj Linear(in_features=4096, out_features=4096, bias=False)\n",
            "q_proj Linear(in_features=4096, out_features=4096, bias=False)\n",
            "out_proj Linear(in_features=4096, out_features=4096, bias=False)\n",
            "fc_in Linear(in_features=4096, out_features=16384, bias=True)\n",
            "fc_out Linear(in_features=16384, out_features=4096, bias=True)\n",
            "k_proj Linear(in_features=4096, out_features=4096, bias=False)\n",
            "v_proj Linear(in_features=4096, out_features=4096, bias=False)\n",
            "q_proj Linear(in_features=4096, out_features=4096, bias=False)\n",
            "out_proj Linear(in_features=4096, out_features=4096, bias=False)\n",
            "fc_in Linear(in_features=4096, out_features=16384, bias=True)\n",
            "fc_out Linear(in_features=16384, out_features=4096, bias=True)\n",
            "k_proj Linear(in_features=4096, out_features=4096, bias=False)\n",
            "v_proj Linear(in_features=4096, out_features=4096, bias=False)\n",
            "q_proj Linear(in_features=4096, out_features=4096, bias=False)\n",
            "out_proj Linear(in_features=4096, out_features=4096, bias=False)\n",
            "fc_in Linear(in_features=4096, out_features=16384, bias=True)\n",
            "fc_out Linear(in_features=16384, out_features=4096, bias=True)\n",
            "k_proj Linear(in_features=4096, out_features=4096, bias=False)\n",
            "v_proj Linear(in_features=4096, out_features=4096, bias=False)\n",
            "q_proj Linear(in_features=4096, out_features=4096, bias=False)\n",
            "out_proj Linear(in_features=4096, out_features=4096, bias=False)\n",
            "fc_in Linear(in_features=4096, out_features=16384, bias=True)\n",
            "fc_out Linear(in_features=16384, out_features=4096, bias=True)\n",
            "k_proj Linear(in_features=4096, out_features=4096, bias=False)\n",
            "v_proj Linear(in_features=4096, out_features=4096, bias=False)\n",
            "q_proj Linear(in_features=4096, out_features=4096, bias=False)\n",
            "out_proj Linear(in_features=4096, out_features=4096, bias=False)\n",
            "fc_in Linear(in_features=4096, out_features=16384, bias=True)\n",
            "fc_out Linear(in_features=16384, out_features=4096, bias=True)\n",
            "k_proj Linear(in_features=4096, out_features=4096, bias=False)\n",
            "v_proj Linear(in_features=4096, out_features=4096, bias=False)\n",
            "q_proj Linear(in_features=4096, out_features=4096, bias=False)\n",
            "out_proj Linear(in_features=4096, out_features=4096, bias=False)\n",
            "fc_in Linear(in_features=4096, out_features=16384, bias=True)\n",
            "fc_out Linear(in_features=16384, out_features=4096, bias=True)\n",
            "k_proj Linear(in_features=4096, out_features=4096, bias=False)\n",
            "v_proj Linear(in_features=4096, out_features=4096, bias=False)\n",
            "q_proj Linear(in_features=4096, out_features=4096, bias=False)\n",
            "out_proj Linear(in_features=4096, out_features=4096, bias=False)\n",
            "fc_in Linear(in_features=4096, out_features=16384, bias=True)\n",
            "fc_out Linear(in_features=16384, out_features=4096, bias=True)\n",
            "k_proj Linear(in_features=4096, out_features=4096, bias=False)\n",
            "v_proj Linear(in_features=4096, out_features=4096, bias=False)\n",
            "q_proj Linear(in_features=4096, out_features=4096, bias=False)\n",
            "out_proj Linear(in_features=4096, out_features=4096, bias=False)\n",
            "fc_in Linear(in_features=4096, out_features=16384, bias=True)\n",
            "fc_out Linear(in_features=16384, out_features=4096, bias=True)\n",
            "k_proj Linear(in_features=4096, out_features=4096, bias=False)\n",
            "v_proj Linear(in_features=4096, out_features=4096, bias=False)\n",
            "q_proj Linear(in_features=4096, out_features=4096, bias=False)\n",
            "out_proj Linear(in_features=4096, out_features=4096, bias=False)\n",
            "fc_in Linear(in_features=4096, out_features=16384, bias=True)\n",
            "fc_out Linear(in_features=16384, out_features=4096, bias=True)\n",
            "k_proj Linear(in_features=4096, out_features=4096, bias=False)\n",
            "v_proj Linear(in_features=4096, out_features=4096, bias=False)\n",
            "q_proj Linear(in_features=4096, out_features=4096, bias=False)\n",
            "out_proj Linear(in_features=4096, out_features=4096, bias=False)\n",
            "fc_in Linear(in_features=4096, out_features=16384, bias=True)\n",
            "fc_out Linear(in_features=16384, out_features=4096, bias=True)\n",
            "k_proj Linear(in_features=4096, out_features=4096, bias=False)\n",
            "v_proj Linear(in_features=4096, out_features=4096, bias=False)\n",
            "q_proj Linear(in_features=4096, out_features=4096, bias=False)\n",
            "out_proj Linear(in_features=4096, out_features=4096, bias=False)\n",
            "fc_in Linear(in_features=4096, out_features=16384, bias=True)\n",
            "fc_out Linear(in_features=16384, out_features=4096, bias=True)\n",
            "k_proj Linear(in_features=4096, out_features=4096, bias=False)\n",
            "v_proj Linear(in_features=4096, out_features=4096, bias=False)\n",
            "q_proj Linear(in_features=4096, out_features=4096, bias=False)\n",
            "out_proj Linear(in_features=4096, out_features=4096, bias=False)\n",
            "fc_in Linear(in_features=4096, out_features=16384, bias=True)\n",
            "fc_out Linear(in_features=16384, out_features=4096, bias=True)\n",
            "k_proj Linear(in_features=4096, out_features=4096, bias=False)\n",
            "v_proj Linear(in_features=4096, out_features=4096, bias=False)\n",
            "q_proj Linear(in_features=4096, out_features=4096, bias=False)\n",
            "out_proj Linear(in_features=4096, out_features=4096, bias=False)\n",
            "fc_in Linear(in_features=4096, out_features=16384, bias=True)\n",
            "fc_out Linear(in_features=16384, out_features=4096, bias=True)\n",
            "k_proj Linear(in_features=4096, out_features=4096, bias=False)\n",
            "v_proj Linear(in_features=4096, out_features=4096, bias=False)\n",
            "q_proj Linear(in_features=4096, out_features=4096, bias=False)\n",
            "out_proj Linear(in_features=4096, out_features=4096, bias=False)\n",
            "fc_in Linear(in_features=4096, out_features=16384, bias=True)\n",
            "fc_out Linear(in_features=16384, out_features=4096, bias=True)\n",
            "k_proj Linear(in_features=4096, out_features=4096, bias=False)\n",
            "v_proj Linear(in_features=4096, out_features=4096, bias=False)\n",
            "q_proj Linear(in_features=4096, out_features=4096, bias=False)\n",
            "out_proj Linear(in_features=4096, out_features=4096, bias=False)\n",
            "fc_in Linear(in_features=4096, out_features=16384, bias=True)\n",
            "fc_out Linear(in_features=16384, out_features=4096, bias=True)\n",
            "k_proj Linear(in_features=4096, out_features=4096, bias=False)\n",
            "v_proj Linear(in_features=4096, out_features=4096, bias=False)\n",
            "q_proj Linear(in_features=4096, out_features=4096, bias=False)\n",
            "out_proj Linear(in_features=4096, out_features=4096, bias=False)\n",
            "fc_in Linear(in_features=4096, out_features=16384, bias=True)\n",
            "fc_out Linear(in_features=16384, out_features=4096, bias=True)\n",
            "k_proj Linear(in_features=4096, out_features=4096, bias=False)\n",
            "v_proj Linear(in_features=4096, out_features=4096, bias=False)\n",
            "q_proj Linear(in_features=4096, out_features=4096, bias=False)\n",
            "out_proj Linear(in_features=4096, out_features=4096, bias=False)\n",
            "fc_in Linear(in_features=4096, out_features=16384, bias=True)\n",
            "fc_out Linear(in_features=16384, out_features=4096, bias=True)\n",
            "k_proj Linear(in_features=4096, out_features=4096, bias=False)\n",
            "v_proj Linear(in_features=4096, out_features=4096, bias=False)\n",
            "q_proj Linear(in_features=4096, out_features=4096, bias=False)\n",
            "out_proj Linear(in_features=4096, out_features=4096, bias=False)\n",
            "fc_in Linear(in_features=4096, out_features=16384, bias=True)\n",
            "fc_out Linear(in_features=16384, out_features=4096, bias=True)\n",
            "k_proj Linear(in_features=4096, out_features=4096, bias=False)\n",
            "v_proj Linear(in_features=4096, out_features=4096, bias=False)\n",
            "q_proj Linear(in_features=4096, out_features=4096, bias=False)\n",
            "out_proj Linear(in_features=4096, out_features=4096, bias=False)\n",
            "fc_in Linear(in_features=4096, out_features=16384, bias=True)\n",
            "fc_out Linear(in_features=16384, out_features=4096, bias=True)\n",
            "k_proj Linear(in_features=4096, out_features=4096, bias=False)\n",
            "v_proj Linear(in_features=4096, out_features=4096, bias=False)\n",
            "q_proj Linear(in_features=4096, out_features=4096, bias=False)\n",
            "out_proj Linear(in_features=4096, out_features=4096, bias=False)\n",
            "fc_in Linear(in_features=4096, out_features=16384, bias=True)\n",
            "fc_out Linear(in_features=16384, out_features=4096, bias=True)\n",
            "k_proj Linear(in_features=4096, out_features=4096, bias=False)\n",
            "v_proj Linear(in_features=4096, out_features=4096, bias=False)\n",
            "q_proj Linear(in_features=4096, out_features=4096, bias=False)\n",
            "out_proj Linear(in_features=4096, out_features=4096, bias=False)\n",
            "fc_in Linear(in_features=4096, out_features=16384, bias=True)\n",
            "fc_out Linear(in_features=16384, out_features=4096, bias=True)\n",
            "k_proj Linear(in_features=4096, out_features=4096, bias=False)\n",
            "v_proj Linear(in_features=4096, out_features=4096, bias=False)\n",
            "q_proj Linear(in_features=4096, out_features=4096, bias=False)\n",
            "out_proj Linear(in_features=4096, out_features=4096, bias=False)\n",
            "fc_in Linear(in_features=4096, out_features=16384, bias=True)\n",
            "fc_out Linear(in_features=16384, out_features=4096, bias=True)\n",
            "k_proj Linear(in_features=4096, out_features=4096, bias=False)\n",
            "v_proj Linear(in_features=4096, out_features=4096, bias=False)\n",
            "q_proj Linear(in_features=4096, out_features=4096, bias=False)\n",
            "out_proj Linear(in_features=4096, out_features=4096, bias=False)\n",
            "fc_in Linear(in_features=4096, out_features=16384, bias=True)\n",
            "fc_out Linear(in_features=16384, out_features=4096, bias=True)\n",
            "k_proj Linear(in_features=4096, out_features=4096, bias=False)\n",
            "v_proj Linear(in_features=4096, out_features=4096, bias=False)\n",
            "q_proj Linear(in_features=4096, out_features=4096, bias=False)\n",
            "out_proj Linear(in_features=4096, out_features=4096, bias=False)\n",
            "fc_in Linear(in_features=4096, out_features=16384, bias=True)\n",
            "fc_out Linear(in_features=16384, out_features=4096, bias=True)\n",
            "lm_head Linear(in_features=4096, out_features=50400, bias=True)\n"
          ]
        }
      ]
    },
    {
      "cell_type": "code",
      "source": [
        "import json\n",
        "\n",
        "f = open('train.json')\n",
        "\n",
        "data = json.load(f)\n",
        "array = {'Prompt':[]}\n",
        "for i in data:\n",
        "    if 'bot_reply' not in i:\n",
        "        array['Prompt'].append('prompt:' + i['prompt'] + ',commands:' + i['completion'])\n",
        "    else:\n",
        "        array['Prompt'].append('commands:' + i['commands'] + ',bot_reply:' + i['bot_reply'])\n",
        "\n",
        "dataset = pd.DataFrame.from_dict(array)\n",
        "dataset.to_csv('/content/train_data.csv', index=False)\n",
        "\n",
        "print(array['Prompt'])\n",
        "# print(len(array['Prompt']))"
      ],
      "metadata": {
        "colab": {
          "base_uri": "https://localhost:8080/"
        },
        "id": "rchC7vSyUw8A",
        "outputId": "a6d31306-0115-4c24-bae5-2fb4929e0936"
      },
      "execution_count": 11,
      "outputs": [
        {
          "output_type": "stream",
          "name": "stdout",
          "text": [
            "['prompt:Berikan daftar interface yang ada di Router A,commands:[Router A] show interfaces [eoc]', 'prompt:Saya membutuhkan informasi tentang semua interface di Router A,commands:[Router A] show interfaces [eoc]', 'prompt:Tunjukkan daftar semua interface yang tersedia di Router A,commands:[Router A] show interfaces [eoc]', 'prompt:Beri saya daftar semua antarmuka yang terhubung ke Router A,commands:[Router A] show interfaces [eoc]', 'prompt:Saya ingin melihat daftar interface di Router B,commands:[Router B] show interfaces [eoc]', 'prompt:Tolong berikan informasi tentang semua interface yang tersedia di Router B,commands:[Router B] show interfaces [eoc]', 'prompt:Tunjukkan saya daftar semua antarmuka di Router B,commands:[Router B] show interfaces [eoc]', 'prompt:Berikan daftar semua antarmuka yang terhubung ke Router C,commands:[Router C] show interfaces [eoc]', 'prompt:Saya memerlukan informasi tentang semua interface di Router C,commands:[Router C] show interfaces [eoc]', 'prompt:Tunjukkan semua interface yang tersedia di Router C,commands:[Router C] show interfaces [eoc]', 'prompt:Beri saya daftar semua antarmuka yang terhubung ke Router D,commands:[Router D] show interfaces [eoc]', 'prompt:Mohon informasi tentang semua interface di Router D,commands:[Router D] show interfaces [eoc]', 'prompt:Tolong tunjukkan daftar semua antarmuka di Router D,commands:[Router D] show interfaces [eoc]', 'prompt:Berikan daftar semua antarmuka yang terhubung ke Router internal,commands:[Router internal] show interfaces [eoc]', 'prompt:Saya membutuhkan informasi tentang semua interface di Router external,commands:[Router external] show interfaces [eoc]', 'prompt:Tolong tunjukkan daftar semua antarmuka di Router R1,commands:[Router R1] show interfaces [eoc]', 'prompt:Mohon berikan daftar semua antarmuka yang terhubung ke Router R2,commands:[Router R2] show interfaces [eoc]', 'prompt:Tolong berikan daftar interface untuk Router B Interface G0/0/0,commands:[Router B] show interface g0/0/0 [eoc]', 'prompt:Tunjukkan daftar interface yang tersedia di Router A Interface F0/0,commands:[Router A] show interface f0/0 [eoc]', 'prompt:Berikan daftar semua interface yang terhubung ke Router A Interface F0/1,commands:[Router A] show interface f0/1 [eoc]', 'prompt:Saya membutuhkan informasi tentang antarmuka F1/0 di Router A,commands:[Router A] show interface f1/0 [eoc]', 'prompt:Berikan daftar semua interface untuk Router B G0/1/1,commands:[Router B] show interface g0/1/1 [eoc]', 'prompt:Tolong tunjukkan daftar interface yang tersedia di Router B Interface G1/1/1,commands:[Router B] show interface g1/1/1 [eoc]', 'prompt:Beri saya daftar semua antarmuka yang tersedia di Router C F0/1,commands:[Router C] show interface f0/1 [eoc]', 'prompt:Saya membutuhkan informasi tentang interface G1/0/0 di Router R1,commands:[Router R1] show interface g1/0/0 [eoc]', 'prompt:Tunjukkan daftar semua interface yang terhubung ke Router R2 Interface G0/0/0,commands:[Router R2] show interface g0/0/0 [eoc]', 'prompt:Berikan daftar semua interface untuk Router R2 G0/0/1,commands:[Router R2] show interface g0/0/1 [eoc]', 'prompt:Tolong berikan daftar interface untuk Router R1 Interface F0/1,commands:[Router R1] show interface f0/1 [eoc]', 'prompt:Tolong ubah IP di Router C Interface X menjadi 192.168.1.1,commands:[Router C] configure terminal\\ninterface X\\nip address 192.168.1.1 255.255.255.0\\nend [eoc]', 'prompt:Ubah IP di Router A Interface G0/0/1 menjadi 10.0.0.1,commands:[Router A] configure terminal\\ninterface G0/0/1\\nip address 10.0.0.1 255.255.255.0\\nend [eoc]', 'prompt:Ubah IP di Router B Interface F0/1 menjadi 172.16.0.1,commands:[Router B] configure terminal\\ninterface F0/1\\nip address 172.16.0.1 255.255.255.0\\nend [eoc]', 'prompt:Tolong ubah IP di Internal Router Interface G1/0/0 menjadi 192.168.2.1,commands:[Internal Router] configure terminal\\ninterface G1/0/0\\nip address 192.168.2.1 255.255.255.0\\nend [eoc]', 'prompt:Saya butuh bantuan untuk mengubah IP di External Router Interface F1/0 menjadi 10.1.1.1,commands:[External Router] configure terminal\\ninterface F1/0\\nip address 10.1.1.1 255.255.255.0\\nend [eoc]', 'prompt:Mohon bantu untuk mengganti IP di R1 Interface G0/0/0 menjadi 192.168.3.1,commands:[Router R1] configure terminal\\ninterface G0/0/0\\nip address 192.168.3.1 255.255.255.0\\nend [eoc]', 'prompt:Mohon bantu untuk mengubah IP di Router D Interface F0/1 menjadi 172.16.10.1,commands:[Router D] configure terminal\\ninterface F0/1\\nip address 172.16.10.1 255.255.255.0\\nend [eoc]', 'prompt:Tolong ubah IP di Router E Interface G0/0 menjadi 192.168.5.1,commands:[Router E] configure terminal\\ninterface G0/0\\nip address 192.168.5.1 255.255.255.0\\nend [eoc]', 'prompt:Berikan bantuan untuk mengganti IP di Router F Interface F1/0 menjadi 10.1.2.1,commands:[Router F] configure terminal\\ninterface F1/0\\nip address 10.1.2.1 255.255.255.0\\nend [eoc]', 'prompt:Ubah IP di Router G Interface G0/0/1 menjadi 10.0.1.1,commands:[Router G] configure terminal\\ninterface G0/0/1\\nip address 10.0.1.1 255.255.255.0\\nend [eoc]', 'prompt:Mohon bantu untuk mengubah IP di R2 Interface F0/0 menjadi 192.168.4.1,commands:[Router R2] configure terminal\\ninterface F0/0\\nip address 192.168.4.1 255.255.255.0\\nend [eoc]', 'prompt:Tolong tambahkan kunci enkripsi ke Router D,commands:[Router D] configure terminal\\ncrypto key generate rsa\\nend [eoc]', 'prompt:Mohon tambahkan kunci enkripsi ke Router E,commands:[Router E] configure terminal\\ncrypto key generate rsa\\nend [eoc]', 'prompt:Tolong buat kunci enkripsi di Router F,commands:[Router F] configure terminal\\ncrypto key generate rsa\\nend [eoc]', 'prompt:Mohon tambahkan kunci enkripsi ke Router G,commands:[Router G] configure terminal\\ncrypto key generate rsa\\nend [eoc]', 'prompt:Tolong aktifkan enkripsi di Router H,commands:[Router H] configure terminal\\nservice password-encryption\\nend [eoc]', 'prompt:Mohon bantu untuk menambahkan kunci enkripsi di R1,commands:[Router R1] configure terminal\\ncrypto key generate rsa\\nend [eoc]', 'prompt:Saya ingin melihat daftar semua antarmuka di Router D,commands:[Router D] show interfaces [eoc]', 'prompt:Tunjukkan semua interface yang terhubung ke Router external,commands:[Router external] show interfaces [eoc]', 'prompt:Beri saya daftar semua antarmuka yang terhubung ke Router internal,commands:[Router internal] show interfaces [eoc]', 'prompt:Bagaimana cara mengkonfigurasi OSPF pada Router A?,commands:[Router A] router ospf 1\\nnetwork 10.0.0.0 0.255.255.255 area 0\\nend [eoc]', \"prompt:Berikan contoh penggunaan perintah 'ping' pada Router B,commands:[Router B] ping 10.0.0.1 [eoc]\", 'prompt:Bagaimana cara mengubah hostname pada Router C?,commands:[Router C] configure terminal\\nhostname NewHostName\\nend [eoc]', 'prompt:Saya ingin mengecek routing table pada Router A,commands:[Router A] show ip route [eoc]', 'prompt:Bagaimana cara mengkonfigurasi VLAN pada Switch A?,commands:[Switch A] vlan 10\\nname Sales\\nend [eoc]', 'prompt:Tolong buatkan ACL untuk memblokir akses ke situs web tertentu pada Router D,commands:[Router D] configure terminal\\naccess-list 101 deny tcp any host 192.168.1.2 eq 80\\naccess-list 101 permit ip any any\\ninterface gigabitEthernet 0/0\\nip access-group 101 in\\nend [eoc]', 'prompt:Bagaimana cara menampilkan port yang sedang aktif pada Switch B?,commands:[Switch B] show interface status [eoc]', 'prompt:Saya ingin mengkonfigurasi DHCP pada Router internal,commands:[Internal Router] configure terminal\\ndhcp pool InternalPool\\nnetwork 192.168.0.0 255.255.255.0\\ndefault-router 192.168.0.1\\nend [eoc]', 'prompt:Bagaimana cara menampilkan MAC address table pada Switch C?,commands:[Switch C] show mac-address-table [eoc]', 'prompt:Saya ingin mengkonfigurasi NAT pada Router external,commands:[Router external] configure terminal\\ninterface gigabitEthernet 0/0\\nip nat outside\\ninterface gigabitEthernet 0/1\\nip nat inside\\nip nat inside source list 1 interface gigabitEthernet 0/0 overload\\naccess-list 1 permit 192.168.0.0 0.0.255.255\\nend [eoc]', 'prompt:Bagaimana cara menampilkan log yang tersimpan pada Router R1?,commands:[Router R1] show logging [eoc]', 'prompt:Saya ingin memeriksa status koneksi pada Router R2,commands:[Router R2] show interfaces brief [eoc]', 'prompt:Bagaimana cara mengkonfigurasi trunking pada Switch D?,commands:[Switch D] interface gigabitEthernet 0/0\\nswitchport mode trunk\\nend [eoc]', 'prompt:Tolong buatkan static route pada Router internal untuk mengakses subnet 172.16.0.0/24 melalui Router A,commands:[Internal Router] ip route 172.16.0.0 255.255.255.0 10.0.0.2 [eoc]', 'prompt:Bagaimana cara menghapus VLAN yang tidak dibutuhkan pada Switch E?,commands:[Switch E] configure terminal\\nno vlan 10\\nend [eoc]', 'prompt:Saya ingin menampilkan informasi tentang status port pada Switch F,commands:[Switch F] show interface gigabitEthernet 0/1 [eoc]', 'prompt:Tunjukkan daftar konfigurasi yang ada di Router A,commands:[Router A] show running-config [eoc]', 'prompt:Beri saya daftar semua konfigurasi di Router A,commands:[Router A] show running-config [eoc]', 'prompt:Saya ingin melihat konfigurasi di Router B,commands:[Router B] show running-config [eoc]', 'prompt:Tolong berikan daftar semua konfigurasi di Router B,commands:[Router B] show running-config [eoc]', 'prompt:Berikan daftar semua konfigurasi di Router C,commands:[Router C] show running-config [eoc]', 'prompt:Saya memerlukan informasi tentang konfigurasi di Router C,commands:[Router C] show running-config [eoc]', 'prompt:Tunjukkan semua konfigurasi di Router D,commands:[Router D] show running-config [eoc]', 'prompt:Berikan daftar semua konfigurasi di Router internal,commands:[Router internal] show running-config [eoc]', 'prompt:Saya membutuhkan informasi tentang semua konfigurasi di Router external,commands:[Router external] show running-config [eoc]', 'prompt:Tolong tunjukkan daftar semua konfigurasi di Router R1,commands:[Router R1] show running-config [eoc]', 'prompt:Mohon berikan daftar semua konfigurasi di Router R2,commands:[Router R2] show running-config [eoc]', 'prompt:Tunjukkan daftar konfigurasi untuk Router B Interface G0/0/0,commands:[Router B] show running-config interface g0/0/0 [eoc]', 'prompt:Berikan konfigurasi untuk Router A Interface F0/0,commands:[Router A] show running-config interface f0/0 [eoc]', 'prompt:Saya membutuhkan informasi tentang konfigurasi di Router A Interface F0/1,commands:[Router A] show running-config interface f0/1 [eoc]', 'prompt:Tolong berikan konfigurasi untuk interface F1/0 di Router A,commands:[Router A] show running-config interface f1/0 [eoc]', 'prompt:Berikan konfigurasi untuk Router B G0/1/1,commands:[Router B] show running-config interface g0/1/1 [eoc]', 'prompt:Tunjukkan daftar konfigurasi yang terhubung ke Router B Interface G1/1/1,commands:[Router B] show running-config interface g1/1/1 [eoc]', 'prompt:Beri saya konfigurasi semua antarmuka yang tersedia di Router C F0/1,commands:[Router C] show running-config interface f0/1 [eoc]', 'prompt:Saya membutuhkan informasi tentang konfigurasi di interface G1/0/0 di Router R1,commands:[Router R1] show running-config interface g1/0/0 [eoc]', 'prompt:Tunjukkan daftar konfigurasi semua interface yang terhubung ke Router R2 Interface G0/0/0,commands:[Router R2] show running-config interface g0/0/0 [eoc]', 'prompt:Berikan konfigurasi untuk semua interface pada Router R2 G0/0/1,commands:[Router R2] show running-config interface g0/0/1 [eoc]', 'prompt:Beri saya daftar konfigurasi di Router D yang terkait dengan VLAN 10,commands:[Router D] show running-config | include vlan 10 [eoc]', 'prompt:Tunjukkan konfigurasi yang berhubungan dengan OSPF di Router A,commands:[Router A] show running-config | include ospf [eoc]', 'prompt:Beri saya daftar semua konfigurasi yang terkait dengan NAT di Router B,commands:[Router B] show running-config | include nat [eoc]', 'prompt:Saya ingin melihat daftar konfigurasi yang terkait dengan DHCP di Router C,commands:[Router C] show running-config | include dhcp [eoc]', 'prompt:Tolong tunjukkan daftar semua konfigurasi yang terkait dengan firewall di Router internal,commands:[Router internal] show running-config | include firewall [eoc]', 'prompt:Berikan konfigurasi untuk interface G0/0 di Router external,commands:[Router external] show running-config interface g0/0 [eoc]', 'prompt:Saya memerlukan informasi tentang konfigurasi VRF di Router R1,commands:[Router R1] show running-config | include vrf [eoc]', 'prompt:Tunjukkan daftar konfigurasi terkait dengan access-list di Router R2,commands:[Router R2] show running-config | include access-list [eoc]', 'prompt:Berikan daftar semua konfigurasi OSPF yang terkait dengan area 0 di Router A,commands:[Router A] show running-config | include ospf.*area 0 [eoc]', 'prompt:Saya ingin melihat konfigurasi NAT yang terkait dengan subnet 192.168.1.0/24 di Router B,commands:[Router B] show running-config | include nat.*192.168.1.0/24 [eoc]', 'prompt:Tolong berikan daftar konfigurasi BGP di Router C,commands:[Router C] show running-config | include bgp [eoc]', 'prompt:Saya membutuhkan informasi tentang konfigurasi QoS di Router internal,commands:[Router internal] show running-config | include qos [eoc]', 'prompt:Tunjukkan daftar konfigurasi yang terkait dengan MPLS di Router external,commands:[Router external] show running-config | include mpls [eoc]', 'prompt:Berikan konfigurasi untuk interface F0/1 di Router R1,commands:[Router R1] show running-config interface f0/1 [eoc]', 'prompt:Saya memerlukan informasi tentang konfigurasi VPC di Router R2,commands:[Router R2] show running-config | include vpc [eoc]', 'prompt:Tolong tunjukkan daftar konfigurasi yang terkait dengan IPsec di Router A,commands:[Router A] show running-config | include ipsec [eoc]', 'prompt:Tolong atur VLAN 10 pada Switch A dan hubungkan ke port GigabitEthernet1/0/5,commands:[Switch A] configure terminal\\nvlan 10\\nname VLAN10\\ninterface GigabitEthernet1/0/5\\nswitchport mode access\\nswitchport access vlan 10\\nend [eoc]', 'prompt:Tambahkan static route pada Router D untuk subnet 192.168.10.0/24 melalui Router B dengan metric 10,commands:[Router D] configure terminal\\nip route 192.168.10.0 255.255.255.0 Router B 10\\nend [eoc]', \"prompt:Tolong tambahkan user baru bernama 'john' dengan password 'password123' pada server MySQL,commands:CREATE USER 'john'@'localhost' IDENTIFIED BY 'password123';\\nGRANT ALL PRIVILEGES ON * . * TO 'john'@'localhost';\\nFLUSH PRIVILEGES; [eoc]\", 'prompt:Tolong tambahkan firewall rule pada server web untuk memblokir akses dari IP address 192.168.1.100,commands:sudo ufw deny from 192.168.1.100 [eoc]', 'prompt:Tolong buat konfigurasi NAT pada Router A untuk mengakses jaringan internal (192.168.1.0/24) dari internet,commands:[Router A] configure terminal\\ninterface GigabitEthernet0/0/1\\nip nat outside\\nexit\\ninterface GigabitEthernet0/0/0\\nip nat inside\\nexit\\nip nat inside source list 1 interface GigabitEthernet0/0/1 overload\\naccess-list 1 permit 192.168.1.0 0.0.0.255\\nend [eoc]', 'prompt:Buat route static menuju network 192.168.1.0 dengan subnet mask 255.255.255.0 melalui interface g/0/0/0 di Router A,commands:[Router A] configure terminal\\nip route 192.168.1.0 255.255.255.0 g0/0/0\\n end [eoc]', 'prompt:Ciptakan skrip konfigurasi yang akan menetapkan route statis pada Router A untuk mengarahkan lalu lintas ke jaringan 192.168.1.0 dengan subnet mask 255.255.255.0 melalui interface g/0/0/0,commands:[Router A] configure terminal\\nip route 192.168.1.0 255.255.255.0 g0/0/0\\n end [eoc]', 'prompt:Konfigurasikan routing statis di Router A untuk mengarahkan lalu lintas ke jaringan 192.168.1.0 dengan subnet mask 255.255.255.0 melalui interface g/0/0/0,commands:[Router A] configure terminal\\nip route 192.168.1.0 255.255.255.0 g0/0/0\\n end [eoc]', 'prompt:Ciptakan konfigurasi perutean yang tepat pada Router A untuk memungkinkan lalu lintas menuju jaringan 192.168.1.0 dengan subnet mask 255.255.255.0 melalui interface g/0/0/0,commands:[Router A] configure terminal\\nip route 192.168.1.0 255.255.255.0 g0/0/0\\n end [eoc]', 'prompt:Tulis skrip perutean yang diperlukan untuk mengarahkan semua paket menuju jaringan 192.168.1.0 dengan subnet mask 255.255.255.0 melalui interface g/0/0/0 di Router A,commands:[Router A] configure terminal\\nip route 192.168.1.0 255.255.255.0 g0/0/0\\n end [eoc]', 'prompt:Aktifkan protokol RIP versi 2 pada Router A dan perkenalkan network 192.168.2.0, 192.168.3.0,commands:[Router A] configure terminal\\nrouter rip\\nversion 2\\nnetwork 192.168.2.0\\nnetwork 192.168.3.0\\n end [eoc]', 'prompt:Lakukan konfigurasi pada Router A untuk mengaktifkan protokol RIP versi 2 dan perkenalkan network 192.168.2.0 dan 192.168.3.0 ke dalam perutean,commands:[Router A] configure terminal\\nrouter rip\\nversion 2\\nnetwork 192.168.2.0\\nnetwork 192.168.3.0\\n end [eoc]', 'prompt:Aktifkan protokol RIP versi 2 pada Router A dan pastikan network 192.168.2.0 dan 192.168.3.0 dikenali oleh perutean,commands:[Router A] configure terminal\\nrouter rip\\nversion 2\\nnetwork 192.168.2.0\\nnetwork 192.168.3.0\\n end [eoc]', 'prompt:Lakukan langkah-langkah untuk mengaktifkan protokol RIP versi 2 pada Router A dan pastikan network 192.168.2.0 dan 192.168.3.0 dapat diakses melalui perutean,commands:[Router A] configure terminal\\nrouter rip\\nversion 2\\nnetwork 192.168.2.0\\nnetwork 192.168.3.0\\n end [eoc]', 'prompt:Aktifkan protokol RIP versi 2 pada Router A sekarang juga dan segera perkenalkan network 192.168.2.0 dan 192.168.3.0 ke dalam tabel perutean,commands:[Router A] configure terminal\\nrouter rip\\nversion 2\\nnetwork 192.168.2.0\\nnetwork 192.168.3.0\\n end [eoc]', 'prompt:Aktifkan VLAN 11 dengan IP address 192.168.0.1 subnet 255.255.255.0 pada interface g0/0 di Router A,commands:[Router A] configure terminal\\nint g0/0.11\\nencapsulation dot1q 11\\nip address 192.168.0.1 255.255.255.0\\n end [eoc]', 'prompt:Aktifkan VLAN 11 pada interface g0/0 di Router A dan berikan IP address 192.168.0.1 dengan subnet 255.255.255.0,commands:[Router A] configure terminal\\nint g0/0.11\\nencapsulation dot1q 11\\nip address 192.168.0.1 255.255.255.0\\n end [eoc]', 'prompt:Lakukan konfigurasi VLAN 11 pada interface g0/0 di Router A dengan IP address 192.168.0.1 dan subnet 255.255.255.0,commands:[Router A] configure terminal\\nint g0/0.11\\nencapsulation dot1q 11\\nip address 192.168.0.1 255.255.255.0\\n end [eoc]', 'prompt:Aktifkan VLAN 11 pada interface g0/0 di Router A dan tetapkan IP address 192.168.0.1 dengan subnet 255.255.255.0,commands:[Router A] configure terminal\\nint g0/0.11\\nencapsulation dot1q 11\\nip address 192.168.0.1 255.255.255.0\\n end [eoc]', 'prompt:Aktifkan VLAN 11 pada interface g0/0 di Router A dan pastikan menggunakan IP address 192.168.0.1 dan subnet 255.255.255.0,commands:[Router A] configure terminal\\nint g0/0.11\\nencapsulation dot1q 11\\nip address 192.168.0.1 255.255.255.0\\n end [eoc]', 'prompt:Aktifkan VLAN 22 dengan IP address 192.168.1.1 subnet 255.255.255.0 pada interface g0/0 di Router A,commands:[Router A] configure terminal\\nint g0/0.22\\nencapsulation dot1q 22\\nip address 192.168.1.1 255.255.255.0\\n end [eoc]', 'prompt:Aktifkan VLAN 22 pada interface g0/0 di Router A dan berikan IP address 192.168.1.1 dengan subnet 255.255.255.0,commands:[Router A] configure terminal\\nint g0/0.22\\nencapsulation dot1q 22\\nip address 192.168.1.1 255.255.255.0\\n end [eoc]', 'prompt:Lakukan konfigurasi VLAN 22 pada interface g0/0 di Router A dengan IP address 192.168.1.1 dan subnet 255.255.255.0,commands:[Router A] configure terminal\\nint g0/0.22\\nencapsulation dot1q 22\\nip address 192.168.1.1 255.255.255.0\\n end [eoc]', 'prompt:Aktifkan VLAN 22 pada interface g0/0 di Router A dan tetapkan IP address 192.168.1.1 dengan subnet 255.255.255.0,commands:[Router A] configure terminal\\nint g0/0.22\\nencapsulation dot1q 22\\nip address 192.168.1.1 255.255.255.0\\n end [eoc]', 'prompt:Aktifkan VLAN 22 pada interface g0/0 di Router A dan pastikan menggunakan IP address 192.168.1.1 dan subnet 255.255.255.0,commands:[Router A] configure terminal\\nint g0/0.22\\nencapsulation dot1q 22\\nip address 192.168.1.1 255.255.255.0\\n end [eoc]', 'prompt:Aktifkan VLAN 33 dengan IP address 192.168.2.1 subnet 255.255.255.0 pada interface g0/0 di Router A,commands:[Router A] configure terminal\\nint g0/0.33\\nencapsulation dot1q 33\\nip address 192.168.2.1 255.255.255.0\\n end [eoc]', 'prompt:Aktifkan VLAN 33 pada interface g0/0 di Router A dan berikan IP address 192.168.2.1 dengan subnet 255.255.255.0,commands:[Router A] configure terminal\\nint g0/0.33\\nencapsulation dot1q 33\\nip address 192.168.2.1 255.255.255.0\\n end [eoc]', 'prompt:Lakukan konfigurasi VLAN 33 pada interface g0/0 di Router A dengan IP address 192.168.2.1 dan subnet 255.255.255.0,commands:[Router A] configure terminal\\nint g0/0.33\\nencapsulation dot1q 33\\nip address 192.168.2.1 255.255.255.0\\n end [eoc]', 'prompt:Aktifkan VLAN 33 pada interface g0/0 di Router A dan tetapkan IP address 192.168.2.1 dengan subnet 255.255.255.0,commands:[Router A] configure terminal\\nint g0/0.33\\nencapsulation dot1q 33\\nip address 192.168.2.1 255.255.255.0\\n end [eoc]', 'prompt:Aktifkan VLAN 33 pada interface g0/0 di Router A dan pastikan menggunakan IP address 192.168.2.1 dan subnet 255.255.255.0,commands:[Router A] configure terminal\\nint g0/0.33\\nencapsulation dot1q 33\\nip address 192.168.2.1 255.255.255.0\\n end [eoc]', 'prompt:Buat route static menuju network 192.168.0.1 dengan subnet mask 255.255.255.0 melalui interface g/0/0/0 di Router B,commands:[Router B] configure terminal\\nip route 192.168.0.1 255.255.255.0 g0/0/0\\n end [eoc]', 'prompt:Ciptakan skrip konfigurasi yang akan menetapkan route statis pada Router B untuk mengarahkan lalu lintas ke jaringan 192.168.0.1 dengan subnet mask 255.255.255.0 melalui interface g/0/0/0,commands:[Router B] configure terminal\\nip route 192.168.0.1 255.255.255.0 g0/0/0\\n end [eoc]', 'prompt:Konfigurasikan routing statis di Router B untuk mengarahkan lalu lintas ke jaringan 192.168.0.1 dengan subnet mask 255.255.255.0 melalui interface g/0/0/0,commands:[Router B] configure terminal\\nip route 192.168.0.1 255.255.255.0 g0/0/0\\n end [eoc]', 'prompt:Ciptakan konfigurasi perutean yang tepat pada Router B untuk memungkinkan lalu lintas menuju jaringan 192.168.0.1 dengan subnet mask 255.255.255.0 melalui interface g/0/0/0,commands:[Router B] configure terminal\\nip route 192.168.0.1 255.255.255.0 g0/0/0\\n end [eoc]', 'prompt:Tulis skrip perutean yang diperlukan untuk mengarahkan semua paket menuju jaringan 192.168.0.1 dengan subnet mask 255.255.255.0 melalui interface g/0/0/0 di Router B,commands:[Router B] configure terminal\\nip route 192.168.0.1 255.255.255.0 g0/0/0\\n end [eoc]', 'prompt:Aktifkan protokol RIP versi 2 pada Router B dan perkenalkan network 192.168.1.0, 192.168.2.0,commands:[Router B] configure terminal\\nrouter rip\\nversion 2\\nnetwork 192.168.1.0\\nnetwork 192.168.2.0\\n end [eoc]', 'prompt:Lakukan konfigurasi pada Router B untuk mengaktifkan protokol RIP versi 2 dan perkenalkan network 192.168.1.0 dan 192.168.2.0 ke dalam perutean,commands:[Router B] configure terminal\\nrouter rip\\nversion 2\\nnetwork 192.168.1.0\\nnetwork 192.168.2.0\\n end [eoc]', 'prompt:Aktifkan protokol RIP versi 2 pada Router B dan pastikan network 192.168.1.0 dan 192.168.2.0 dikenali oleh perutean,commands:[Router B] configure terminal\\nrouter rip\\nversion 2\\nnetwork 192.168.1.0\\nnetwork 192.168.2.0\\n end [eoc]', 'prompt:Lakukan langkah-langkah untuk mengaktifkan protokol RIP versi 2 pada Router B dan pastikan network 192.168.1.0 dan 192.168.2.0 dapat diakses melalui perutean,commands:[Router B] configure terminal\\nrouter rip\\nversion 2\\nnetwork 192.168.1.0\\nnetwork 192.168.2.0\\n end [eoc]', 'prompt:Aktifkan protokol RIP versi 2 pada Router B sekarang juga dan segera perkenalkan network 192.168.1.0 dan 192.168.2.0 ke dalam tabel perutean,commands:[Router B] configure terminal\\nrouter rip\\nversion 2\\nnetwork 192.168.1.0\\nnetwork 192.168.2.0\\n end [eoc]', 'prompt:Aktifkan VLAN 11 dengan IP address 192.168.0.2 subnet 255.255.255.0 pada interface g0/0 di Router B,commands:[Router B] configure terminal\\nint g0/0.11\\nencapsulation dot1q 11\\nip address 192.168.0.2 255.255.255.0\\n end [eoc]', 'prompt:Lakukan konfigurasi VLAN 11 pada interface g0/0 di Router B dengan IP address 192.168.0.2 dan subnet 255.255.255.0,commands:[Router B] configure terminal\\nint g0/0.11\\nencapsulation dot1q 11\\nip address 192.168.0.2 255.255.255.0\\n end [eoc]', 'prompt:Aktifkan VLAN 11 pada interface g0/0 di Router B dan berikan IP address 192.168.0.2 dengan subnet 255.255.255.0,commands:[Router B] configure terminal\\nint g0/0.11\\nencapsulation dot1q 11\\nip address 192.168.0.2 255.255.255.0\\n end [eoc]', 'prompt:Aktifkan VLAN 11 pada interface g0/0 di Router B dan tetapkan IP address 192.168.0.2 dengan subnet 255.255.255.0,commands:[Router B] configure terminal\\nint g0/0.11\\nencapsulation dot1q 11\\nip address 192.168.0.2 255.255.255.0\\n end [eoc]', 'prompt:Aktifkan VLAN 11 pada interface g0/0 di Router B dan pastikan menggunakan IP address 192.168.0.2 dan subnet 255.255.255.0,commands:[Router B] configure terminal\\nint g0/0.11\\nencapsulation dot1q 11\\nip address 192.168.0.2 255.255.255.0\\n end [eoc]', 'prompt:Aktifkan VLAN 22 dengan IP address 192.168.2.1 subnet 255.255.255.0 pada interface g0/0 di Router B,commands:[Router B] configure terminal\\nint g0/0.22\\nencapsulation dot1q 22\\nip address 192.168.2.1 255.255.255.0\\n end [eoc]', 'prompt:Aktifkan VLAN 22 pada interface g0/0 di Router B dan berikan IP address 192.168.2.1 dengan subnet 255.255.255.0,commands:[Router B] configure terminal\\nint g0/0.22\\nencapsulation dot1q 22\\nip address 192.168.2.1 255.255.255.0\\n end [eoc]', 'prompt:Lakukan konfigurasi VLAN 22 pada interface g0/0 di Router B dengan IP address 192.168.2.1 dan subnet 255.255.255.0,commands:[Router B] configure terminal\\nint g0/0.22\\nencapsulation dot1q 22\\nip address 192.168.2.1 255.255.255.0\\n end [eoc]', 'prompt:Aktifkan VLAN 22 pada interface g0/0 di Router B dan tetapkan IP address 192.168.2.1 dengan subnet 255.255.255.0,commands:[Router B] configure terminal\\nint g0/0.22\\nencapsulation dot1q 22\\nip address 192.168.2.1 255.255.255.0\\n end [eoc]', 'prompt:Aktifkan VLAN 22 pada interface g0/0 di Router B dan pastikan menggunakan IP address 192.168.2.1 dan subnet 255.255.255.0,commands:[Router B] configure terminal\\nint g0/0.22\\nencapsulation dot1q 22\\nip address 192.168.2.1 255.255.255.0\\n end [eoc]', 'prompt:Buat route static menuju network 192.168.3.0 dengan subnet mask 255.255.255.0 melalui interface g/1/0/0 di Router A,commands:[Router A] configure terminal\\nip route 192.168.3.0 255.255.255.0 g1/0/0\\n end [eoc]', 'prompt:Ciptakan skrip konfigurasi yang akan menetapkan route statis pada Router A untuk mengarahkan lalu lintas ke jaringan 192.168.3.0 dengan subnet mask 255.255.255.0 melalui interface g/1/0/0,commands:[Router A] configure terminal\\nip route 192.168.3.0 255.255.255.0 g1/0/0\\n end [eoc]', 'prompt:Konfigurasikan routing statis di Router A untuk mengarahkan lalu lintas ke jaringan 192.168.3.0 dengan subnet mask 255.255.255.0 melalui interface g/1/0/0,commands:[Router A] configure terminal\\nip route 192.168.3.0 255.255.255.0 g1/0/0\\n end [eoc]', 'prompt:Ciptakan konfigurasi perutean yang tepat pada Router A untuk memungkinkan lalu lintas menuju jaringan 192.168.3.0 dengan subnet mask 255.255.255.0 melalui interface g/1/0/0,commands:[Router A] configure terminal\\nip route 192.168.3.0 255.255.255.0 g1/0/0\\n end [eoc]', 'prompt:Tulis skrip perutean yang diperlukan untuk mengarahkan semua paket menuju jaringan 192.168.3.0 dengan subnet mask 255.255.255.0 melalui interface g/1/0/0 di Router A,commands:[Router A] configure terminal\\nip route 192.168.3.0 255.255.255.0 g1/0/0\\n end [eoc]', 'prompt:Aktifkan protokol RIP versi 2 pada Router A dan perkenalkan network 192.168.0.1, 192.168.2.0,commands:[Router A] configure terminal\\nrouter rip\\nversion 2\\nnetwork 192.168.0.1\\nnetwork 192.168.2.0\\n end [eoc]', 'prompt:Lakukan konfigurasi pada Router A untuk mengaktifkan protokol RIP versi 2 dan perkenalkan network 192.168.0.1 dan 192.168.2.0 ke dalam perutean,commands:[Router A] configure terminal\\nrouter rip\\nversion 2\\nnetwork 192.168.0.1\\nnetwork 192.168.2.0\\n end [eoc]', 'prompt:Aktifkan protokol RIP versi 2 pada Router A dan pastikan network 192.168.0.1 dan 192.168.2.0 dikenali oleh perutean,commands:[Router A] configure terminal\\nrouter rip\\nversion 2\\nnetwork 192.168.0.1\\nnetwork 192.168.2.0\\n end [eoc]', 'prompt:Lakukan langkah-langkah untuk mengaktifkan protokol RIP versi 2 pada Router A dan pastikan network 192.168.0.1 dan 192.168.2.0 dapat diakses melalui perutean,commands:[Router A] configure terminal\\nrouter rip\\nversion 2\\nnetwork 192.168.0.1\\nnetwork 192.168.2.0\\n end [eoc]', 'prompt:Aktifkan protokol RIP versi 2 pada Router A sekarang juga dan segera perkenalkan network 192.168.0.1 dan 192.168.2.0 ke dalam tabel perutean,commands:[Router A] configure terminal\\nrouter rip\\nversion 2\\nnetwork 192.168.0.1\\nnetwork 192.168.2.0\\n end [eoc]', 'prompt:Buat route static menuju network 192.168.2.0 dengan subnet mask 255.255.255.0 melalui interface g/1/1/0 di Router A,commands:[Router A] configure terminal\\nip route 192.168.2.0 255.255.255.0 g1/1/0\\n end [eoc]', 'prompt:Ciptakan skrip konfigurasi yang akan menetapkan route statis pada Router A untuk mengarahkan lalu lintas ke jaringan 192.168.2.0 dengan subnet mask 255.255.255.0 melalui interface g/1/1/0,commands:[Router A] configure terminal\\nip route 192.168.2.0 255.255.255.0 g1/1/0\\n end [eoc]', 'prompt:Konfigurasikan routing statis di Router A untuk mengarahkan lalu lintas ke jaringan 192.168.2.0 dengan subnet mask 255.255.255.0 melalui interface g/1/1/0,commands:[Router A] configure terminal\\nip route 192.168.2.0 255.255.255.0 g1/1/0\\n end [eoc]', 'prompt:Ciptakan konfigurasi perutean yang tepat pada Router A untuk memungkinkan lalu lintas menuju jaringan 192.168.2.0 dengan subnet mask 255.255.255.0 melalui interface g/1/1/0,commands:[Router A] configure terminal\\nip route 192.168.2.0 255.255.255.0 g1/1/0\\n end [eoc]', 'prompt:Tulis skrip perutean yang diperlukan untuk mengarahkan semua paket menuju jaringan 192.168.2.0 dengan subnet mask 255.255.255.0 melalui interface g/1/1/0 di Router A,commands:[Router A] configure terminal\\nip route 192.168.2.0 255.255.255.0 g1/1/0\\n end [eoc]', 'prompt:Aktifkan protokol RIP versi 2 pada Router A dan perkenalkan network 192.168.0.1, 192.168.3.0,commands:[Router A] configure terminal\\nrouter rip\\nversion 2\\nnetwork 192.168.0.1\\nnetwork 192.168.3.0\\n end [eoc]', 'prompt:Aktifkan versi 2 dari protokol RIP di Router A dan tambahkan jaringan 192.168.0.1 dan 192.168.3.0 ke dalam konfigurasi.,commands:[Router A] configure terminal\\nrouter rip\\nversion 2\\nnetwork 192.168.0.1\\nnetwork 192.168.3.0\\n end [eoc]', 'prompt:Menambahkan  jaringan dengan alamat IP 192.168.0.1 dan 192.168.3.0 ke dalam konfigurasi lalu aktifkan protokol RIP versi 2 pada Router A,commands:[Router A] configure terminal\\nrouter rip\\nversion 2\\nnetwork 192.168.0.1\\nnetwork 192.168.3.0\\n end [eoc]', 'prompt:Tambahkan jaringan 192.168.0.1 dan 192.168.3.0 ke dalam konfigurasi, kemudian aktifkan protokol RIP versi 2 pada Router A,commands:[Router A] configure terminal\\nrouter rip\\nversion 2\\nnetwork 192.168.0.1\\nnetwork 192.168.3.0\\n end [eoc]', 'prompt:Lakukan langkah-langkah untuk mengaktifkan protokol RIP versi 2 pada Router A dan pastikan network 192.168.0.1 dan 192.168.3.0 dapat diakses melalui perutean,commands:[Router A] configure terminal\\nrouter rip\\nversion 2\\nnetwork 192.168.0.1\\nnetwork 192.168.3.0\\n end [eoc]', 'prompt:Aktifkan protokol RIP versi 2 pada Router B dan perkenalkan network 192.168.1.0, 192.168.3.0,commands:[Router B] configure terminal\\nrouter rip\\nversion 2\\nnetwork 192.168.1.0\\nnetwork 192.168.3.0\\n end [eoc]', 'prompt:Pada Router A, tambahkan network 192.168.0.1 serta 192.168.3.0 dan aktifkan protokol RIP versi 2,commands:[Router B] configure terminal\\nrouter rip\\nversion 2\\nnetwork 192.168.1.0\\nnetwork 192.168.3.0\\n end [eoc]', 'prompt:Tambahkan jaringan 192.168.0.1 dan 192.168.3.0 ke dalam konfigurasi Router A, serta aktifkan protokol RIP versi 2.,commands:[Router B] configure terminal\\nrouter rip\\nversion 2\\nnetwork 192.168.1.0\\nnetwork 192.168.3.0\\n end [eoc]', 'prompt:Aktifkan protokol RIP versi 2 pada Router A, serta pastikan jaringan 192.168.0.1 serta 192.168.3.0 sudah dikenali pada konfigurasi perutean,commands:[Router B] configure terminal\\nrouter rip\\nversion 2\\nnetwork 192.168.1.0\\nnetwork 192.168.3.0\\n end [eoc]', 'prompt:Lakukan pengaktifan protokol RIP versi 2 pada Router A dan pastikan bahwa jaringan 192.168.0.1 dan 192.168.3.0 telah terdaftar dalam konfigurasi routing,commands:[Router B] configure terminal\\nrouter rip\\nversion 2\\nnetwork 192.168.1.0\\nnetwork 192.168.3.0\\n end [eoc]', 'prompt:Aktifkan VLAN 33 dengan IP address 192.168.0.1 subnet 255.255.255.0 pada interface g0/0 di Router B,commands:[Router B] configure terminal\\nint g0/0.33\\nencapsulation dot1q 33\\nip address 192.168.0.1 255.255.255.0\\n end [eoc]', 'prompt:Mengaktifkan VLAN 33 pada antarmuka g0/0 di Router B dengan alamat IP 192.168.0.1 dan subnet 255.255.255.0.,commands:[Router B] configure terminal\\nint g0/0.33\\nencapsulation dot1q 33\\nip address 192.168.0.1 255.255.255.0\\n end [eoc]', 'prompt:Lakukan konfigurasi VLAN 33 pada interface g0/0 di Router B dengan IP address 192.168.0.1 dan subnet 255.255.255.0,commands:[Router B] configure terminal\\nint g0/0.33\\nencapsulation dot1q 33\\nip address 192.168.0.1 255.255.255.0\\n end [eoc]', 'prompt:Konfigurasikan VLAN 33 pada antarmuka g0/0 di Router B dengan alamat IP 192.168.0.1 dan subnet 255.255.255.0,commands:[Router B] configure terminal\\nint g0/0.33\\nencapsulation dot1q 33\\nip address 192.168.0.1 255.255.255.0\\n end [eoc]', 'prompt:Aktifkan konfigurasi VLAN 33 pada interface g0/0 di Router B dengan alamat IP 192.168.0.1 dan subnet 255.255.255.0,commands:[Router B] configure terminal\\nint g0/0.33\\nencapsulation dot1q 33\\nip address 192.168.0.1 255.255.255.0\\n end [eoc]', 'prompt:Buat route static menuju network 192.168.3.0 dengan subnet mask 255.255.255.0 melalui interface g/1/0/1 di Router B,commands:[Router B] configure terminal\\nip route 192.168.3.0 255.255.255.0 g1/0/1\\n end [eoc]', 'prompt:Lakukan konfigurasi yang menetapkan route statis pada Router B untuk mengarahkan lalu lintas ke jaringan 192.168.3.0 dengan subnet mask 255.255.255.0 melalui interface g/1/0/1,commands:[Router B] configure terminal\\nip route 192.168.3.0 255.255.255.0 g1/0/1\\n end [eoc]', 'prompt:Lakukan pengaturan konfigurasi pada Router B untuk mengonfigurasi rute statis yang mengarahkan lalu lintas ke jaringan 192.168.3.0 dengan subnet mask 255.255.255.0 melalui antarmuka g/1/0/1.,commands:[Router B] configure terminal\\nip route 192.168.3.0 255.255.255.0 g1/0/1\\n end [eoc]', 'prompt:Tulis skrip perutean yang diperlukan untuk mengarahkan semua paket menuju jaringan 192.168.3.0 dengan subnet mask 255.255.255.0 melalui interface g/1/0/1 di Router B,commands:[Router B] configure terminal\\nip route 192.168.3.0 255.255.255.0 g1/0/1\\n end [eoc]', 'prompt:Tuliskan skrip rute yang diperlukan untuk mengalihkan semua paket ke jaringan 192.168.3.0 dengan subnet mask 255.255.255.0 melalui antarmuka g/1/0/1 di Router B.,commands:[Router B] configure terminal\\nip route 192.168.3.0 255.255.255.0 g1/0/1\\n end [eoc]', 'prompt:Aktifkan VLAN 33 dengan IP address 192.168.3.0 subnet 255.255.255.0 pada interface g1/0 di Router B,commands:[Router B] configure terminal\\nint g1/0.33\\nencapsulation dot1q 33\\nip address 192.168.3.0 255.255.255.0\\n end [eoc]', 'prompt:Lakukan konfigurasi VLAN 33 pada antarmuka g1/0 di Router B dengan IP address 192.168.3.0 dan subnet 255.255.255.0,commands:[Router B] configure terminal\\nint g1/0.33\\nencapsulation dot1q 33\\nip address 192.168.3.0 255.255.255.0\\n end [eoc]', 'prompt:Konfigurasikan VLAN 33 pada interface Router B g1/0 dengan alamat IP 192.168.3.0 dan subnet mask 255.255.255.0.,commands:[Router B] configure terminal\\nint g1/0.33\\nencapsulation dot1q 33\\nip address 192.168.3.0 255.255.255.0\\n end [eoc]', 'prompt:Aktifkan konfigurasi VLAN 33 pada interface g1/0 di Router B dengan alamat IP 192.168.3.0 dan subnet 255.255.255.0,commands:[Router B] configure terminal\\nint g1/0.33\\nencapsulation dot1q 33\\nip address 192.168.3.0 255.255.255.0\\n end [eoc]', 'prompt:Aktifkan VLAN 33 pada interface g1/0 di Router B dan pastikan menggunakan IP address 192.168.3.0 dan subnet 255.255.255.0,commands:[Router B] configure terminal\\nint g1/0.33\\nencapsulation dot1q 33\\nip address 192.168.3.0 255.255.255.0\\n end [eoc]', 'prompt:Aktifkan VLAN 11 dengan IP address 192.168.2.2 subnet 255.255.255.0 pada interface g0/1 di Router A,commands:[Router A] configure terminal\\nint g0/1.11\\nencapsulation dot1q 11\\nip address 192.168.2.2 255.255.255.0\\n end [eoc]', 'prompt:Lakukan konfigurasi VLAN 11 pada interface g0/1 di Router A dengan IP address 192.168.2.2 dan subnet 255.255.255.0,commands:[Router A] configure terminal\\nint g0/1.11\\nencapsulation dot1q 11\\nip address 192.168.2.2 255.255.255.0\\n end [eoc]', 'prompt:Aktifkan VLAN 11 pada interface g0/1 di Router A dan berikan IP address 192.168.2.2 dengan subnet 255.255.255.0,commands:[Router A] configure terminal\\nint g0/1.11\\nencapsulation dot1q 11\\nip address 192.168.2.2 255.255.255.0\\n end [eoc]', 'prompt:Aktifkan VLAN 11 pada interface g0/1 di Router A dan tetapkan IP address 192.168.2.2 dengan subnet 255.255.255.0,commands:[Router A] configure terminal\\nint g0/1.11\\nencapsulation dot1q 11\\nip address 192.168.2.2 255.255.255.0\\n end [eoc]', 'prompt:Aktifkan VLAN 11 pada interface g0/1 di Router A dan pastikan menggunakan IP address 192.168.2.2 dan subnet 255.255.255.0,commands:[Router A] configure terminal\\nint g0/1.11\\nencapsulation dot1q 11\\nip address 192.168.2.2 255.255.255.0\\n end [eoc]', 'prompt:Aktifkan VLAN 33 dengan IP address 192.168.1.1 subnet 255.255.255.0 pada interface g0/0 di Router B,commands:[Router B] configure terminal\\nint g0/0.33\\nencapsulation dot1q 33\\nip address 192.168.1.1 255.255.255.0\\n end [eoc]', 'prompt:Lakukan konfigurasi VLAN 33 pada antarmuka g0/0 di Router B dengan IP address 192.168.1.1 dan subnet 255.255.255.0,commands:[Router B] configure terminal\\nint g0/0.33\\nencapsulation dot1q 33\\nip address 192.168.1.1 255.255.255.0\\n end [eoc]', 'prompt:Konfigurasikan VLAN 33 pada interface Router B g0/0 dengan alamat IP 192.168.1.1 dan subnet mask 255.255.255.0.,commands:[Router B] configure terminal\\nint g0/0.33\\nencapsulation dot1q 33\\nip address 192.168.1.1 255.255.255.0\\n end [eoc]', 'prompt:Aktifkan konfigurasi VLAN 33 pada interface g0/0 di Router B dengan alamat IP 192.168.1.1 dan subnet 255.255.255.0,commands:[Router B] configure terminal\\nint g0/0.33\\nencapsulation dot1q 33\\nip address 192.168.1.1 255.255.255.0\\n end [eoc]', 'prompt:Aktifkan VLAN 33 pada interface g0/0 di Router B dan pastikan menggunakan IP address 192.168.1.1 dan subnet 255.255.255.0,commands:[Router B] configure terminal\\nint g0/0.33\\nencapsulation dot1q 33\\nip address 192.168.1.1 255.255.255.0\\n end [eoc]', 'prompt:Aktifkan VLAN 22 dengan IP address 192.168.0.3 subnet 255.255.255.0 pada interface g0/1 di Router B,commands:[Router B] configure terminal\\nint g0/1.22\\nencapsulation dot1q 22\\nip address 192.168.0.3 255.255.255.0\\n end [eoc]', 'prompt:Lakukan konfigurasi VLAN 22 pada interface g0/1 di Router B dengan IP address 192.168.0.3 dan subnet 255.255.255.0,commands:[Router B] configure terminal\\nint g0/1.22\\nencapsulation dot1q 22\\nip address 192.168.0.3 255.255.255.0\\n end [eoc]', 'prompt:Aktifkan VLAN 11 pada interface g0/1 di Router B dan berikan IP address 192.168.0.3 dengan subnet 255.255.255.0,commands:[Router B] configure terminal\\nint g0/1.22\\nencapsulation dot1q 22\\nip address 192.168.0.3 255.255.255.0\\n end [eoc]', 'prompt:Aktifkan VLAN 11 pada interface g0/1 di Router B dan tetapkan IP address 192.168.0.3 dengan subnet 255.255.255.0,commands:[Router B] configure terminal\\nint g0/1.22\\nencapsulation dot1q 22\\nip address 192.168.0.3 255.255.255.0\\n end [eoc]', 'prompt:Aktifkan VLAN 11 pada interface g0/1 di Router B dan pastikan menggunakan IP address 192.168.0.3 dan subnet 255.255.255.0,commands:[Router B] configure terminal\\nint g0/1.22\\nencapsulation dot1q 22\\nip address 192.168.0.3 255.255.255.0\\n end [eoc]', 'prompt:Aktifkan VLAN 22 dengan IP address 192.168.2.3 subnet 255.255.255.0 pada interface g0/0 di Router A,commands:[Router A] configure terminal\\nint g0/0.22\\nencapsulation dot1q 22\\nip address 192.168.2.3 255.255.255.0\\n end [eoc]', 'prompt:Aktifkan VLAN 2 pada interface g0/0 di Router A dan berikan IP address 192.168.2.3 dengan subnet 255.255.255.0,commands:[Router A] configure terminal\\nint g0/0.22\\nencapsulation dot1q 22\\nip address 192.168.2.3 255.255.255.0\\n end [eoc]', 'prompt:Lakukan konfigurasi VLAN 22 pada interface g0/0 di Router A dengan IP address 192.168.2.3 dan subnet 255.255.255.0,commands:[Router A] configure terminal\\nint g0/0.22\\nencapsulation dot1q 22\\nip address 192.168.2.3 255.255.255.0\\n end [eoc]', 'prompt:Aktifkan VLAN 22 pada interface g0/0 di Router A dan tetapkan IP address 192.168.2.3 dengan subnet 255.255.255.0,commands:[Router A] configure terminal\\nint g0/0.22\\nencapsulation dot1q 22\\nip address 192.168.2.3 255.255.255.0\\n end [eoc]', 'prompt:Aktifkan VLAN 22 pada interface g0/0 di Router A dan pastikan menggunakan IP address 192.168.2.3 dan subnet 255.255.255.0,commands:[Router A] configure terminal\\nint g0/0.22\\nencapsulation dot1q 22\\nip address 192.168.2.3 255.255.255.0\\n end [eoc]', 'prompt:Aktifkan VLAN 22 dengan IP address 192.168.2.4 subnet 255.255.255.0 pada interface g1/1 di Router A,commands:[Router A] configure terminal\\nint g1/1.22\\nencapsulation dot1q 22\\nip address 192.168.2.4 255.255.255.0\\n end [eoc]', 'prompt:Lakukan konfigurasi VLAN 22 pada interface g1/1 di Router A dengan IP address 192.168.2.4 dan subnet 255.255.255.0,commands:[Router A] configure terminal\\nint g1/1.22\\nencapsulation dot1q 22\\nip address 192.168.2.4 255.255.255.0\\n end [eoc]', 'prompt:Aktifkan VLAN 22 pada interface g1/1 di Router A dan berikan IP address 192.168.2.4 dengan subnet 255.255.255.0,commands:[Router A] configure terminal\\nint g1/1.22\\nencapsulation dot1q 22\\nip address 192.168.2.4 255.255.255.0\\n end [eoc]', 'prompt:Aktifkan VLAN 22 pada interface g1/1 di Router A dan tetapkan IP address 192.168.2.4 dengan subnet 255.255.255.0,commands:[Router A] configure terminal\\nint g1/1.22\\nencapsulation dot1q 22\\nip address 192.168.2.4 255.255.255.0\\n end [eoc]', 'prompt:Aktifkan VLAN 22 pada interface g1/1 di Router A dan pastikan menggunakan IP address 192.168.2.4 dan subnet 255.255.255.0,commands:[Router A] configure terminal\\nint g1/1.22\\nencapsulation dot1q 22\\nip address 192.168.2.4 255.255.255.0\\n end [eoc]', 'prompt:Aktifkan VLAN 33 dengan IP address 192.168.0.4 subnet 255.255.255.0 pada interface g0/0 di Router B,commands:[Router B] configure terminal\\nint g0/0.33\\nencapsulation dot1q 33\\nip address 192.168.0.4 255.255.255.0\\n end [eoc]', 'prompt:Aktifkan VLAN 33 pada interface g0/0 di Router B dan berikan IP address 192.168.0.4 dengan subnet 255.255.255.0,commands:[Router B] configure terminal\\nint g0/0.33\\nencapsulation dot1q 33\\nip address 192.168.0.4 255.255.255.0\\n end [eoc]', 'prompt:Lakukan konfigurasi VLAN 33 pada interface g0/0 di Router B dengan IP address 192.168.0.4 dan subnet 255.255.255.0,commands:[Router B] configure terminal\\nint g0/0.33\\nencapsulation dot1q 33\\nip address 192.168.0.4 255.255.255.0\\n end [eoc]', 'prompt:Aktifkan VLAN 33 pada interface g0/0 di Router B dan tetapkan IP address 192.168.0.4 dengan subnet 255.255.255.0,commands:[Router B] configure terminal\\nint g0/0.33\\nencapsulation dot1q 33\\nip address 192.168.0.4 255.255.255.0\\n end [eoc]', 'prompt:Aktifkan VLAN 33 pada interface g0/0 di Router B dan pastikan menggunakan IP address 192.168.0.4 dan subnet 255.255.255.0,commands:[Router B] configure terminal\\nint g0/0.33\\nencapsulation dot1q 33\\nip address 192.168.0.4 255.255.255.0\\n end [eoc]', 'prompt:Aktifkan VLAN 11 dengan IP address 192.168.1.2 subnet 255.255.255.0 pada interface g0/0 di Router B,commands:[Router B] configure terminal\\nint g0/0.11\\nencapsulation dot1q 11\\nip address 192.168.1.2 255.255.255.0\\n end [eoc]', 'prompt:Aktifkan VLAN 11 pada interface g0/0 di Router B dan berikan IP address 192.168.1.2 dengan subnet 255.255.255.0,commands:[Router B] configure terminal\\nint g0/0.11\\nencapsulation dot1q 11\\nip address 192.168.1.2 255.255.255.0\\n end [eoc]', 'prompt:Lakukan konfigurasi VLAN 11 pada interface g0/0 di Router B dengan IP address 192.168.1.2 dan subnet 255.255.255.0,commands:[Router B] configure terminal\\nint g0/0.11\\nencapsulation dot1q 11\\nip address 192.168.1.2 255.255.255.0\\n end [eoc]', 'prompt:Aktifkan VLAN 11 pada interface g0/0 di Router B dan tetapkan IP address 192.168.1.2 dengan subnet 255.255.255.0,commands:[Router B] configure terminal\\nint g0/0.11\\nencapsulation dot1q 11\\nip address 192.168.1.2 255.255.255.0\\n end [eoc]', 'prompt:Aktifkan VLAN 11 pada interface g0/0 di Router B dan pastikan menggunakan IP address 192.168.1.2 dan subnet 255.255.255.0,commands:[Router B] configure terminal\\nint g0/0.11\\nencapsulation dot1q 11\\nip address 192.168.1.2 255.255.255.0\\n end [eoc]', 'prompt:Aktifkan VLAN 11 dengan IP address 192.168.1.4 subnet 255.255.255.0 pada interface g1/1 di Router A,commands:[Router A] configure terminal\\nint g1/1.11\\nencapsulation dot1q 11\\nip address 192.168.1.4 255.255.255.0\\n end [eoc]', 'prompt:Aktifkan VLAN 11 pada interface g1/1 di Router A dan berikan IP address 192.168.1.4 dengan subnet 255.255.255.0,commands:[Router A] configure terminal\\nint g1/1.11\\nencapsulation dot1q 11\\nip address 192.168.1.4 255.255.255.0\\n end [eoc]', 'prompt:Lakukan konfigurasi VLAN 11 pada interface g1/1 di Router A dengan IP address 192.168.1.4 dan subnet 255.255.255.0,commands:[Router A] configure terminal\\nint g1/1.11\\nencapsulation dot1q 11\\nip address 192.168.1.4 255.255.255.0\\n end [eoc]', 'prompt:Aktifkan VLAN 11 pada interface g1/1 di Router A dan tetapkan IP address 192.168.1.4 dengan subnet 255.255.255.0,commands:[Router A] configure terminal\\nint g1/1.11\\nencapsulation dot1q 11\\nip address 192.168.1.4 255.255.255.0\\n end [eoc]', 'prompt:Aktifkan VLAN 11 pada interface g1/1 di Router A dan pastikan menggunakan IP address 192.168.1.4 dan subnet 255.255.255.0,commands:[Router A] configure terminal\\nint g1/1.11\\nencapsulation dot1q 11\\nip address 192.168.1.4 255.255.255.0\\n end [eoc]', 'commands:[Router Z] configure terminal\\nip route 192.168.1.0 255.255.255.0 g0/0/0\\n end [eoc],bot_reply:Untuk membuat rute pada Router Z melalui interface g/0/0/0 menuju jaringan lokal dengan IP 192.168.1.0, subnet mask 255.255.255.0 kita perlu menyatakan pemanggilan konfigurasi Router Z terlebih dahulu dengan menggunakan perintah\\n[Router Z] configure terminal\\nLalu dengan perintah ip route tambahkan alamat IP tujuan, subnet mask, dan interface. Rangkaian perintah diakhiri dengan end [eoc]. Rangkaian perintah dapat dilakukan sebagai berikut:\\n[Router Z] configure terminal\\nip route 192.168.1.0 255.255.255.0 g0/0/0\\nend [eoc]', 'commands:[Router I] configure terminal\\nip route 192.168.1.0 255.255.255.0 g0/0/0\\n end [eoc],bot_reply:Untuk mengkonfigurasi rute pada Router I untuk jaringan lokal dengan alamat IP 192.168.1.0 dan subnet mask 255.255.255.0, Anda harus mulai dengan mengakses mode konfigurasi menggunakan perintah:\\n[Router I] configure terminal\\nSelanjutnya, tambahkan alamat IP tujuan, subnet mask, dan antarmuka menggunakan perintah `ip route`. Urutan perintah diakhiri dengan yang berikut:\\nip route 192.168.1.0 255.255.255.0 g0/0/0\\nend [eoc]\\nAnda dapat menjalankan serangkaian perintah seperti yang disebutkan di atas.', 'commands:[Router X] configure terminal\\nip route 192.168.1.0 255.255.255.0 g0/0/0\\n end [eoc],bot_reply:Untuk mengatur rute pada Router X untuk jaringan lokal dengan alamat IP 192.168.1.0 dan subnet mask 255.255.255.0, langkah pertama adalah masuk ke mode konfigurasi menggunakan perintah berikut:\\n[Router X] configure terminal\\nSelanjutnya, gunakan perintah `ip route` untuk menambahkan alamat IP tujuan, subnet mask, dan antarmuka. Akhir dari urutan perintah adalah sebagai berikut:\\nip route 192.168.1.0 255.255.255.0 g0/0/0\\nend [eoc]Anda dapat melaksanakan rangkaian perintah sebagaimana dijelaskan di atas.', 'commands:[Router C] configure terminal\\nrouter rip\\nversion 2\\nnetwork 192.168.2.0\\nnetwork 192.168.3.0\\n end [eoc],bot_reply:Untuk mengaktifkan protokol RIP versi 2 pada Router C dan pendaftaran alamat IP 192.168.2.0 dan 192.168.3.0 pada perutean, perlu dinyatakan ppemanggilan konfigurasi Router C terlebih dahulu dengan perintah\\n[Router C] configure terminal\\nLalu tambahkan perintah router rip dan version 2 untuk menandakan akan digunakan protokol RIP versi 2\\nrouter rip\\nversion 2\\nSetelah itu cantumkan alamat IP asal dan alamat IP tujuan dengan menggunakan perintah network. Rangkaian perintah diakhiri dengan end [eoc]. Rangkaian perintah dapat dilakukan sebagai berikut:\\n[Router C] configure terminal\\nrouter rip\\nversion 2\\nnetwork 192.168.2.0\\nnetwork 192.168.3.0\\nend [eoc]', 'commands:[Router K] configure terminal\\nrouter rip\\nversion 2\\nnetwork 192.168.2.0\\nnetwork 192.168.3.0\\n end [eoc],bot_reply:Untuk mengaktifkan protokol RIP versi 2 pada Router K dan mendaftarkan alamat IP 192.168.2.0 dan 192.168.3.0 pada perutean, langkah awal adalah memasuki mode konfigurasi pada Router K dengan perintah:\\n[Router K] configure terminal\\nSetelah itu, gunakan perintah `router rip` dan `version 2` untuk menandakan bahwa Anda akan menggunakan protokol RIP versi 2:\\nrouter rip\\nversion 2\\nSelanjutnya, tambahkan alamat IP sumber dan tujuan dengan perintah `network`. Urutan perintah diakhiri dengan `end [eoc]`. Rangkaian perintah dapat dijalankan sebagai berikut:\\n[Router K] configure terminal\\nrouter rip\\nversion 2\\nnetwork 192.168.2.0\\nnetwork 192.168.3.0\\nend [eoc]\\nAnda dapat melaksanakan rangkaian perintah seperti di atas.', 'commands:[Router A] configure terminal\\nrouter rip\\nversion 2\\nnetwork 192.168.2.0\\nnetwork 192.168.3.0\\n end [eoc],bot_reply:Untuk mengaktifkan protokol RIP versi 2 pada Router A dan memasukkan alamat IP 192.168.2.0 dan 192.168.3.0 pada tabel routing, langkah awal adalah mengakses mode konfigurasi pada Router A menggunakan perintah berikut:\\n[Router A] configure terminal\\nAfterward, utilize the `router rip` and `version 2` commands to specify the use of RIP protocol version 2:\\nrouter rip\\nversion 2\\nSelanjutnya, gabungkan alamat IP sumber dan tujuan menggunakan perintah `network`. Urutan perintah diakhiri dengan `end [eoc]`. Perintah-perintah tersebut dapat dijalankan sebagai berikut:\\n[Router A] configure terminal\\nrouter rip\\nversion 2\\nnetwork 192.168.2.0\\nnetwork 192.168.3.0\\nend [eoc]\\nAnda dapat menerapkan urutan perintah seperti yang ditunjukkan di atas.', 'commands:[Router K] configure terminal\\nint g0/0.11\\nencapsulation dot1q 11\\nip address 192.168.0.1 255.255.255.0\\n end [eoc],bot_reply:Untuk mengaktifkan VLAN 11 pada Router K dengan interface g0/0, alamat IP 192.168.0.1, dan subnet mask 255.255.255.0 kita perlu menyatakan pemanggilan konfigurasi Router K terlebih dahulu dengan menggunakan perintah\\n[Router K] configure terminal\\nLalu berdasarkan interface, tipe vlan, alamat IP, dan subnet mask dapat digunakan perintah int, encapsulation, dan ip address\\nint g0/0.11\\nencapsulation dot1q 11\\nip address 192.168.0.1 255.255.255.0\\nRangkaian perintah diakhiri dengan end [eoc]. Rangkaian perintah dapat dilakukan sebagai berikut:\\n[Router K] configure terminal\\nint g0/0.11\\nencapsulation dot1q 11\\nip address 192.168.0.1 255.255.255.0\\nend [eoc]', 'commands:[Router G] configure terminal\\nint g0/0.11\\nencapsulation dot1q 11\\nip address 192.168.0.1 255.255.255.0\\n end [eoc],bot_reply:Untuk mengaktifkan VLAN 11 pada Router G dengan alamat IP 192.168.0.1, interface g0/0, dan subnet mask 255.255.255.0  perlu dilakukan pemanggilan konfigurasi Router G terlebih dahulu dengan menggunakan perintah\\n[Router G] configure terminal\\nSetelah itu berdasarkan interface, tipe vlan, alamat IP, dan subnet mask dapat digunakan perintah int, encapsulation, dan ip address\\nint g0/0.11\\nencapsulation dot1q 11\\nip address 192.168.0.1 255.255.255.0\\nRangkaian perintah diakhiri dengan end [eoc]. Rangkaian perintah adalah sebagai berikut:\\n[Router G] configure terminal\\nint g0/0.11\\nencapsulation dot1q 11\\nip address 192.168.0.1 255.255.255.0\\nend [eoc]', 'commands:[Router A] configure terminal\\nint g0/0.11\\nencapsulation dot1q 11\\nip address 192.168.0.1 255.255.255.0\\n end [eoc],bot_reply:Anda dapat mengaktifkan VLAN 11 pada Router A dengan alamat IP 192.168.0.1, interface g0/0, dan subnet mask 255.255.255.0 dengan langkah pertama melakukan pemanggilan konfigurasi Router A terlebih dahulu dengan menggunakan perintah\\n[Router A] configure terminal\\nLalu berdasarkan interface, tipe vlan, alamat IP, dan subnet mask gunakan perintah int, encapsulation, dan ip address\\nint g0/0.11\\nencapsulation dot1q 11\\nip address 192.168.0.1 255.255.255.0\\nRangkaian perintah diakhiri dengan end [eoc]. Perintah lengkapnya, yaitu:\\n[Router A] configure terminal\\nint g0/0.11\\nencapsulation dot1q 11\\nip address 192.168.0.1 255.255.255.0\\nend [eoc]', 'commands:[Router G] configure terminal\\nint g0/0.22\\nencapsulation dot1q 22\\nip address 192.168.1.1 255.255.255.0\\n end [eoc],bot_reply:Untuk mengaktifkan VLAN 22 pada Router G dengan alamat IP 192.168.1.1, interface g0/0, dan subnet mask 255.255.255.0  perlu dilakukan pemanggilan konfigurasi Router G terlebih dahulu dengan menggunakan perintah\\n[Router G] configure terminal\\nSetelah itu berdasarkan interface, tipe vlan, alamat IP, dan subnet mask dapat digunakan perintah int, encapsulation, dan ip address\\nint g0/0.22\\nencapsulation dot1q 22\\nip address 192.168.1.1 255.255.255.0\\nRangkaian perintah diakhiri dengan end [eoc]. Rangkaian perintah adalah sebagai berikut:\\n[Router G] configure terminal\\nint g0/0.22\\nencapsulation dot1q 22\\nip address 192.168.1.1 255.255.255.0\\nend [eoc]', 'commands:[Router O] configure terminal\\nint g0/0.22\\nencapsulation dot1q 22\\nip address 192.168.1.1 255.255.255.0\\n end [eoc],bot_reply:Untuk mengaktifkan VLAN 22 pada Router O dengan interface g0/0, alamat IP 192.168.2.1, dan subnet mask 255.255.255.0 kita perlu menyatakan pemanggilan konfigurasi Router O terlebih dahulu dengan menggunakan perintah\\n[Router O] configure terminal\\nLalu berdasarkan interface, tipe vlan, alamat IP, dan subnet mask dapat digunakan perintah int, encapsulation, dan ip address\\nint g0/0.33\\nencapsulation dot1q 33\\nip address 192.168.2.1 255.255.255.0\\nRangkaian perintah diakhiri dengan end [eoc]. Rangkaian perintah dapat dilakukan sebagai berikut:\\n[Router O] configure terminal\\nint g0/0.33\\nencapsulation dot1q 33\\nip address 192.168.2.1 255.255.255.0\\nend [eoc]', 'commands:[Router I] configure terminal\\nint g0/0.22\\nencapsulation dot1q 22\\nip address 192.168.1.1 255.255.255.0\\n end [eoc],bot_reply:Anda dapat mengaktifkan VLAN 22 pada Router I dengan alamat IP 192.168.1.1, interface g0/0, dan subnet mask 255.255.255.0 dengan langkah pertama melakukan pemanggilan konfigurasi Router I terlebih dahulu dengan menggunakan perintah\\n[Router I] configure terminal\\nLalu berdasarkan interface, tipe vlan, alamat IP, dan subnet mask gunakan perintah int, encapsulation, dan ip address\\nint g0/0.22\\nencapsulation dot1q 22\\nip address 192.168.1.1 255.255.255.0\\nRangkaian perintah diakhiri dengan end [eoc]. Perintah lengkapnya, yaitu:\\n[Router I] configure terminal\\nint g0/0.22\\nencapsulation dot1q 22\\nip address 192.168.1.1 255.255.255.0\\nend [eoc]', 'commands:[Router A] configure terminal\\nint g0/0.33\\nencapsulation dot1q 33\\nip address 192.168.2.1 255.255.255.0\\n end [eoc],bot_reply:Untuk mengaktifkan VLAN 33 pada Router A dengan alamat IP 192.168.2.1, interface g0/0, dan subnet mask 255.255.255.0  perlu dilakukan pemanggilan konfigurasi Router A terlebih dahulu dengan menggunakan perintah\\n[Router A] configure terminal\\nSetelah itu berdasarkan interface, tipe vlan, alamat IP, dan subnet mask dapat digunakan perintah int, encapsulation, dan ip address\\nint g0/0.33\\nencapsulation dot1q 33\\nip address 192.168.2.1 255.255.255.0\\nRangkaian perintah diakhiri dengan end [eoc]. Rangkaian perintah adalah sebagai berikut:\\n[Router A] configure terminal\\nint g0/0.33\\nencapsulation dot1q 33\\nip address 192.168.2.1 255.255.255.0\\nend [eoc]', 'commands:[Router I] configure terminal\\nint g0/0.33\\nencapsulation dot1q 33\\nip address 192.168.2.1 255.255.255.0\\n end [eoc],bot_reply:Untuk mengaktifkan VLAN 33 pada Router I dengan interface g0/0, alamat IP 192.168.2.1, dan subnet mask 255.255.255.0 kita perlu menyatakan pemanggilan konfigurasi Router I terlebih dahulu dengan menggunakan perintah\\n[Router I] configure terminal\\nLalu berdasarkan interface, tipe vlan, alamat IP, dan subnet mask dapat digunakan perintah int, encapsulation, dan ip address\\nint g0/0.33\\nencapsulation dot1q 33\\nip address 192.168.2.1 255.255.255.0\\nRangkaian perintah diakhiri dengan end [eoc]. Rangkaian perintah dapat dilakukan sebagai berikut:\\n[Router I] configure terminal\\nint g0/0.33\\nencapsulation dot1q 33\\nip address 192.168.2.1 255.255.255.0\\nend [eoc]', 'commands:[Router Z] configure terminal\\nint g0/0.33\\nencapsulation dot1q 33\\nip address 192.168.2.1 255.255.255.0\\n end [eoc],bot_reply:Anda dapat mengaktifkan VLAN 33 pada Router Z dengan alamat IP 192.168.2.1, interface g0/0, dan subnet mask 255.255.255.0 dengan langkah pertama melakukan pemanggilan konfigurasi Router Z terlebih dahulu dengan menggunakan perintah\\n[Router Z] configure terminal\\nLalu berdasarkan interface, tipe vlan, alamat IP, dan subnet mask gunakan perintah int, encapsulation, dan ip address\\nint g0/0.33\\nencapsulation dot1q 33\\nip address 192.168.2.1 255.255.255.0\\nRangkaian perintah diakhiri dengan end [eoc]. Perintah lengkapnya, yaitu:\\n[Router Z] configure terminal\\nint g0/0.33\\nencapsulation dot1q 33\\nip address 192.168.2.1 255.255.255.0\\nend [eoc]', 'commands:[Router K] configure terminal\\nip route 192.168.0.1 255.255.255.0 g0/0/0\\n end [eoc],bot_reply:Untuk membuat rute pada Router K melalui interface g/0/0/0 menuju jaringan lokal dengan IP 192.168.0.1, subnet mask 255.255.255.0 kita perlu menyatakan pemanggilan konfigurasi Router K terlebih dahulu dengan menggunakan perintah\\n[Router K] configure terminal\\nLalu dengan perintah ip route tambahkan alamat IP tujuan, subnet mask, dan interface. Rangkaian perintah diakhiri dengan end [eoc]. Rangkaian perintah dapat dilakukan sebagai berikut:\\n[Router K] configure terminal\\nip route 192.168.0.1 255.255.255.0 g0/0/0\\nend [eoc]', 'commands:[Router K] configure terminal\\nip route 192.168.0.1 255.255.255.0 g0/0/0\\n end [eoc],bot_reply:Untuk mengkonfigurasi rute pada Router K untuk jaringan lokal dengan alamat IP 192.168.0.1 dan subnet mask 255.255.255.0, Anda harus mulai dengan mengakses mode konfigurasi menggunakan perintah:\\n[Router K] configure terminal\\nSelanjutnya, tambahkan alamat IP tujuan, subnet mask, dan antarmuka menggunakan perintah `ip route`. Urutan perintah diakhiri dengan yang berikut:\\nip route 192.168.0.1 255.255.255.0 g0/0/0\\nend [eoc]\\nAnda dapat menjalankan serangkaian perintah seperti yang disebutkan di atas.', 'commands:[Router C] configure terminal\\nip route 192.168.0.1 255.255.255.0 g0/0/0\\n end [eoc],bot_reply:Untuk mengatur rute pada Router C untuk jaringan lokal dengan alamat IP 192.168.0.1 dan subnet mask 255.255.255.0, langkah pertama adalah masuk ke mode konfigurasi menggunakan perintah berikut:\\n[Router C] configure terminal\\nSelanjutnya, gunakan perintah `ip route` untuk menambahkan alamat IP tujuan, subnet mask, dan antarmuka. Akhir dari urutan perintah adalah sebagai berikut:\\nip route 192.168.0.1 255.255.255.0 g0/0/0\\nend [eoc]Anda dapat melaksanakan rangkaian perintah sebagaimana dijelaskan di atas.', 'commands:[Router X] configure terminal\\nrouter rip\\nversion 2\\nnetwork 192.168.1.0\\nnetwork 192.168.2.0\\n end [eoc],bot_reply:Untuk mengaktifkan protokol RIP versi 2 pada Router X dan pendaftaran alamat IP 192.168.1.0 dan 192.168.2.0 pada perutean, perlu dinyatakan ppemanggilan konfigurasi Router X terlebih dahulu dengan perintah\\n[Router X] configure terminal\\nLalu tambahkan perintah router rip dan version 2 untuk menandakan akan digunakan protokol RIP versi 2\\nrouter rip\\nversion 2\\nSetelah itu cantumkan alamat IP asal dan alamat IP tujuan dengan menggunakan perintah network. Rangkaian perintah diakhiri dengan end [eoc]. Rangkaian perintah dapat dilakukan sebagai berikut:\\n[Router X] configure terminal\\nrouter rip\\nversion 2\\nnetwork 192.168.1.0\\nnetwork 192.168.2.0\\nend [eoc]', 'commands:[Router Y] configure terminal\\nrouter rip\\nversion 2\\nnetwork 192.168.1.0\\nnetwork 192.168.2.0\\n end [eoc],bot_reply:Untuk mengaktifkan protokol RIP versi 2 pada Router Y dan mendaftarkan alamat IP 192.168.1.0 dan 192.168.2.0 pada perutean, langkah awal adalah memasuki mode konfigurasi pada Router Y dengan perintah:\\n[Router Y] configure terminal\\nSetelah itu, gunakan perintah `router rip` dan `version 2` untuk menandakan bahwa Anda akan menggunakan protokol RIP versi 2:\\nrouter rip\\nversion 2\\nSelanjutnya, tambahkan alamat IP sumber dan tujuan dengan perintah `network`. Urutan perintah diakhiri dengan `end [eoc]`. Rangkaian perintah dapat dijalankan sebagai berikut:\\n[Router Y] configure terminal\\nrouter rip\\nversion 2\\nnetwork 192.168.1.0\\nnetwork 192.168.2.0\\nend [eoc]\\nAnda dapat melaksanakan rangkaian perintah seperti di atas.', 'commands:[Router B] configure terminal\\nrouter rip\\nversion 2\\nnetwork 192.168.1.0\\nnetwork 192.168.2.0\\n end [eoc],bot_reply:Untuk mengaktifkan protokol RIP versi 2 pada Router B dan memasukkan alamat IP 192.168.1.0 dan 192.168.2.0 pada tabel routing, langkah awal adalah mengakses mode konfigurasi pada Router B menggunakan perintah berikut:\\n[Router B] configure terminal\\nAfterward, utilize the `router rip` and `version 2` commands to specify the use of RIP protocol version 2:\\nrouter rip\\nversion 2\\nSelanjutnya, gabungkan alamat IP sumber dan tujuan menggunakan perintah `network`. Urutan perintah diakhiri dengan `end [eoc]`. Perintah-perintah tersebut dapat dijalankan sebagai berikut:\\n[Router B] configure terminal\\nrouter rip\\nversion 2\\nnetwork 192.168.1.0\\nnetwork 192.168.2.0\\nend [eoc]\\nAnda dapat menerapkan urutan perintah seperti yang ditunjukkan di atas.', 'commands:[Router B] configure terminal\\nip route 192.168.3.0 255.255.255.0 g1/0/0\\n end [eoc],bot_reply:Untuk membuat rute pada Router B melalui interface g/1/0/0 menuju jaringan lokal dengan IP 192.168.3.0, subnet mask 255.255.255.0 kita perlu menyatakan pemanggilan konfigurasi Router B terlebih dahulu dengan menggunakan perintah\\n[Router B] configure terminal\\nLalu dengan perintah ip route tambahkan alamat IP tujuan, subnet mask, dan interface. Rangkaian perintah diakhiri dengan end [eoc]. Rangkaian perintah dapat dilakukan sebagai berikut:\\n[Router B] configure terminal\\nip route 192.168.3.0 255.255.255.0 g1/0/0\\nend [eoc]', 'commands:[Router Y] configure terminal\\nip route 192.168.3.0 255.255.255.0 g1/0/0\\n end [eoc],bot_reply:Untuk mengkonfigurasi rute pada Router Y untuk jaringan lokal dengan alamat IP 192.168.3.0 dan subnet mask 255.255.255.0, Anda harus mulai dengan mengakses mode konfigurasi menggunakan perintah:\\n[Router Y] configure terminal\\nSelanjutnya, tambahkan alamat IP tujuan, subnet mask, dan antarmuka menggunakan perintah `ip route`. Urutan perintah diakhiri dengan yang berikut:\\nip route 192.168.3.0 255.255.255.0 g1/0/0\\nend [eoc]\\nAnda dapat menjalankan serangkaian perintah seperti yang disebutkan di atas.', 'commands:[Router Y] configure terminal\\nip route 192.168.3.0 255.255.255.0 g1/0/0\\n end [eoc],bot_reply:Untuk mengatur rute pada Router Y untuk jaringan lokal dengan alamat IP 192.168.3.0 dan subnet mask 255.255.255.0, langkah pertama adalah masuk ke mode konfigurasi menggunakan perintah berikut:\\n[Router Y] configure terminal\\nSelanjutnya, gunakan perintah `ip route` untuk menambahkan alamat IP tujuan, subnet mask, dan antarmuka. Akhir dari urutan perintah adalah sebagai berikut:\\nip route 192.168.3.0 255.255.255.0 g1/0/0\\nend [eoc]Anda dapat melaksanakan rangkaian perintah sebagaimana dijelaskan di atas.', 'commands:[Router B] configure terminal\\nrouter rip\\nversion 2\\nnetwork 192.168.0.1\\nnetwork 192.168.2.0\\n end [eoc],bot_reply:Untuk mengaktifkan protokol RIP versi 2 pada Router B dan pendaftaran alamat IP 192.168.0.1 dan 192.168.2.0 pada perutean, perlu dinyatakan ppemanggilan konfigurasi Router B terlebih dahulu dengan perintah\\n[Router B] configure terminal\\nLalu tambahkan perintah router rip dan version 2 untuk menandakan akan digunakan protokol RIP versi 2\\nrouter rip\\nversion 2\\nSetelah itu cantumkan alamat IP asal dan alamat IP tujuan dengan menggunakan perintah network. Rangkaian perintah diakhiri dengan end [eoc]. Rangkaian perintah dapat dilakukan sebagai berikut:\\n[Router B] configure terminal\\nrouter rip\\nversion 2\\nnetwork 192.168.0.1\\nnetwork 192.168.2.0\\nend [eoc]', 'commands:[Router Z] configure terminal\\nrouter rip\\nversion 2\\nnetwork 192.168.0.1\\nnetwork 192.168.2.0\\n end [eoc],bot_reply:Untuk mengaktifkan protokol RIP versi 2 pada Router Z dan mendaftarkan alamat IP 192.168.0.1 dan 192.168.2.0 pada perutean, langkah awal adalah memasuki mode konfigurasi pada Router Z dengan perintah:\\n[Router Z] configure terminal\\nSetelah itu, gunakan perintah `router rip` dan `version 2` untuk menandakan bahwa Anda akan menggunakan protokol RIP versi 2:\\nrouter rip\\nversion 2\\nSelanjutnya, tambahkan alamat IP sumber dan tujuan dengan perintah `network`. Urutan perintah diakhiri dengan `end [eoc]`. Rangkaian perintah dapat dijalankan sebagai berikut:\\n[Router Z] configure terminal\\nrouter rip\\nversion 2\\nnetwork 192.168.0.1\\nnetwork 192.168.2.0\\nend [eoc]\\nAnda dapat melaksanakan rangkaian perintah seperti di atas.', 'commands:[Router I] configure terminal\\nrouter rip\\nversion 2\\nnetwork 192.168.0.1\\nnetwork 192.168.2.0\\n end [eoc],bot_reply:Untuk mengaktifkan protokol RIP versi 2 pada Router I dan memasukkan alamat IP 192.168.0.1 dan 192.168.2.0 pada tabel routing, langkah awal adalah mengakses mode konfigurasi pada Router I menggunakan perintah berikut:\\n[Router I] configure terminal\\nAfterward, utilize the `router rip` and `version 2` commands to specify the use of RIP protocol version 2:\\nrouter rip\\nversion 2\\nSelanjutnya, gabungkan alamat IP sumber dan tujuan menggunakan perintah `network`. Urutan perintah diakhiri dengan `end [eoc]`. Perintah-perintah tersebut dapat dijalankan sebagai berikut:\\n[Router I] configure terminal\\nrouter rip\\nversion 2\\nnetwork 192.168.0.1\\nnetwork 192.168.2.0\\nend [eoc]\\nAnda dapat menerapkan urutan perintah seperti yang ditunjukkan di atas.', 'commands:[Router Z] configure terminal\\nip route 192.168.2.0 255.255.255.0 g1/1/0\\n end [eoc],bot_reply:Untuk membuat rute pada Router Z melalui interface g/1/1/0 menuju jaringan lokal dengan IP 192.168.2.0, subnet mask 255.255.255.0 kita perlu menyatakan pemanggilan konfigurasi Router Z terlebih dahulu dengan menggunakan perintah\\n[Router Z] configure terminal\\nLalu dengan perintah ip route tambahkan alamat IP tujuan, subnet mask, dan interface. Rangkaian perintah diakhiri dengan end [eoc]. Rangkaian perintah dapat dilakukan sebagai berikut:\\n[Router Z] configure terminal\\nip route 192.168.2.0 255.255.255.0 g1/1/0\\nend [eoc]', 'commands:[Router A] configure terminal\\nip route 192.168.2.0 255.255.255.0 g1/1/0\\n end [eoc],bot_reply:Untuk mengkonfigurasi rute pada Router A untuk jaringan lokal dengan alamat IP 192.168.2.0 dan subnet mask 255.255.255.0, Anda harus mulai dengan mengakses mode konfigurasi menggunakan perintah:\\n[Router A] configure terminal\\nSelanjutnya, tambahkan alamat IP tujuan, subnet mask, dan antarmuka menggunakan perintah `ip route`. Urutan perintah diakhiri dengan yang berikut:\\nip route 192.168.1.0 255.255.255.0 g1/1/0\\nend [eoc]\\nAnda dapat menjalankan serangkaian perintah seperti yang disebutkan di atas.', 'commands:[Router B] configure terminal\\nip route 192.168.2.0 255.255.255.0 g1/1/0\\n end [eoc],bot_reply:Untuk mengatur rute pada Router B untuk jaringan lokal dengan alamat IP 192.168.2.0 dan subnet mask 255.255.255.0, langkah pertama adalah masuk ke mode konfigurasi menggunakan perintah berikut:\\n[Router B] configure terminal\\nSelanjutnya, gunakan perintah `ip route` untuk menambahkan alamat IP tujuan, subnet mask, dan antarmuka. Akhir dari urutan perintah adalah sebagai berikut:\\nip route 192.168.2.0 255.255.255.0 g1/1/0\\nend [eoc]Anda dapat melaksanakan rangkaian perintah sebagaimana dijelaskan di atas.', 'commands:[Router K] configure terminal\\nrouter rip\\nversion 2\\nnetwork 192.168.0.1\\nnetwork 192.168.3.0\\n end [eoc],bot_reply:Untuk mengaktifkan protokol RIP versi 2 pada Router K dan pendaftaran alamat IP 192.168.0.1 dan 192.168.3.0 pada perutean, perlu dinyatakan ppemanggilan konfigurasi Router K terlebih dahulu dengan perintah\\n[Router K] configure terminal\\nLalu tambahkan perintah router rip dan version 2 untuk menandakan akan digunakan protokol RIP versi 2\\nrouter rip\\nversion 2\\nSetelah itu cantumkan alamat IP asal dan alamat IP tujuan dengan menggunakan perintah network. Rangkaian perintah diakhiri dengan end [eoc]. Rangkaian perintah dapat dilakukan sebagai berikut:\\n[Router K] configure terminal\\nrouter rip\\nversion 2\\nnetwork 192.168.0.1\\nnetwork 192.168.3.0\\nend [eoc]', 'commands:[Router G] configure terminal\\nrouter rip\\nversion 2\\nnetwork 192.168.0.1\\nnetwork 192.168.3.0\\n end [eoc],bot_reply:Untuk mengaktifkan protokol RIP versi 2 pada Router G dan mendaftarkan alamat IP 192.168.0.1 dan 192.168.3.0 pada perutean, langkah awal adalah memasuki mode konfigurasi pada Router G dengan perintah:\\n[Router G] configure terminal\\nSetelah itu, gunakan perintah `router rip` dan `version 2` untuk menandakan bahwa Anda akan menggunakan protokol RIP versi 2:\\nrouter rip\\nversion 2\\nSelanjutnya, tambahkan alamat IP sumber dan tujuan dengan perintah `network`. Urutan perintah diakhiri dengan `end [eoc]`. Rangkaian perintah dapat dijalankan sebagai berikut:\\n[Router G] configure terminal\\nrouter rip\\nversion 2\\nnetwork 192.168.0.1\\nnetwork 192.168.3.0\\nend [eoc]\\nAnda dapat melaksanakan rangkaian perintah seperti di atas.', 'commands:[Router I] configure terminal\\nrouter rip\\nversion 2\\nnetwork 192.168.0.1\\nnetwork 192.168.3.0\\n end [eoc],bot_reply:Untuk mengaktifkan protokol RIP versi 2 pada Router I dan memasukkan alamat IP 192.168.0.1 dan 192.168.3.0 pada tabel routing, langkah awal adalah mengakses mode konfigurasi pada Router I menggunakan perintah berikut:\\n[Router I] configure terminal\\nAfterward, utilize the `router rip` and `version 2` commands to specify the use of RIP protocol version 2:\\nrouter rip\\nversion 2\\nSelanjutnya, gabungkan alamat IP sumber dan tujuan menggunakan perintah `network`. Urutan perintah diakhiri dengan `end [eoc]`. Perintah-perintah tersebut dapat dijalankan sebagai berikut:\\n[Router I] configure terminal\\nrouter rip\\nversion 2\\nnetwork 192.168.0.1\\nnetwork 192.168.3.0\\nend [eoc]\\nAnda dapat menerapkan urutan perintah seperti yang ditunjukkan di atas.', 'commands:[Router B] configure terminal\\nrouter rip\\nversion 2\\nnetwork 192.168.1.0\\nnetwork 192.168.3.0\\n end [eoc],bot_reply:Untuk mengaktifkan protokol RIP versi 2 pada Router B dan pendaftaran alamat IP 192.168.1.0 dan 192.168.3.0 pada perutean, perlu dinyatakan ppemanggilan konfigurasi Router B terlebih dahulu dengan perintah\\n[Router B] configure terminal\\nLalu tambahkan perintah router rip dan version 2 untuk menandakan akan digunakan protokol RIP versi 2\\nrouter rip\\nversion 2\\nSetelah itu cantumkan alamat IP asal dan alamat IP tujuan dengan menggunakan perintah network. Rangkaian perintah diakhiri dengan end [eoc]. Rangkaian perintah dapat dilakukan sebagai berikut:\\n[Router B] configure terminal\\nrouter rip\\nversion 2\\nnetwork 192.168.1.0\\nnetwork 192.168.3.0\\nend [eoc]', 'commands:[Router G] configure terminal\\nrouter rip\\nversion 2\\nnetwork 192.168.1.0\\nnetwork 192.168.3.0\\n end [eoc],bot_reply:Untuk mengaktifkan protokol RIP versi 2 pada Router G dan mendaftarkan alamat IP 192.168.1.0 dan 192.168.3.0 pada perutean, langkah awal adalah memasuki mode konfigurasi pada Router G dengan perintah:\\n[Router G] configure terminal\\nSetelah itu, gunakan perintah `router rip` dan `version 2` untuk menandakan bahwa Anda akan menggunakan protokol RIP versi 2:\\nrouter rip\\nversion 2\\nSelanjutnya, tambahkan alamat IP sumber dan tujuan dengan perintah `network`. Urutan perintah diakhiri dengan `end [eoc]`. Rangkaian perintah dapat dijalankan sebagai berikut:\\n[Router G] configure terminal\\nrouter rip\\nversion 2\\nnetwork 192.168.1.0\\nnetwork 192.168.3.0\\nend [eoc]\\nAnda dapat melaksanakan rangkaian perintah seperti di atas.', 'commands:[Router A] configure terminal\\nrouter rip\\nversion 2\\nnetwork 192.168.1.0\\nnetwork 192.168.3.0\\n end [eoc],bot_reply:Untuk mengaktifkan protokol RIP versi 2 pada Router A dan memasukkan alamat IP 192.168.1.0 dan 192.168.3.0 pada tabel routing, langkah awal adalah mengakses mode konfigurasi pada Router A menggunakan perintah berikut:\\n[Router A] configure terminal\\nAfterward, utilize the `router rip` and `version 2` commands to specify the use of RIP protocol version 2:\\nrouter rip\\nversion 2\\nSelanjutnya, gabungkan alamat IP sumber dan tujuan menggunakan perintah `network`. Urutan perintah diakhiri dengan `end [eoc]`. Perintah-perintah tersebut dapat dijalankan sebagai berikut:\\n[Router A] configure terminal\\nrouter rip\\nversion 2\\nnetwork 192.168.1.0\\nnetwork 192.168.3.0\\nend [eoc]\\nAnda dapat menerapkan urutan perintah seperti yang ditunjukkan di atas.']\n"
          ]
        }
      ]
    },
    {
      "cell_type": "code",
      "source": [
        "print(array['Prompt'])"
      ],
      "metadata": {
        "colab": {
          "base_uri": "https://localhost:8080/"
        },
        "id": "EzIKqn8UUw46",
        "outputId": "38e62b6d-a482-4232-cf35-5f62c5b6687e"
      },
      "execution_count": 12,
      "outputs": [
        {
          "output_type": "stream",
          "name": "stdout",
          "text": [
            "['prompt:Berikan daftar interface yang ada di Router A,commands:[Router A] show interfaces [eoc]', 'prompt:Saya membutuhkan informasi tentang semua interface di Router A,commands:[Router A] show interfaces [eoc]', 'prompt:Tunjukkan daftar semua interface yang tersedia di Router A,commands:[Router A] show interfaces [eoc]', 'prompt:Beri saya daftar semua antarmuka yang terhubung ke Router A,commands:[Router A] show interfaces [eoc]', 'prompt:Saya ingin melihat daftar interface di Router B,commands:[Router B] show interfaces [eoc]', 'prompt:Tolong berikan informasi tentang semua interface yang tersedia di Router B,commands:[Router B] show interfaces [eoc]', 'prompt:Tunjukkan saya daftar semua antarmuka di Router B,commands:[Router B] show interfaces [eoc]', 'prompt:Berikan daftar semua antarmuka yang terhubung ke Router C,commands:[Router C] show interfaces [eoc]', 'prompt:Saya memerlukan informasi tentang semua interface di Router C,commands:[Router C] show interfaces [eoc]', 'prompt:Tunjukkan semua interface yang tersedia di Router C,commands:[Router C] show interfaces [eoc]', 'prompt:Beri saya daftar semua antarmuka yang terhubung ke Router D,commands:[Router D] show interfaces [eoc]', 'prompt:Mohon informasi tentang semua interface di Router D,commands:[Router D] show interfaces [eoc]', 'prompt:Tolong tunjukkan daftar semua antarmuka di Router D,commands:[Router D] show interfaces [eoc]', 'prompt:Berikan daftar semua antarmuka yang terhubung ke Router internal,commands:[Router internal] show interfaces [eoc]', 'prompt:Saya membutuhkan informasi tentang semua interface di Router external,commands:[Router external] show interfaces [eoc]', 'prompt:Tolong tunjukkan daftar semua antarmuka di Router R1,commands:[Router R1] show interfaces [eoc]', 'prompt:Mohon berikan daftar semua antarmuka yang terhubung ke Router R2,commands:[Router R2] show interfaces [eoc]', 'prompt:Tolong berikan daftar interface untuk Router B Interface G0/0/0,commands:[Router B] show interface g0/0/0 [eoc]', 'prompt:Tunjukkan daftar interface yang tersedia di Router A Interface F0/0,commands:[Router A] show interface f0/0 [eoc]', 'prompt:Berikan daftar semua interface yang terhubung ke Router A Interface F0/1,commands:[Router A] show interface f0/1 [eoc]', 'prompt:Saya membutuhkan informasi tentang antarmuka F1/0 di Router A,commands:[Router A] show interface f1/0 [eoc]', 'prompt:Berikan daftar semua interface untuk Router B G0/1/1,commands:[Router B] show interface g0/1/1 [eoc]', 'prompt:Tolong tunjukkan daftar interface yang tersedia di Router B Interface G1/1/1,commands:[Router B] show interface g1/1/1 [eoc]', 'prompt:Beri saya daftar semua antarmuka yang tersedia di Router C F0/1,commands:[Router C] show interface f0/1 [eoc]', 'prompt:Saya membutuhkan informasi tentang interface G1/0/0 di Router R1,commands:[Router R1] show interface g1/0/0 [eoc]', 'prompt:Tunjukkan daftar semua interface yang terhubung ke Router R2 Interface G0/0/0,commands:[Router R2] show interface g0/0/0 [eoc]', 'prompt:Berikan daftar semua interface untuk Router R2 G0/0/1,commands:[Router R2] show interface g0/0/1 [eoc]', 'prompt:Tolong berikan daftar interface untuk Router R1 Interface F0/1,commands:[Router R1] show interface f0/1 [eoc]', 'prompt:Tolong ubah IP di Router C Interface X menjadi 192.168.1.1,commands:[Router C] configure terminal\\ninterface X\\nip address 192.168.1.1 255.255.255.0\\nend [eoc]', 'prompt:Ubah IP di Router A Interface G0/0/1 menjadi 10.0.0.1,commands:[Router A] configure terminal\\ninterface G0/0/1\\nip address 10.0.0.1 255.255.255.0\\nend [eoc]', 'prompt:Ubah IP di Router B Interface F0/1 menjadi 172.16.0.1,commands:[Router B] configure terminal\\ninterface F0/1\\nip address 172.16.0.1 255.255.255.0\\nend [eoc]', 'prompt:Tolong ubah IP di Internal Router Interface G1/0/0 menjadi 192.168.2.1,commands:[Internal Router] configure terminal\\ninterface G1/0/0\\nip address 192.168.2.1 255.255.255.0\\nend [eoc]', 'prompt:Saya butuh bantuan untuk mengubah IP di External Router Interface F1/0 menjadi 10.1.1.1,commands:[External Router] configure terminal\\ninterface F1/0\\nip address 10.1.1.1 255.255.255.0\\nend [eoc]', 'prompt:Mohon bantu untuk mengganti IP di R1 Interface G0/0/0 menjadi 192.168.3.1,commands:[Router R1] configure terminal\\ninterface G0/0/0\\nip address 192.168.3.1 255.255.255.0\\nend [eoc]', 'prompt:Mohon bantu untuk mengubah IP di Router D Interface F0/1 menjadi 172.16.10.1,commands:[Router D] configure terminal\\ninterface F0/1\\nip address 172.16.10.1 255.255.255.0\\nend [eoc]', 'prompt:Tolong ubah IP di Router E Interface G0/0 menjadi 192.168.5.1,commands:[Router E] configure terminal\\ninterface G0/0\\nip address 192.168.5.1 255.255.255.0\\nend [eoc]', 'prompt:Berikan bantuan untuk mengganti IP di Router F Interface F1/0 menjadi 10.1.2.1,commands:[Router F] configure terminal\\ninterface F1/0\\nip address 10.1.2.1 255.255.255.0\\nend [eoc]', 'prompt:Ubah IP di Router G Interface G0/0/1 menjadi 10.0.1.1,commands:[Router G] configure terminal\\ninterface G0/0/1\\nip address 10.0.1.1 255.255.255.0\\nend [eoc]', 'prompt:Mohon bantu untuk mengubah IP di R2 Interface F0/0 menjadi 192.168.4.1,commands:[Router R2] configure terminal\\ninterface F0/0\\nip address 192.168.4.1 255.255.255.0\\nend [eoc]', 'prompt:Tolong tambahkan kunci enkripsi ke Router D,commands:[Router D] configure terminal\\ncrypto key generate rsa\\nend [eoc]', 'prompt:Mohon tambahkan kunci enkripsi ke Router E,commands:[Router E] configure terminal\\ncrypto key generate rsa\\nend [eoc]', 'prompt:Tolong buat kunci enkripsi di Router F,commands:[Router F] configure terminal\\ncrypto key generate rsa\\nend [eoc]', 'prompt:Mohon tambahkan kunci enkripsi ke Router G,commands:[Router G] configure terminal\\ncrypto key generate rsa\\nend [eoc]', 'prompt:Tolong aktifkan enkripsi di Router H,commands:[Router H] configure terminal\\nservice password-encryption\\nend [eoc]', 'prompt:Mohon bantu untuk menambahkan kunci enkripsi di R1,commands:[Router R1] configure terminal\\ncrypto key generate rsa\\nend [eoc]', 'prompt:Saya ingin melihat daftar semua antarmuka di Router D,commands:[Router D] show interfaces [eoc]', 'prompt:Tunjukkan semua interface yang terhubung ke Router external,commands:[Router external] show interfaces [eoc]', 'prompt:Beri saya daftar semua antarmuka yang terhubung ke Router internal,commands:[Router internal] show interfaces [eoc]', 'prompt:Bagaimana cara mengkonfigurasi OSPF pada Router A?,commands:[Router A] router ospf 1\\nnetwork 10.0.0.0 0.255.255.255 area 0\\nend [eoc]', \"prompt:Berikan contoh penggunaan perintah 'ping' pada Router B,commands:[Router B] ping 10.0.0.1 [eoc]\", 'prompt:Bagaimana cara mengubah hostname pada Router C?,commands:[Router C] configure terminal\\nhostname NewHostName\\nend [eoc]', 'prompt:Saya ingin mengecek routing table pada Router A,commands:[Router A] show ip route [eoc]', 'prompt:Bagaimana cara mengkonfigurasi VLAN pada Switch A?,commands:[Switch A] vlan 10\\nname Sales\\nend [eoc]', 'prompt:Tolong buatkan ACL untuk memblokir akses ke situs web tertentu pada Router D,commands:[Router D] configure terminal\\naccess-list 101 deny tcp any host 192.168.1.2 eq 80\\naccess-list 101 permit ip any any\\ninterface gigabitEthernet 0/0\\nip access-group 101 in\\nend [eoc]', 'prompt:Bagaimana cara menampilkan port yang sedang aktif pada Switch B?,commands:[Switch B] show interface status [eoc]', 'prompt:Saya ingin mengkonfigurasi DHCP pada Router internal,commands:[Internal Router] configure terminal\\ndhcp pool InternalPool\\nnetwork 192.168.0.0 255.255.255.0\\ndefault-router 192.168.0.1\\nend [eoc]', 'prompt:Bagaimana cara menampilkan MAC address table pada Switch C?,commands:[Switch C] show mac-address-table [eoc]', 'prompt:Saya ingin mengkonfigurasi NAT pada Router external,commands:[Router external] configure terminal\\ninterface gigabitEthernet 0/0\\nip nat outside\\ninterface gigabitEthernet 0/1\\nip nat inside\\nip nat inside source list 1 interface gigabitEthernet 0/0 overload\\naccess-list 1 permit 192.168.0.0 0.0.255.255\\nend [eoc]', 'prompt:Bagaimana cara menampilkan log yang tersimpan pada Router R1?,commands:[Router R1] show logging [eoc]', 'prompt:Saya ingin memeriksa status koneksi pada Router R2,commands:[Router R2] show interfaces brief [eoc]', 'prompt:Bagaimana cara mengkonfigurasi trunking pada Switch D?,commands:[Switch D] interface gigabitEthernet 0/0\\nswitchport mode trunk\\nend [eoc]', 'prompt:Tolong buatkan static route pada Router internal untuk mengakses subnet 172.16.0.0/24 melalui Router A,commands:[Internal Router] ip route 172.16.0.0 255.255.255.0 10.0.0.2 [eoc]', 'prompt:Bagaimana cara menghapus VLAN yang tidak dibutuhkan pada Switch E?,commands:[Switch E] configure terminal\\nno vlan 10\\nend [eoc]', 'prompt:Saya ingin menampilkan informasi tentang status port pada Switch F,commands:[Switch F] show interface gigabitEthernet 0/1 [eoc]', 'prompt:Tunjukkan daftar konfigurasi yang ada di Router A,commands:[Router A] show running-config [eoc]', 'prompt:Beri saya daftar semua konfigurasi di Router A,commands:[Router A] show running-config [eoc]', 'prompt:Saya ingin melihat konfigurasi di Router B,commands:[Router B] show running-config [eoc]', 'prompt:Tolong berikan daftar semua konfigurasi di Router B,commands:[Router B] show running-config [eoc]', 'prompt:Berikan daftar semua konfigurasi di Router C,commands:[Router C] show running-config [eoc]', 'prompt:Saya memerlukan informasi tentang konfigurasi di Router C,commands:[Router C] show running-config [eoc]', 'prompt:Tunjukkan semua konfigurasi di Router D,commands:[Router D] show running-config [eoc]', 'prompt:Berikan daftar semua konfigurasi di Router internal,commands:[Router internal] show running-config [eoc]', 'prompt:Saya membutuhkan informasi tentang semua konfigurasi di Router external,commands:[Router external] show running-config [eoc]', 'prompt:Tolong tunjukkan daftar semua konfigurasi di Router R1,commands:[Router R1] show running-config [eoc]', 'prompt:Mohon berikan daftar semua konfigurasi di Router R2,commands:[Router R2] show running-config [eoc]', 'prompt:Tunjukkan daftar konfigurasi untuk Router B Interface G0/0/0,commands:[Router B] show running-config interface g0/0/0 [eoc]', 'prompt:Berikan konfigurasi untuk Router A Interface F0/0,commands:[Router A] show running-config interface f0/0 [eoc]', 'prompt:Saya membutuhkan informasi tentang konfigurasi di Router A Interface F0/1,commands:[Router A] show running-config interface f0/1 [eoc]', 'prompt:Tolong berikan konfigurasi untuk interface F1/0 di Router A,commands:[Router A] show running-config interface f1/0 [eoc]', 'prompt:Berikan konfigurasi untuk Router B G0/1/1,commands:[Router B] show running-config interface g0/1/1 [eoc]', 'prompt:Tunjukkan daftar konfigurasi yang terhubung ke Router B Interface G1/1/1,commands:[Router B] show running-config interface g1/1/1 [eoc]', 'prompt:Beri saya konfigurasi semua antarmuka yang tersedia di Router C F0/1,commands:[Router C] show running-config interface f0/1 [eoc]', 'prompt:Saya membutuhkan informasi tentang konfigurasi di interface G1/0/0 di Router R1,commands:[Router R1] show running-config interface g1/0/0 [eoc]', 'prompt:Tunjukkan daftar konfigurasi semua interface yang terhubung ke Router R2 Interface G0/0/0,commands:[Router R2] show running-config interface g0/0/0 [eoc]', 'prompt:Berikan konfigurasi untuk semua interface pada Router R2 G0/0/1,commands:[Router R2] show running-config interface g0/0/1 [eoc]', 'prompt:Beri saya daftar konfigurasi di Router D yang terkait dengan VLAN 10,commands:[Router D] show running-config | include vlan 10 [eoc]', 'prompt:Tunjukkan konfigurasi yang berhubungan dengan OSPF di Router A,commands:[Router A] show running-config | include ospf [eoc]', 'prompt:Beri saya daftar semua konfigurasi yang terkait dengan NAT di Router B,commands:[Router B] show running-config | include nat [eoc]', 'prompt:Saya ingin melihat daftar konfigurasi yang terkait dengan DHCP di Router C,commands:[Router C] show running-config | include dhcp [eoc]', 'prompt:Tolong tunjukkan daftar semua konfigurasi yang terkait dengan firewall di Router internal,commands:[Router internal] show running-config | include firewall [eoc]', 'prompt:Berikan konfigurasi untuk interface G0/0 di Router external,commands:[Router external] show running-config interface g0/0 [eoc]', 'prompt:Saya memerlukan informasi tentang konfigurasi VRF di Router R1,commands:[Router R1] show running-config | include vrf [eoc]', 'prompt:Tunjukkan daftar konfigurasi terkait dengan access-list di Router R2,commands:[Router R2] show running-config | include access-list [eoc]', 'prompt:Berikan daftar semua konfigurasi OSPF yang terkait dengan area 0 di Router A,commands:[Router A] show running-config | include ospf.*area 0 [eoc]', 'prompt:Saya ingin melihat konfigurasi NAT yang terkait dengan subnet 192.168.1.0/24 di Router B,commands:[Router B] show running-config | include nat.*192.168.1.0/24 [eoc]', 'prompt:Tolong berikan daftar konfigurasi BGP di Router C,commands:[Router C] show running-config | include bgp [eoc]', 'prompt:Saya membutuhkan informasi tentang konfigurasi QoS di Router internal,commands:[Router internal] show running-config | include qos [eoc]', 'prompt:Tunjukkan daftar konfigurasi yang terkait dengan MPLS di Router external,commands:[Router external] show running-config | include mpls [eoc]', 'prompt:Berikan konfigurasi untuk interface F0/1 di Router R1,commands:[Router R1] show running-config interface f0/1 [eoc]', 'prompt:Saya memerlukan informasi tentang konfigurasi VPC di Router R2,commands:[Router R2] show running-config | include vpc [eoc]', 'prompt:Tolong tunjukkan daftar konfigurasi yang terkait dengan IPsec di Router A,commands:[Router A] show running-config | include ipsec [eoc]', 'prompt:Tolong atur VLAN 10 pada Switch A dan hubungkan ke port GigabitEthernet1/0/5,commands:[Switch A] configure terminal\\nvlan 10\\nname VLAN10\\ninterface GigabitEthernet1/0/5\\nswitchport mode access\\nswitchport access vlan 10\\nend [eoc]', 'prompt:Tambahkan static route pada Router D untuk subnet 192.168.10.0/24 melalui Router B dengan metric 10,commands:[Router D] configure terminal\\nip route 192.168.10.0 255.255.255.0 Router B 10\\nend [eoc]', \"prompt:Tolong tambahkan user baru bernama 'john' dengan password 'password123' pada server MySQL,commands:CREATE USER 'john'@'localhost' IDENTIFIED BY 'password123';\\nGRANT ALL PRIVILEGES ON * . * TO 'john'@'localhost';\\nFLUSH PRIVILEGES; [eoc]\", 'prompt:Tolong tambahkan firewall rule pada server web untuk memblokir akses dari IP address 192.168.1.100,commands:sudo ufw deny from 192.168.1.100 [eoc]', 'prompt:Tolong buat konfigurasi NAT pada Router A untuk mengakses jaringan internal (192.168.1.0/24) dari internet,commands:[Router A] configure terminal\\ninterface GigabitEthernet0/0/1\\nip nat outside\\nexit\\ninterface GigabitEthernet0/0/0\\nip nat inside\\nexit\\nip nat inside source list 1 interface GigabitEthernet0/0/1 overload\\naccess-list 1 permit 192.168.1.0 0.0.0.255\\nend [eoc]', 'prompt:Buat route static menuju network 192.168.1.0 dengan subnet mask 255.255.255.0 melalui interface g/0/0/0 di Router A,commands:[Router A] configure terminal\\nip route 192.168.1.0 255.255.255.0 g0/0/0\\n end [eoc]', 'prompt:Ciptakan skrip konfigurasi yang akan menetapkan route statis pada Router A untuk mengarahkan lalu lintas ke jaringan 192.168.1.0 dengan subnet mask 255.255.255.0 melalui interface g/0/0/0,commands:[Router A] configure terminal\\nip route 192.168.1.0 255.255.255.0 g0/0/0\\n end [eoc]', 'prompt:Konfigurasikan routing statis di Router A untuk mengarahkan lalu lintas ke jaringan 192.168.1.0 dengan subnet mask 255.255.255.0 melalui interface g/0/0/0,commands:[Router A] configure terminal\\nip route 192.168.1.0 255.255.255.0 g0/0/0\\n end [eoc]', 'prompt:Ciptakan konfigurasi perutean yang tepat pada Router A untuk memungkinkan lalu lintas menuju jaringan 192.168.1.0 dengan subnet mask 255.255.255.0 melalui interface g/0/0/0,commands:[Router A] configure terminal\\nip route 192.168.1.0 255.255.255.0 g0/0/0\\n end [eoc]', 'prompt:Tulis skrip perutean yang diperlukan untuk mengarahkan semua paket menuju jaringan 192.168.1.0 dengan subnet mask 255.255.255.0 melalui interface g/0/0/0 di Router A,commands:[Router A] configure terminal\\nip route 192.168.1.0 255.255.255.0 g0/0/0\\n end [eoc]', 'prompt:Aktifkan protokol RIP versi 2 pada Router A dan perkenalkan network 192.168.2.0, 192.168.3.0,commands:[Router A] configure terminal\\nrouter rip\\nversion 2\\nnetwork 192.168.2.0\\nnetwork 192.168.3.0\\n end [eoc]', 'prompt:Lakukan konfigurasi pada Router A untuk mengaktifkan protokol RIP versi 2 dan perkenalkan network 192.168.2.0 dan 192.168.3.0 ke dalam perutean,commands:[Router A] configure terminal\\nrouter rip\\nversion 2\\nnetwork 192.168.2.0\\nnetwork 192.168.3.0\\n end [eoc]', 'prompt:Aktifkan protokol RIP versi 2 pada Router A dan pastikan network 192.168.2.0 dan 192.168.3.0 dikenali oleh perutean,commands:[Router A] configure terminal\\nrouter rip\\nversion 2\\nnetwork 192.168.2.0\\nnetwork 192.168.3.0\\n end [eoc]', 'prompt:Lakukan langkah-langkah untuk mengaktifkan protokol RIP versi 2 pada Router A dan pastikan network 192.168.2.0 dan 192.168.3.0 dapat diakses melalui perutean,commands:[Router A] configure terminal\\nrouter rip\\nversion 2\\nnetwork 192.168.2.0\\nnetwork 192.168.3.0\\n end [eoc]', 'prompt:Aktifkan protokol RIP versi 2 pada Router A sekarang juga dan segera perkenalkan network 192.168.2.0 dan 192.168.3.0 ke dalam tabel perutean,commands:[Router A] configure terminal\\nrouter rip\\nversion 2\\nnetwork 192.168.2.0\\nnetwork 192.168.3.0\\n end [eoc]', 'prompt:Aktifkan VLAN 11 dengan IP address 192.168.0.1 subnet 255.255.255.0 pada interface g0/0 di Router A,commands:[Router A] configure terminal\\nint g0/0.11\\nencapsulation dot1q 11\\nip address 192.168.0.1 255.255.255.0\\n end [eoc]', 'prompt:Aktifkan VLAN 11 pada interface g0/0 di Router A dan berikan IP address 192.168.0.1 dengan subnet 255.255.255.0,commands:[Router A] configure terminal\\nint g0/0.11\\nencapsulation dot1q 11\\nip address 192.168.0.1 255.255.255.0\\n end [eoc]', 'prompt:Lakukan konfigurasi VLAN 11 pada interface g0/0 di Router A dengan IP address 192.168.0.1 dan subnet 255.255.255.0,commands:[Router A] configure terminal\\nint g0/0.11\\nencapsulation dot1q 11\\nip address 192.168.0.1 255.255.255.0\\n end [eoc]', 'prompt:Aktifkan VLAN 11 pada interface g0/0 di Router A dan tetapkan IP address 192.168.0.1 dengan subnet 255.255.255.0,commands:[Router A] configure terminal\\nint g0/0.11\\nencapsulation dot1q 11\\nip address 192.168.0.1 255.255.255.0\\n end [eoc]', 'prompt:Aktifkan VLAN 11 pada interface g0/0 di Router A dan pastikan menggunakan IP address 192.168.0.1 dan subnet 255.255.255.0,commands:[Router A] configure terminal\\nint g0/0.11\\nencapsulation dot1q 11\\nip address 192.168.0.1 255.255.255.0\\n end [eoc]', 'prompt:Aktifkan VLAN 22 dengan IP address 192.168.1.1 subnet 255.255.255.0 pada interface g0/0 di Router A,commands:[Router A] configure terminal\\nint g0/0.22\\nencapsulation dot1q 22\\nip address 192.168.1.1 255.255.255.0\\n end [eoc]', 'prompt:Aktifkan VLAN 22 pada interface g0/0 di Router A dan berikan IP address 192.168.1.1 dengan subnet 255.255.255.0,commands:[Router A] configure terminal\\nint g0/0.22\\nencapsulation dot1q 22\\nip address 192.168.1.1 255.255.255.0\\n end [eoc]', 'prompt:Lakukan konfigurasi VLAN 22 pada interface g0/0 di Router A dengan IP address 192.168.1.1 dan subnet 255.255.255.0,commands:[Router A] configure terminal\\nint g0/0.22\\nencapsulation dot1q 22\\nip address 192.168.1.1 255.255.255.0\\n end [eoc]', 'prompt:Aktifkan VLAN 22 pada interface g0/0 di Router A dan tetapkan IP address 192.168.1.1 dengan subnet 255.255.255.0,commands:[Router A] configure terminal\\nint g0/0.22\\nencapsulation dot1q 22\\nip address 192.168.1.1 255.255.255.0\\n end [eoc]', 'prompt:Aktifkan VLAN 22 pada interface g0/0 di Router A dan pastikan menggunakan IP address 192.168.1.1 dan subnet 255.255.255.0,commands:[Router A] configure terminal\\nint g0/0.22\\nencapsulation dot1q 22\\nip address 192.168.1.1 255.255.255.0\\n end [eoc]', 'prompt:Aktifkan VLAN 33 dengan IP address 192.168.2.1 subnet 255.255.255.0 pada interface g0/0 di Router A,commands:[Router A] configure terminal\\nint g0/0.33\\nencapsulation dot1q 33\\nip address 192.168.2.1 255.255.255.0\\n end [eoc]', 'prompt:Aktifkan VLAN 33 pada interface g0/0 di Router A dan berikan IP address 192.168.2.1 dengan subnet 255.255.255.0,commands:[Router A] configure terminal\\nint g0/0.33\\nencapsulation dot1q 33\\nip address 192.168.2.1 255.255.255.0\\n end [eoc]', 'prompt:Lakukan konfigurasi VLAN 33 pada interface g0/0 di Router A dengan IP address 192.168.2.1 dan subnet 255.255.255.0,commands:[Router A] configure terminal\\nint g0/0.33\\nencapsulation dot1q 33\\nip address 192.168.2.1 255.255.255.0\\n end [eoc]', 'prompt:Aktifkan VLAN 33 pada interface g0/0 di Router A dan tetapkan IP address 192.168.2.1 dengan subnet 255.255.255.0,commands:[Router A] configure terminal\\nint g0/0.33\\nencapsulation dot1q 33\\nip address 192.168.2.1 255.255.255.0\\n end [eoc]', 'prompt:Aktifkan VLAN 33 pada interface g0/0 di Router A dan pastikan menggunakan IP address 192.168.2.1 dan subnet 255.255.255.0,commands:[Router A] configure terminal\\nint g0/0.33\\nencapsulation dot1q 33\\nip address 192.168.2.1 255.255.255.0\\n end [eoc]', 'prompt:Buat route static menuju network 192.168.0.1 dengan subnet mask 255.255.255.0 melalui interface g/0/0/0 di Router B,commands:[Router B] configure terminal\\nip route 192.168.0.1 255.255.255.0 g0/0/0\\n end [eoc]', 'prompt:Ciptakan skrip konfigurasi yang akan menetapkan route statis pada Router B untuk mengarahkan lalu lintas ke jaringan 192.168.0.1 dengan subnet mask 255.255.255.0 melalui interface g/0/0/0,commands:[Router B] configure terminal\\nip route 192.168.0.1 255.255.255.0 g0/0/0\\n end [eoc]', 'prompt:Konfigurasikan routing statis di Router B untuk mengarahkan lalu lintas ke jaringan 192.168.0.1 dengan subnet mask 255.255.255.0 melalui interface g/0/0/0,commands:[Router B] configure terminal\\nip route 192.168.0.1 255.255.255.0 g0/0/0\\n end [eoc]', 'prompt:Ciptakan konfigurasi perutean yang tepat pada Router B untuk memungkinkan lalu lintas menuju jaringan 192.168.0.1 dengan subnet mask 255.255.255.0 melalui interface g/0/0/0,commands:[Router B] configure terminal\\nip route 192.168.0.1 255.255.255.0 g0/0/0\\n end [eoc]', 'prompt:Tulis skrip perutean yang diperlukan untuk mengarahkan semua paket menuju jaringan 192.168.0.1 dengan subnet mask 255.255.255.0 melalui interface g/0/0/0 di Router B,commands:[Router B] configure terminal\\nip route 192.168.0.1 255.255.255.0 g0/0/0\\n end [eoc]', 'prompt:Aktifkan protokol RIP versi 2 pada Router B dan perkenalkan network 192.168.1.0, 192.168.2.0,commands:[Router B] configure terminal\\nrouter rip\\nversion 2\\nnetwork 192.168.1.0\\nnetwork 192.168.2.0\\n end [eoc]', 'prompt:Lakukan konfigurasi pada Router B untuk mengaktifkan protokol RIP versi 2 dan perkenalkan network 192.168.1.0 dan 192.168.2.0 ke dalam perutean,commands:[Router B] configure terminal\\nrouter rip\\nversion 2\\nnetwork 192.168.1.0\\nnetwork 192.168.2.0\\n end [eoc]', 'prompt:Aktifkan protokol RIP versi 2 pada Router B dan pastikan network 192.168.1.0 dan 192.168.2.0 dikenali oleh perutean,commands:[Router B] configure terminal\\nrouter rip\\nversion 2\\nnetwork 192.168.1.0\\nnetwork 192.168.2.0\\n end [eoc]', 'prompt:Lakukan langkah-langkah untuk mengaktifkan protokol RIP versi 2 pada Router B dan pastikan network 192.168.1.0 dan 192.168.2.0 dapat diakses melalui perutean,commands:[Router B] configure terminal\\nrouter rip\\nversion 2\\nnetwork 192.168.1.0\\nnetwork 192.168.2.0\\n end [eoc]', 'prompt:Aktifkan protokol RIP versi 2 pada Router B sekarang juga dan segera perkenalkan network 192.168.1.0 dan 192.168.2.0 ke dalam tabel perutean,commands:[Router B] configure terminal\\nrouter rip\\nversion 2\\nnetwork 192.168.1.0\\nnetwork 192.168.2.0\\n end [eoc]', 'prompt:Aktifkan VLAN 11 dengan IP address 192.168.0.2 subnet 255.255.255.0 pada interface g0/0 di Router B,commands:[Router B] configure terminal\\nint g0/0.11\\nencapsulation dot1q 11\\nip address 192.168.0.2 255.255.255.0\\n end [eoc]', 'prompt:Lakukan konfigurasi VLAN 11 pada interface g0/0 di Router B dengan IP address 192.168.0.2 dan subnet 255.255.255.0,commands:[Router B] configure terminal\\nint g0/0.11\\nencapsulation dot1q 11\\nip address 192.168.0.2 255.255.255.0\\n end [eoc]', 'prompt:Aktifkan VLAN 11 pada interface g0/0 di Router B dan berikan IP address 192.168.0.2 dengan subnet 255.255.255.0,commands:[Router B] configure terminal\\nint g0/0.11\\nencapsulation dot1q 11\\nip address 192.168.0.2 255.255.255.0\\n end [eoc]', 'prompt:Aktifkan VLAN 11 pada interface g0/0 di Router B dan tetapkan IP address 192.168.0.2 dengan subnet 255.255.255.0,commands:[Router B] configure terminal\\nint g0/0.11\\nencapsulation dot1q 11\\nip address 192.168.0.2 255.255.255.0\\n end [eoc]', 'prompt:Aktifkan VLAN 11 pada interface g0/0 di Router B dan pastikan menggunakan IP address 192.168.0.2 dan subnet 255.255.255.0,commands:[Router B] configure terminal\\nint g0/0.11\\nencapsulation dot1q 11\\nip address 192.168.0.2 255.255.255.0\\n end [eoc]', 'prompt:Aktifkan VLAN 22 dengan IP address 192.168.2.1 subnet 255.255.255.0 pada interface g0/0 di Router B,commands:[Router B] configure terminal\\nint g0/0.22\\nencapsulation dot1q 22\\nip address 192.168.2.1 255.255.255.0\\n end [eoc]', 'prompt:Aktifkan VLAN 22 pada interface g0/0 di Router B dan berikan IP address 192.168.2.1 dengan subnet 255.255.255.0,commands:[Router B] configure terminal\\nint g0/0.22\\nencapsulation dot1q 22\\nip address 192.168.2.1 255.255.255.0\\n end [eoc]', 'prompt:Lakukan konfigurasi VLAN 22 pada interface g0/0 di Router B dengan IP address 192.168.2.1 dan subnet 255.255.255.0,commands:[Router B] configure terminal\\nint g0/0.22\\nencapsulation dot1q 22\\nip address 192.168.2.1 255.255.255.0\\n end [eoc]', 'prompt:Aktifkan VLAN 22 pada interface g0/0 di Router B dan tetapkan IP address 192.168.2.1 dengan subnet 255.255.255.0,commands:[Router B] configure terminal\\nint g0/0.22\\nencapsulation dot1q 22\\nip address 192.168.2.1 255.255.255.0\\n end [eoc]', 'prompt:Aktifkan VLAN 22 pada interface g0/0 di Router B dan pastikan menggunakan IP address 192.168.2.1 dan subnet 255.255.255.0,commands:[Router B] configure terminal\\nint g0/0.22\\nencapsulation dot1q 22\\nip address 192.168.2.1 255.255.255.0\\n end [eoc]', 'prompt:Buat route static menuju network 192.168.3.0 dengan subnet mask 255.255.255.0 melalui interface g/1/0/0 di Router A,commands:[Router A] configure terminal\\nip route 192.168.3.0 255.255.255.0 g1/0/0\\n end [eoc]', 'prompt:Ciptakan skrip konfigurasi yang akan menetapkan route statis pada Router A untuk mengarahkan lalu lintas ke jaringan 192.168.3.0 dengan subnet mask 255.255.255.0 melalui interface g/1/0/0,commands:[Router A] configure terminal\\nip route 192.168.3.0 255.255.255.0 g1/0/0\\n end [eoc]', 'prompt:Konfigurasikan routing statis di Router A untuk mengarahkan lalu lintas ke jaringan 192.168.3.0 dengan subnet mask 255.255.255.0 melalui interface g/1/0/0,commands:[Router A] configure terminal\\nip route 192.168.3.0 255.255.255.0 g1/0/0\\n end [eoc]', 'prompt:Ciptakan konfigurasi perutean yang tepat pada Router A untuk memungkinkan lalu lintas menuju jaringan 192.168.3.0 dengan subnet mask 255.255.255.0 melalui interface g/1/0/0,commands:[Router A] configure terminal\\nip route 192.168.3.0 255.255.255.0 g1/0/0\\n end [eoc]', 'prompt:Tulis skrip perutean yang diperlukan untuk mengarahkan semua paket menuju jaringan 192.168.3.0 dengan subnet mask 255.255.255.0 melalui interface g/1/0/0 di Router A,commands:[Router A] configure terminal\\nip route 192.168.3.0 255.255.255.0 g1/0/0\\n end [eoc]', 'prompt:Aktifkan protokol RIP versi 2 pada Router A dan perkenalkan network 192.168.0.1, 192.168.2.0,commands:[Router A] configure terminal\\nrouter rip\\nversion 2\\nnetwork 192.168.0.1\\nnetwork 192.168.2.0\\n end [eoc]', 'prompt:Lakukan konfigurasi pada Router A untuk mengaktifkan protokol RIP versi 2 dan perkenalkan network 192.168.0.1 dan 192.168.2.0 ke dalam perutean,commands:[Router A] configure terminal\\nrouter rip\\nversion 2\\nnetwork 192.168.0.1\\nnetwork 192.168.2.0\\n end [eoc]', 'prompt:Aktifkan protokol RIP versi 2 pada Router A dan pastikan network 192.168.0.1 dan 192.168.2.0 dikenali oleh perutean,commands:[Router A] configure terminal\\nrouter rip\\nversion 2\\nnetwork 192.168.0.1\\nnetwork 192.168.2.0\\n end [eoc]', 'prompt:Lakukan langkah-langkah untuk mengaktifkan protokol RIP versi 2 pada Router A dan pastikan network 192.168.0.1 dan 192.168.2.0 dapat diakses melalui perutean,commands:[Router A] configure terminal\\nrouter rip\\nversion 2\\nnetwork 192.168.0.1\\nnetwork 192.168.2.0\\n end [eoc]', 'prompt:Aktifkan protokol RIP versi 2 pada Router A sekarang juga dan segera perkenalkan network 192.168.0.1 dan 192.168.2.0 ke dalam tabel perutean,commands:[Router A] configure terminal\\nrouter rip\\nversion 2\\nnetwork 192.168.0.1\\nnetwork 192.168.2.0\\n end [eoc]', 'prompt:Buat route static menuju network 192.168.2.0 dengan subnet mask 255.255.255.0 melalui interface g/1/1/0 di Router A,commands:[Router A] configure terminal\\nip route 192.168.2.0 255.255.255.0 g1/1/0\\n end [eoc]', 'prompt:Ciptakan skrip konfigurasi yang akan menetapkan route statis pada Router A untuk mengarahkan lalu lintas ke jaringan 192.168.2.0 dengan subnet mask 255.255.255.0 melalui interface g/1/1/0,commands:[Router A] configure terminal\\nip route 192.168.2.0 255.255.255.0 g1/1/0\\n end [eoc]', 'prompt:Konfigurasikan routing statis di Router A untuk mengarahkan lalu lintas ke jaringan 192.168.2.0 dengan subnet mask 255.255.255.0 melalui interface g/1/1/0,commands:[Router A] configure terminal\\nip route 192.168.2.0 255.255.255.0 g1/1/0\\n end [eoc]', 'prompt:Ciptakan konfigurasi perutean yang tepat pada Router A untuk memungkinkan lalu lintas menuju jaringan 192.168.2.0 dengan subnet mask 255.255.255.0 melalui interface g/1/1/0,commands:[Router A] configure terminal\\nip route 192.168.2.0 255.255.255.0 g1/1/0\\n end [eoc]', 'prompt:Tulis skrip perutean yang diperlukan untuk mengarahkan semua paket menuju jaringan 192.168.2.0 dengan subnet mask 255.255.255.0 melalui interface g/1/1/0 di Router A,commands:[Router A] configure terminal\\nip route 192.168.2.0 255.255.255.0 g1/1/0\\n end [eoc]', 'prompt:Aktifkan protokol RIP versi 2 pada Router A dan perkenalkan network 192.168.0.1, 192.168.3.0,commands:[Router A] configure terminal\\nrouter rip\\nversion 2\\nnetwork 192.168.0.1\\nnetwork 192.168.3.0\\n end [eoc]', 'prompt:Aktifkan versi 2 dari protokol RIP di Router A dan tambahkan jaringan 192.168.0.1 dan 192.168.3.0 ke dalam konfigurasi.,commands:[Router A] configure terminal\\nrouter rip\\nversion 2\\nnetwork 192.168.0.1\\nnetwork 192.168.3.0\\n end [eoc]', 'prompt:Menambahkan  jaringan dengan alamat IP 192.168.0.1 dan 192.168.3.0 ke dalam konfigurasi lalu aktifkan protokol RIP versi 2 pada Router A,commands:[Router A] configure terminal\\nrouter rip\\nversion 2\\nnetwork 192.168.0.1\\nnetwork 192.168.3.0\\n end [eoc]', 'prompt:Tambahkan jaringan 192.168.0.1 dan 192.168.3.0 ke dalam konfigurasi, kemudian aktifkan protokol RIP versi 2 pada Router A,commands:[Router A] configure terminal\\nrouter rip\\nversion 2\\nnetwork 192.168.0.1\\nnetwork 192.168.3.0\\n end [eoc]', 'prompt:Lakukan langkah-langkah untuk mengaktifkan protokol RIP versi 2 pada Router A dan pastikan network 192.168.0.1 dan 192.168.3.0 dapat diakses melalui perutean,commands:[Router A] configure terminal\\nrouter rip\\nversion 2\\nnetwork 192.168.0.1\\nnetwork 192.168.3.0\\n end [eoc]', 'prompt:Aktifkan protokol RIP versi 2 pada Router B dan perkenalkan network 192.168.1.0, 192.168.3.0,commands:[Router B] configure terminal\\nrouter rip\\nversion 2\\nnetwork 192.168.1.0\\nnetwork 192.168.3.0\\n end [eoc]', 'prompt:Pada Router A, tambahkan network 192.168.0.1 serta 192.168.3.0 dan aktifkan protokol RIP versi 2,commands:[Router B] configure terminal\\nrouter rip\\nversion 2\\nnetwork 192.168.1.0\\nnetwork 192.168.3.0\\n end [eoc]', 'prompt:Tambahkan jaringan 192.168.0.1 dan 192.168.3.0 ke dalam konfigurasi Router A, serta aktifkan protokol RIP versi 2.,commands:[Router B] configure terminal\\nrouter rip\\nversion 2\\nnetwork 192.168.1.0\\nnetwork 192.168.3.0\\n end [eoc]', 'prompt:Aktifkan protokol RIP versi 2 pada Router A, serta pastikan jaringan 192.168.0.1 serta 192.168.3.0 sudah dikenali pada konfigurasi perutean,commands:[Router B] configure terminal\\nrouter rip\\nversion 2\\nnetwork 192.168.1.0\\nnetwork 192.168.3.0\\n end [eoc]', 'prompt:Lakukan pengaktifan protokol RIP versi 2 pada Router A dan pastikan bahwa jaringan 192.168.0.1 dan 192.168.3.0 telah terdaftar dalam konfigurasi routing,commands:[Router B] configure terminal\\nrouter rip\\nversion 2\\nnetwork 192.168.1.0\\nnetwork 192.168.3.0\\n end [eoc]', 'prompt:Aktifkan VLAN 33 dengan IP address 192.168.0.1 subnet 255.255.255.0 pada interface g0/0 di Router B,commands:[Router B] configure terminal\\nint g0/0.33\\nencapsulation dot1q 33\\nip address 192.168.0.1 255.255.255.0\\n end [eoc]', 'prompt:Mengaktifkan VLAN 33 pada antarmuka g0/0 di Router B dengan alamat IP 192.168.0.1 dan subnet 255.255.255.0.,commands:[Router B] configure terminal\\nint g0/0.33\\nencapsulation dot1q 33\\nip address 192.168.0.1 255.255.255.0\\n end [eoc]', 'prompt:Lakukan konfigurasi VLAN 33 pada interface g0/0 di Router B dengan IP address 192.168.0.1 dan subnet 255.255.255.0,commands:[Router B] configure terminal\\nint g0/0.33\\nencapsulation dot1q 33\\nip address 192.168.0.1 255.255.255.0\\n end [eoc]', 'prompt:Konfigurasikan VLAN 33 pada antarmuka g0/0 di Router B dengan alamat IP 192.168.0.1 dan subnet 255.255.255.0,commands:[Router B] configure terminal\\nint g0/0.33\\nencapsulation dot1q 33\\nip address 192.168.0.1 255.255.255.0\\n end [eoc]', 'prompt:Aktifkan konfigurasi VLAN 33 pada interface g0/0 di Router B dengan alamat IP 192.168.0.1 dan subnet 255.255.255.0,commands:[Router B] configure terminal\\nint g0/0.33\\nencapsulation dot1q 33\\nip address 192.168.0.1 255.255.255.0\\n end [eoc]', 'prompt:Buat route static menuju network 192.168.3.0 dengan subnet mask 255.255.255.0 melalui interface g/1/0/1 di Router B,commands:[Router B] configure terminal\\nip route 192.168.3.0 255.255.255.0 g1/0/1\\n end [eoc]', 'prompt:Lakukan konfigurasi yang menetapkan route statis pada Router B untuk mengarahkan lalu lintas ke jaringan 192.168.3.0 dengan subnet mask 255.255.255.0 melalui interface g/1/0/1,commands:[Router B] configure terminal\\nip route 192.168.3.0 255.255.255.0 g1/0/1\\n end [eoc]', 'prompt:Lakukan pengaturan konfigurasi pada Router B untuk mengonfigurasi rute statis yang mengarahkan lalu lintas ke jaringan 192.168.3.0 dengan subnet mask 255.255.255.0 melalui antarmuka g/1/0/1.,commands:[Router B] configure terminal\\nip route 192.168.3.0 255.255.255.0 g1/0/1\\n end [eoc]', 'prompt:Tulis skrip perutean yang diperlukan untuk mengarahkan semua paket menuju jaringan 192.168.3.0 dengan subnet mask 255.255.255.0 melalui interface g/1/0/1 di Router B,commands:[Router B] configure terminal\\nip route 192.168.3.0 255.255.255.0 g1/0/1\\n end [eoc]', 'prompt:Tuliskan skrip rute yang diperlukan untuk mengalihkan semua paket ke jaringan 192.168.3.0 dengan subnet mask 255.255.255.0 melalui antarmuka g/1/0/1 di Router B.,commands:[Router B] configure terminal\\nip route 192.168.3.0 255.255.255.0 g1/0/1\\n end [eoc]', 'prompt:Aktifkan VLAN 33 dengan IP address 192.168.3.0 subnet 255.255.255.0 pada interface g1/0 di Router B,commands:[Router B] configure terminal\\nint g1/0.33\\nencapsulation dot1q 33\\nip address 192.168.3.0 255.255.255.0\\n end [eoc]', 'prompt:Lakukan konfigurasi VLAN 33 pada antarmuka g1/0 di Router B dengan IP address 192.168.3.0 dan subnet 255.255.255.0,commands:[Router B] configure terminal\\nint g1/0.33\\nencapsulation dot1q 33\\nip address 192.168.3.0 255.255.255.0\\n end [eoc]', 'prompt:Konfigurasikan VLAN 33 pada interface Router B g1/0 dengan alamat IP 192.168.3.0 dan subnet mask 255.255.255.0.,commands:[Router B] configure terminal\\nint g1/0.33\\nencapsulation dot1q 33\\nip address 192.168.3.0 255.255.255.0\\n end [eoc]', 'prompt:Aktifkan konfigurasi VLAN 33 pada interface g1/0 di Router B dengan alamat IP 192.168.3.0 dan subnet 255.255.255.0,commands:[Router B] configure terminal\\nint g1/0.33\\nencapsulation dot1q 33\\nip address 192.168.3.0 255.255.255.0\\n end [eoc]', 'prompt:Aktifkan VLAN 33 pada interface g1/0 di Router B dan pastikan menggunakan IP address 192.168.3.0 dan subnet 255.255.255.0,commands:[Router B] configure terminal\\nint g1/0.33\\nencapsulation dot1q 33\\nip address 192.168.3.0 255.255.255.0\\n end [eoc]', 'prompt:Aktifkan VLAN 11 dengan IP address 192.168.2.2 subnet 255.255.255.0 pada interface g0/1 di Router A,commands:[Router A] configure terminal\\nint g0/1.11\\nencapsulation dot1q 11\\nip address 192.168.2.2 255.255.255.0\\n end [eoc]', 'prompt:Lakukan konfigurasi VLAN 11 pada interface g0/1 di Router A dengan IP address 192.168.2.2 dan subnet 255.255.255.0,commands:[Router A] configure terminal\\nint g0/1.11\\nencapsulation dot1q 11\\nip address 192.168.2.2 255.255.255.0\\n end [eoc]', 'prompt:Aktifkan VLAN 11 pada interface g0/1 di Router A dan berikan IP address 192.168.2.2 dengan subnet 255.255.255.0,commands:[Router A] configure terminal\\nint g0/1.11\\nencapsulation dot1q 11\\nip address 192.168.2.2 255.255.255.0\\n end [eoc]', 'prompt:Aktifkan VLAN 11 pada interface g0/1 di Router A dan tetapkan IP address 192.168.2.2 dengan subnet 255.255.255.0,commands:[Router A] configure terminal\\nint g0/1.11\\nencapsulation dot1q 11\\nip address 192.168.2.2 255.255.255.0\\n end [eoc]', 'prompt:Aktifkan VLAN 11 pada interface g0/1 di Router A dan pastikan menggunakan IP address 192.168.2.2 dan subnet 255.255.255.0,commands:[Router A] configure terminal\\nint g0/1.11\\nencapsulation dot1q 11\\nip address 192.168.2.2 255.255.255.0\\n end [eoc]', 'prompt:Aktifkan VLAN 33 dengan IP address 192.168.1.1 subnet 255.255.255.0 pada interface g0/0 di Router B,commands:[Router B] configure terminal\\nint g0/0.33\\nencapsulation dot1q 33\\nip address 192.168.1.1 255.255.255.0\\n end [eoc]', 'prompt:Lakukan konfigurasi VLAN 33 pada antarmuka g0/0 di Router B dengan IP address 192.168.1.1 dan subnet 255.255.255.0,commands:[Router B] configure terminal\\nint g0/0.33\\nencapsulation dot1q 33\\nip address 192.168.1.1 255.255.255.0\\n end [eoc]', 'prompt:Konfigurasikan VLAN 33 pada interface Router B g0/0 dengan alamat IP 192.168.1.1 dan subnet mask 255.255.255.0.,commands:[Router B] configure terminal\\nint g0/0.33\\nencapsulation dot1q 33\\nip address 192.168.1.1 255.255.255.0\\n end [eoc]', 'prompt:Aktifkan konfigurasi VLAN 33 pada interface g0/0 di Router B dengan alamat IP 192.168.1.1 dan subnet 255.255.255.0,commands:[Router B] configure terminal\\nint g0/0.33\\nencapsulation dot1q 33\\nip address 192.168.1.1 255.255.255.0\\n end [eoc]', 'prompt:Aktifkan VLAN 33 pada interface g0/0 di Router B dan pastikan menggunakan IP address 192.168.1.1 dan subnet 255.255.255.0,commands:[Router B] configure terminal\\nint g0/0.33\\nencapsulation dot1q 33\\nip address 192.168.1.1 255.255.255.0\\n end [eoc]', 'prompt:Aktifkan VLAN 22 dengan IP address 192.168.0.3 subnet 255.255.255.0 pada interface g0/1 di Router B,commands:[Router B] configure terminal\\nint g0/1.22\\nencapsulation dot1q 22\\nip address 192.168.0.3 255.255.255.0\\n end [eoc]', 'prompt:Lakukan konfigurasi VLAN 22 pada interface g0/1 di Router B dengan IP address 192.168.0.3 dan subnet 255.255.255.0,commands:[Router B] configure terminal\\nint g0/1.22\\nencapsulation dot1q 22\\nip address 192.168.0.3 255.255.255.0\\n end [eoc]', 'prompt:Aktifkan VLAN 11 pada interface g0/1 di Router B dan berikan IP address 192.168.0.3 dengan subnet 255.255.255.0,commands:[Router B] configure terminal\\nint g0/1.22\\nencapsulation dot1q 22\\nip address 192.168.0.3 255.255.255.0\\n end [eoc]', 'prompt:Aktifkan VLAN 11 pada interface g0/1 di Router B dan tetapkan IP address 192.168.0.3 dengan subnet 255.255.255.0,commands:[Router B] configure terminal\\nint g0/1.22\\nencapsulation dot1q 22\\nip address 192.168.0.3 255.255.255.0\\n end [eoc]', 'prompt:Aktifkan VLAN 11 pada interface g0/1 di Router B dan pastikan menggunakan IP address 192.168.0.3 dan subnet 255.255.255.0,commands:[Router B] configure terminal\\nint g0/1.22\\nencapsulation dot1q 22\\nip address 192.168.0.3 255.255.255.0\\n end [eoc]', 'prompt:Aktifkan VLAN 22 dengan IP address 192.168.2.3 subnet 255.255.255.0 pada interface g0/0 di Router A,commands:[Router A] configure terminal\\nint g0/0.22\\nencapsulation dot1q 22\\nip address 192.168.2.3 255.255.255.0\\n end [eoc]', 'prompt:Aktifkan VLAN 2 pada interface g0/0 di Router A dan berikan IP address 192.168.2.3 dengan subnet 255.255.255.0,commands:[Router A] configure terminal\\nint g0/0.22\\nencapsulation dot1q 22\\nip address 192.168.2.3 255.255.255.0\\n end [eoc]', 'prompt:Lakukan konfigurasi VLAN 22 pada interface g0/0 di Router A dengan IP address 192.168.2.3 dan subnet 255.255.255.0,commands:[Router A] configure terminal\\nint g0/0.22\\nencapsulation dot1q 22\\nip address 192.168.2.3 255.255.255.0\\n end [eoc]', 'prompt:Aktifkan VLAN 22 pada interface g0/0 di Router A dan tetapkan IP address 192.168.2.3 dengan subnet 255.255.255.0,commands:[Router A] configure terminal\\nint g0/0.22\\nencapsulation dot1q 22\\nip address 192.168.2.3 255.255.255.0\\n end [eoc]', 'prompt:Aktifkan VLAN 22 pada interface g0/0 di Router A dan pastikan menggunakan IP address 192.168.2.3 dan subnet 255.255.255.0,commands:[Router A] configure terminal\\nint g0/0.22\\nencapsulation dot1q 22\\nip address 192.168.2.3 255.255.255.0\\n end [eoc]', 'prompt:Aktifkan VLAN 22 dengan IP address 192.168.2.4 subnet 255.255.255.0 pada interface g1/1 di Router A,commands:[Router A] configure terminal\\nint g1/1.22\\nencapsulation dot1q 22\\nip address 192.168.2.4 255.255.255.0\\n end [eoc]', 'prompt:Lakukan konfigurasi VLAN 22 pada interface g1/1 di Router A dengan IP address 192.168.2.4 dan subnet 255.255.255.0,commands:[Router A] configure terminal\\nint g1/1.22\\nencapsulation dot1q 22\\nip address 192.168.2.4 255.255.255.0\\n end [eoc]', 'prompt:Aktifkan VLAN 22 pada interface g1/1 di Router A dan berikan IP address 192.168.2.4 dengan subnet 255.255.255.0,commands:[Router A] configure terminal\\nint g1/1.22\\nencapsulation dot1q 22\\nip address 192.168.2.4 255.255.255.0\\n end [eoc]', 'prompt:Aktifkan VLAN 22 pada interface g1/1 di Router A dan tetapkan IP address 192.168.2.4 dengan subnet 255.255.255.0,commands:[Router A] configure terminal\\nint g1/1.22\\nencapsulation dot1q 22\\nip address 192.168.2.4 255.255.255.0\\n end [eoc]', 'prompt:Aktifkan VLAN 22 pada interface g1/1 di Router A dan pastikan menggunakan IP address 192.168.2.4 dan subnet 255.255.255.0,commands:[Router A] configure terminal\\nint g1/1.22\\nencapsulation dot1q 22\\nip address 192.168.2.4 255.255.255.0\\n end [eoc]', 'prompt:Aktifkan VLAN 33 dengan IP address 192.168.0.4 subnet 255.255.255.0 pada interface g0/0 di Router B,commands:[Router B] configure terminal\\nint g0/0.33\\nencapsulation dot1q 33\\nip address 192.168.0.4 255.255.255.0\\n end [eoc]', 'prompt:Aktifkan VLAN 33 pada interface g0/0 di Router B dan berikan IP address 192.168.0.4 dengan subnet 255.255.255.0,commands:[Router B] configure terminal\\nint g0/0.33\\nencapsulation dot1q 33\\nip address 192.168.0.4 255.255.255.0\\n end [eoc]', 'prompt:Lakukan konfigurasi VLAN 33 pada interface g0/0 di Router B dengan IP address 192.168.0.4 dan subnet 255.255.255.0,commands:[Router B] configure terminal\\nint g0/0.33\\nencapsulation dot1q 33\\nip address 192.168.0.4 255.255.255.0\\n end [eoc]', 'prompt:Aktifkan VLAN 33 pada interface g0/0 di Router B dan tetapkan IP address 192.168.0.4 dengan subnet 255.255.255.0,commands:[Router B] configure terminal\\nint g0/0.33\\nencapsulation dot1q 33\\nip address 192.168.0.4 255.255.255.0\\n end [eoc]', 'prompt:Aktifkan VLAN 33 pada interface g0/0 di Router B dan pastikan menggunakan IP address 192.168.0.4 dan subnet 255.255.255.0,commands:[Router B] configure terminal\\nint g0/0.33\\nencapsulation dot1q 33\\nip address 192.168.0.4 255.255.255.0\\n end [eoc]', 'prompt:Aktifkan VLAN 11 dengan IP address 192.168.1.2 subnet 255.255.255.0 pada interface g0/0 di Router B,commands:[Router B] configure terminal\\nint g0/0.11\\nencapsulation dot1q 11\\nip address 192.168.1.2 255.255.255.0\\n end [eoc]', 'prompt:Aktifkan VLAN 11 pada interface g0/0 di Router B dan berikan IP address 192.168.1.2 dengan subnet 255.255.255.0,commands:[Router B] configure terminal\\nint g0/0.11\\nencapsulation dot1q 11\\nip address 192.168.1.2 255.255.255.0\\n end [eoc]', 'prompt:Lakukan konfigurasi VLAN 11 pada interface g0/0 di Router B dengan IP address 192.168.1.2 dan subnet 255.255.255.0,commands:[Router B] configure terminal\\nint g0/0.11\\nencapsulation dot1q 11\\nip address 192.168.1.2 255.255.255.0\\n end [eoc]', 'prompt:Aktifkan VLAN 11 pada interface g0/0 di Router B dan tetapkan IP address 192.168.1.2 dengan subnet 255.255.255.0,commands:[Router B] configure terminal\\nint g0/0.11\\nencapsulation dot1q 11\\nip address 192.168.1.2 255.255.255.0\\n end [eoc]', 'prompt:Aktifkan VLAN 11 pada interface g0/0 di Router B dan pastikan menggunakan IP address 192.168.1.2 dan subnet 255.255.255.0,commands:[Router B] configure terminal\\nint g0/0.11\\nencapsulation dot1q 11\\nip address 192.168.1.2 255.255.255.0\\n end [eoc]', 'prompt:Aktifkan VLAN 11 dengan IP address 192.168.1.4 subnet 255.255.255.0 pada interface g1/1 di Router A,commands:[Router A] configure terminal\\nint g1/1.11\\nencapsulation dot1q 11\\nip address 192.168.1.4 255.255.255.0\\n end [eoc]', 'prompt:Aktifkan VLAN 11 pada interface g1/1 di Router A dan berikan IP address 192.168.1.4 dengan subnet 255.255.255.0,commands:[Router A] configure terminal\\nint g1/1.11\\nencapsulation dot1q 11\\nip address 192.168.1.4 255.255.255.0\\n end [eoc]', 'prompt:Lakukan konfigurasi VLAN 11 pada interface g1/1 di Router A dengan IP address 192.168.1.4 dan subnet 255.255.255.0,commands:[Router A] configure terminal\\nint g1/1.11\\nencapsulation dot1q 11\\nip address 192.168.1.4 255.255.255.0\\n end [eoc]', 'prompt:Aktifkan VLAN 11 pada interface g1/1 di Router A dan tetapkan IP address 192.168.1.4 dengan subnet 255.255.255.0,commands:[Router A] configure terminal\\nint g1/1.11\\nencapsulation dot1q 11\\nip address 192.168.1.4 255.255.255.0\\n end [eoc]', 'prompt:Aktifkan VLAN 11 pada interface g1/1 di Router A dan pastikan menggunakan IP address 192.168.1.4 dan subnet 255.255.255.0,commands:[Router A] configure terminal\\nint g1/1.11\\nencapsulation dot1q 11\\nip address 192.168.1.4 255.255.255.0\\n end [eoc]', 'commands:[Router Z] configure terminal\\nip route 192.168.1.0 255.255.255.0 g0/0/0\\n end [eoc],bot_reply:Untuk membuat rute pada Router Z melalui interface g/0/0/0 menuju jaringan lokal dengan IP 192.168.1.0, subnet mask 255.255.255.0 kita perlu menyatakan pemanggilan konfigurasi Router Z terlebih dahulu dengan menggunakan perintah\\n[Router Z] configure terminal\\nLalu dengan perintah ip route tambahkan alamat IP tujuan, subnet mask, dan interface. Rangkaian perintah diakhiri dengan end [eoc]. Rangkaian perintah dapat dilakukan sebagai berikut:\\n[Router Z] configure terminal\\nip route 192.168.1.0 255.255.255.0 g0/0/0\\nend [eoc]', 'commands:[Router I] configure terminal\\nip route 192.168.1.0 255.255.255.0 g0/0/0\\n end [eoc],bot_reply:Untuk mengkonfigurasi rute pada Router I untuk jaringan lokal dengan alamat IP 192.168.1.0 dan subnet mask 255.255.255.0, Anda harus mulai dengan mengakses mode konfigurasi menggunakan perintah:\\n[Router I] configure terminal\\nSelanjutnya, tambahkan alamat IP tujuan, subnet mask, dan antarmuka menggunakan perintah `ip route`. Urutan perintah diakhiri dengan yang berikut:\\nip route 192.168.1.0 255.255.255.0 g0/0/0\\nend [eoc]\\nAnda dapat menjalankan serangkaian perintah seperti yang disebutkan di atas.', 'commands:[Router X] configure terminal\\nip route 192.168.1.0 255.255.255.0 g0/0/0\\n end [eoc],bot_reply:Untuk mengatur rute pada Router X untuk jaringan lokal dengan alamat IP 192.168.1.0 dan subnet mask 255.255.255.0, langkah pertama adalah masuk ke mode konfigurasi menggunakan perintah berikut:\\n[Router X] configure terminal\\nSelanjutnya, gunakan perintah `ip route` untuk menambahkan alamat IP tujuan, subnet mask, dan antarmuka. Akhir dari urutan perintah adalah sebagai berikut:\\nip route 192.168.1.0 255.255.255.0 g0/0/0\\nend [eoc]Anda dapat melaksanakan rangkaian perintah sebagaimana dijelaskan di atas.', 'commands:[Router C] configure terminal\\nrouter rip\\nversion 2\\nnetwork 192.168.2.0\\nnetwork 192.168.3.0\\n end [eoc],bot_reply:Untuk mengaktifkan protokol RIP versi 2 pada Router C dan pendaftaran alamat IP 192.168.2.0 dan 192.168.3.0 pada perutean, perlu dinyatakan ppemanggilan konfigurasi Router C terlebih dahulu dengan perintah\\n[Router C] configure terminal\\nLalu tambahkan perintah router rip dan version 2 untuk menandakan akan digunakan protokol RIP versi 2\\nrouter rip\\nversion 2\\nSetelah itu cantumkan alamat IP asal dan alamat IP tujuan dengan menggunakan perintah network. Rangkaian perintah diakhiri dengan end [eoc]. Rangkaian perintah dapat dilakukan sebagai berikut:\\n[Router C] configure terminal\\nrouter rip\\nversion 2\\nnetwork 192.168.2.0\\nnetwork 192.168.3.0\\nend [eoc]', 'commands:[Router K] configure terminal\\nrouter rip\\nversion 2\\nnetwork 192.168.2.0\\nnetwork 192.168.3.0\\n end [eoc],bot_reply:Untuk mengaktifkan protokol RIP versi 2 pada Router K dan mendaftarkan alamat IP 192.168.2.0 dan 192.168.3.0 pada perutean, langkah awal adalah memasuki mode konfigurasi pada Router K dengan perintah:\\n[Router K] configure terminal\\nSetelah itu, gunakan perintah `router rip` dan `version 2` untuk menandakan bahwa Anda akan menggunakan protokol RIP versi 2:\\nrouter rip\\nversion 2\\nSelanjutnya, tambahkan alamat IP sumber dan tujuan dengan perintah `network`. Urutan perintah diakhiri dengan `end [eoc]`. Rangkaian perintah dapat dijalankan sebagai berikut:\\n[Router K] configure terminal\\nrouter rip\\nversion 2\\nnetwork 192.168.2.0\\nnetwork 192.168.3.0\\nend [eoc]\\nAnda dapat melaksanakan rangkaian perintah seperti di atas.', 'commands:[Router A] configure terminal\\nrouter rip\\nversion 2\\nnetwork 192.168.2.0\\nnetwork 192.168.3.0\\n end [eoc],bot_reply:Untuk mengaktifkan protokol RIP versi 2 pada Router A dan memasukkan alamat IP 192.168.2.0 dan 192.168.3.0 pada tabel routing, langkah awal adalah mengakses mode konfigurasi pada Router A menggunakan perintah berikut:\\n[Router A] configure terminal\\nAfterward, utilize the `router rip` and `version 2` commands to specify the use of RIP protocol version 2:\\nrouter rip\\nversion 2\\nSelanjutnya, gabungkan alamat IP sumber dan tujuan menggunakan perintah `network`. Urutan perintah diakhiri dengan `end [eoc]`. Perintah-perintah tersebut dapat dijalankan sebagai berikut:\\n[Router A] configure terminal\\nrouter rip\\nversion 2\\nnetwork 192.168.2.0\\nnetwork 192.168.3.0\\nend [eoc]\\nAnda dapat menerapkan urutan perintah seperti yang ditunjukkan di atas.', 'commands:[Router K] configure terminal\\nint g0/0.11\\nencapsulation dot1q 11\\nip address 192.168.0.1 255.255.255.0\\n end [eoc],bot_reply:Untuk mengaktifkan VLAN 11 pada Router K dengan interface g0/0, alamat IP 192.168.0.1, dan subnet mask 255.255.255.0 kita perlu menyatakan pemanggilan konfigurasi Router K terlebih dahulu dengan menggunakan perintah\\n[Router K] configure terminal\\nLalu berdasarkan interface, tipe vlan, alamat IP, dan subnet mask dapat digunakan perintah int, encapsulation, dan ip address\\nint g0/0.11\\nencapsulation dot1q 11\\nip address 192.168.0.1 255.255.255.0\\nRangkaian perintah diakhiri dengan end [eoc]. Rangkaian perintah dapat dilakukan sebagai berikut:\\n[Router K] configure terminal\\nint g0/0.11\\nencapsulation dot1q 11\\nip address 192.168.0.1 255.255.255.0\\nend [eoc]', 'commands:[Router G] configure terminal\\nint g0/0.11\\nencapsulation dot1q 11\\nip address 192.168.0.1 255.255.255.0\\n end [eoc],bot_reply:Untuk mengaktifkan VLAN 11 pada Router G dengan alamat IP 192.168.0.1, interface g0/0, dan subnet mask 255.255.255.0  perlu dilakukan pemanggilan konfigurasi Router G terlebih dahulu dengan menggunakan perintah\\n[Router G] configure terminal\\nSetelah itu berdasarkan interface, tipe vlan, alamat IP, dan subnet mask dapat digunakan perintah int, encapsulation, dan ip address\\nint g0/0.11\\nencapsulation dot1q 11\\nip address 192.168.0.1 255.255.255.0\\nRangkaian perintah diakhiri dengan end [eoc]. Rangkaian perintah adalah sebagai berikut:\\n[Router G] configure terminal\\nint g0/0.11\\nencapsulation dot1q 11\\nip address 192.168.0.1 255.255.255.0\\nend [eoc]', 'commands:[Router A] configure terminal\\nint g0/0.11\\nencapsulation dot1q 11\\nip address 192.168.0.1 255.255.255.0\\n end [eoc],bot_reply:Anda dapat mengaktifkan VLAN 11 pada Router A dengan alamat IP 192.168.0.1, interface g0/0, dan subnet mask 255.255.255.0 dengan langkah pertama melakukan pemanggilan konfigurasi Router A terlebih dahulu dengan menggunakan perintah\\n[Router A] configure terminal\\nLalu berdasarkan interface, tipe vlan, alamat IP, dan subnet mask gunakan perintah int, encapsulation, dan ip address\\nint g0/0.11\\nencapsulation dot1q 11\\nip address 192.168.0.1 255.255.255.0\\nRangkaian perintah diakhiri dengan end [eoc]. Perintah lengkapnya, yaitu:\\n[Router A] configure terminal\\nint g0/0.11\\nencapsulation dot1q 11\\nip address 192.168.0.1 255.255.255.0\\nend [eoc]', 'commands:[Router G] configure terminal\\nint g0/0.22\\nencapsulation dot1q 22\\nip address 192.168.1.1 255.255.255.0\\n end [eoc],bot_reply:Untuk mengaktifkan VLAN 22 pada Router G dengan alamat IP 192.168.1.1, interface g0/0, dan subnet mask 255.255.255.0  perlu dilakukan pemanggilan konfigurasi Router G terlebih dahulu dengan menggunakan perintah\\n[Router G] configure terminal\\nSetelah itu berdasarkan interface, tipe vlan, alamat IP, dan subnet mask dapat digunakan perintah int, encapsulation, dan ip address\\nint g0/0.22\\nencapsulation dot1q 22\\nip address 192.168.1.1 255.255.255.0\\nRangkaian perintah diakhiri dengan end [eoc]. Rangkaian perintah adalah sebagai berikut:\\n[Router G] configure terminal\\nint g0/0.22\\nencapsulation dot1q 22\\nip address 192.168.1.1 255.255.255.0\\nend [eoc]', 'commands:[Router O] configure terminal\\nint g0/0.22\\nencapsulation dot1q 22\\nip address 192.168.1.1 255.255.255.0\\n end [eoc],bot_reply:Untuk mengaktifkan VLAN 22 pada Router O dengan interface g0/0, alamat IP 192.168.2.1, dan subnet mask 255.255.255.0 kita perlu menyatakan pemanggilan konfigurasi Router O terlebih dahulu dengan menggunakan perintah\\n[Router O] configure terminal\\nLalu berdasarkan interface, tipe vlan, alamat IP, dan subnet mask dapat digunakan perintah int, encapsulation, dan ip address\\nint g0/0.33\\nencapsulation dot1q 33\\nip address 192.168.2.1 255.255.255.0\\nRangkaian perintah diakhiri dengan end [eoc]. Rangkaian perintah dapat dilakukan sebagai berikut:\\n[Router O] configure terminal\\nint g0/0.33\\nencapsulation dot1q 33\\nip address 192.168.2.1 255.255.255.0\\nend [eoc]', 'commands:[Router I] configure terminal\\nint g0/0.22\\nencapsulation dot1q 22\\nip address 192.168.1.1 255.255.255.0\\n end [eoc],bot_reply:Anda dapat mengaktifkan VLAN 22 pada Router I dengan alamat IP 192.168.1.1, interface g0/0, dan subnet mask 255.255.255.0 dengan langkah pertama melakukan pemanggilan konfigurasi Router I terlebih dahulu dengan menggunakan perintah\\n[Router I] configure terminal\\nLalu berdasarkan interface, tipe vlan, alamat IP, dan subnet mask gunakan perintah int, encapsulation, dan ip address\\nint g0/0.22\\nencapsulation dot1q 22\\nip address 192.168.1.1 255.255.255.0\\nRangkaian perintah diakhiri dengan end [eoc]. Perintah lengkapnya, yaitu:\\n[Router I] configure terminal\\nint g0/0.22\\nencapsulation dot1q 22\\nip address 192.168.1.1 255.255.255.0\\nend [eoc]', 'commands:[Router A] configure terminal\\nint g0/0.33\\nencapsulation dot1q 33\\nip address 192.168.2.1 255.255.255.0\\n end [eoc],bot_reply:Untuk mengaktifkan VLAN 33 pada Router A dengan alamat IP 192.168.2.1, interface g0/0, dan subnet mask 255.255.255.0  perlu dilakukan pemanggilan konfigurasi Router A terlebih dahulu dengan menggunakan perintah\\n[Router A] configure terminal\\nSetelah itu berdasarkan interface, tipe vlan, alamat IP, dan subnet mask dapat digunakan perintah int, encapsulation, dan ip address\\nint g0/0.33\\nencapsulation dot1q 33\\nip address 192.168.2.1 255.255.255.0\\nRangkaian perintah diakhiri dengan end [eoc]. Rangkaian perintah adalah sebagai berikut:\\n[Router A] configure terminal\\nint g0/0.33\\nencapsulation dot1q 33\\nip address 192.168.2.1 255.255.255.0\\nend [eoc]', 'commands:[Router I] configure terminal\\nint g0/0.33\\nencapsulation dot1q 33\\nip address 192.168.2.1 255.255.255.0\\n end [eoc],bot_reply:Untuk mengaktifkan VLAN 33 pada Router I dengan interface g0/0, alamat IP 192.168.2.1, dan subnet mask 255.255.255.0 kita perlu menyatakan pemanggilan konfigurasi Router I terlebih dahulu dengan menggunakan perintah\\n[Router I] configure terminal\\nLalu berdasarkan interface, tipe vlan, alamat IP, dan subnet mask dapat digunakan perintah int, encapsulation, dan ip address\\nint g0/0.33\\nencapsulation dot1q 33\\nip address 192.168.2.1 255.255.255.0\\nRangkaian perintah diakhiri dengan end [eoc]. Rangkaian perintah dapat dilakukan sebagai berikut:\\n[Router I] configure terminal\\nint g0/0.33\\nencapsulation dot1q 33\\nip address 192.168.2.1 255.255.255.0\\nend [eoc]', 'commands:[Router Z] configure terminal\\nint g0/0.33\\nencapsulation dot1q 33\\nip address 192.168.2.1 255.255.255.0\\n end [eoc],bot_reply:Anda dapat mengaktifkan VLAN 33 pada Router Z dengan alamat IP 192.168.2.1, interface g0/0, dan subnet mask 255.255.255.0 dengan langkah pertama melakukan pemanggilan konfigurasi Router Z terlebih dahulu dengan menggunakan perintah\\n[Router Z] configure terminal\\nLalu berdasarkan interface, tipe vlan, alamat IP, dan subnet mask gunakan perintah int, encapsulation, dan ip address\\nint g0/0.33\\nencapsulation dot1q 33\\nip address 192.168.2.1 255.255.255.0\\nRangkaian perintah diakhiri dengan end [eoc]. Perintah lengkapnya, yaitu:\\n[Router Z] configure terminal\\nint g0/0.33\\nencapsulation dot1q 33\\nip address 192.168.2.1 255.255.255.0\\nend [eoc]', 'commands:[Router K] configure terminal\\nip route 192.168.0.1 255.255.255.0 g0/0/0\\n end [eoc],bot_reply:Untuk membuat rute pada Router K melalui interface g/0/0/0 menuju jaringan lokal dengan IP 192.168.0.1, subnet mask 255.255.255.0 kita perlu menyatakan pemanggilan konfigurasi Router K terlebih dahulu dengan menggunakan perintah\\n[Router K] configure terminal\\nLalu dengan perintah ip route tambahkan alamat IP tujuan, subnet mask, dan interface. Rangkaian perintah diakhiri dengan end [eoc]. Rangkaian perintah dapat dilakukan sebagai berikut:\\n[Router K] configure terminal\\nip route 192.168.0.1 255.255.255.0 g0/0/0\\nend [eoc]', 'commands:[Router K] configure terminal\\nip route 192.168.0.1 255.255.255.0 g0/0/0\\n end [eoc],bot_reply:Untuk mengkonfigurasi rute pada Router K untuk jaringan lokal dengan alamat IP 192.168.0.1 dan subnet mask 255.255.255.0, Anda harus mulai dengan mengakses mode konfigurasi menggunakan perintah:\\n[Router K] configure terminal\\nSelanjutnya, tambahkan alamat IP tujuan, subnet mask, dan antarmuka menggunakan perintah `ip route`. Urutan perintah diakhiri dengan yang berikut:\\nip route 192.168.0.1 255.255.255.0 g0/0/0\\nend [eoc]\\nAnda dapat menjalankan serangkaian perintah seperti yang disebutkan di atas.', 'commands:[Router C] configure terminal\\nip route 192.168.0.1 255.255.255.0 g0/0/0\\n end [eoc],bot_reply:Untuk mengatur rute pada Router C untuk jaringan lokal dengan alamat IP 192.168.0.1 dan subnet mask 255.255.255.0, langkah pertama adalah masuk ke mode konfigurasi menggunakan perintah berikut:\\n[Router C] configure terminal\\nSelanjutnya, gunakan perintah `ip route` untuk menambahkan alamat IP tujuan, subnet mask, dan antarmuka. Akhir dari urutan perintah adalah sebagai berikut:\\nip route 192.168.0.1 255.255.255.0 g0/0/0\\nend [eoc]Anda dapat melaksanakan rangkaian perintah sebagaimana dijelaskan di atas.', 'commands:[Router X] configure terminal\\nrouter rip\\nversion 2\\nnetwork 192.168.1.0\\nnetwork 192.168.2.0\\n end [eoc],bot_reply:Untuk mengaktifkan protokol RIP versi 2 pada Router X dan pendaftaran alamat IP 192.168.1.0 dan 192.168.2.0 pada perutean, perlu dinyatakan ppemanggilan konfigurasi Router X terlebih dahulu dengan perintah\\n[Router X] configure terminal\\nLalu tambahkan perintah router rip dan version 2 untuk menandakan akan digunakan protokol RIP versi 2\\nrouter rip\\nversion 2\\nSetelah itu cantumkan alamat IP asal dan alamat IP tujuan dengan menggunakan perintah network. Rangkaian perintah diakhiri dengan end [eoc]. Rangkaian perintah dapat dilakukan sebagai berikut:\\n[Router X] configure terminal\\nrouter rip\\nversion 2\\nnetwork 192.168.1.0\\nnetwork 192.168.2.0\\nend [eoc]', 'commands:[Router Y] configure terminal\\nrouter rip\\nversion 2\\nnetwork 192.168.1.0\\nnetwork 192.168.2.0\\n end [eoc],bot_reply:Untuk mengaktifkan protokol RIP versi 2 pada Router Y dan mendaftarkan alamat IP 192.168.1.0 dan 192.168.2.0 pada perutean, langkah awal adalah memasuki mode konfigurasi pada Router Y dengan perintah:\\n[Router Y] configure terminal\\nSetelah itu, gunakan perintah `router rip` dan `version 2` untuk menandakan bahwa Anda akan menggunakan protokol RIP versi 2:\\nrouter rip\\nversion 2\\nSelanjutnya, tambahkan alamat IP sumber dan tujuan dengan perintah `network`. Urutan perintah diakhiri dengan `end [eoc]`. Rangkaian perintah dapat dijalankan sebagai berikut:\\n[Router Y] configure terminal\\nrouter rip\\nversion 2\\nnetwork 192.168.1.0\\nnetwork 192.168.2.0\\nend [eoc]\\nAnda dapat melaksanakan rangkaian perintah seperti di atas.', 'commands:[Router B] configure terminal\\nrouter rip\\nversion 2\\nnetwork 192.168.1.0\\nnetwork 192.168.2.0\\n end [eoc],bot_reply:Untuk mengaktifkan protokol RIP versi 2 pada Router B dan memasukkan alamat IP 192.168.1.0 dan 192.168.2.0 pada tabel routing, langkah awal adalah mengakses mode konfigurasi pada Router B menggunakan perintah berikut:\\n[Router B] configure terminal\\nAfterward, utilize the `router rip` and `version 2` commands to specify the use of RIP protocol version 2:\\nrouter rip\\nversion 2\\nSelanjutnya, gabungkan alamat IP sumber dan tujuan menggunakan perintah `network`. Urutan perintah diakhiri dengan `end [eoc]`. Perintah-perintah tersebut dapat dijalankan sebagai berikut:\\n[Router B] configure terminal\\nrouter rip\\nversion 2\\nnetwork 192.168.1.0\\nnetwork 192.168.2.0\\nend [eoc]\\nAnda dapat menerapkan urutan perintah seperti yang ditunjukkan di atas.', 'commands:[Router B] configure terminal\\nip route 192.168.3.0 255.255.255.0 g1/0/0\\n end [eoc],bot_reply:Untuk membuat rute pada Router B melalui interface g/1/0/0 menuju jaringan lokal dengan IP 192.168.3.0, subnet mask 255.255.255.0 kita perlu menyatakan pemanggilan konfigurasi Router B terlebih dahulu dengan menggunakan perintah\\n[Router B] configure terminal\\nLalu dengan perintah ip route tambahkan alamat IP tujuan, subnet mask, dan interface. Rangkaian perintah diakhiri dengan end [eoc]. Rangkaian perintah dapat dilakukan sebagai berikut:\\n[Router B] configure terminal\\nip route 192.168.3.0 255.255.255.0 g1/0/0\\nend [eoc]', 'commands:[Router Y] configure terminal\\nip route 192.168.3.0 255.255.255.0 g1/0/0\\n end [eoc],bot_reply:Untuk mengkonfigurasi rute pada Router Y untuk jaringan lokal dengan alamat IP 192.168.3.0 dan subnet mask 255.255.255.0, Anda harus mulai dengan mengakses mode konfigurasi menggunakan perintah:\\n[Router Y] configure terminal\\nSelanjutnya, tambahkan alamat IP tujuan, subnet mask, dan antarmuka menggunakan perintah `ip route`. Urutan perintah diakhiri dengan yang berikut:\\nip route 192.168.3.0 255.255.255.0 g1/0/0\\nend [eoc]\\nAnda dapat menjalankan serangkaian perintah seperti yang disebutkan di atas.', 'commands:[Router Y] configure terminal\\nip route 192.168.3.0 255.255.255.0 g1/0/0\\n end [eoc],bot_reply:Untuk mengatur rute pada Router Y untuk jaringan lokal dengan alamat IP 192.168.3.0 dan subnet mask 255.255.255.0, langkah pertama adalah masuk ke mode konfigurasi menggunakan perintah berikut:\\n[Router Y] configure terminal\\nSelanjutnya, gunakan perintah `ip route` untuk menambahkan alamat IP tujuan, subnet mask, dan antarmuka. Akhir dari urutan perintah adalah sebagai berikut:\\nip route 192.168.3.0 255.255.255.0 g1/0/0\\nend [eoc]Anda dapat melaksanakan rangkaian perintah sebagaimana dijelaskan di atas.', 'commands:[Router B] configure terminal\\nrouter rip\\nversion 2\\nnetwork 192.168.0.1\\nnetwork 192.168.2.0\\n end [eoc],bot_reply:Untuk mengaktifkan protokol RIP versi 2 pada Router B dan pendaftaran alamat IP 192.168.0.1 dan 192.168.2.0 pada perutean, perlu dinyatakan ppemanggilan konfigurasi Router B terlebih dahulu dengan perintah\\n[Router B] configure terminal\\nLalu tambahkan perintah router rip dan version 2 untuk menandakan akan digunakan protokol RIP versi 2\\nrouter rip\\nversion 2\\nSetelah itu cantumkan alamat IP asal dan alamat IP tujuan dengan menggunakan perintah network. Rangkaian perintah diakhiri dengan end [eoc]. Rangkaian perintah dapat dilakukan sebagai berikut:\\n[Router B] configure terminal\\nrouter rip\\nversion 2\\nnetwork 192.168.0.1\\nnetwork 192.168.2.0\\nend [eoc]', 'commands:[Router Z] configure terminal\\nrouter rip\\nversion 2\\nnetwork 192.168.0.1\\nnetwork 192.168.2.0\\n end [eoc],bot_reply:Untuk mengaktifkan protokol RIP versi 2 pada Router Z dan mendaftarkan alamat IP 192.168.0.1 dan 192.168.2.0 pada perutean, langkah awal adalah memasuki mode konfigurasi pada Router Z dengan perintah:\\n[Router Z] configure terminal\\nSetelah itu, gunakan perintah `router rip` dan `version 2` untuk menandakan bahwa Anda akan menggunakan protokol RIP versi 2:\\nrouter rip\\nversion 2\\nSelanjutnya, tambahkan alamat IP sumber dan tujuan dengan perintah `network`. Urutan perintah diakhiri dengan `end [eoc]`. Rangkaian perintah dapat dijalankan sebagai berikut:\\n[Router Z] configure terminal\\nrouter rip\\nversion 2\\nnetwork 192.168.0.1\\nnetwork 192.168.2.0\\nend [eoc]\\nAnda dapat melaksanakan rangkaian perintah seperti di atas.', 'commands:[Router I] configure terminal\\nrouter rip\\nversion 2\\nnetwork 192.168.0.1\\nnetwork 192.168.2.0\\n end [eoc],bot_reply:Untuk mengaktifkan protokol RIP versi 2 pada Router I dan memasukkan alamat IP 192.168.0.1 dan 192.168.2.0 pada tabel routing, langkah awal adalah mengakses mode konfigurasi pada Router I menggunakan perintah berikut:\\n[Router I] configure terminal\\nAfterward, utilize the `router rip` and `version 2` commands to specify the use of RIP protocol version 2:\\nrouter rip\\nversion 2\\nSelanjutnya, gabungkan alamat IP sumber dan tujuan menggunakan perintah `network`. Urutan perintah diakhiri dengan `end [eoc]`. Perintah-perintah tersebut dapat dijalankan sebagai berikut:\\n[Router I] configure terminal\\nrouter rip\\nversion 2\\nnetwork 192.168.0.1\\nnetwork 192.168.2.0\\nend [eoc]\\nAnda dapat menerapkan urutan perintah seperti yang ditunjukkan di atas.', 'commands:[Router Z] configure terminal\\nip route 192.168.2.0 255.255.255.0 g1/1/0\\n end [eoc],bot_reply:Untuk membuat rute pada Router Z melalui interface g/1/1/0 menuju jaringan lokal dengan IP 192.168.2.0, subnet mask 255.255.255.0 kita perlu menyatakan pemanggilan konfigurasi Router Z terlebih dahulu dengan menggunakan perintah\\n[Router Z] configure terminal\\nLalu dengan perintah ip route tambahkan alamat IP tujuan, subnet mask, dan interface. Rangkaian perintah diakhiri dengan end [eoc]. Rangkaian perintah dapat dilakukan sebagai berikut:\\n[Router Z] configure terminal\\nip route 192.168.2.0 255.255.255.0 g1/1/0\\nend [eoc]', 'commands:[Router A] configure terminal\\nip route 192.168.2.0 255.255.255.0 g1/1/0\\n end [eoc],bot_reply:Untuk mengkonfigurasi rute pada Router A untuk jaringan lokal dengan alamat IP 192.168.2.0 dan subnet mask 255.255.255.0, Anda harus mulai dengan mengakses mode konfigurasi menggunakan perintah:\\n[Router A] configure terminal\\nSelanjutnya, tambahkan alamat IP tujuan, subnet mask, dan antarmuka menggunakan perintah `ip route`. Urutan perintah diakhiri dengan yang berikut:\\nip route 192.168.1.0 255.255.255.0 g1/1/0\\nend [eoc]\\nAnda dapat menjalankan serangkaian perintah seperti yang disebutkan di atas.', 'commands:[Router B] configure terminal\\nip route 192.168.2.0 255.255.255.0 g1/1/0\\n end [eoc],bot_reply:Untuk mengatur rute pada Router B untuk jaringan lokal dengan alamat IP 192.168.2.0 dan subnet mask 255.255.255.0, langkah pertama adalah masuk ke mode konfigurasi menggunakan perintah berikut:\\n[Router B] configure terminal\\nSelanjutnya, gunakan perintah `ip route` untuk menambahkan alamat IP tujuan, subnet mask, dan antarmuka. Akhir dari urutan perintah adalah sebagai berikut:\\nip route 192.168.2.0 255.255.255.0 g1/1/0\\nend [eoc]Anda dapat melaksanakan rangkaian perintah sebagaimana dijelaskan di atas.', 'commands:[Router K] configure terminal\\nrouter rip\\nversion 2\\nnetwork 192.168.0.1\\nnetwork 192.168.3.0\\n end [eoc],bot_reply:Untuk mengaktifkan protokol RIP versi 2 pada Router K dan pendaftaran alamat IP 192.168.0.1 dan 192.168.3.0 pada perutean, perlu dinyatakan ppemanggilan konfigurasi Router K terlebih dahulu dengan perintah\\n[Router K] configure terminal\\nLalu tambahkan perintah router rip dan version 2 untuk menandakan akan digunakan protokol RIP versi 2\\nrouter rip\\nversion 2\\nSetelah itu cantumkan alamat IP asal dan alamat IP tujuan dengan menggunakan perintah network. Rangkaian perintah diakhiri dengan end [eoc]. Rangkaian perintah dapat dilakukan sebagai berikut:\\n[Router K] configure terminal\\nrouter rip\\nversion 2\\nnetwork 192.168.0.1\\nnetwork 192.168.3.0\\nend [eoc]', 'commands:[Router G] configure terminal\\nrouter rip\\nversion 2\\nnetwork 192.168.0.1\\nnetwork 192.168.3.0\\n end [eoc],bot_reply:Untuk mengaktifkan protokol RIP versi 2 pada Router G dan mendaftarkan alamat IP 192.168.0.1 dan 192.168.3.0 pada perutean, langkah awal adalah memasuki mode konfigurasi pada Router G dengan perintah:\\n[Router G] configure terminal\\nSetelah itu, gunakan perintah `router rip` dan `version 2` untuk menandakan bahwa Anda akan menggunakan protokol RIP versi 2:\\nrouter rip\\nversion 2\\nSelanjutnya, tambahkan alamat IP sumber dan tujuan dengan perintah `network`. Urutan perintah diakhiri dengan `end [eoc]`. Rangkaian perintah dapat dijalankan sebagai berikut:\\n[Router G] configure terminal\\nrouter rip\\nversion 2\\nnetwork 192.168.0.1\\nnetwork 192.168.3.0\\nend [eoc]\\nAnda dapat melaksanakan rangkaian perintah seperti di atas.', 'commands:[Router I] configure terminal\\nrouter rip\\nversion 2\\nnetwork 192.168.0.1\\nnetwork 192.168.3.0\\n end [eoc],bot_reply:Untuk mengaktifkan protokol RIP versi 2 pada Router I dan memasukkan alamat IP 192.168.0.1 dan 192.168.3.0 pada tabel routing, langkah awal adalah mengakses mode konfigurasi pada Router I menggunakan perintah berikut:\\n[Router I] configure terminal\\nAfterward, utilize the `router rip` and `version 2` commands to specify the use of RIP protocol version 2:\\nrouter rip\\nversion 2\\nSelanjutnya, gabungkan alamat IP sumber dan tujuan menggunakan perintah `network`. Urutan perintah diakhiri dengan `end [eoc]`. Perintah-perintah tersebut dapat dijalankan sebagai berikut:\\n[Router I] configure terminal\\nrouter rip\\nversion 2\\nnetwork 192.168.0.1\\nnetwork 192.168.3.0\\nend [eoc]\\nAnda dapat menerapkan urutan perintah seperti yang ditunjukkan di atas.', 'commands:[Router B] configure terminal\\nrouter rip\\nversion 2\\nnetwork 192.168.1.0\\nnetwork 192.168.3.0\\n end [eoc],bot_reply:Untuk mengaktifkan protokol RIP versi 2 pada Router B dan pendaftaran alamat IP 192.168.1.0 dan 192.168.3.0 pada perutean, perlu dinyatakan ppemanggilan konfigurasi Router B terlebih dahulu dengan perintah\\n[Router B] configure terminal\\nLalu tambahkan perintah router rip dan version 2 untuk menandakan akan digunakan protokol RIP versi 2\\nrouter rip\\nversion 2\\nSetelah itu cantumkan alamat IP asal dan alamat IP tujuan dengan menggunakan perintah network. Rangkaian perintah diakhiri dengan end [eoc]. Rangkaian perintah dapat dilakukan sebagai berikut:\\n[Router B] configure terminal\\nrouter rip\\nversion 2\\nnetwork 192.168.1.0\\nnetwork 192.168.3.0\\nend [eoc]', 'commands:[Router G] configure terminal\\nrouter rip\\nversion 2\\nnetwork 192.168.1.0\\nnetwork 192.168.3.0\\n end [eoc],bot_reply:Untuk mengaktifkan protokol RIP versi 2 pada Router G dan mendaftarkan alamat IP 192.168.1.0 dan 192.168.3.0 pada perutean, langkah awal adalah memasuki mode konfigurasi pada Router G dengan perintah:\\n[Router G] configure terminal\\nSetelah itu, gunakan perintah `router rip` dan `version 2` untuk menandakan bahwa Anda akan menggunakan protokol RIP versi 2:\\nrouter rip\\nversion 2\\nSelanjutnya, tambahkan alamat IP sumber dan tujuan dengan perintah `network`. Urutan perintah diakhiri dengan `end [eoc]`. Rangkaian perintah dapat dijalankan sebagai berikut:\\n[Router G] configure terminal\\nrouter rip\\nversion 2\\nnetwork 192.168.1.0\\nnetwork 192.168.3.0\\nend [eoc]\\nAnda dapat melaksanakan rangkaian perintah seperti di atas.', 'commands:[Router A] configure terminal\\nrouter rip\\nversion 2\\nnetwork 192.168.1.0\\nnetwork 192.168.3.0\\n end [eoc],bot_reply:Untuk mengaktifkan protokol RIP versi 2 pada Router A dan memasukkan alamat IP 192.168.1.0 dan 192.168.3.0 pada tabel routing, langkah awal adalah mengakses mode konfigurasi pada Router A menggunakan perintah berikut:\\n[Router A] configure terminal\\nAfterward, utilize the `router rip` and `version 2` commands to specify the use of RIP protocol version 2:\\nrouter rip\\nversion 2\\nSelanjutnya, gabungkan alamat IP sumber dan tujuan menggunakan perintah `network`. Urutan perintah diakhiri dengan `end [eoc]`. Perintah-perintah tersebut dapat dijalankan sebagai berikut:\\n[Router A] configure terminal\\nrouter rip\\nversion 2\\nnetwork 192.168.1.0\\nnetwork 192.168.3.0\\nend [eoc]\\nAnda dapat menerapkan urutan perintah seperti yang ditunjukkan di atas.']\n"
          ]
        }
      ]
    },
    {
      "cell_type": "code",
      "source": [
        "from datasets import load_dataset\n",
        "dataset = load_dataset('csv', data_files={'train': '/content/train_data.csv'})"
      ],
      "metadata": {
        "colab": {
          "base_uri": "https://localhost:8080/",
          "height": 224,
          "referenced_widgets": [
            "3caced0d3704481da0da5baaaa114d65",
            "f900f96c2eed4278a279e2db0e9c4121",
            "829cbe4c5af146e2a2774ca82bf702a1",
            "478873d35e5a4a49bae11ef3c1d0b402",
            "dee774a7ffa54e9bb352704bfe58fc77",
            "06b816fa81284ac8afd181ee845f6264",
            "fc4d53bf0f4e4f38bf4a88de768cde03",
            "427ec3c6e4bb41b7887628ee6e9f01a7",
            "feb7917df7f7408e9dc5e362fcbb5115",
            "7b5e02346ae24e4ba2f0eeff146ff478",
            "1679795e195746c88acc6f823c60e640",
            "c1258d508b314da0aa71c96267a19e7b",
            "239dccdd25d24af3a641d15f7476c990",
            "89f4c9b019c4432ba46e4f0ecba12e9f",
            "0ea906785629497eaed5d80c6ac41d15",
            "c4cabc25bf2e42b09148c9e1930c09e7",
            "755d53e43b224bc098655795369af689",
            "4531fc438fed43538db156b884e413a1",
            "69f897b8f8bc4e36a380f7c993cec403",
            "69cd3856b2774c31a634a6d57c00588a",
            "30c9c548920c4f6ea5b76ccf3f8d0682",
            "f43a05f679954fd0a714118b17a53402",
            "c61a0e30cb354e19a2350a73f17ad635",
            "5b805d968fe94da1a63730318ea7a685",
            "cecb879ef4d54c58a93f49b845b2029a",
            "a3bcca7e819a4589b7abafb9e33aeba7",
            "0e46f5807d1444efb41a9ccbf19d315f",
            "f519d78f0b5444b2ae6b81eb749bac9d",
            "2073fc76a311420bb6c73e04c1da2057",
            "54890cc2bf694de5a4482de2d6495fc5",
            "eee0ac813dcf4c7d8d80175775a0333a",
            "4cf0e6346238429baad647cadac1878e",
            "5fdfc7049566472c88e723a09f11de60"
          ]
        },
        "id": "NJtC9t7CU9CI",
        "outputId": "b2cc3c6e-23fe-47f2-cf53-89d82608533d"
      },
      "execution_count": 13,
      "outputs": [
        {
          "output_type": "stream",
          "name": "stderr",
          "text": [
            "WARNING:datasets.builder:Using custom data configuration default-ac9108a6de025a6c\n"
          ]
        },
        {
          "output_type": "stream",
          "name": "stdout",
          "text": [
            "Downloading and preparing dataset csv/default to /root/.cache/huggingface/datasets/csv/default-ac9108a6de025a6c/0.0.0/bf68a4c4aefa545d0712b2fcbb1b327f905bbe2f6425fbc5e8c25234acb9e14a...\n"
          ]
        },
        {
          "output_type": "display_data",
          "data": {
            "text/plain": [
              "  0%|          | 0/1 [00:00<?, ?it/s]"
            ],
            "application/vnd.jupyter.widget-view+json": {
              "version_major": 2,
              "version_minor": 0,
              "model_id": "3caced0d3704481da0da5baaaa114d65"
            }
          },
          "metadata": {}
        },
        {
          "output_type": "display_data",
          "data": {
            "text/plain": [
              "  0%|          | 0/1 [00:00<?, ?it/s]"
            ],
            "application/vnd.jupyter.widget-view+json": {
              "version_major": 2,
              "version_minor": 0,
              "model_id": "c1258d508b314da0aa71c96267a19e7b"
            }
          },
          "metadata": {}
        },
        {
          "output_type": "stream",
          "name": "stdout",
          "text": [
            "Dataset csv downloaded and prepared to /root/.cache/huggingface/datasets/csv/default-ac9108a6de025a6c/0.0.0/bf68a4c4aefa545d0712b2fcbb1b327f905bbe2f6425fbc5e8c25234acb9e14a. Subsequent calls will reuse this data.\n"
          ]
        },
        {
          "output_type": "stream",
          "name": "stderr",
          "text": [
            "/usr/local/lib/python3.10/dist-packages/datasets/packaged_modules/csv/csv.py:170: FutureWarning: the 'mangle_dupe_cols' keyword is deprecated and will be removed in a future version. Please take steps to stop the use of 'mangle_dupe_cols'\n",
            "  csv_file_reader = pd.read_csv(file, iterator=True, dtype=dtype, **self.config.read_csv_kwargs)\n"
          ]
        },
        {
          "output_type": "display_data",
          "data": {
            "text/plain": [
              "  0%|          | 0/1 [00:00<?, ?it/s]"
            ],
            "application/vnd.jupyter.widget-view+json": {
              "version_major": 2,
              "version_minor": 0,
              "model_id": "c61a0e30cb354e19a2350a73f17ad635"
            }
          },
          "metadata": {}
        }
      ]
    },
    {
      "cell_type": "code",
      "source": [
        "def tokenize_function(examples):\n",
        "    return tokenizer(examples[\"Prompt\"], padding=True, truncation=True, max_length= 1024)\n",
        "\n",
        "tokenized_datasets = dataset.map(tokenize_function, batched=True)\n",
        "tokenized_datasets = tokenized_datasets.remove_columns([\"Prompt\"])\n",
        "tokenized_datasets.set_format(\"torch\")"
      ],
      "metadata": {
        "colab": {
          "base_uri": "https://localhost:8080/",
          "height": 87,
          "referenced_widgets": [
            "f29c63837b6b4a7da7ebd01d3a6a8328",
            "61a656fcf7334729898bb0c6b8977692",
            "3cec74bbc2e74f7dafa874b89a5430aa",
            "16f6ee1d4919412e8fceb4eead2af10b",
            "b4e0fd1db62c44c2969aef20bdb10987",
            "85d31c01b4774477a612da269cb5843e",
            "5d6143b7586b48059efae07e229a746a",
            "ab7e55e60f8c44f1a23d6378e68fdeb6",
            "13c699a92fec47c4881f131c5e707529",
            "b1e49badb1e34579b7e1a1b7efceac21",
            "3e511cc729be4128aa5bead005153678"
          ]
        },
        "id": "YUKgFbxbU96E",
        "outputId": "561bb468-acc3-4fe1-e859-6a2c491e87ca"
      },
      "execution_count": 14,
      "outputs": [
        {
          "output_type": "stream",
          "name": "stderr",
          "text": [
            "WARNING:datasets.fingerprint:Parameter 'function'=<function tokenize_function at 0x7ecb8357ea70> of the transform datasets.arrow_dataset.Dataset._map_single couldn't be hashed properly, a random hash was used instead. Make sure your transforms and parameters are serializable with pickle or dill for the dataset fingerprinting and caching to work. If you reuse this transform, the caching mechanism will consider it to be different from the previous calls and recompute everything. This warning is only showed once. Subsequent hashing failures won't be showed.\n"
          ]
        },
        {
          "output_type": "display_data",
          "data": {
            "text/plain": [
              "  0%|          | 0/1 [00:00<?, ?ba/s]"
            ],
            "application/vnd.jupyter.widget-view+json": {
              "version_major": 2,
              "version_minor": 0,
              "model_id": "f29c63837b6b4a7da7ebd01d3a6a8328"
            }
          },
          "metadata": {}
        }
      ]
    },
    {
      "cell_type": "code",
      "source": [
        "from torch.utils.data import DataLoader\n",
        "\n",
        "full_train_dataset = tokenized_datasets[\"train\"]\n",
        "train_dataloader = DataLoader(full_train_dataset, shuffle=False, batch_size=8)"
      ],
      "metadata": {
        "id": "-dltOiMdVZDs"
      },
      "execution_count": 15,
      "outputs": []
    },
    {
      "cell_type": "code",
      "source": [
        "def add_adapters(model, adapter_dim=4, p = 0.1):\n",
        "    assert adapter_dim > 0\n",
        "\n",
        "    for name, module in model.named_modules():\n",
        "      if isinstance(module, FrozenBNBLinear):\n",
        "          if \"attn\" in name or \"mlp\" in name or \"head\" in name:\n",
        "              print(\"Adding adapter to\", name)\n",
        "              module.adapter = nn.Sequential(\n",
        "                nn.Linear(module.in_features, adapter_dim, bias=False),\n",
        "                nn.Dropout(p=p),\n",
        "                nn.Linear(adapter_dim, module.out_features, bias=False),\n",
        "            )\n",
        "              print(\"Initializing\", name)\n",
        "              nn.init.zeros_(module.adapter[2].weight)\n",
        "\n",
        "          else:\n",
        "              print(\"Not adding adapter to\", name)\n",
        "      elif isinstance(module, FrozenBNBEmbedding):\n",
        "          print(\"Adding adapter to\", name)\n",
        "          module.adapter = nn.Sequential(\n",
        "                nn.Embedding(module.num_embeddings, adapter_dim),\n",
        "                nn.Dropout(p=p),\n",
        "                nn.Linear(adapter_dim, module.embedding_dim, bias=False),\n",
        "            )\n",
        "          print(\"Initializing\", name)\n",
        "          nn.init.zeros_(module.adapter[2].weight)\n",
        "\n",
        "add_adapters(gpt)\n",
        "device = 'cuda' if torch.cuda.is_available() else 'cpu'\n",
        "gpt.to(device)"
      ],
      "metadata": {
        "colab": {
          "base_uri": "https://localhost:8080/"
        },
        "id": "MfOYSNP0VZHl",
        "outputId": "602fbb64-76ae-490f-891b-9d3e74abd0d4"
      },
      "execution_count": 16,
      "outputs": [
        {
          "output_type": "stream",
          "name": "stdout",
          "text": [
            "Adding adapter to transformer.wte\n",
            "Initializing transformer.wte\n",
            "Adding adapter to transformer.h.0.attn.k_proj\n",
            "Initializing transformer.h.0.attn.k_proj\n",
            "Adding adapter to transformer.h.0.attn.v_proj\n",
            "Initializing transformer.h.0.attn.v_proj\n",
            "Adding adapter to transformer.h.0.attn.q_proj\n",
            "Initializing transformer.h.0.attn.q_proj\n",
            "Adding adapter to transformer.h.0.attn.out_proj\n",
            "Initializing transformer.h.0.attn.out_proj\n",
            "Adding adapter to transformer.h.0.mlp.fc_in\n",
            "Initializing transformer.h.0.mlp.fc_in\n",
            "Adding adapter to transformer.h.0.mlp.fc_out\n",
            "Initializing transformer.h.0.mlp.fc_out\n",
            "Adding adapter to transformer.h.1.attn.k_proj\n",
            "Initializing transformer.h.1.attn.k_proj\n",
            "Adding adapter to transformer.h.1.attn.v_proj\n",
            "Initializing transformer.h.1.attn.v_proj\n",
            "Adding adapter to transformer.h.1.attn.q_proj\n",
            "Initializing transformer.h.1.attn.q_proj\n",
            "Adding adapter to transformer.h.1.attn.out_proj\n",
            "Initializing transformer.h.1.attn.out_proj\n",
            "Adding adapter to transformer.h.1.mlp.fc_in\n",
            "Initializing transformer.h.1.mlp.fc_in\n",
            "Adding adapter to transformer.h.1.mlp.fc_out\n",
            "Initializing transformer.h.1.mlp.fc_out\n",
            "Adding adapter to transformer.h.2.attn.k_proj\n",
            "Initializing transformer.h.2.attn.k_proj\n",
            "Adding adapter to transformer.h.2.attn.v_proj\n",
            "Initializing transformer.h.2.attn.v_proj\n",
            "Adding adapter to transformer.h.2.attn.q_proj\n",
            "Initializing transformer.h.2.attn.q_proj\n",
            "Adding adapter to transformer.h.2.attn.out_proj\n",
            "Initializing transformer.h.2.attn.out_proj\n",
            "Adding adapter to transformer.h.2.mlp.fc_in\n",
            "Initializing transformer.h.2.mlp.fc_in\n",
            "Adding adapter to transformer.h.2.mlp.fc_out\n",
            "Initializing transformer.h.2.mlp.fc_out\n",
            "Adding adapter to transformer.h.3.attn.k_proj\n",
            "Initializing transformer.h.3.attn.k_proj\n",
            "Adding adapter to transformer.h.3.attn.v_proj\n",
            "Initializing transformer.h.3.attn.v_proj\n",
            "Adding adapter to transformer.h.3.attn.q_proj\n",
            "Initializing transformer.h.3.attn.q_proj\n",
            "Adding adapter to transformer.h.3.attn.out_proj\n",
            "Initializing transformer.h.3.attn.out_proj\n",
            "Adding adapter to transformer.h.3.mlp.fc_in\n",
            "Initializing transformer.h.3.mlp.fc_in\n",
            "Adding adapter to transformer.h.3.mlp.fc_out\n",
            "Initializing transformer.h.3.mlp.fc_out\n",
            "Adding adapter to transformer.h.4.attn.k_proj\n",
            "Initializing transformer.h.4.attn.k_proj\n",
            "Adding adapter to transformer.h.4.attn.v_proj\n",
            "Initializing transformer.h.4.attn.v_proj\n",
            "Adding adapter to transformer.h.4.attn.q_proj\n",
            "Initializing transformer.h.4.attn.q_proj\n",
            "Adding adapter to transformer.h.4.attn.out_proj\n",
            "Initializing transformer.h.4.attn.out_proj\n",
            "Adding adapter to transformer.h.4.mlp.fc_in\n",
            "Initializing transformer.h.4.mlp.fc_in\n",
            "Adding adapter to transformer.h.4.mlp.fc_out\n",
            "Initializing transformer.h.4.mlp.fc_out\n",
            "Adding adapter to transformer.h.5.attn.k_proj\n",
            "Initializing transformer.h.5.attn.k_proj\n",
            "Adding adapter to transformer.h.5.attn.v_proj\n",
            "Initializing transformer.h.5.attn.v_proj\n",
            "Adding adapter to transformer.h.5.attn.q_proj\n",
            "Initializing transformer.h.5.attn.q_proj\n",
            "Adding adapter to transformer.h.5.attn.out_proj\n",
            "Initializing transformer.h.5.attn.out_proj\n",
            "Adding adapter to transformer.h.5.mlp.fc_in\n",
            "Initializing transformer.h.5.mlp.fc_in\n",
            "Adding adapter to transformer.h.5.mlp.fc_out\n",
            "Initializing transformer.h.5.mlp.fc_out\n",
            "Adding adapter to transformer.h.6.attn.k_proj\n",
            "Initializing transformer.h.6.attn.k_proj\n",
            "Adding adapter to transformer.h.6.attn.v_proj\n",
            "Initializing transformer.h.6.attn.v_proj\n",
            "Adding adapter to transformer.h.6.attn.q_proj\n",
            "Initializing transformer.h.6.attn.q_proj\n",
            "Adding adapter to transformer.h.6.attn.out_proj\n",
            "Initializing transformer.h.6.attn.out_proj\n",
            "Adding adapter to transformer.h.6.mlp.fc_in\n",
            "Initializing transformer.h.6.mlp.fc_in\n",
            "Adding adapter to transformer.h.6.mlp.fc_out\n",
            "Initializing transformer.h.6.mlp.fc_out\n",
            "Adding adapter to transformer.h.7.attn.k_proj\n",
            "Initializing transformer.h.7.attn.k_proj\n",
            "Adding adapter to transformer.h.7.attn.v_proj\n",
            "Initializing transformer.h.7.attn.v_proj\n",
            "Adding adapter to transformer.h.7.attn.q_proj\n",
            "Initializing transformer.h.7.attn.q_proj\n",
            "Adding adapter to transformer.h.7.attn.out_proj\n",
            "Initializing transformer.h.7.attn.out_proj\n",
            "Adding adapter to transformer.h.7.mlp.fc_in\n",
            "Initializing transformer.h.7.mlp.fc_in\n",
            "Adding adapter to transformer.h.7.mlp.fc_out\n",
            "Initializing transformer.h.7.mlp.fc_out\n",
            "Adding adapter to transformer.h.8.attn.k_proj\n",
            "Initializing transformer.h.8.attn.k_proj\n",
            "Adding adapter to transformer.h.8.attn.v_proj\n",
            "Initializing transformer.h.8.attn.v_proj\n",
            "Adding adapter to transformer.h.8.attn.q_proj\n",
            "Initializing transformer.h.8.attn.q_proj\n",
            "Adding adapter to transformer.h.8.attn.out_proj\n",
            "Initializing transformer.h.8.attn.out_proj\n",
            "Adding adapter to transformer.h.8.mlp.fc_in\n",
            "Initializing transformer.h.8.mlp.fc_in\n",
            "Adding adapter to transformer.h.8.mlp.fc_out\n",
            "Initializing transformer.h.8.mlp.fc_out\n",
            "Adding adapter to transformer.h.9.attn.k_proj\n",
            "Initializing transformer.h.9.attn.k_proj\n",
            "Adding adapter to transformer.h.9.attn.v_proj\n",
            "Initializing transformer.h.9.attn.v_proj\n",
            "Adding adapter to transformer.h.9.attn.q_proj\n",
            "Initializing transformer.h.9.attn.q_proj\n",
            "Adding adapter to transformer.h.9.attn.out_proj\n",
            "Initializing transformer.h.9.attn.out_proj\n",
            "Adding adapter to transformer.h.9.mlp.fc_in\n",
            "Initializing transformer.h.9.mlp.fc_in\n",
            "Adding adapter to transformer.h.9.mlp.fc_out\n",
            "Initializing transformer.h.9.mlp.fc_out\n",
            "Adding adapter to transformer.h.10.attn.k_proj\n",
            "Initializing transformer.h.10.attn.k_proj\n",
            "Adding adapter to transformer.h.10.attn.v_proj\n",
            "Initializing transformer.h.10.attn.v_proj\n",
            "Adding adapter to transformer.h.10.attn.q_proj\n",
            "Initializing transformer.h.10.attn.q_proj\n",
            "Adding adapter to transformer.h.10.attn.out_proj\n",
            "Initializing transformer.h.10.attn.out_proj\n",
            "Adding adapter to transformer.h.10.mlp.fc_in\n",
            "Initializing transformer.h.10.mlp.fc_in\n",
            "Adding adapter to transformer.h.10.mlp.fc_out\n",
            "Initializing transformer.h.10.mlp.fc_out\n",
            "Adding adapter to transformer.h.11.attn.k_proj\n",
            "Initializing transformer.h.11.attn.k_proj\n",
            "Adding adapter to transformer.h.11.attn.v_proj\n",
            "Initializing transformer.h.11.attn.v_proj\n",
            "Adding adapter to transformer.h.11.attn.q_proj\n",
            "Initializing transformer.h.11.attn.q_proj\n",
            "Adding adapter to transformer.h.11.attn.out_proj\n",
            "Initializing transformer.h.11.attn.out_proj\n",
            "Adding adapter to transformer.h.11.mlp.fc_in\n",
            "Initializing transformer.h.11.mlp.fc_in\n",
            "Adding adapter to transformer.h.11.mlp.fc_out\n",
            "Initializing transformer.h.11.mlp.fc_out\n",
            "Adding adapter to transformer.h.12.attn.k_proj\n",
            "Initializing transformer.h.12.attn.k_proj\n",
            "Adding adapter to transformer.h.12.attn.v_proj\n",
            "Initializing transformer.h.12.attn.v_proj\n",
            "Adding adapter to transformer.h.12.attn.q_proj\n",
            "Initializing transformer.h.12.attn.q_proj\n",
            "Adding adapter to transformer.h.12.attn.out_proj\n",
            "Initializing transformer.h.12.attn.out_proj\n",
            "Adding adapter to transformer.h.12.mlp.fc_in\n",
            "Initializing transformer.h.12.mlp.fc_in\n",
            "Adding adapter to transformer.h.12.mlp.fc_out\n",
            "Initializing transformer.h.12.mlp.fc_out\n",
            "Adding adapter to transformer.h.13.attn.k_proj\n",
            "Initializing transformer.h.13.attn.k_proj\n",
            "Adding adapter to transformer.h.13.attn.v_proj\n",
            "Initializing transformer.h.13.attn.v_proj\n",
            "Adding adapter to transformer.h.13.attn.q_proj\n",
            "Initializing transformer.h.13.attn.q_proj\n",
            "Adding adapter to transformer.h.13.attn.out_proj\n",
            "Initializing transformer.h.13.attn.out_proj\n",
            "Adding adapter to transformer.h.13.mlp.fc_in\n",
            "Initializing transformer.h.13.mlp.fc_in\n",
            "Adding adapter to transformer.h.13.mlp.fc_out\n",
            "Initializing transformer.h.13.mlp.fc_out\n",
            "Adding adapter to transformer.h.14.attn.k_proj\n",
            "Initializing transformer.h.14.attn.k_proj\n",
            "Adding adapter to transformer.h.14.attn.v_proj\n",
            "Initializing transformer.h.14.attn.v_proj\n",
            "Adding adapter to transformer.h.14.attn.q_proj\n",
            "Initializing transformer.h.14.attn.q_proj\n",
            "Adding adapter to transformer.h.14.attn.out_proj\n",
            "Initializing transformer.h.14.attn.out_proj\n",
            "Adding adapter to transformer.h.14.mlp.fc_in\n",
            "Initializing transformer.h.14.mlp.fc_in\n",
            "Adding adapter to transformer.h.14.mlp.fc_out\n",
            "Initializing transformer.h.14.mlp.fc_out\n",
            "Adding adapter to transformer.h.15.attn.k_proj\n",
            "Initializing transformer.h.15.attn.k_proj\n",
            "Adding adapter to transformer.h.15.attn.v_proj\n",
            "Initializing transformer.h.15.attn.v_proj\n",
            "Adding adapter to transformer.h.15.attn.q_proj\n",
            "Initializing transformer.h.15.attn.q_proj\n",
            "Adding adapter to transformer.h.15.attn.out_proj\n",
            "Initializing transformer.h.15.attn.out_proj\n",
            "Adding adapter to transformer.h.15.mlp.fc_in\n",
            "Initializing transformer.h.15.mlp.fc_in\n",
            "Adding adapter to transformer.h.15.mlp.fc_out\n",
            "Initializing transformer.h.15.mlp.fc_out\n",
            "Adding adapter to transformer.h.16.attn.k_proj\n",
            "Initializing transformer.h.16.attn.k_proj\n",
            "Adding adapter to transformer.h.16.attn.v_proj\n",
            "Initializing transformer.h.16.attn.v_proj\n",
            "Adding adapter to transformer.h.16.attn.q_proj\n",
            "Initializing transformer.h.16.attn.q_proj\n",
            "Adding adapter to transformer.h.16.attn.out_proj\n",
            "Initializing transformer.h.16.attn.out_proj\n",
            "Adding adapter to transformer.h.16.mlp.fc_in\n",
            "Initializing transformer.h.16.mlp.fc_in\n",
            "Adding adapter to transformer.h.16.mlp.fc_out\n",
            "Initializing transformer.h.16.mlp.fc_out\n",
            "Adding adapter to transformer.h.17.attn.k_proj\n",
            "Initializing transformer.h.17.attn.k_proj\n",
            "Adding adapter to transformer.h.17.attn.v_proj\n",
            "Initializing transformer.h.17.attn.v_proj\n",
            "Adding adapter to transformer.h.17.attn.q_proj\n",
            "Initializing transformer.h.17.attn.q_proj\n",
            "Adding adapter to transformer.h.17.attn.out_proj\n",
            "Initializing transformer.h.17.attn.out_proj\n",
            "Adding adapter to transformer.h.17.mlp.fc_in\n",
            "Initializing transformer.h.17.mlp.fc_in\n",
            "Adding adapter to transformer.h.17.mlp.fc_out\n",
            "Initializing transformer.h.17.mlp.fc_out\n",
            "Adding adapter to transformer.h.18.attn.k_proj\n",
            "Initializing transformer.h.18.attn.k_proj\n",
            "Adding adapter to transformer.h.18.attn.v_proj\n",
            "Initializing transformer.h.18.attn.v_proj\n",
            "Adding adapter to transformer.h.18.attn.q_proj\n",
            "Initializing transformer.h.18.attn.q_proj\n",
            "Adding adapter to transformer.h.18.attn.out_proj\n",
            "Initializing transformer.h.18.attn.out_proj\n",
            "Adding adapter to transformer.h.18.mlp.fc_in\n",
            "Initializing transformer.h.18.mlp.fc_in\n",
            "Adding adapter to transformer.h.18.mlp.fc_out\n",
            "Initializing transformer.h.18.mlp.fc_out\n",
            "Adding adapter to transformer.h.19.attn.k_proj\n",
            "Initializing transformer.h.19.attn.k_proj\n",
            "Adding adapter to transformer.h.19.attn.v_proj\n",
            "Initializing transformer.h.19.attn.v_proj\n",
            "Adding adapter to transformer.h.19.attn.q_proj\n",
            "Initializing transformer.h.19.attn.q_proj\n",
            "Adding adapter to transformer.h.19.attn.out_proj\n",
            "Initializing transformer.h.19.attn.out_proj\n",
            "Adding adapter to transformer.h.19.mlp.fc_in\n",
            "Initializing transformer.h.19.mlp.fc_in\n",
            "Adding adapter to transformer.h.19.mlp.fc_out\n",
            "Initializing transformer.h.19.mlp.fc_out\n",
            "Adding adapter to transformer.h.20.attn.k_proj\n",
            "Initializing transformer.h.20.attn.k_proj\n",
            "Adding adapter to transformer.h.20.attn.v_proj\n",
            "Initializing transformer.h.20.attn.v_proj\n",
            "Adding adapter to transformer.h.20.attn.q_proj\n",
            "Initializing transformer.h.20.attn.q_proj\n",
            "Adding adapter to transformer.h.20.attn.out_proj\n",
            "Initializing transformer.h.20.attn.out_proj\n",
            "Adding adapter to transformer.h.20.mlp.fc_in\n",
            "Initializing transformer.h.20.mlp.fc_in\n",
            "Adding adapter to transformer.h.20.mlp.fc_out\n",
            "Initializing transformer.h.20.mlp.fc_out\n",
            "Adding adapter to transformer.h.21.attn.k_proj\n",
            "Initializing transformer.h.21.attn.k_proj\n",
            "Adding adapter to transformer.h.21.attn.v_proj\n",
            "Initializing transformer.h.21.attn.v_proj\n",
            "Adding adapter to transformer.h.21.attn.q_proj\n",
            "Initializing transformer.h.21.attn.q_proj\n",
            "Adding adapter to transformer.h.21.attn.out_proj\n",
            "Initializing transformer.h.21.attn.out_proj\n",
            "Adding adapter to transformer.h.21.mlp.fc_in\n",
            "Initializing transformer.h.21.mlp.fc_in\n",
            "Adding adapter to transformer.h.21.mlp.fc_out\n",
            "Initializing transformer.h.21.mlp.fc_out\n",
            "Adding adapter to transformer.h.22.attn.k_proj\n",
            "Initializing transformer.h.22.attn.k_proj\n",
            "Adding adapter to transformer.h.22.attn.v_proj\n",
            "Initializing transformer.h.22.attn.v_proj\n",
            "Adding adapter to transformer.h.22.attn.q_proj\n",
            "Initializing transformer.h.22.attn.q_proj\n",
            "Adding adapter to transformer.h.22.attn.out_proj\n",
            "Initializing transformer.h.22.attn.out_proj\n",
            "Adding adapter to transformer.h.22.mlp.fc_in\n",
            "Initializing transformer.h.22.mlp.fc_in\n",
            "Adding adapter to transformer.h.22.mlp.fc_out\n",
            "Initializing transformer.h.22.mlp.fc_out\n",
            "Adding adapter to transformer.h.23.attn.k_proj\n",
            "Initializing transformer.h.23.attn.k_proj\n",
            "Adding adapter to transformer.h.23.attn.v_proj\n",
            "Initializing transformer.h.23.attn.v_proj\n",
            "Adding adapter to transformer.h.23.attn.q_proj\n",
            "Initializing transformer.h.23.attn.q_proj\n",
            "Adding adapter to transformer.h.23.attn.out_proj\n",
            "Initializing transformer.h.23.attn.out_proj\n",
            "Adding adapter to transformer.h.23.mlp.fc_in\n",
            "Initializing transformer.h.23.mlp.fc_in\n",
            "Adding adapter to transformer.h.23.mlp.fc_out\n",
            "Initializing transformer.h.23.mlp.fc_out\n",
            "Adding adapter to transformer.h.24.attn.k_proj\n",
            "Initializing transformer.h.24.attn.k_proj\n",
            "Adding adapter to transformer.h.24.attn.v_proj\n",
            "Initializing transformer.h.24.attn.v_proj\n",
            "Adding adapter to transformer.h.24.attn.q_proj\n",
            "Initializing transformer.h.24.attn.q_proj\n",
            "Adding adapter to transformer.h.24.attn.out_proj\n",
            "Initializing transformer.h.24.attn.out_proj\n",
            "Adding adapter to transformer.h.24.mlp.fc_in\n",
            "Initializing transformer.h.24.mlp.fc_in\n",
            "Adding adapter to transformer.h.24.mlp.fc_out\n",
            "Initializing transformer.h.24.mlp.fc_out\n",
            "Adding adapter to transformer.h.25.attn.k_proj\n",
            "Initializing transformer.h.25.attn.k_proj\n",
            "Adding adapter to transformer.h.25.attn.v_proj\n",
            "Initializing transformer.h.25.attn.v_proj\n",
            "Adding adapter to transformer.h.25.attn.q_proj\n",
            "Initializing transformer.h.25.attn.q_proj\n",
            "Adding adapter to transformer.h.25.attn.out_proj\n",
            "Initializing transformer.h.25.attn.out_proj\n",
            "Adding adapter to transformer.h.25.mlp.fc_in\n",
            "Initializing transformer.h.25.mlp.fc_in\n",
            "Adding adapter to transformer.h.25.mlp.fc_out\n",
            "Initializing transformer.h.25.mlp.fc_out\n",
            "Adding adapter to transformer.h.26.attn.k_proj\n",
            "Initializing transformer.h.26.attn.k_proj\n",
            "Adding adapter to transformer.h.26.attn.v_proj\n",
            "Initializing transformer.h.26.attn.v_proj\n",
            "Adding adapter to transformer.h.26.attn.q_proj\n",
            "Initializing transformer.h.26.attn.q_proj\n",
            "Adding adapter to transformer.h.26.attn.out_proj\n",
            "Initializing transformer.h.26.attn.out_proj\n",
            "Adding adapter to transformer.h.26.mlp.fc_in\n",
            "Initializing transformer.h.26.mlp.fc_in\n",
            "Adding adapter to transformer.h.26.mlp.fc_out\n",
            "Initializing transformer.h.26.mlp.fc_out\n",
            "Adding adapter to transformer.h.27.attn.k_proj\n",
            "Initializing transformer.h.27.attn.k_proj\n",
            "Adding adapter to transformer.h.27.attn.v_proj\n",
            "Initializing transformer.h.27.attn.v_proj\n",
            "Adding adapter to transformer.h.27.attn.q_proj\n",
            "Initializing transformer.h.27.attn.q_proj\n",
            "Adding adapter to transformer.h.27.attn.out_proj\n",
            "Initializing transformer.h.27.attn.out_proj\n",
            "Adding adapter to transformer.h.27.mlp.fc_in\n",
            "Initializing transformer.h.27.mlp.fc_in\n",
            "Adding adapter to transformer.h.27.mlp.fc_out\n",
            "Initializing transformer.h.27.mlp.fc_out\n",
            "Adding adapter to lm_head\n",
            "Initializing lm_head\n"
          ]
        },
        {
          "output_type": "execute_result",
          "data": {
            "text/plain": [
              "GPTJForCausalLM(\n",
              "  (transformer): GPTJModel(\n",
              "    (wte): FrozenBNBEmbedding(50400, 4096)\n",
              "    (drop): Dropout(p=0.0, inplace=False)\n",
              "    (h): ModuleList(\n",
              "      (0-27): 28 x GPTJBlock(\n",
              "        (ln_1): LayerNorm((4096,), eps=1e-05, elementwise_affine=True)\n",
              "        (attn): GPTJAttention(\n",
              "          (attn_dropout): Dropout(p=0.0, inplace=False)\n",
              "          (resid_dropout): Dropout(p=0.0, inplace=False)\n",
              "          (k_proj): FrozenBNBLinear(4096, 4096)\n",
              "          (v_proj): FrozenBNBLinear(4096, 4096)\n",
              "          (q_proj): FrozenBNBLinear(4096, 4096)\n",
              "          (out_proj): FrozenBNBLinear(4096, 4096)\n",
              "        )\n",
              "        (mlp): GPTJMLP(\n",
              "          (fc_in): FrozenBNBLinear(4096, 16384)\n",
              "          (fc_out): FrozenBNBLinear(16384, 4096)\n",
              "          (act): NewGELUActivation()\n",
              "          (dropout): Dropout(p=0.0, inplace=False)\n",
              "        )\n",
              "      )\n",
              "    )\n",
              "    (ln_f): LayerNorm((4096,), eps=1e-05, elementwise_affine=True)\n",
              "  )\n",
              "  (lm_head): FrozenBNBLinear(4096, 50400)\n",
              ")"
            ]
          },
          "metadata": {},
          "execution_count": 16
        }
      ]
    },
    {
      "cell_type": "code",
      "source": [
        "from bitsandbytes.optim import Adam8bit\n",
        "\n",
        "gpt.gradient_checkpointing_enable()\n",
        "optimizer = Adam8bit(gpt.parameters(), lr=1e-5, weight_decay=0.01)"
      ],
      "metadata": {
        "id": "H5wlNkmzVdNs"
      },
      "execution_count": 17,
      "outputs": []
    },
    {
      "cell_type": "code",
      "source": [
        "num_epochs = 20\n",
        "num_training_steps = num_epochs * len(train_dataloader)\n",
        "print(num_training_steps)"
      ],
      "metadata": {
        "colab": {
          "base_uri": "https://localhost:8080/"
        },
        "id": "60nFwOiDVdRX",
        "outputId": "26e811fa-f2c5-4ee4-bc4f-96a9b4b26a62"
      },
      "execution_count": 18,
      "outputs": [
        {
          "output_type": "stream",
          "name": "stdout",
          "text": [
            "680\n"
          ]
        }
      ]
    },
    {
      "cell_type": "code",
      "source": [
        "lr_scheduler = transformers.get_linear_schedule_with_warmup(\n",
        "    optimizer, int(num_training_steps*0.1), num_training_steps\n",
        ")"
      ],
      "metadata": {
        "id": "ka6evBnRVkO_"
      },
      "execution_count": 19,
      "outputs": []
    },
    {
      "cell_type": "code",
      "source": [
        "from tqdm.auto import tqdm\n",
        "\n",
        "train_loss_values = []\n",
        "train_acc_values = []\n",
        "\n",
        "scaler = torch.cuda.amp.GradScaler()\n",
        "progress_bar = tqdm(range(num_training_steps))\n",
        "gpt.train()\n",
        "gpt.gradient_checkpointing_enable()\n",
        "k = 0\n",
        "\n",
        "metrics_path = '/content/metrics.json'\n",
        "batch_size = 8\n",
        "\n",
        "for epoch in range(num_epochs):\n",
        "    running_loss = 0.0\n",
        "    running_acc = 0.0\n",
        "    num_samples = 0\n",
        "\n",
        "    for batch in train_dataloader:\n",
        "\n",
        "        k = k + 1\n",
        "        if k % 500 == 0:\n",
        "          print(k)\n",
        "          state = {'k' : k, 'epoch': num_epochs, 'lr_scheduler': lr_scheduler.state_dict(), 'state_dict': gpt.state_dict(), 'optimizer': optimizer.state_dict()}\n",
        "          gpt.save_pretrained(f\"/content/model-step-{k}/\")\n",
        "\n",
        "        batch = {k: v.to(device) for k, v in batch.items()}\n",
        "\n",
        "        optimizer.zero_grad()\n",
        "\n",
        "        with torch.cuda.amp.autocast():\n",
        "          out = gpt.forward(**batch,)\n",
        "\n",
        "          loss = F.cross_entropy(out.logits[:, :-1, :].flatten(0, -2), batch['input_ids'][:, 1:].flatten(),\n",
        "                                reduction='mean', label_smoothing=0.1)\n",
        "\n",
        "        print(loss)\n",
        "\n",
        "        # calculate accuracy\n",
        "        preds = torch.argmax(out.logits[:, :-1, :], axis=-1)\n",
        "        acc = (preds == batch['input_ids'][:, 1:]).float().mean()\n",
        "\n",
        "        scaler.scale(loss).backward()\n",
        "        scaler.unscale_(optimizer)\n",
        "        torch.nn.utils.clip_grad_norm_(gpt.parameters(), 1.0)\n",
        "        scaler.step(optimizer)\n",
        "        scaler.update()\n",
        "\n",
        "        running_loss += loss.item() * batch_size\n",
        "        running_acc += acc.item() * batch_size\n",
        "        num_samples += batch_size\n",
        "\n",
        "        lr_scheduler.step()\n",
        "        progress_bar.update(1)\n",
        "\n",
        "    epoch_loss = running_loss / num_samples\n",
        "    epoch_acc = running_acc / num_samples\n",
        "\n",
        "    # Append the loss and accuracy values to the respective lists\n",
        "    train_loss_values.append(epoch_loss)\n",
        "    train_acc_values.append(epoch_acc)\n",
        "\n",
        "    # Print the metrics for this epoch\n",
        "    print(f\"Epoch {epoch+1}: train_loss = {epoch_loss:.3f}, train_acc = {epoch_acc:.3f}\")\n",
        "\n",
        "gpt.save_pretrained(\"/content/model/\", state_dict=gpt.state_dict(), save_training_args=True)\n",
        "# torch.save(gpt.state_dict(), \"/content/weights.pth\")\n",
        "metrics = {'train_loss': train_loss_values, 'train_acc': train_acc_values}\n",
        "torch.save(metrics, metrics_path)"
      ],
      "metadata": {
        "colab": {
          "base_uri": "https://localhost:8080/",
          "height": 1000,
          "referenced_widgets": [
            "ce33ab792ce140e798a16733326df896",
            "2e2da550410e4ce584d01f230aa86aac",
            "04d097bdba3842f2b0f19fdf88cc3c59",
            "db677177b7954606883e49a8cda799d3",
            "b9a2f5cf892f4b6daf2eadf866830852",
            "bdaecdea645b4e81acd65a685c45b661",
            "2a81192b51ec40c08d003930425597fa",
            "45468f1c3a744c67bc5548aae76636ec",
            "141474c0f6d9403c93e7a7c24b79250d",
            "2173f65886b94747977e3342c996910d",
            "e946fe5d89a441dfb4781339ca53dcdd"
          ]
        },
        "id": "XHC9D5NXVkR8",
        "outputId": "7fe21e41-f486-40f0-ae84-2c00b16a190e"
      },
      "execution_count": 20,
      "outputs": [
        {
          "data": {
            "application/vnd.jupyter.widget-view+json": {
              "model_id": "ce33ab792ce140e798a16733326df896",
              "version_major": 2,
              "version_minor": 0
            },
            "text/plain": [
              "  0%|          | 0/680 [00:00<?, ?it/s]"
            ]
          },
          "metadata": {},
          "output_type": "display_data"
        },
        {
          "metadata": {
            "tags": null
          },
          "name": "stderr",
          "output_type": "stream",
          "text": [
            "`use_cache=True` is incompatible with gradient checkpointing. Setting `use_cache=False`...\n"
          ]
        },
        {
          "metadata": {
            "tags": null
          },
          "name": "stdout",
          "output_type": "stream",
          "text": [
            "tensor(11.5087, device='cuda:0', grad_fn=<AddBackward0>)\n"
          ]
        },
        {
          "metadata": {
            "tags": null
          },
          "name": "stderr",
          "output_type": "stream",
          "text": [
            "/usr/local/lib/python3.10/dist-packages/torch/optim/lr_scheduler.py:139: UserWarning: Detected call of `lr_scheduler.step()` before `optimizer.step()`. In PyTorch 1.1.0 and later, you should call them in the opposite order: `optimizer.step()` before `lr_scheduler.step()`.  Failure to do this will result in PyTorch skipping the first value of the learning rate schedule. See more details at https://pytorch.org/docs/stable/optim.html#how-to-adjust-learning-rate\n",
            "  warnings.warn(\"Detected call of `lr_scheduler.step()` before `optimizer.step()`. \"\n",
            "`use_cache=True` is incompatible with gradient checkpointing. Setting `use_cache=False`...\n"
          ]
        },
        {
          "metadata": {
            "tags": null
          },
          "name": "stdout",
          "output_type": "stream",
          "text": [
            "tensor(11.6020, device='cuda:0', grad_fn=<AddBackward0>)\n"
          ]
        },
        {
          "metadata": {
            "tags": null
          },
          "name": "stderr",
          "output_type": "stream",
          "text": [
            "`use_cache=True` is incompatible with gradient checkpointing. Setting `use_cache=False`...\n"
          ]
        },
        {
          "metadata": {
            "tags": null
          },
          "name": "stdout",
          "output_type": "stream",
          "text": [
            "tensor(11.1991, device='cuda:0', grad_fn=<AddBackward0>)\n"
          ]
        },
        {
          "metadata": {
            "tags": null
          },
          "name": "stderr",
          "output_type": "stream",
          "text": [
            "`use_cache=True` is incompatible with gradient checkpointing. Setting `use_cache=False`...\n"
          ]
        },
        {
          "metadata": {
            "tags": null
          },
          "name": "stdout",
          "output_type": "stream",
          "text": [
            "tensor(10.8654, device='cuda:0', grad_fn=<AddBackward0>)\n"
          ]
        },
        {
          "metadata": {
            "tags": null
          },
          "name": "stderr",
          "output_type": "stream",
          "text": [
            "`use_cache=True` is incompatible with gradient checkpointing. Setting `use_cache=False`...\n"
          ]
        },
        {
          "metadata": {
            "tags": null
          },
          "name": "stdout",
          "output_type": "stream",
          "text": [
            "tensor(10.4940, device='cuda:0', grad_fn=<AddBackward0>)\n"
          ]
        },
        {
          "metadata": {
            "tags": null
          },
          "name": "stderr",
          "output_type": "stream",
          "text": [
            "`use_cache=True` is incompatible with gradient checkpointing. Setting `use_cache=False`...\n"
          ]
        },
        {
          "metadata": {
            "tags": null
          },
          "name": "stdout",
          "output_type": "stream",
          "text": [
            "tensor(11.4325, device='cuda:0', grad_fn=<AddBackward0>)\n"
          ]
        },
        {
          "metadata": {
            "tags": null
          },
          "name": "stderr",
          "output_type": "stream",
          "text": [
            "`use_cache=True` is incompatible with gradient checkpointing. Setting `use_cache=False`...\n"
          ]
        },
        {
          "metadata": {
            "tags": null
          },
          "name": "stdout",
          "output_type": "stream",
          "text": [
            "tensor(11.0552, device='cuda:0', grad_fn=<AddBackward0>)\n"
          ]
        },
        {
          "metadata": {
            "tags": null
          },
          "name": "stderr",
          "output_type": "stream",
          "text": [
            "`use_cache=True` is incompatible with gradient checkpointing. Setting `use_cache=False`...\n"
          ]
        },
        {
          "metadata": {
            "tags": null
          },
          "name": "stdout",
          "output_type": "stream",
          "text": [
            "tensor(11.0081, device='cuda:0', grad_fn=<AddBackward0>)\n"
          ]
        },
        {
          "metadata": {
            "tags": null
          },
          "name": "stderr",
          "output_type": "stream",
          "text": [
            "`use_cache=True` is incompatible with gradient checkpointing. Setting `use_cache=False`...\n"
          ]
        },
        {
          "metadata": {
            "tags": null
          },
          "name": "stdout",
          "output_type": "stream",
          "text": [
            "tensor(11.4182, device='cuda:0', grad_fn=<AddBackward0>)\n"
          ]
        },
        {
          "metadata": {
            "tags": null
          },
          "name": "stderr",
          "output_type": "stream",
          "text": [
            "`use_cache=True` is incompatible with gradient checkpointing. Setting `use_cache=False`...\n"
          ]
        },
        {
          "metadata": {
            "tags": null
          },
          "name": "stdout",
          "output_type": "stream",
          "text": [
            "tensor(11.2030, device='cuda:0', grad_fn=<AddBackward0>)\n"
          ]
        },
        {
          "metadata": {
            "tags": null
          },
          "name": "stderr",
          "output_type": "stream",
          "text": [
            "`use_cache=True` is incompatible with gradient checkpointing. Setting `use_cache=False`...\n"
          ]
        },
        {
          "metadata": {
            "tags": null
          },
          "name": "stdout",
          "output_type": "stream",
          "text": [
            "tensor(10.9757, device='cuda:0', grad_fn=<AddBackward0>)\n"
          ]
        },
        {
          "metadata": {
            "tags": null
          },
          "name": "stderr",
          "output_type": "stream",
          "text": [
            "`use_cache=True` is incompatible with gradient checkpointing. Setting `use_cache=False`...\n"
          ]
        },
        {
          "metadata": {
            "tags": null
          },
          "name": "stdout",
          "output_type": "stream",
          "text": [
            "tensor(10.9744, device='cuda:0', grad_fn=<AddBackward0>)\n"
          ]
        },
        {
          "metadata": {
            "tags": null
          },
          "name": "stderr",
          "output_type": "stream",
          "text": [
            "`use_cache=True` is incompatible with gradient checkpointing. Setting `use_cache=False`...\n"
          ]
        },
        {
          "metadata": {
            "tags": null
          },
          "name": "stdout",
          "output_type": "stream",
          "text": [
            "tensor(10.7601, device='cuda:0', grad_fn=<AddBackward0>)\n"
          ]
        },
        {
          "metadata": {
            "tags": null
          },
          "name": "stderr",
          "output_type": "stream",
          "text": [
            "`use_cache=True` is incompatible with gradient checkpointing. Setting `use_cache=False`...\n"
          ]
        },
        {
          "metadata": {
            "tags": null
          },
          "name": "stdout",
          "output_type": "stream",
          "text": [
            "tensor(9.5811, device='cuda:0', grad_fn=<AddBackward0>)\n"
          ]
        },
        {
          "metadata": {
            "tags": null
          },
          "name": "stderr",
          "output_type": "stream",
          "text": [
            "`use_cache=True` is incompatible with gradient checkpointing. Setting `use_cache=False`...\n"
          ]
        },
        {
          "metadata": {
            "tags": null
          },
          "name": "stdout",
          "output_type": "stream",
          "text": [
            "tensor(9.7195, device='cuda:0', grad_fn=<AddBackward0>)\n"
          ]
        },
        {
          "metadata": {
            "tags": null
          },
          "name": "stderr",
          "output_type": "stream",
          "text": [
            "`use_cache=True` is incompatible with gradient checkpointing. Setting `use_cache=False`...\n"
          ]
        },
        {
          "metadata": {
            "tags": null
          },
          "name": "stdout",
          "output_type": "stream",
          "text": [
            "tensor(9.7651, device='cuda:0', grad_fn=<AddBackward0>)\n"
          ]
        },
        {
          "metadata": {
            "tags": null
          },
          "name": "stderr",
          "output_type": "stream",
          "text": [
            "`use_cache=True` is incompatible with gradient checkpointing. Setting `use_cache=False`...\n"
          ]
        },
        {
          "metadata": {
            "tags": null
          },
          "name": "stdout",
          "output_type": "stream",
          "text": [
            "tensor(9.5862, device='cuda:0', grad_fn=<AddBackward0>)\n"
          ]
        },
        {
          "metadata": {
            "tags": null
          },
          "name": "stderr",
          "output_type": "stream",
          "text": [
            "`use_cache=True` is incompatible with gradient checkpointing. Setting `use_cache=False`...\n"
          ]
        },
        {
          "metadata": {
            "tags": null
          },
          "name": "stdout",
          "output_type": "stream",
          "text": [
            "tensor(9.7390, device='cuda:0', grad_fn=<AddBackward0>)\n"
          ]
        },
        {
          "metadata": {
            "tags": null
          },
          "name": "stderr",
          "output_type": "stream",
          "text": [
            "`use_cache=True` is incompatible with gradient checkpointing. Setting `use_cache=False`...\n"
          ]
        },
        {
          "metadata": {
            "tags": null
          },
          "name": "stdout",
          "output_type": "stream",
          "text": [
            "tensor(9.7882, device='cuda:0', grad_fn=<AddBackward0>)\n"
          ]
        },
        {
          "metadata": {
            "tags": null
          },
          "name": "stderr",
          "output_type": "stream",
          "text": [
            "`use_cache=True` is incompatible with gradient checkpointing. Setting `use_cache=False`...\n"
          ]
        },
        {
          "metadata": {
            "tags": null
          },
          "name": "stdout",
          "output_type": "stream",
          "text": [
            "tensor(9.5261, device='cuda:0', grad_fn=<AddBackward0>)\n"
          ]
        },
        {
          "metadata": {
            "tags": null
          },
          "name": "stderr",
          "output_type": "stream",
          "text": [
            "`use_cache=True` is incompatible with gradient checkpointing. Setting `use_cache=False`...\n"
          ]
        },
        {
          "metadata": {
            "tags": null
          },
          "name": "stdout",
          "output_type": "stream",
          "text": [
            "tensor(9.5969, device='cuda:0', grad_fn=<AddBackward0>)\n"
          ]
        },
        {
          "metadata": {
            "tags": null
          },
          "name": "stderr",
          "output_type": "stream",
          "text": [
            "`use_cache=True` is incompatible with gradient checkpointing. Setting `use_cache=False`...\n"
          ]
        },
        {
          "metadata": {
            "tags": null
          },
          "name": "stdout",
          "output_type": "stream",
          "text": [
            "tensor(9.6399, device='cuda:0', grad_fn=<AddBackward0>)\n"
          ]
        },
        {
          "metadata": {
            "tags": null
          },
          "name": "stderr",
          "output_type": "stream",
          "text": [
            "`use_cache=True` is incompatible with gradient checkpointing. Setting `use_cache=False`...\n"
          ]
        },
        {
          "metadata": {
            "tags": null
          },
          "name": "stdout",
          "output_type": "stream",
          "text": [
            "tensor(9.6122, device='cuda:0', grad_fn=<AddBackward0>)\n"
          ]
        },
        {
          "metadata": {
            "tags": null
          },
          "name": "stderr",
          "output_type": "stream",
          "text": [
            "`use_cache=True` is incompatible with gradient checkpointing. Setting `use_cache=False`...\n"
          ]
        },
        {
          "metadata": {
            "tags": null
          },
          "name": "stdout",
          "output_type": "stream",
          "text": [
            "tensor(9.6765, device='cuda:0', grad_fn=<AddBackward0>)\n"
          ]
        },
        {
          "metadata": {
            "tags": null
          },
          "name": "stderr",
          "output_type": "stream",
          "text": [
            "`use_cache=True` is incompatible with gradient checkpointing. Setting `use_cache=False`...\n"
          ]
        },
        {
          "metadata": {
            "tags": null
          },
          "name": "stdout",
          "output_type": "stream",
          "text": [
            "tensor(9.6780, device='cuda:0', grad_fn=<AddBackward0>)\n"
          ]
        },
        {
          "metadata": {
            "tags": null
          },
          "name": "stderr",
          "output_type": "stream",
          "text": [
            "`use_cache=True` is incompatible with gradient checkpointing. Setting `use_cache=False`...\n"
          ]
        },
        {
          "metadata": {
            "tags": null
          },
          "name": "stdout",
          "output_type": "stream",
          "text": [
            "tensor(9.7124, device='cuda:0', grad_fn=<AddBackward0>)\n"
          ]
        },
        {
          "metadata": {
            "tags": null
          },
          "name": "stderr",
          "output_type": "stream",
          "text": [
            "`use_cache=True` is incompatible with gradient checkpointing. Setting `use_cache=False`...\n"
          ]
        },
        {
          "metadata": {
            "tags": null
          },
          "name": "stdout",
          "output_type": "stream",
          "text": [
            "tensor(9.6687, device='cuda:0', grad_fn=<AddBackward0>)\n"
          ]
        },
        {
          "metadata": {
            "tags": null
          },
          "name": "stderr",
          "output_type": "stream",
          "text": [
            "`use_cache=True` is incompatible with gradient checkpointing. Setting `use_cache=False`...\n"
          ]
        },
        {
          "metadata": {
            "tags": null
          },
          "name": "stdout",
          "output_type": "stream",
          "text": [
            "tensor(9.6883, device='cuda:0', grad_fn=<AddBackward0>)\n"
          ]
        },
        {
          "metadata": {
            "tags": null
          },
          "name": "stderr",
          "output_type": "stream",
          "text": [
            "`use_cache=True` is incompatible with gradient checkpointing. Setting `use_cache=False`...\n"
          ]
        },
        {
          "metadata": {
            "tags": null
          },
          "name": "stdout",
          "output_type": "stream",
          "text": [
            "tensor(9.1464, device='cuda:0', grad_fn=<AddBackward0>)\n"
          ]
        },
        {
          "metadata": {
            "tags": null
          },
          "name": "stderr",
          "output_type": "stream",
          "text": [
            "`use_cache=True` is incompatible with gradient checkpointing. Setting `use_cache=False`...\n"
          ]
        },
        {
          "metadata": {
            "tags": null
          },
          "name": "stdout",
          "output_type": "stream",
          "text": [
            "tensor(4.4191, device='cuda:0', grad_fn=<AddBackward0>)\n"
          ]
        },
        {
          "metadata": {
            "tags": null
          },
          "name": "stderr",
          "output_type": "stream",
          "text": [
            "`use_cache=True` is incompatible with gradient checkpointing. Setting `use_cache=False`...\n"
          ]
        },
        {
          "metadata": {
            "tags": null
          },
          "name": "stdout",
          "output_type": "stream",
          "text": [
            "tensor(4.4452, device='cuda:0', grad_fn=<AddBackward0>)\n"
          ]
        },
        {
          "metadata": {
            "tags": null
          },
          "name": "stderr",
          "output_type": "stream",
          "text": [
            "`use_cache=True` is incompatible with gradient checkpointing. Setting `use_cache=False`...\n"
          ]
        },
        {
          "metadata": {
            "tags": null
          },
          "name": "stdout",
          "output_type": "stream",
          "text": [
            "tensor(4.8910, device='cuda:0', grad_fn=<AddBackward0>)\n"
          ]
        },
        {
          "metadata": {
            "tags": null
          },
          "name": "stderr",
          "output_type": "stream",
          "text": [
            "`use_cache=True` is incompatible with gradient checkpointing. Setting `use_cache=False`...\n"
          ]
        },
        {
          "metadata": {
            "tags": null
          },
          "name": "stdout",
          "output_type": "stream",
          "text": [
            "tensor(4.5270, device='cuda:0', grad_fn=<AddBackward0>)\n"
          ]
        },
        {
          "metadata": {
            "tags": null
          },
          "name": "stderr",
          "output_type": "stream",
          "text": [
            "`use_cache=True` is incompatible with gradient checkpointing. Setting `use_cache=False`...\n"
          ]
        },
        {
          "metadata": {
            "tags": null
          },
          "name": "stdout",
          "output_type": "stream",
          "text": [
            "tensor(3.9640, device='cuda:0', grad_fn=<AddBackward0>)\n"
          ]
        },
        {
          "metadata": {
            "tags": null
          },
          "name": "stderr",
          "output_type": "stream",
          "text": [
            "`use_cache=True` is incompatible with gradient checkpointing. Setting `use_cache=False`...\n"
          ]
        },
        {
          "metadata": {
            "tags": null
          },
          "name": "stdout",
          "output_type": "stream",
          "text": [
            "Epoch 1: train_loss = 9.437, train_acc = 0.196\n",
            "tensor(11.2360, device='cuda:0', grad_fn=<AddBackward0>)\n"
          ]
        },
        {
          "metadata": {
            "tags": null
          },
          "name": "stderr",
          "output_type": "stream",
          "text": [
            "`use_cache=True` is incompatible with gradient checkpointing. Setting `use_cache=False`...\n"
          ]
        },
        {
          "metadata": {
            "tags": null
          },
          "name": "stdout",
          "output_type": "stream",
          "text": [
            "tensor(11.2993, device='cuda:0', grad_fn=<AddBackward0>)\n"
          ]
        },
        {
          "metadata": {
            "tags": null
          },
          "name": "stderr",
          "output_type": "stream",
          "text": [
            "`use_cache=True` is incompatible with gradient checkpointing. Setting `use_cache=False`...\n"
          ]
        },
        {
          "metadata": {
            "tags": null
          },
          "name": "stdout",
          "output_type": "stream",
          "text": [
            "tensor(10.9105, device='cuda:0', grad_fn=<AddBackward0>)\n"
          ]
        },
        {
          "metadata": {
            "tags": null
          },
          "name": "stderr",
          "output_type": "stream",
          "text": [
            "`use_cache=True` is incompatible with gradient checkpointing. Setting `use_cache=False`...\n"
          ]
        },
        {
          "metadata": {
            "tags": null
          },
          "name": "stdout",
          "output_type": "stream",
          "text": [
            "tensor(10.5571, device='cuda:0', grad_fn=<AddBackward0>)\n"
          ]
        },
        {
          "metadata": {
            "tags": null
          },
          "name": "stderr",
          "output_type": "stream",
          "text": [
            "`use_cache=True` is incompatible with gradient checkpointing. Setting `use_cache=False`...\n"
          ]
        },
        {
          "metadata": {
            "tags": null
          },
          "name": "stdout",
          "output_type": "stream",
          "text": [
            "tensor(10.1883, device='cuda:0', grad_fn=<AddBackward0>)\n"
          ]
        },
        {
          "metadata": {
            "tags": null
          },
          "name": "stderr",
          "output_type": "stream",
          "text": [
            "`use_cache=True` is incompatible with gradient checkpointing. Setting `use_cache=False`...\n"
          ]
        },
        {
          "metadata": {
            "tags": null
          },
          "name": "stdout",
          "output_type": "stream",
          "text": [
            "tensor(11.0672, device='cuda:0', grad_fn=<AddBackward0>)\n"
          ]
        },
        {
          "metadata": {
            "tags": null
          },
          "name": "stderr",
          "output_type": "stream",
          "text": [
            "`use_cache=True` is incompatible with gradient checkpointing. Setting `use_cache=False`...\n"
          ]
        },
        {
          "metadata": {
            "tags": null
          },
          "name": "stdout",
          "output_type": "stream",
          "text": [
            "tensor(10.7036, device='cuda:0', grad_fn=<AddBackward0>)\n"
          ]
        },
        {
          "metadata": {
            "tags": null
          },
          "name": "stderr",
          "output_type": "stream",
          "text": [
            "`use_cache=True` is incompatible with gradient checkpointing. Setting `use_cache=False`...\n"
          ]
        },
        {
          "metadata": {
            "tags": null
          },
          "name": "stdout",
          "output_type": "stream",
          "text": [
            "tensor(10.6468, device='cuda:0', grad_fn=<AddBackward0>)\n"
          ]
        },
        {
          "metadata": {
            "tags": null
          },
          "name": "stderr",
          "output_type": "stream",
          "text": [
            "`use_cache=True` is incompatible with gradient checkpointing. Setting `use_cache=False`...\n"
          ]
        },
        {
          "metadata": {
            "tags": null
          },
          "name": "stdout",
          "output_type": "stream",
          "text": [
            "tensor(11.0385, device='cuda:0', grad_fn=<AddBackward0>)\n"
          ]
        },
        {
          "metadata": {
            "tags": null
          },
          "name": "stderr",
          "output_type": "stream",
          "text": [
            "`use_cache=True` is incompatible with gradient checkpointing. Setting `use_cache=False`...\n"
          ]
        },
        {
          "metadata": {
            "tags": null
          },
          "name": "stdout",
          "output_type": "stream",
          "text": [
            "tensor(10.8106, device='cuda:0', grad_fn=<AddBackward0>)\n"
          ]
        },
        {
          "metadata": {
            "tags": null
          },
          "name": "stderr",
          "output_type": "stream",
          "text": [
            "`use_cache=True` is incompatible with gradient checkpointing. Setting `use_cache=False`...\n"
          ]
        },
        {
          "metadata": {
            "tags": null
          },
          "name": "stdout",
          "output_type": "stream",
          "text": [
            "tensor(10.5692, device='cuda:0', grad_fn=<AddBackward0>)\n"
          ]
        },
        {
          "metadata": {
            "tags": null
          },
          "name": "stderr",
          "output_type": "stream",
          "text": [
            "`use_cache=True` is incompatible with gradient checkpointing. Setting `use_cache=False`...\n"
          ]
        },
        {
          "metadata": {
            "tags": null
          },
          "name": "stdout",
          "output_type": "stream",
          "text": [
            "tensor(10.5625, device='cuda:0', grad_fn=<AddBackward0>)\n"
          ]
        },
        {
          "metadata": {
            "tags": null
          },
          "name": "stderr",
          "output_type": "stream",
          "text": [
            "`use_cache=True` is incompatible with gradient checkpointing. Setting `use_cache=False`...\n"
          ]
        },
        {
          "metadata": {
            "tags": null
          },
          "name": "stdout",
          "output_type": "stream",
          "text": [
            "tensor(10.3387, device='cuda:0', grad_fn=<AddBackward0>)\n"
          ]
        },
        {
          "metadata": {
            "tags": null
          },
          "name": "stderr",
          "output_type": "stream",
          "text": [
            "`use_cache=True` is incompatible with gradient checkpointing. Setting `use_cache=False`...\n"
          ]
        },
        {
          "metadata": {
            "tags": null
          },
          "name": "stdout",
          "output_type": "stream",
          "text": [
            "tensor(9.1990, device='cuda:0', grad_fn=<AddBackward0>)\n"
          ]
        },
        {
          "metadata": {
            "tags": null
          },
          "name": "stderr",
          "output_type": "stream",
          "text": [
            "`use_cache=True` is incompatible with gradient checkpointing. Setting `use_cache=False`...\n"
          ]
        },
        {
          "metadata": {
            "tags": null
          },
          "name": "stdout",
          "output_type": "stream",
          "text": [
            "tensor(9.3119, device='cuda:0', grad_fn=<AddBackward0>)\n"
          ]
        },
        {
          "metadata": {
            "tags": null
          },
          "name": "stderr",
          "output_type": "stream",
          "text": [
            "`use_cache=True` is incompatible with gradient checkpointing. Setting `use_cache=False`...\n"
          ]
        },
        {
          "metadata": {
            "tags": null
          },
          "name": "stdout",
          "output_type": "stream",
          "text": [
            "tensor(9.3197, device='cuda:0', grad_fn=<AddBackward0>)\n"
          ]
        },
        {
          "metadata": {
            "tags": null
          },
          "name": "stderr",
          "output_type": "stream",
          "text": [
            "`use_cache=True` is incompatible with gradient checkpointing. Setting `use_cache=False`...\n"
          ]
        },
        {
          "metadata": {
            "tags": null
          },
          "name": "stdout",
          "output_type": "stream",
          "text": [
            "tensor(9.1497, device='cuda:0', grad_fn=<AddBackward0>)\n"
          ]
        },
        {
          "metadata": {
            "tags": null
          },
          "name": "stderr",
          "output_type": "stream",
          "text": [
            "`use_cache=True` is incompatible with gradient checkpointing. Setting `use_cache=False`...\n"
          ]
        },
        {
          "metadata": {
            "tags": null
          },
          "name": "stdout",
          "output_type": "stream",
          "text": [
            "tensor(9.2941, device='cuda:0', grad_fn=<AddBackward0>)\n"
          ]
        },
        {
          "metadata": {
            "tags": null
          },
          "name": "stderr",
          "output_type": "stream",
          "text": [
            "`use_cache=True` is incompatible with gradient checkpointing. Setting `use_cache=False`...\n"
          ]
        },
        {
          "metadata": {
            "tags": null
          },
          "name": "stdout",
          "output_type": "stream",
          "text": [
            "tensor(9.2890, device='cuda:0', grad_fn=<AddBackward0>)\n"
          ]
        },
        {
          "metadata": {
            "tags": null
          },
          "name": "stderr",
          "output_type": "stream",
          "text": [
            "`use_cache=True` is incompatible with gradient checkpointing. Setting `use_cache=False`...\n"
          ]
        },
        {
          "metadata": {
            "tags": null
          },
          "name": "stdout",
          "output_type": "stream",
          "text": [
            "tensor(9.0775, device='cuda:0', grad_fn=<AddBackward0>)\n"
          ]
        },
        {
          "metadata": {
            "tags": null
          },
          "name": "stderr",
          "output_type": "stream",
          "text": [
            "`use_cache=True` is incompatible with gradient checkpointing. Setting `use_cache=False`...\n"
          ]
        },
        {
          "metadata": {
            "tags": null
          },
          "name": "stdout",
          "output_type": "stream",
          "text": [
            "tensor(9.1200, device='cuda:0', grad_fn=<AddBackward0>)\n"
          ]
        },
        {
          "metadata": {
            "tags": null
          },
          "name": "stderr",
          "output_type": "stream",
          "text": [
            "`use_cache=True` is incompatible with gradient checkpointing. Setting `use_cache=False`...\n"
          ]
        },
        {
          "metadata": {
            "tags": null
          },
          "name": "stdout",
          "output_type": "stream",
          "text": [
            "tensor(9.1693, device='cuda:0', grad_fn=<AddBackward0>)\n"
          ]
        },
        {
          "metadata": {
            "tags": null
          },
          "name": "stderr",
          "output_type": "stream",
          "text": [
            "`use_cache=True` is incompatible with gradient checkpointing. Setting `use_cache=False`...\n"
          ]
        },
        {
          "metadata": {
            "tags": null
          },
          "name": "stdout",
          "output_type": "stream",
          "text": [
            "tensor(9.0678, device='cuda:0', grad_fn=<AddBackward0>)\n"
          ]
        },
        {
          "metadata": {
            "tags": null
          },
          "name": "stderr",
          "output_type": "stream",
          "text": [
            "`use_cache=True` is incompatible with gradient checkpointing. Setting `use_cache=False`...\n"
          ]
        },
        {
          "metadata": {
            "tags": null
          },
          "name": "stdout",
          "output_type": "stream",
          "text": [
            "tensor(9.1093, device='cuda:0', grad_fn=<AddBackward0>)\n"
          ]
        },
        {
          "metadata": {
            "tags": null
          },
          "name": "stderr",
          "output_type": "stream",
          "text": [
            "`use_cache=True` is incompatible with gradient checkpointing. Setting `use_cache=False`...\n"
          ]
        },
        {
          "metadata": {
            "tags": null
          },
          "name": "stdout",
          "output_type": "stream",
          "text": [
            "tensor(9.0927, device='cuda:0', grad_fn=<AddBackward0>)\n"
          ]
        },
        {
          "metadata": {
            "tags": null
          },
          "name": "stderr",
          "output_type": "stream",
          "text": [
            "`use_cache=True` is incompatible with gradient checkpointing. Setting `use_cache=False`...\n"
          ]
        },
        {
          "metadata": {
            "tags": null
          },
          "name": "stdout",
          "output_type": "stream",
          "text": [
            "tensor(9.1041, device='cuda:0', grad_fn=<AddBackward0>)\n"
          ]
        },
        {
          "metadata": {
            "tags": null
          },
          "name": "stderr",
          "output_type": "stream",
          "text": [
            "`use_cache=True` is incompatible with gradient checkpointing. Setting `use_cache=False`...\n"
          ]
        },
        {
          "metadata": {
            "tags": null
          },
          "name": "stdout",
          "output_type": "stream",
          "text": [
            "tensor(9.0467, device='cuda:0', grad_fn=<AddBackward0>)\n"
          ]
        },
        {
          "metadata": {
            "tags": null
          },
          "name": "stderr",
          "output_type": "stream",
          "text": [
            "`use_cache=True` is incompatible with gradient checkpointing. Setting `use_cache=False`...\n"
          ]
        },
        {
          "metadata": {
            "tags": null
          },
          "name": "stdout",
          "output_type": "stream",
          "text": [
            "tensor(9.0417, device='cuda:0', grad_fn=<AddBackward0>)\n"
          ]
        },
        {
          "metadata": {
            "tags": null
          },
          "name": "stderr",
          "output_type": "stream",
          "text": [
            "`use_cache=True` is incompatible with gradient checkpointing. Setting `use_cache=False`...\n"
          ]
        },
        {
          "metadata": {
            "tags": null
          },
          "name": "stdout",
          "output_type": "stream",
          "text": [
            "tensor(8.5417, device='cuda:0', grad_fn=<AddBackward0>)\n"
          ]
        },
        {
          "metadata": {
            "tags": null
          },
          "name": "stderr",
          "output_type": "stream",
          "text": [
            "`use_cache=True` is incompatible with gradient checkpointing. Setting `use_cache=False`...\n"
          ]
        },
        {
          "metadata": {
            "tags": null
          },
          "name": "stdout",
          "output_type": "stream",
          "text": [
            "tensor(4.2747, device='cuda:0', grad_fn=<AddBackward0>)\n"
          ]
        },
        {
          "metadata": {
            "tags": null
          },
          "name": "stderr",
          "output_type": "stream",
          "text": [
            "`use_cache=True` is incompatible with gradient checkpointing. Setting `use_cache=False`...\n"
          ]
        },
        {
          "metadata": {
            "tags": null
          },
          "name": "stdout",
          "output_type": "stream",
          "text": [
            "tensor(4.2972, device='cuda:0', grad_fn=<AddBackward0>)\n"
          ]
        },
        {
          "metadata": {
            "tags": null
          },
          "name": "stderr",
          "output_type": "stream",
          "text": [
            "`use_cache=True` is incompatible with gradient checkpointing. Setting `use_cache=False`...\n"
          ]
        },
        {
          "metadata": {
            "tags": null
          },
          "name": "stdout",
          "output_type": "stream",
          "text": [
            "tensor(4.6951, device='cuda:0', grad_fn=<AddBackward0>)\n"
          ]
        },
        {
          "metadata": {
            "tags": null
          },
          "name": "stderr",
          "output_type": "stream",
          "text": [
            "`use_cache=True` is incompatible with gradient checkpointing. Setting `use_cache=False`...\n"
          ]
        },
        {
          "metadata": {
            "tags": null
          },
          "name": "stdout",
          "output_type": "stream",
          "text": [
            "tensor(4.3586, device='cuda:0', grad_fn=<AddBackward0>)\n"
          ]
        },
        {
          "metadata": {
            "tags": null
          },
          "name": "stderr",
          "output_type": "stream",
          "text": [
            "`use_cache=True` is incompatible with gradient checkpointing. Setting `use_cache=False`...\n"
          ]
        },
        {
          "metadata": {
            "tags": null
          },
          "name": "stdout",
          "output_type": "stream",
          "text": [
            "tensor(3.8401, device='cuda:0', grad_fn=<AddBackward0>)\n"
          ]
        },
        {
          "metadata": {
            "tags": null
          },
          "name": "stderr",
          "output_type": "stream",
          "text": [
            "`use_cache=True` is incompatible with gradient checkpointing. Setting `use_cache=False`...\n"
          ]
        },
        {
          "metadata": {
            "tags": null
          },
          "name": "stdout",
          "output_type": "stream",
          "text": [
            "Epoch 2: train_loss = 9.039, train_acc = 0.197\n",
            "tensor(10.3632, device='cuda:0', grad_fn=<AddBackward0>)\n"
          ]
        },
        {
          "metadata": {
            "tags": null
          },
          "name": "stderr",
          "output_type": "stream",
          "text": [
            "`use_cache=True` is incompatible with gradient checkpointing. Setting `use_cache=False`...\n"
          ]
        },
        {
          "metadata": {
            "tags": null
          },
          "name": "stdout",
          "output_type": "stream",
          "text": [
            "tensor(10.3670, device='cuda:0', grad_fn=<AddBackward0>)\n"
          ]
        },
        {
          "metadata": {
            "tags": null
          },
          "name": "stderr",
          "output_type": "stream",
          "text": [
            "`use_cache=True` is incompatible with gradient checkpointing. Setting `use_cache=False`...\n"
          ]
        },
        {
          "metadata": {
            "tags": null
          },
          "name": "stdout",
          "output_type": "stream",
          "text": [
            "tensor(10.0402, device='cuda:0', grad_fn=<AddBackward0>)\n"
          ]
        },
        {
          "metadata": {
            "tags": null
          },
          "name": "stderr",
          "output_type": "stream",
          "text": [
            "`use_cache=True` is incompatible with gradient checkpointing. Setting `use_cache=False`...\n"
          ]
        },
        {
          "metadata": {
            "tags": null
          },
          "name": "stdout",
          "output_type": "stream",
          "text": [
            "tensor(9.6719, device='cuda:0', grad_fn=<AddBackward0>)\n"
          ]
        },
        {
          "metadata": {
            "tags": null
          },
          "name": "stderr",
          "output_type": "stream",
          "text": [
            "`use_cache=True` is incompatible with gradient checkpointing. Setting `use_cache=False`...\n"
          ]
        },
        {
          "metadata": {
            "tags": null
          },
          "name": "stdout",
          "output_type": "stream",
          "text": [
            "tensor(9.3360, device='cuda:0', grad_fn=<AddBackward0>)\n"
          ]
        },
        {
          "metadata": {
            "tags": null
          },
          "name": "stderr",
          "output_type": "stream",
          "text": [
            "`use_cache=True` is incompatible with gradient checkpointing. Setting `use_cache=False`...\n"
          ]
        },
        {
          "metadata": {
            "tags": null
          },
          "name": "stdout",
          "output_type": "stream",
          "text": [
            "tensor(10.0996, device='cuda:0', grad_fn=<AddBackward0>)\n"
          ]
        },
        {
          "metadata": {
            "tags": null
          },
          "name": "stderr",
          "output_type": "stream",
          "text": [
            "`use_cache=True` is incompatible with gradient checkpointing. Setting `use_cache=False`...\n"
          ]
        },
        {
          "metadata": {
            "tags": null
          },
          "name": "stdout",
          "output_type": "stream",
          "text": [
            "tensor(9.7951, device='cuda:0', grad_fn=<AddBackward0>)\n"
          ]
        },
        {
          "metadata": {
            "tags": null
          },
          "name": "stderr",
          "output_type": "stream",
          "text": [
            "`use_cache=True` is incompatible with gradient checkpointing. Setting `use_cache=False`...\n"
          ]
        },
        {
          "metadata": {
            "tags": null
          },
          "name": "stdout",
          "output_type": "stream",
          "text": [
            "tensor(9.6903, device='cuda:0', grad_fn=<AddBackward0>)\n"
          ]
        },
        {
          "metadata": {
            "tags": null
          },
          "name": "stderr",
          "output_type": "stream",
          "text": [
            "`use_cache=True` is incompatible with gradient checkpointing. Setting `use_cache=False`...\n"
          ]
        },
        {
          "metadata": {
            "tags": null
          },
          "name": "stdout",
          "output_type": "stream",
          "text": [
            "tensor(10.0270, device='cuda:0', grad_fn=<AddBackward0>)\n"
          ]
        },
        {
          "metadata": {
            "tags": null
          },
          "name": "stderr",
          "output_type": "stream",
          "text": [
            "`use_cache=True` is incompatible with gradient checkpointing. Setting `use_cache=False`...\n"
          ]
        },
        {
          "metadata": {
            "tags": null
          },
          "name": "stdout",
          "output_type": "stream",
          "text": [
            "tensor(9.8028, device='cuda:0', grad_fn=<AddBackward0>)\n"
          ]
        },
        {
          "metadata": {
            "tags": null
          },
          "name": "stderr",
          "output_type": "stream",
          "text": [
            "`use_cache=True` is incompatible with gradient checkpointing. Setting `use_cache=False`...\n"
          ]
        },
        {
          "metadata": {
            "tags": null
          },
          "name": "stdout",
          "output_type": "stream",
          "text": [
            "tensor(9.5507, device='cuda:0', grad_fn=<AddBackward0>)\n"
          ]
        },
        {
          "metadata": {
            "tags": null
          },
          "name": "stderr",
          "output_type": "stream",
          "text": [
            "`use_cache=True` is incompatible with gradient checkpointing. Setting `use_cache=False`...\n"
          ]
        },
        {
          "metadata": {
            "tags": null
          },
          "name": "stdout",
          "output_type": "stream",
          "text": [
            "tensor(9.5416, device='cuda:0', grad_fn=<AddBackward0>)\n"
          ]
        },
        {
          "metadata": {
            "tags": null
          },
          "name": "stderr",
          "output_type": "stream",
          "text": [
            "`use_cache=True` is incompatible with gradient checkpointing. Setting `use_cache=False`...\n"
          ]
        },
        {
          "metadata": {
            "tags": null
          },
          "name": "stdout",
          "output_type": "stream",
          "text": [
            "tensor(9.3267, device='cuda:0', grad_fn=<AddBackward0>)\n"
          ]
        },
        {
          "metadata": {
            "tags": null
          },
          "name": "stderr",
          "output_type": "stream",
          "text": [
            "`use_cache=True` is incompatible with gradient checkpointing. Setting `use_cache=False`...\n"
          ]
        },
        {
          "metadata": {
            "tags": null
          },
          "name": "stdout",
          "output_type": "stream",
          "text": [
            "tensor(8.3243, device='cuda:0', grad_fn=<AddBackward0>)\n"
          ]
        },
        {
          "metadata": {
            "tags": null
          },
          "name": "stderr",
          "output_type": "stream",
          "text": [
            "`use_cache=True` is incompatible with gradient checkpointing. Setting `use_cache=False`...\n"
          ]
        },
        {
          "metadata": {
            "tags": null
          },
          "name": "stdout",
          "output_type": "stream",
          "text": [
            "tensor(8.3898, device='cuda:0', grad_fn=<AddBackward0>)\n"
          ]
        },
        {
          "metadata": {
            "tags": null
          },
          "name": "stderr",
          "output_type": "stream",
          "text": [
            "`use_cache=True` is incompatible with gradient checkpointing. Setting `use_cache=False`...\n"
          ]
        },
        {
          "metadata": {
            "tags": null
          },
          "name": "stdout",
          "output_type": "stream",
          "text": [
            "tensor(8.3373, device='cuda:0', grad_fn=<AddBackward0>)\n"
          ]
        },
        {
          "metadata": {
            "tags": null
          },
          "name": "stderr",
          "output_type": "stream",
          "text": [
            "`use_cache=True` is incompatible with gradient checkpointing. Setting `use_cache=False`...\n"
          ]
        },
        {
          "metadata": {
            "tags": null
          },
          "name": "stdout",
          "output_type": "stream",
          "text": [
            "tensor(8.1965, device='cuda:0', grad_fn=<AddBackward0>)\n"
          ]
        },
        {
          "metadata": {
            "tags": null
          },
          "name": "stderr",
          "output_type": "stream",
          "text": [
            "`use_cache=True` is incompatible with gradient checkpointing. Setting `use_cache=False`...\n"
          ]
        },
        {
          "metadata": {
            "tags": null
          },
          "name": "stdout",
          "output_type": "stream",
          "text": [
            "tensor(8.3220, device='cuda:0', grad_fn=<AddBackward0>)\n"
          ]
        },
        {
          "metadata": {
            "tags": null
          },
          "name": "stderr",
          "output_type": "stream",
          "text": [
            "`use_cache=True` is incompatible with gradient checkpointing. Setting `use_cache=False`...\n"
          ]
        },
        {
          "metadata": {
            "tags": null
          },
          "name": "stdout",
          "output_type": "stream",
          "text": [
            "tensor(8.2494, device='cuda:0', grad_fn=<AddBackward0>)\n"
          ]
        },
        {
          "metadata": {
            "tags": null
          },
          "name": "stderr",
          "output_type": "stream",
          "text": [
            "`use_cache=True` is incompatible with gradient checkpointing. Setting `use_cache=False`...\n"
          ]
        },
        {
          "metadata": {
            "tags": null
          },
          "name": "stdout",
          "output_type": "stream",
          "text": [
            "tensor(8.1200, device='cuda:0', grad_fn=<AddBackward0>)\n"
          ]
        },
        {
          "metadata": {
            "tags": null
          },
          "name": "stderr",
          "output_type": "stream",
          "text": [
            "`use_cache=True` is incompatible with gradient checkpointing. Setting `use_cache=False`...\n"
          ]
        },
        {
          "metadata": {
            "tags": null
          },
          "name": "stdout",
          "output_type": "stream",
          "text": [
            "tensor(8.1368, device='cuda:0', grad_fn=<AddBackward0>)\n"
          ]
        },
        {
          "metadata": {
            "tags": null
          },
          "name": "stderr",
          "output_type": "stream",
          "text": [
            "`use_cache=True` is incompatible with gradient checkpointing. Setting `use_cache=False`...\n"
          ]
        },
        {
          "metadata": {
            "tags": null
          },
          "name": "stdout",
          "output_type": "stream",
          "text": [
            "tensor(8.1862, device='cuda:0', grad_fn=<AddBackward0>)\n"
          ]
        },
        {
          "metadata": {
            "tags": null
          },
          "name": "stderr",
          "output_type": "stream",
          "text": [
            "`use_cache=True` is incompatible with gradient checkpointing. Setting `use_cache=False`...\n"
          ]
        },
        {
          "metadata": {
            "tags": null
          },
          "name": "stdout",
          "output_type": "stream",
          "text": [
            "tensor(8.0048, device='cuda:0', grad_fn=<AddBackward0>)\n"
          ]
        },
        {
          "metadata": {
            "tags": null
          },
          "name": "stderr",
          "output_type": "stream",
          "text": [
            "`use_cache=True` is incompatible with gradient checkpointing. Setting `use_cache=False`...\n"
          ]
        },
        {
          "metadata": {
            "tags": null
          },
          "name": "stdout",
          "output_type": "stream",
          "text": [
            "tensor(8.0208, device='cuda:0', grad_fn=<AddBackward0>)\n"
          ]
        },
        {
          "metadata": {
            "tags": null
          },
          "name": "stderr",
          "output_type": "stream",
          "text": [
            "`use_cache=True` is incompatible with gradient checkpointing. Setting `use_cache=False`...\n"
          ]
        },
        {
          "metadata": {
            "tags": null
          },
          "name": "stdout",
          "output_type": "stream",
          "text": [
            "tensor(7.9630, device='cuda:0', grad_fn=<AddBackward0>)\n"
          ]
        },
        {
          "metadata": {
            "tags": null
          },
          "name": "stderr",
          "output_type": "stream",
          "text": [
            "`use_cache=True` is incompatible with gradient checkpointing. Setting `use_cache=False`...\n"
          ]
        },
        {
          "metadata": {
            "tags": null
          },
          "name": "stdout",
          "output_type": "stream",
          "text": [
            "tensor(7.9571, device='cuda:0', grad_fn=<AddBackward0>)\n"
          ]
        },
        {
          "metadata": {
            "tags": null
          },
          "name": "stderr",
          "output_type": "stream",
          "text": [
            "`use_cache=True` is incompatible with gradient checkpointing. Setting `use_cache=False`...\n"
          ]
        },
        {
          "metadata": {
            "tags": null
          },
          "name": "stdout",
          "output_type": "stream",
          "text": [
            "tensor(7.8909, device='cuda:0', grad_fn=<AddBackward0>)\n"
          ]
        },
        {
          "metadata": {
            "tags": null
          },
          "name": "stderr",
          "output_type": "stream",
          "text": [
            "`use_cache=True` is incompatible with gradient checkpointing. Setting `use_cache=False`...\n"
          ]
        },
        {
          "metadata": {
            "tags": null
          },
          "name": "stdout",
          "output_type": "stream",
          "text": [
            "tensor(7.8581, device='cuda:0', grad_fn=<AddBackward0>)\n"
          ]
        },
        {
          "metadata": {
            "tags": null
          },
          "name": "stderr",
          "output_type": "stream",
          "text": [
            "`use_cache=True` is incompatible with gradient checkpointing. Setting `use_cache=False`...\n"
          ]
        },
        {
          "metadata": {
            "tags": null
          },
          "name": "stdout",
          "output_type": "stream",
          "text": [
            "tensor(7.4389, device='cuda:0', grad_fn=<AddBackward0>)\n"
          ]
        },
        {
          "metadata": {
            "tags": null
          },
          "name": "stderr",
          "output_type": "stream",
          "text": [
            "`use_cache=True` is incompatible with gradient checkpointing. Setting `use_cache=False`...\n"
          ]
        },
        {
          "metadata": {
            "tags": null
          },
          "name": "stdout",
          "output_type": "stream",
          "text": [
            "tensor(3.9778, device='cuda:0', grad_fn=<AddBackward0>)\n"
          ]
        },
        {
          "metadata": {
            "tags": null
          },
          "name": "stderr",
          "output_type": "stream",
          "text": [
            "`use_cache=True` is incompatible with gradient checkpointing. Setting `use_cache=False`...\n"
          ]
        },
        {
          "metadata": {
            "tags": null
          },
          "name": "stdout",
          "output_type": "stream",
          "text": [
            "tensor(3.9896, device='cuda:0', grad_fn=<AddBackward0>)\n"
          ]
        },
        {
          "metadata": {
            "tags": null
          },
          "name": "stderr",
          "output_type": "stream",
          "text": [
            "`use_cache=True` is incompatible with gradient checkpointing. Setting `use_cache=False`...\n"
          ]
        },
        {
          "metadata": {
            "tags": null
          },
          "name": "stdout",
          "output_type": "stream",
          "text": [
            "tensor(4.3283, device='cuda:0', grad_fn=<AddBackward0>)\n"
          ]
        },
        {
          "metadata": {
            "tags": null
          },
          "name": "stderr",
          "output_type": "stream",
          "text": [
            "`use_cache=True` is incompatible with gradient checkpointing. Setting `use_cache=False`...\n"
          ]
        },
        {
          "metadata": {
            "tags": null
          },
          "name": "stdout",
          "output_type": "stream",
          "text": [
            "tensor(4.0523, device='cuda:0', grad_fn=<AddBackward0>)\n"
          ]
        },
        {
          "metadata": {
            "tags": null
          },
          "name": "stderr",
          "output_type": "stream",
          "text": [
            "`use_cache=True` is incompatible with gradient checkpointing. Setting `use_cache=False`...\n"
          ]
        },
        {
          "metadata": {
            "tags": null
          },
          "name": "stdout",
          "output_type": "stream",
          "text": [
            "tensor(3.6164, device='cuda:0', grad_fn=<AddBackward0>)\n"
          ]
        },
        {
          "metadata": {
            "tags": null
          },
          "name": "stderr",
          "output_type": "stream",
          "text": [
            "`use_cache=True` is incompatible with gradient checkpointing. Setting `use_cache=False`...\n"
          ]
        },
        {
          "metadata": {
            "tags": null
          },
          "name": "stdout",
          "output_type": "stream",
          "text": [
            "Epoch 3: train_loss = 8.146, train_acc = 0.201\n",
            "tensor(8.9424, device='cuda:0', grad_fn=<AddBackward0>)\n"
          ]
        },
        {
          "metadata": {
            "tags": null
          },
          "name": "stderr",
          "output_type": "stream",
          "text": [
            "`use_cache=True` is incompatible with gradient checkpointing. Setting `use_cache=False`...\n"
          ]
        },
        {
          "metadata": {
            "tags": null
          },
          "name": "stdout",
          "output_type": "stream",
          "text": [
            "tensor(8.9050, device='cuda:0', grad_fn=<AddBackward0>)\n"
          ]
        },
        {
          "metadata": {
            "tags": null
          },
          "name": "stderr",
          "output_type": "stream",
          "text": [
            "`use_cache=True` is incompatible with gradient checkpointing. Setting `use_cache=False`...\n"
          ]
        },
        {
          "metadata": {
            "tags": null
          },
          "name": "stdout",
          "output_type": "stream",
          "text": [
            "tensor(8.6321, device='cuda:0', grad_fn=<AddBackward0>)\n"
          ]
        },
        {
          "metadata": {
            "tags": null
          },
          "name": "stderr",
          "output_type": "stream",
          "text": [
            "`use_cache=True` is incompatible with gradient checkpointing. Setting `use_cache=False`...\n"
          ]
        },
        {
          "metadata": {
            "tags": null
          },
          "name": "stdout",
          "output_type": "stream",
          "text": [
            "tensor(8.2901, device='cuda:0', grad_fn=<AddBackward0>)\n"
          ]
        },
        {
          "metadata": {
            "tags": null
          },
          "name": "stderr",
          "output_type": "stream",
          "text": [
            "`use_cache=True` is incompatible with gradient checkpointing. Setting `use_cache=False`...\n"
          ]
        },
        {
          "metadata": {
            "tags": null
          },
          "name": "stdout",
          "output_type": "stream",
          "text": [
            "tensor(8.0281, device='cuda:0', grad_fn=<AddBackward0>)\n"
          ]
        },
        {
          "metadata": {
            "tags": null
          },
          "name": "stderr",
          "output_type": "stream",
          "text": [
            "`use_cache=True` is incompatible with gradient checkpointing. Setting `use_cache=False`...\n"
          ]
        },
        {
          "metadata": {
            "tags": null
          },
          "name": "stdout",
          "output_type": "stream",
          "text": [
            "tensor(8.6689, device='cuda:0', grad_fn=<AddBackward0>)\n"
          ]
        },
        {
          "metadata": {
            "tags": null
          },
          "name": "stderr",
          "output_type": "stream",
          "text": [
            "`use_cache=True` is incompatible with gradient checkpointing. Setting `use_cache=False`...\n"
          ]
        },
        {
          "metadata": {
            "tags": null
          },
          "name": "stdout",
          "output_type": "stream",
          "text": [
            "tensor(8.4236, device='cuda:0', grad_fn=<AddBackward0>)\n"
          ]
        },
        {
          "metadata": {
            "tags": null
          },
          "name": "stderr",
          "output_type": "stream",
          "text": [
            "`use_cache=True` is incompatible with gradient checkpointing. Setting `use_cache=False`...\n"
          ]
        },
        {
          "metadata": {
            "tags": null
          },
          "name": "stdout",
          "output_type": "stream",
          "text": [
            "tensor(8.3187, device='cuda:0', grad_fn=<AddBackward0>)\n"
          ]
        },
        {
          "metadata": {
            "tags": null
          },
          "name": "stderr",
          "output_type": "stream",
          "text": [
            "`use_cache=True` is incompatible with gradient checkpointing. Setting `use_cache=False`...\n"
          ]
        },
        {
          "metadata": {
            "tags": null
          },
          "name": "stdout",
          "output_type": "stream",
          "text": [
            "tensor(8.5622, device='cuda:0', grad_fn=<AddBackward0>)\n"
          ]
        },
        {
          "metadata": {
            "tags": null
          },
          "name": "stderr",
          "output_type": "stream",
          "text": [
            "`use_cache=True` is incompatible with gradient checkpointing. Setting `use_cache=False`...\n"
          ]
        },
        {
          "metadata": {
            "tags": null
          },
          "name": "stdout",
          "output_type": "stream",
          "text": [
            "tensor(8.3379, device='cuda:0', grad_fn=<AddBackward0>)\n"
          ]
        },
        {
          "metadata": {
            "tags": null
          },
          "name": "stderr",
          "output_type": "stream",
          "text": [
            "`use_cache=True` is incompatible with gradient checkpointing. Setting `use_cache=False`...\n"
          ]
        },
        {
          "metadata": {
            "tags": null
          },
          "name": "stdout",
          "output_type": "stream",
          "text": [
            "tensor(8.1191, device='cuda:0', grad_fn=<AddBackward0>)\n"
          ]
        },
        {
          "metadata": {
            "tags": null
          },
          "name": "stderr",
          "output_type": "stream",
          "text": [
            "`use_cache=True` is incompatible with gradient checkpointing. Setting `use_cache=False`...\n"
          ]
        },
        {
          "metadata": {
            "tags": null
          },
          "name": "stdout",
          "output_type": "stream",
          "text": [
            "tensor(8.1360, device='cuda:0', grad_fn=<AddBackward0>)\n"
          ]
        },
        {
          "metadata": {
            "tags": null
          },
          "name": "stderr",
          "output_type": "stream",
          "text": [
            "`use_cache=True` is incompatible with gradient checkpointing. Setting `use_cache=False`...\n"
          ]
        },
        {
          "metadata": {
            "tags": null
          },
          "name": "stdout",
          "output_type": "stream",
          "text": [
            "tensor(7.9479, device='cuda:0', grad_fn=<AddBackward0>)\n"
          ]
        },
        {
          "metadata": {
            "tags": null
          },
          "name": "stderr",
          "output_type": "stream",
          "text": [
            "`use_cache=True` is incompatible with gradient checkpointing. Setting `use_cache=False`...\n"
          ]
        },
        {
          "metadata": {
            "tags": null
          },
          "name": "stdout",
          "output_type": "stream",
          "text": [
            "tensor(7.0874, device='cuda:0', grad_fn=<AddBackward0>)\n"
          ]
        },
        {
          "metadata": {
            "tags": null
          },
          "name": "stderr",
          "output_type": "stream",
          "text": [
            "`use_cache=True` is incompatible with gradient checkpointing. Setting `use_cache=False`...\n"
          ]
        },
        {
          "metadata": {
            "tags": null
          },
          "name": "stdout",
          "output_type": "stream",
          "text": [
            "tensor(7.1050, device='cuda:0', grad_fn=<AddBackward0>)\n"
          ]
        },
        {
          "metadata": {
            "tags": null
          },
          "name": "stderr",
          "output_type": "stream",
          "text": [
            "`use_cache=True` is incompatible with gradient checkpointing. Setting `use_cache=False`...\n"
          ]
        },
        {
          "metadata": {
            "tags": null
          },
          "name": "stdout",
          "output_type": "stream",
          "text": [
            "tensor(6.9946, device='cuda:0', grad_fn=<AddBackward0>)\n"
          ]
        },
        {
          "metadata": {
            "tags": null
          },
          "name": "stderr",
          "output_type": "stream",
          "text": [
            "`use_cache=True` is incompatible with gradient checkpointing. Setting `use_cache=False`...\n"
          ]
        },
        {
          "metadata": {
            "tags": null
          },
          "name": "stdout",
          "output_type": "stream",
          "text": [
            "tensor(6.9101, device='cuda:0', grad_fn=<AddBackward0>)\n"
          ]
        },
        {
          "metadata": {
            "tags": null
          },
          "name": "stderr",
          "output_type": "stream",
          "text": [
            "`use_cache=True` is incompatible with gradient checkpointing. Setting `use_cache=False`...\n"
          ]
        },
        {
          "metadata": {
            "tags": null
          },
          "name": "stdout",
          "output_type": "stream",
          "text": [
            "tensor(7.0210, device='cuda:0', grad_fn=<AddBackward0>)\n"
          ]
        },
        {
          "metadata": {
            "tags": null
          },
          "name": "stderr",
          "output_type": "stream",
          "text": [
            "`use_cache=True` is incompatible with gradient checkpointing. Setting `use_cache=False`...\n"
          ]
        },
        {
          "metadata": {
            "tags": null
          },
          "name": "stdout",
          "output_type": "stream",
          "text": [
            "tensor(6.8832, device='cuda:0', grad_fn=<AddBackward0>)\n"
          ]
        },
        {
          "metadata": {
            "tags": null
          },
          "name": "stderr",
          "output_type": "stream",
          "text": [
            "`use_cache=True` is incompatible with gradient checkpointing. Setting `use_cache=False`...\n"
          ]
        },
        {
          "metadata": {
            "tags": null
          },
          "name": "stdout",
          "output_type": "stream",
          "text": [
            "tensor(6.8631, device='cuda:0', grad_fn=<AddBackward0>)\n"
          ]
        },
        {
          "metadata": {
            "tags": null
          },
          "name": "stderr",
          "output_type": "stream",
          "text": [
            "`use_cache=True` is incompatible with gradient checkpointing. Setting `use_cache=False`...\n"
          ]
        },
        {
          "metadata": {
            "tags": null
          },
          "name": "stdout",
          "output_type": "stream",
          "text": [
            "tensor(6.8460, device='cuda:0', grad_fn=<AddBackward0>)\n"
          ]
        },
        {
          "metadata": {
            "tags": null
          },
          "name": "stderr",
          "output_type": "stream",
          "text": [
            "`use_cache=True` is incompatible with gradient checkpointing. Setting `use_cache=False`...\n"
          ]
        },
        {
          "metadata": {
            "tags": null
          },
          "name": "stdout",
          "output_type": "stream",
          "text": [
            "tensor(6.9051, device='cuda:0', grad_fn=<AddBackward0>)\n"
          ]
        },
        {
          "metadata": {
            "tags": null
          },
          "name": "stderr",
          "output_type": "stream",
          "text": [
            "`use_cache=True` is incompatible with gradient checkpointing. Setting `use_cache=False`...\n"
          ]
        },
        {
          "metadata": {
            "tags": null
          },
          "name": "stdout",
          "output_type": "stream",
          "text": [
            "tensor(6.6517, device='cuda:0', grad_fn=<AddBackward0>)\n"
          ]
        },
        {
          "metadata": {
            "tags": null
          },
          "name": "stderr",
          "output_type": "stream",
          "text": [
            "`use_cache=True` is incompatible with gradient checkpointing. Setting `use_cache=False`...\n"
          ]
        },
        {
          "metadata": {
            "tags": null
          },
          "name": "stdout",
          "output_type": "stream",
          "text": [
            "tensor(6.6549, device='cuda:0', grad_fn=<AddBackward0>)\n"
          ]
        },
        {
          "metadata": {
            "tags": null
          },
          "name": "stderr",
          "output_type": "stream",
          "text": [
            "`use_cache=True` is incompatible with gradient checkpointing. Setting `use_cache=False`...\n"
          ]
        },
        {
          "metadata": {
            "tags": null
          },
          "name": "stdout",
          "output_type": "stream",
          "text": [
            "tensor(6.5670, device='cuda:0', grad_fn=<AddBackward0>)\n"
          ]
        },
        {
          "metadata": {
            "tags": null
          },
          "name": "stderr",
          "output_type": "stream",
          "text": [
            "`use_cache=True` is incompatible with gradient checkpointing. Setting `use_cache=False`...\n"
          ]
        },
        {
          "metadata": {
            "tags": null
          },
          "name": "stdout",
          "output_type": "stream",
          "text": [
            "tensor(6.5473, device='cuda:0', grad_fn=<AddBackward0>)\n"
          ]
        },
        {
          "metadata": {
            "tags": null
          },
          "name": "stderr",
          "output_type": "stream",
          "text": [
            "`use_cache=True` is incompatible with gradient checkpointing. Setting `use_cache=False`...\n"
          ]
        },
        {
          "metadata": {
            "tags": null
          },
          "name": "stdout",
          "output_type": "stream",
          "text": [
            "tensor(6.4805, device='cuda:0', grad_fn=<AddBackward0>)\n"
          ]
        },
        {
          "metadata": {
            "tags": null
          },
          "name": "stderr",
          "output_type": "stream",
          "text": [
            "`use_cache=True` is incompatible with gradient checkpointing. Setting `use_cache=False`...\n"
          ]
        },
        {
          "metadata": {
            "tags": null
          },
          "name": "stdout",
          "output_type": "stream",
          "text": [
            "tensor(6.4270, device='cuda:0', grad_fn=<AddBackward0>)\n"
          ]
        },
        {
          "metadata": {
            "tags": null
          },
          "name": "stderr",
          "output_type": "stream",
          "text": [
            "`use_cache=True` is incompatible with gradient checkpointing. Setting `use_cache=False`...\n"
          ]
        },
        {
          "metadata": {
            "tags": null
          },
          "name": "stdout",
          "output_type": "stream",
          "text": [
            "tensor(6.1211, device='cuda:0', grad_fn=<AddBackward0>)\n"
          ]
        },
        {
          "metadata": {
            "tags": null
          },
          "name": "stderr",
          "output_type": "stream",
          "text": [
            "`use_cache=True` is incompatible with gradient checkpointing. Setting `use_cache=False`...\n"
          ]
        },
        {
          "metadata": {
            "tags": null
          },
          "name": "stdout",
          "output_type": "stream",
          "text": [
            "tensor(3.7017, device='cuda:0', grad_fn=<AddBackward0>)\n"
          ]
        },
        {
          "metadata": {
            "tags": null
          },
          "name": "stderr",
          "output_type": "stream",
          "text": [
            "`use_cache=True` is incompatible with gradient checkpointing. Setting `use_cache=False`...\n"
          ]
        },
        {
          "metadata": {
            "tags": null
          },
          "name": "stdout",
          "output_type": "stream",
          "text": [
            "tensor(3.6927, device='cuda:0', grad_fn=<AddBackward0>)\n"
          ]
        },
        {
          "metadata": {
            "tags": null
          },
          "name": "stderr",
          "output_type": "stream",
          "text": [
            "`use_cache=True` is incompatible with gradient checkpointing. Setting `use_cache=False`...\n"
          ]
        },
        {
          "metadata": {
            "tags": null
          },
          "name": "stdout",
          "output_type": "stream",
          "text": [
            "tensor(3.9712, device='cuda:0', grad_fn=<AddBackward0>)\n"
          ]
        },
        {
          "metadata": {
            "tags": null
          },
          "name": "stderr",
          "output_type": "stream",
          "text": [
            "`use_cache=True` is incompatible with gradient checkpointing. Setting `use_cache=False`...\n"
          ]
        },
        {
          "metadata": {
            "tags": null
          },
          "name": "stdout",
          "output_type": "stream",
          "text": [
            "tensor(3.7665, device='cuda:0', grad_fn=<AddBackward0>)\n"
          ]
        },
        {
          "metadata": {
            "tags": null
          },
          "name": "stderr",
          "output_type": "stream",
          "text": [
            "`use_cache=True` is incompatible with gradient checkpointing. Setting `use_cache=False`...\n"
          ]
        },
        {
          "metadata": {
            "tags": null
          },
          "name": "stdout",
          "output_type": "stream",
          "text": [
            "tensor(3.4556, device='cuda:0', grad_fn=<AddBackward0>)\n"
          ]
        },
        {
          "metadata": {
            "tags": null
          },
          "name": "stderr",
          "output_type": "stream",
          "text": [
            "`use_cache=True` is incompatible with gradient checkpointing. Setting `use_cache=False`...\n"
          ]
        },
        {
          "metadata": {
            "tags": null
          },
          "name": "stdout",
          "output_type": "stream",
          "text": [
            "Epoch 4: train_loss = 6.940, train_acc = 0.200\n",
            "tensor(7.2657, device='cuda:0', grad_fn=<AddBackward0>)\n"
          ]
        },
        {
          "metadata": {
            "tags": null
          },
          "name": "stderr",
          "output_type": "stream",
          "text": [
            "`use_cache=True` is incompatible with gradient checkpointing. Setting `use_cache=False`...\n"
          ]
        },
        {
          "metadata": {
            "tags": null
          },
          "name": "stdout",
          "output_type": "stream",
          "text": [
            "tensor(7.2389, device='cuda:0', grad_fn=<AddBackward0>)\n"
          ]
        },
        {
          "metadata": {
            "tags": null
          },
          "name": "stderr",
          "output_type": "stream",
          "text": [
            "`use_cache=True` is incompatible with gradient checkpointing. Setting `use_cache=False`...\n"
          ]
        },
        {
          "metadata": {
            "tags": null
          },
          "name": "stdout",
          "output_type": "stream",
          "text": [
            "tensor(6.9324, device='cuda:0', grad_fn=<AddBackward0>)\n"
          ]
        },
        {
          "metadata": {
            "tags": null
          },
          "name": "stderr",
          "output_type": "stream",
          "text": [
            "`use_cache=True` is incompatible with gradient checkpointing. Setting `use_cache=False`...\n"
          ]
        },
        {
          "metadata": {
            "tags": null
          },
          "name": "stdout",
          "output_type": "stream",
          "text": [
            "tensor(6.6034, device='cuda:0', grad_fn=<AddBackward0>)\n"
          ]
        },
        {
          "metadata": {
            "tags": null
          },
          "name": "stderr",
          "output_type": "stream",
          "text": [
            "`use_cache=True` is incompatible with gradient checkpointing. Setting `use_cache=False`...\n"
          ]
        },
        {
          "metadata": {
            "tags": null
          },
          "name": "stdout",
          "output_type": "stream",
          "text": [
            "tensor(6.4145, device='cuda:0', grad_fn=<AddBackward0>)\n"
          ]
        },
        {
          "metadata": {
            "tags": null
          },
          "name": "stderr",
          "output_type": "stream",
          "text": [
            "`use_cache=True` is incompatible with gradient checkpointing. Setting `use_cache=False`...\n"
          ]
        },
        {
          "metadata": {
            "tags": null
          },
          "name": "stdout",
          "output_type": "stream",
          "text": [
            "tensor(7.0172, device='cuda:0', grad_fn=<AddBackward0>)\n"
          ]
        },
        {
          "metadata": {
            "tags": null
          },
          "name": "stderr",
          "output_type": "stream",
          "text": [
            "`use_cache=True` is incompatible with gradient checkpointing. Setting `use_cache=False`...\n"
          ]
        },
        {
          "metadata": {
            "tags": null
          },
          "name": "stdout",
          "output_type": "stream",
          "text": [
            "tensor(6.8091, device='cuda:0', grad_fn=<AddBackward0>)\n"
          ]
        },
        {
          "metadata": {
            "tags": null
          },
          "name": "stderr",
          "output_type": "stream",
          "text": [
            "`use_cache=True` is incompatible with gradient checkpointing. Setting `use_cache=False`...\n"
          ]
        },
        {
          "metadata": {
            "tags": null
          },
          "name": "stdout",
          "output_type": "stream",
          "text": [
            "tensor(6.7035, device='cuda:0', grad_fn=<AddBackward0>)\n"
          ]
        },
        {
          "metadata": {
            "tags": null
          },
          "name": "stderr",
          "output_type": "stream",
          "text": [
            "`use_cache=True` is incompatible with gradient checkpointing. Setting `use_cache=False`...\n"
          ]
        },
        {
          "metadata": {
            "tags": null
          },
          "name": "stdout",
          "output_type": "stream",
          "text": [
            "tensor(6.8674, device='cuda:0', grad_fn=<AddBackward0>)\n"
          ]
        },
        {
          "metadata": {
            "tags": null
          },
          "name": "stderr",
          "output_type": "stream",
          "text": [
            "`use_cache=True` is incompatible with gradient checkpointing. Setting `use_cache=False`...\n"
          ]
        },
        {
          "metadata": {
            "tags": null
          },
          "name": "stdout",
          "output_type": "stream",
          "text": [
            "tensor(6.5986, device='cuda:0', grad_fn=<AddBackward0>)\n"
          ]
        },
        {
          "metadata": {
            "tags": null
          },
          "name": "stderr",
          "output_type": "stream",
          "text": [
            "`use_cache=True` is incompatible with gradient checkpointing. Setting `use_cache=False`...\n"
          ]
        },
        {
          "metadata": {
            "tags": null
          },
          "name": "stdout",
          "output_type": "stream",
          "text": [
            "tensor(6.4102, device='cuda:0', grad_fn=<AddBackward0>)\n"
          ]
        },
        {
          "metadata": {
            "tags": null
          },
          "name": "stderr",
          "output_type": "stream",
          "text": [
            "`use_cache=True` is incompatible with gradient checkpointing. Setting `use_cache=False`...\n"
          ]
        },
        {
          "metadata": {
            "tags": null
          },
          "name": "stdout",
          "output_type": "stream",
          "text": [
            "tensor(6.4891, device='cuda:0', grad_fn=<AddBackward0>)\n"
          ]
        },
        {
          "metadata": {
            "tags": null
          },
          "name": "stderr",
          "output_type": "stream",
          "text": [
            "`use_cache=True` is incompatible with gradient checkpointing. Setting `use_cache=False`...\n"
          ]
        },
        {
          "metadata": {
            "tags": null
          },
          "name": "stdout",
          "output_type": "stream",
          "text": [
            "tensor(6.3427, device='cuda:0', grad_fn=<AddBackward0>)\n"
          ]
        },
        {
          "metadata": {
            "tags": null
          },
          "name": "stderr",
          "output_type": "stream",
          "text": [
            "`use_cache=True` is incompatible with gradient checkpointing. Setting `use_cache=False`...\n"
          ]
        },
        {
          "metadata": {
            "tags": null
          },
          "name": "stdout",
          "output_type": "stream",
          "text": [
            "tensor(5.5758, device='cuda:0', grad_fn=<AddBackward0>)\n"
          ]
        },
        {
          "metadata": {
            "tags": null
          },
          "name": "stderr",
          "output_type": "stream",
          "text": [
            "`use_cache=True` is incompatible with gradient checkpointing. Setting `use_cache=False`...\n"
          ]
        },
        {
          "metadata": {
            "tags": null
          },
          "name": "stdout",
          "output_type": "stream",
          "text": [
            "tensor(5.5691, device='cuda:0', grad_fn=<AddBackward0>)\n"
          ]
        },
        {
          "metadata": {
            "tags": null
          },
          "name": "stderr",
          "output_type": "stream",
          "text": [
            "`use_cache=True` is incompatible with gradient checkpointing. Setting `use_cache=False`...\n"
          ]
        },
        {
          "metadata": {
            "tags": null
          },
          "name": "stdout",
          "output_type": "stream",
          "text": [
            "tensor(5.3512, device='cuda:0', grad_fn=<AddBackward0>)\n"
          ]
        },
        {
          "metadata": {
            "tags": null
          },
          "name": "stderr",
          "output_type": "stream",
          "text": [
            "`use_cache=True` is incompatible with gradient checkpointing. Setting `use_cache=False`...\n"
          ]
        },
        {
          "metadata": {
            "tags": null
          },
          "name": "stdout",
          "output_type": "stream",
          "text": [
            "tensor(5.3202, device='cuda:0', grad_fn=<AddBackward0>)\n"
          ]
        },
        {
          "metadata": {
            "tags": null
          },
          "name": "stderr",
          "output_type": "stream",
          "text": [
            "`use_cache=True` is incompatible with gradient checkpointing. Setting `use_cache=False`...\n"
          ]
        },
        {
          "metadata": {
            "tags": null
          },
          "name": "stdout",
          "output_type": "stream",
          "text": [
            "tensor(5.4486, device='cuda:0', grad_fn=<AddBackward0>)\n"
          ]
        },
        {
          "metadata": {
            "tags": null
          },
          "name": "stderr",
          "output_type": "stream",
          "text": [
            "`use_cache=True` is incompatible with gradient checkpointing. Setting `use_cache=False`...\n"
          ]
        },
        {
          "metadata": {
            "tags": null
          },
          "name": "stdout",
          "output_type": "stream",
          "text": [
            "tensor(5.1561, device='cuda:0', grad_fn=<AddBackward0>)\n"
          ]
        },
        {
          "metadata": {
            "tags": null
          },
          "name": "stderr",
          "output_type": "stream",
          "text": [
            "`use_cache=True` is incompatible with gradient checkpointing. Setting `use_cache=False`...\n"
          ]
        },
        {
          "metadata": {
            "tags": null
          },
          "name": "stdout",
          "output_type": "stream",
          "text": [
            "tensor(5.3158, device='cuda:0', grad_fn=<AddBackward0>)\n"
          ]
        },
        {
          "metadata": {
            "tags": null
          },
          "name": "stderr",
          "output_type": "stream",
          "text": [
            "`use_cache=True` is incompatible with gradient checkpointing. Setting `use_cache=False`...\n"
          ]
        },
        {
          "metadata": {
            "tags": null
          },
          "name": "stdout",
          "output_type": "stream",
          "text": [
            "tensor(5.2304, device='cuda:0', grad_fn=<AddBackward0>)\n"
          ]
        },
        {
          "metadata": {
            "tags": null
          },
          "name": "stderr",
          "output_type": "stream",
          "text": [
            "`use_cache=True` is incompatible with gradient checkpointing. Setting `use_cache=False`...\n"
          ]
        },
        {
          "metadata": {
            "tags": null
          },
          "name": "stdout",
          "output_type": "stream",
          "text": [
            "tensor(5.3392, device='cuda:0', grad_fn=<AddBackward0>)\n"
          ]
        },
        {
          "metadata": {
            "tags": null
          },
          "name": "stderr",
          "output_type": "stream",
          "text": [
            "`use_cache=True` is incompatible with gradient checkpointing. Setting `use_cache=False`...\n"
          ]
        },
        {
          "metadata": {
            "tags": null
          },
          "name": "stdout",
          "output_type": "stream",
          "text": [
            "tensor(4.9042, device='cuda:0', grad_fn=<AddBackward0>)\n"
          ]
        },
        {
          "metadata": {
            "tags": null
          },
          "name": "stderr",
          "output_type": "stream",
          "text": [
            "`use_cache=True` is incompatible with gradient checkpointing. Setting `use_cache=False`...\n"
          ]
        },
        {
          "metadata": {
            "tags": null
          },
          "name": "stdout",
          "output_type": "stream",
          "text": [
            "tensor(4.8814, device='cuda:0', grad_fn=<AddBackward0>)\n"
          ]
        },
        {
          "metadata": {
            "tags": null
          },
          "name": "stderr",
          "output_type": "stream",
          "text": [
            "`use_cache=True` is incompatible with gradient checkpointing. Setting `use_cache=False`...\n"
          ]
        },
        {
          "metadata": {
            "tags": null
          },
          "name": "stdout",
          "output_type": "stream",
          "text": [
            "tensor(4.8225, device='cuda:0', grad_fn=<AddBackward0>)\n"
          ]
        },
        {
          "metadata": {
            "tags": null
          },
          "name": "stderr",
          "output_type": "stream",
          "text": [
            "`use_cache=True` is incompatible with gradient checkpointing. Setting `use_cache=False`...\n"
          ]
        },
        {
          "metadata": {
            "tags": null
          },
          "name": "stdout",
          "output_type": "stream",
          "text": [
            "tensor(4.7456, device='cuda:0', grad_fn=<AddBackward0>)\n"
          ]
        },
        {
          "metadata": {
            "tags": null
          },
          "name": "stderr",
          "output_type": "stream",
          "text": [
            "`use_cache=True` is incompatible with gradient checkpointing. Setting `use_cache=False`...\n"
          ]
        },
        {
          "metadata": {
            "tags": null
          },
          "name": "stdout",
          "output_type": "stream",
          "text": [
            "tensor(4.6786, device='cuda:0', grad_fn=<AddBackward0>)\n"
          ]
        },
        {
          "metadata": {
            "tags": null
          },
          "name": "stderr",
          "output_type": "stream",
          "text": [
            "`use_cache=True` is incompatible with gradient checkpointing. Setting `use_cache=False`...\n"
          ]
        },
        {
          "metadata": {
            "tags": null
          },
          "name": "stdout",
          "output_type": "stream",
          "text": [
            "tensor(4.5401, device='cuda:0', grad_fn=<AddBackward0>)\n"
          ]
        },
        {
          "metadata": {
            "tags": null
          },
          "name": "stderr",
          "output_type": "stream",
          "text": [
            "`use_cache=True` is incompatible with gradient checkpointing. Setting `use_cache=False`...\n"
          ]
        },
        {
          "metadata": {
            "tags": null
          },
          "name": "stdout",
          "output_type": "stream",
          "text": [
            "tensor(4.4051, device='cuda:0', grad_fn=<AddBackward0>)\n"
          ]
        },
        {
          "metadata": {
            "tags": null
          },
          "name": "stderr",
          "output_type": "stream",
          "text": [
            "`use_cache=True` is incompatible with gradient checkpointing. Setting `use_cache=False`...\n"
          ]
        },
        {
          "metadata": {
            "tags": null
          },
          "name": "stdout",
          "output_type": "stream",
          "text": [
            "tensor(3.4340, device='cuda:0', grad_fn=<AddBackward0>)\n"
          ]
        },
        {
          "metadata": {
            "tags": null
          },
          "name": "stderr",
          "output_type": "stream",
          "text": [
            "`use_cache=True` is incompatible with gradient checkpointing. Setting `use_cache=False`...\n"
          ]
        },
        {
          "metadata": {
            "tags": null
          },
          "name": "stdout",
          "output_type": "stream",
          "text": [
            "tensor(3.4093, device='cuda:0', grad_fn=<AddBackward0>)\n"
          ]
        },
        {
          "metadata": {
            "tags": null
          },
          "name": "stderr",
          "output_type": "stream",
          "text": [
            "`use_cache=True` is incompatible with gradient checkpointing. Setting `use_cache=False`...\n"
          ]
        },
        {
          "metadata": {
            "tags": null
          },
          "name": "stdout",
          "output_type": "stream",
          "text": [
            "tensor(3.5879, device='cuda:0', grad_fn=<AddBackward0>)\n"
          ]
        },
        {
          "metadata": {
            "tags": null
          },
          "name": "stderr",
          "output_type": "stream",
          "text": [
            "`use_cache=True` is incompatible with gradient checkpointing. Setting `use_cache=False`...\n"
          ]
        },
        {
          "metadata": {
            "tags": null
          },
          "name": "stdout",
          "output_type": "stream",
          "text": [
            "tensor(3.4705, device='cuda:0', grad_fn=<AddBackward0>)\n"
          ]
        },
        {
          "metadata": {
            "tags": null
          },
          "name": "stderr",
          "output_type": "stream",
          "text": [
            "`use_cache=True` is incompatible with gradient checkpointing. Setting `use_cache=False`...\n"
          ]
        },
        {
          "metadata": {
            "tags": null
          },
          "name": "stdout",
          "output_type": "stream",
          "text": [
            "tensor(3.3051, device='cuda:0', grad_fn=<AddBackward0>)\n"
          ]
        },
        {
          "metadata": {
            "tags": null
          },
          "name": "stderr",
          "output_type": "stream",
          "text": [
            "`use_cache=True` is incompatible with gradient checkpointing. Setting `use_cache=False`...\n"
          ]
        },
        {
          "metadata": {
            "tags": null
          },
          "name": "stdout",
          "output_type": "stream",
          "text": [
            "Epoch 5: train_loss = 5.476, train_acc = 0.199\n",
            "tensor(4.9643, device='cuda:0', grad_fn=<AddBackward0>)\n"
          ]
        },
        {
          "metadata": {
            "tags": null
          },
          "name": "stderr",
          "output_type": "stream",
          "text": [
            "`use_cache=True` is incompatible with gradient checkpointing. Setting `use_cache=False`...\n"
          ]
        },
        {
          "metadata": {
            "tags": null
          },
          "name": "stdout",
          "output_type": "stream",
          "text": [
            "tensor(4.9904, device='cuda:0', grad_fn=<AddBackward0>)\n"
          ]
        },
        {
          "metadata": {
            "tags": null
          },
          "name": "stderr",
          "output_type": "stream",
          "text": [
            "`use_cache=True` is incompatible with gradient checkpointing. Setting `use_cache=False`...\n"
          ]
        },
        {
          "metadata": {
            "tags": null
          },
          "name": "stdout",
          "output_type": "stream",
          "text": [
            "tensor(4.5843, device='cuda:0', grad_fn=<AddBackward0>)\n"
          ]
        },
        {
          "metadata": {
            "tags": null
          },
          "name": "stderr",
          "output_type": "stream",
          "text": [
            "`use_cache=True` is incompatible with gradient checkpointing. Setting `use_cache=False`...\n"
          ]
        },
        {
          "metadata": {
            "tags": null
          },
          "name": "stdout",
          "output_type": "stream",
          "text": [
            "tensor(4.1010, device='cuda:0', grad_fn=<AddBackward0>)\n"
          ]
        },
        {
          "metadata": {
            "tags": null
          },
          "name": "stderr",
          "output_type": "stream",
          "text": [
            "`use_cache=True` is incompatible with gradient checkpointing. Setting `use_cache=False`...\n"
          ]
        },
        {
          "metadata": {
            "tags": null
          },
          "name": "stdout",
          "output_type": "stream",
          "text": [
            "tensor(3.9847, device='cuda:0', grad_fn=<AddBackward0>)\n"
          ]
        },
        {
          "metadata": {
            "tags": null
          },
          "name": "stderr",
          "output_type": "stream",
          "text": [
            "`use_cache=True` is incompatible with gradient checkpointing. Setting `use_cache=False`...\n"
          ]
        },
        {
          "metadata": {
            "tags": null
          },
          "name": "stdout",
          "output_type": "stream",
          "text": [
            "tensor(4.6581, device='cuda:0', grad_fn=<AddBackward0>)\n"
          ]
        },
        {
          "metadata": {
            "tags": null
          },
          "name": "stderr",
          "output_type": "stream",
          "text": [
            "`use_cache=True` is incompatible with gradient checkpointing. Setting `use_cache=False`...\n"
          ]
        },
        {
          "metadata": {
            "tags": null
          },
          "name": "stdout",
          "output_type": "stream",
          "text": [
            "tensor(4.4137, device='cuda:0', grad_fn=<AddBackward0>)\n"
          ]
        },
        {
          "metadata": {
            "tags": null
          },
          "name": "stderr",
          "output_type": "stream",
          "text": [
            "`use_cache=True` is incompatible with gradient checkpointing. Setting `use_cache=False`...\n"
          ]
        },
        {
          "metadata": {
            "tags": null
          },
          "name": "stdout",
          "output_type": "stream",
          "text": [
            "tensor(4.3203, device='cuda:0', grad_fn=<AddBackward0>)\n"
          ]
        },
        {
          "metadata": {
            "tags": null
          },
          "name": "stderr",
          "output_type": "stream",
          "text": [
            "`use_cache=True` is incompatible with gradient checkpointing. Setting `use_cache=False`...\n"
          ]
        },
        {
          "metadata": {
            "tags": null
          },
          "name": "stdout",
          "output_type": "stream",
          "text": [
            "tensor(4.2096, device='cuda:0', grad_fn=<AddBackward0>)\n"
          ]
        },
        {
          "metadata": {
            "tags": null
          },
          "name": "stderr",
          "output_type": "stream",
          "text": [
            "`use_cache=True` is incompatible with gradient checkpointing. Setting `use_cache=False`...\n"
          ]
        },
        {
          "metadata": {
            "tags": null
          },
          "name": "stdout",
          "output_type": "stream",
          "text": [
            "tensor(3.7476, device='cuda:0', grad_fn=<AddBackward0>)\n"
          ]
        },
        {
          "metadata": {
            "tags": null
          },
          "name": "stderr",
          "output_type": "stream",
          "text": [
            "`use_cache=True` is incompatible with gradient checkpointing. Setting `use_cache=False`...\n"
          ]
        },
        {
          "metadata": {
            "tags": null
          },
          "name": "stdout",
          "output_type": "stream",
          "text": [
            "tensor(3.5869, device='cuda:0', grad_fn=<AddBackward0>)\n"
          ]
        },
        {
          "metadata": {
            "tags": null
          },
          "name": "stderr",
          "output_type": "stream",
          "text": [
            "`use_cache=True` is incompatible with gradient checkpointing. Setting `use_cache=False`...\n"
          ]
        },
        {
          "metadata": {
            "tags": null
          },
          "name": "stdout",
          "output_type": "stream",
          "text": [
            "tensor(3.5329, device='cuda:0', grad_fn=<AddBackward0>)\n"
          ]
        },
        {
          "metadata": {
            "tags": null
          },
          "name": "stderr",
          "output_type": "stream",
          "text": [
            "`use_cache=True` is incompatible with gradient checkpointing. Setting `use_cache=False`...\n"
          ]
        },
        {
          "metadata": {
            "tags": null
          },
          "name": "stdout",
          "output_type": "stream",
          "text": [
            "tensor(3.4246, device='cuda:0', grad_fn=<AddBackward0>)\n"
          ]
        },
        {
          "metadata": {
            "tags": null
          },
          "name": "stderr",
          "output_type": "stream",
          "text": [
            "`use_cache=True` is incompatible with gradient checkpointing. Setting `use_cache=False`...\n"
          ]
        },
        {
          "metadata": {
            "tags": null
          },
          "name": "stdout",
          "output_type": "stream",
          "text": [
            "tensor(2.9097, device='cuda:0', grad_fn=<AddBackward0>)\n"
          ]
        },
        {
          "metadata": {
            "tags": null
          },
          "name": "stderr",
          "output_type": "stream",
          "text": [
            "`use_cache=True` is incompatible with gradient checkpointing. Setting `use_cache=False`...\n"
          ]
        },
        {
          "metadata": {
            "tags": null
          },
          "name": "stdout",
          "output_type": "stream",
          "text": [
            "tensor(2.9312, device='cuda:0', grad_fn=<AddBackward0>)\n"
          ]
        },
        {
          "metadata": {
            "tags": null
          },
          "name": "stderr",
          "output_type": "stream",
          "text": [
            "`use_cache=True` is incompatible with gradient checkpointing. Setting `use_cache=False`...\n"
          ]
        },
        {
          "metadata": {
            "tags": null
          },
          "name": "stdout",
          "output_type": "stream",
          "text": [
            "tensor(2.6273, device='cuda:0', grad_fn=<AddBackward0>)\n"
          ]
        },
        {
          "metadata": {
            "tags": null
          },
          "name": "stderr",
          "output_type": "stream",
          "text": [
            "`use_cache=True` is incompatible with gradient checkpointing. Setting `use_cache=False`...\n"
          ]
        },
        {
          "metadata": {
            "tags": null
          },
          "name": "stdout",
          "output_type": "stream",
          "text": [
            "tensor(2.6951, device='cuda:0', grad_fn=<AddBackward0>)\n"
          ]
        },
        {
          "metadata": {
            "tags": null
          },
          "name": "stderr",
          "output_type": "stream",
          "text": [
            "`use_cache=True` is incompatible with gradient checkpointing. Setting `use_cache=False`...\n"
          ]
        },
        {
          "metadata": {
            "tags": null
          },
          "name": "stdout",
          "output_type": "stream",
          "text": [
            "tensor(2.7855, device='cuda:0', grad_fn=<AddBackward0>)\n"
          ]
        },
        {
          "metadata": {
            "tags": null
          },
          "name": "stderr",
          "output_type": "stream",
          "text": [
            "`use_cache=True` is incompatible with gradient checkpointing. Setting `use_cache=False`...\n"
          ]
        },
        {
          "metadata": {
            "tags": null
          },
          "name": "stdout",
          "output_type": "stream",
          "text": [
            "tensor(2.5678, device='cuda:0', grad_fn=<AddBackward0>)\n"
          ]
        },
        {
          "metadata": {
            "tags": null
          },
          "name": "stderr",
          "output_type": "stream",
          "text": [
            "`use_cache=True` is incompatible with gradient checkpointing. Setting `use_cache=False`...\n"
          ]
        },
        {
          "metadata": {
            "tags": null
          },
          "name": "stdout",
          "output_type": "stream",
          "text": [
            "tensor(2.7807, device='cuda:0', grad_fn=<AddBackward0>)\n"
          ]
        },
        {
          "metadata": {
            "tags": null
          },
          "name": "stderr",
          "output_type": "stream",
          "text": [
            "`use_cache=True` is incompatible with gradient checkpointing. Setting `use_cache=False`...\n"
          ]
        },
        {
          "metadata": {
            "tags": null
          },
          "name": "stdout",
          "output_type": "stream",
          "text": [
            "tensor(2.7530, device='cuda:0', grad_fn=<AddBackward0>)\n"
          ]
        },
        {
          "metadata": {
            "tags": null
          },
          "name": "stderr",
          "output_type": "stream",
          "text": [
            "`use_cache=True` is incompatible with gradient checkpointing. Setting `use_cache=False`...\n"
          ]
        },
        {
          "metadata": {
            "tags": null
          },
          "name": "stdout",
          "output_type": "stream",
          "text": [
            "tensor(2.7214, device='cuda:0', grad_fn=<AddBackward0>)\n"
          ]
        },
        {
          "metadata": {
            "tags": null
          },
          "name": "stderr",
          "output_type": "stream",
          "text": [
            "`use_cache=True` is incompatible with gradient checkpointing. Setting `use_cache=False`...\n"
          ]
        },
        {
          "metadata": {
            "tags": null
          },
          "name": "stdout",
          "output_type": "stream",
          "text": [
            "tensor(2.6959, device='cuda:0', grad_fn=<AddBackward0>)\n"
          ]
        },
        {
          "metadata": {
            "tags": null
          },
          "name": "stderr",
          "output_type": "stream",
          "text": [
            "`use_cache=True` is incompatible with gradient checkpointing. Setting `use_cache=False`...\n"
          ]
        },
        {
          "metadata": {
            "tags": null
          },
          "name": "stdout",
          "output_type": "stream",
          "text": [
            "tensor(2.7429, device='cuda:0', grad_fn=<AddBackward0>)\n"
          ]
        },
        {
          "metadata": {
            "tags": null
          },
          "name": "stderr",
          "output_type": "stream",
          "text": [
            "`use_cache=True` is incompatible with gradient checkpointing. Setting `use_cache=False`...\n"
          ]
        },
        {
          "metadata": {
            "tags": null
          },
          "name": "stdout",
          "output_type": "stream",
          "text": [
            "tensor(2.6820, device='cuda:0', grad_fn=<AddBackward0>)\n"
          ]
        },
        {
          "metadata": {
            "tags": null
          },
          "name": "stderr",
          "output_type": "stream",
          "text": [
            "`use_cache=True` is incompatible with gradient checkpointing. Setting `use_cache=False`...\n"
          ]
        },
        {
          "metadata": {
            "tags": null
          },
          "name": "stdout",
          "output_type": "stream",
          "text": [
            "tensor(2.6893, device='cuda:0', grad_fn=<AddBackward0>)\n"
          ]
        },
        {
          "metadata": {
            "tags": null
          },
          "name": "stderr",
          "output_type": "stream",
          "text": [
            "`use_cache=True` is incompatible with gradient checkpointing. Setting `use_cache=False`...\n"
          ]
        },
        {
          "metadata": {
            "tags": null
          },
          "name": "stdout",
          "output_type": "stream",
          "text": [
            "tensor(2.6858, device='cuda:0', grad_fn=<AddBackward0>)\n"
          ]
        },
        {
          "metadata": {
            "tags": null
          },
          "name": "stderr",
          "output_type": "stream",
          "text": [
            "`use_cache=True` is incompatible with gradient checkpointing. Setting `use_cache=False`...\n"
          ]
        },
        {
          "metadata": {
            "tags": null
          },
          "name": "stdout",
          "output_type": "stream",
          "text": [
            "tensor(2.6979, device='cuda:0', grad_fn=<AddBackward0>)\n"
          ]
        },
        {
          "metadata": {
            "tags": null
          },
          "name": "stderr",
          "output_type": "stream",
          "text": [
            "`use_cache=True` is incompatible with gradient checkpointing. Setting `use_cache=False`...\n"
          ]
        },
        {
          "metadata": {
            "tags": null
          },
          "name": "stdout",
          "output_type": "stream",
          "text": [
            "tensor(2.7217, device='cuda:0', grad_fn=<AddBackward0>)\n"
          ]
        },
        {
          "metadata": {
            "tags": null
          },
          "name": "stderr",
          "output_type": "stream",
          "text": [
            "`use_cache=True` is incompatible with gradient checkpointing. Setting `use_cache=False`...\n"
          ]
        },
        {
          "metadata": {
            "tags": null
          },
          "name": "stdout",
          "output_type": "stream",
          "text": [
            "tensor(3.0607, device='cuda:0', grad_fn=<AddBackward0>)\n"
          ]
        },
        {
          "metadata": {
            "tags": null
          },
          "name": "stderr",
          "output_type": "stream",
          "text": [
            "`use_cache=True` is incompatible with gradient checkpointing. Setting `use_cache=False`...\n"
          ]
        },
        {
          "metadata": {
            "tags": null
          },
          "name": "stdout",
          "output_type": "stream",
          "text": [
            "tensor(3.0450, device='cuda:0', grad_fn=<AddBackward0>)\n"
          ]
        },
        {
          "metadata": {
            "tags": null
          },
          "name": "stderr",
          "output_type": "stream",
          "text": [
            "`use_cache=True` is incompatible with gradient checkpointing. Setting `use_cache=False`...\n"
          ]
        },
        {
          "metadata": {
            "tags": null
          },
          "name": "stdout",
          "output_type": "stream",
          "text": [
            "tensor(3.0658, device='cuda:0', grad_fn=<AddBackward0>)\n"
          ]
        },
        {
          "metadata": {
            "tags": null
          },
          "name": "stderr",
          "output_type": "stream",
          "text": [
            "`use_cache=True` is incompatible with gradient checkpointing. Setting `use_cache=False`...\n"
          ]
        },
        {
          "metadata": {
            "tags": null
          },
          "name": "stdout",
          "output_type": "stream",
          "text": [
            "tensor(3.0776, device='cuda:0', grad_fn=<AddBackward0>)\n"
          ]
        },
        {
          "metadata": {
            "tags": null
          },
          "name": "stderr",
          "output_type": "stream",
          "text": [
            "`use_cache=True` is incompatible with gradient checkpointing. Setting `use_cache=False`...\n"
          ]
        },
        {
          "metadata": {
            "tags": null
          },
          "name": "stdout",
          "output_type": "stream",
          "text": [
            "tensor(3.0810, device='cuda:0', grad_fn=<AddBackward0>)\n"
          ]
        },
        {
          "metadata": {
            "tags": null
          },
          "name": "stderr",
          "output_type": "stream",
          "text": [
            "`use_cache=True` is incompatible with gradient checkpointing. Setting `use_cache=False`...\n"
          ]
        },
        {
          "metadata": {
            "tags": null
          },
          "name": "stdout",
          "output_type": "stream",
          "text": [
            "Epoch 6: train_loss = 3.339, train_acc = 0.555\n",
            "tensor(2.6004, device='cuda:0', grad_fn=<AddBackward0>)\n"
          ]
        },
        {
          "metadata": {
            "tags": null
          },
          "name": "stderr",
          "output_type": "stream",
          "text": [
            "`use_cache=True` is incompatible with gradient checkpointing. Setting `use_cache=False`...\n"
          ]
        },
        {
          "metadata": {
            "tags": null
          },
          "name": "stdout",
          "output_type": "stream",
          "text": [
            "tensor(2.6069, device='cuda:0', grad_fn=<AddBackward0>)\n"
          ]
        },
        {
          "metadata": {
            "tags": null
          },
          "name": "stderr",
          "output_type": "stream",
          "text": [
            "`use_cache=True` is incompatible with gradient checkpointing. Setting `use_cache=False`...\n"
          ]
        },
        {
          "metadata": {
            "tags": null
          },
          "name": "stdout",
          "output_type": "stream",
          "text": [
            "tensor(2.6265, device='cuda:0', grad_fn=<AddBackward0>)\n"
          ]
        },
        {
          "metadata": {
            "tags": null
          },
          "name": "stderr",
          "output_type": "stream",
          "text": [
            "`use_cache=True` is incompatible with gradient checkpointing. Setting `use_cache=False`...\n"
          ]
        },
        {
          "metadata": {
            "tags": null
          },
          "name": "stdout",
          "output_type": "stream",
          "text": [
            "tensor(2.6640, device='cuda:0', grad_fn=<AddBackward0>)\n"
          ]
        },
        {
          "metadata": {
            "tags": null
          },
          "name": "stderr",
          "output_type": "stream",
          "text": [
            "`use_cache=True` is incompatible with gradient checkpointing. Setting `use_cache=False`...\n"
          ]
        },
        {
          "metadata": {
            "tags": null
          },
          "name": "stdout",
          "output_type": "stream",
          "text": [
            "tensor(2.7023, device='cuda:0', grad_fn=<AddBackward0>)\n"
          ]
        },
        {
          "metadata": {
            "tags": null
          },
          "name": "stderr",
          "output_type": "stream",
          "text": [
            "`use_cache=True` is incompatible with gradient checkpointing. Setting `use_cache=False`...\n"
          ]
        },
        {
          "metadata": {
            "tags": null
          },
          "name": "stdout",
          "output_type": "stream",
          "text": [
            "tensor(2.6584, device='cuda:0', grad_fn=<AddBackward0>)\n"
          ]
        },
        {
          "metadata": {
            "tags": null
          },
          "name": "stderr",
          "output_type": "stream",
          "text": [
            "`use_cache=True` is incompatible with gradient checkpointing. Setting `use_cache=False`...\n"
          ]
        },
        {
          "metadata": {
            "tags": null
          },
          "name": "stdout",
          "output_type": "stream",
          "text": [
            "tensor(2.6696, device='cuda:0', grad_fn=<AddBackward0>)\n"
          ]
        },
        {
          "metadata": {
            "tags": null
          },
          "name": "stderr",
          "output_type": "stream",
          "text": [
            "`use_cache=True` is incompatible with gradient checkpointing. Setting `use_cache=False`...\n"
          ]
        },
        {
          "metadata": {
            "tags": null
          },
          "name": "stdout",
          "output_type": "stream",
          "text": [
            "tensor(2.6674, device='cuda:0', grad_fn=<AddBackward0>)\n"
          ]
        },
        {
          "metadata": {
            "tags": null
          },
          "name": "stderr",
          "output_type": "stream",
          "text": [
            "`use_cache=True` is incompatible with gradient checkpointing. Setting `use_cache=False`...\n"
          ]
        },
        {
          "metadata": {
            "tags": null
          },
          "name": "stdout",
          "output_type": "stream",
          "text": [
            "tensor(2.5666, device='cuda:0', grad_fn=<AddBackward0>)\n"
          ]
        },
        {
          "metadata": {
            "tags": null
          },
          "name": "stderr",
          "output_type": "stream",
          "text": [
            "`use_cache=True` is incompatible with gradient checkpointing. Setting `use_cache=False`...\n"
          ]
        },
        {
          "metadata": {
            "tags": null
          },
          "name": "stdout",
          "output_type": "stream",
          "text": [
            "tensor(2.5403, device='cuda:0', grad_fn=<AddBackward0>)\n"
          ]
        },
        {
          "metadata": {
            "tags": null
          },
          "name": "stderr",
          "output_type": "stream",
          "text": [
            "`use_cache=True` is incompatible with gradient checkpointing. Setting `use_cache=False`...\n"
          ]
        },
        {
          "metadata": {
            "tags": null
          },
          "name": "stdout",
          "output_type": "stream",
          "text": [
            "tensor(2.5504, device='cuda:0', grad_fn=<AddBackward0>)\n"
          ]
        },
        {
          "metadata": {
            "tags": null
          },
          "name": "stderr",
          "output_type": "stream",
          "text": [
            "`use_cache=True` is incompatible with gradient checkpointing. Setting `use_cache=False`...\n"
          ]
        },
        {
          "metadata": {
            "tags": null
          },
          "name": "stdout",
          "output_type": "stream",
          "text": [
            "tensor(2.5687, device='cuda:0', grad_fn=<AddBackward0>)\n"
          ]
        },
        {
          "metadata": {
            "tags": null
          },
          "name": "stderr",
          "output_type": "stream",
          "text": [
            "`use_cache=True` is incompatible with gradient checkpointing. Setting `use_cache=False`...\n"
          ]
        },
        {
          "metadata": {
            "tags": null
          },
          "name": "stdout",
          "output_type": "stream",
          "text": [
            "tensor(2.6178, device='cuda:0', grad_fn=<AddBackward0>)\n"
          ]
        },
        {
          "metadata": {
            "tags": null
          },
          "name": "stderr",
          "output_type": "stream",
          "text": [
            "`use_cache=True` is incompatible with gradient checkpointing. Setting `use_cache=False`...\n"
          ]
        },
        {
          "metadata": {
            "tags": null
          },
          "name": "stdout",
          "output_type": "stream",
          "text": [
            "tensor(2.5926, device='cuda:0', grad_fn=<AddBackward0>)\n"
          ]
        },
        {
          "metadata": {
            "tags": null
          },
          "name": "stderr",
          "output_type": "stream",
          "text": [
            "`use_cache=True` is incompatible with gradient checkpointing. Setting `use_cache=False`...\n"
          ]
        },
        {
          "metadata": {
            "tags": null
          },
          "name": "stdout",
          "output_type": "stream",
          "text": [
            "tensor(2.5473, device='cuda:0', grad_fn=<AddBackward0>)\n"
          ]
        },
        {
          "metadata": {
            "tags": null
          },
          "name": "stderr",
          "output_type": "stream",
          "text": [
            "`use_cache=True` is incompatible with gradient checkpointing. Setting `use_cache=False`...\n"
          ]
        },
        {
          "metadata": {
            "tags": null
          },
          "name": "stdout",
          "output_type": "stream",
          "text": [
            "tensor(2.4551, device='cuda:0', grad_fn=<AddBackward0>)\n"
          ]
        },
        {
          "metadata": {
            "tags": null
          },
          "name": "stderr",
          "output_type": "stream",
          "text": [
            "`use_cache=True` is incompatible with gradient checkpointing. Setting `use_cache=False`...\n"
          ]
        },
        {
          "metadata": {
            "tags": null
          },
          "name": "stdout",
          "output_type": "stream",
          "text": [
            "tensor(2.5319, device='cuda:0', grad_fn=<AddBackward0>)\n"
          ]
        },
        {
          "metadata": {
            "tags": null
          },
          "name": "stderr",
          "output_type": "stream",
          "text": [
            "`use_cache=True` is incompatible with gradient checkpointing. Setting `use_cache=False`...\n"
          ]
        },
        {
          "metadata": {
            "tags": null
          },
          "name": "stdout",
          "output_type": "stream",
          "text": [
            "tensor(2.5159, device='cuda:0', grad_fn=<AddBackward0>)\n"
          ]
        },
        {
          "metadata": {
            "tags": null
          },
          "name": "stderr",
          "output_type": "stream",
          "text": [
            "`use_cache=True` is incompatible with gradient checkpointing. Setting `use_cache=False`...\n"
          ]
        },
        {
          "metadata": {
            "tags": null
          },
          "name": "stdout",
          "output_type": "stream",
          "text": [
            "tensor(2.4225, device='cuda:0', grad_fn=<AddBackward0>)\n"
          ]
        },
        {
          "metadata": {
            "tags": null
          },
          "name": "stderr",
          "output_type": "stream",
          "text": [
            "`use_cache=True` is incompatible with gradient checkpointing. Setting `use_cache=False`...\n"
          ]
        },
        {
          "metadata": {
            "tags": null
          },
          "name": "stdout",
          "output_type": "stream",
          "text": [
            "tensor(2.5654, device='cuda:0', grad_fn=<AddBackward0>)\n"
          ]
        },
        {
          "metadata": {
            "tags": null
          },
          "name": "stderr",
          "output_type": "stream",
          "text": [
            "`use_cache=True` is incompatible with gradient checkpointing. Setting `use_cache=False`...\n"
          ]
        },
        {
          "metadata": {
            "tags": null
          },
          "name": "stdout",
          "output_type": "stream",
          "text": [
            "tensor(2.5390, device='cuda:0', grad_fn=<AddBackward0>)\n"
          ]
        },
        {
          "metadata": {
            "tags": null
          },
          "name": "stderr",
          "output_type": "stream",
          "text": [
            "`use_cache=True` is incompatible with gradient checkpointing. Setting `use_cache=False`...\n"
          ]
        },
        {
          "metadata": {
            "tags": null
          },
          "name": "stdout",
          "output_type": "stream",
          "text": [
            "tensor(2.5325, device='cuda:0', grad_fn=<AddBackward0>)\n"
          ]
        },
        {
          "metadata": {
            "tags": null
          },
          "name": "stderr",
          "output_type": "stream",
          "text": [
            "`use_cache=True` is incompatible with gradient checkpointing. Setting `use_cache=False`...\n"
          ]
        },
        {
          "metadata": {
            "tags": null
          },
          "name": "stdout",
          "output_type": "stream",
          "text": [
            "tensor(2.4408, device='cuda:0', grad_fn=<AddBackward0>)\n"
          ]
        },
        {
          "metadata": {
            "tags": null
          },
          "name": "stderr",
          "output_type": "stream",
          "text": [
            "`use_cache=True` is incompatible with gradient checkpointing. Setting `use_cache=False`...\n"
          ]
        },
        {
          "metadata": {
            "tags": null
          },
          "name": "stdout",
          "output_type": "stream",
          "text": [
            "tensor(2.4485, device='cuda:0', grad_fn=<AddBackward0>)\n"
          ]
        },
        {
          "metadata": {
            "tags": null
          },
          "name": "stderr",
          "output_type": "stream",
          "text": [
            "`use_cache=True` is incompatible with gradient checkpointing. Setting `use_cache=False`...\n"
          ]
        },
        {
          "metadata": {
            "tags": null
          },
          "name": "stdout",
          "output_type": "stream",
          "text": [
            "tensor(2.3697, device='cuda:0', grad_fn=<AddBackward0>)\n"
          ]
        },
        {
          "metadata": {
            "tags": null
          },
          "name": "stderr",
          "output_type": "stream",
          "text": [
            "`use_cache=True` is incompatible with gradient checkpointing. Setting `use_cache=False`...\n"
          ]
        },
        {
          "metadata": {
            "tags": null
          },
          "name": "stdout",
          "output_type": "stream",
          "text": [
            "tensor(2.3523, device='cuda:0', grad_fn=<AddBackward0>)\n"
          ]
        },
        {
          "metadata": {
            "tags": null
          },
          "name": "stderr",
          "output_type": "stream",
          "text": [
            "`use_cache=True` is incompatible with gradient checkpointing. Setting `use_cache=False`...\n"
          ]
        },
        {
          "metadata": {
            "tags": null
          },
          "name": "stdout",
          "output_type": "stream",
          "text": [
            "tensor(2.3392, device='cuda:0', grad_fn=<AddBackward0>)\n"
          ]
        },
        {
          "metadata": {
            "tags": null
          },
          "name": "stderr",
          "output_type": "stream",
          "text": [
            "`use_cache=True` is incompatible with gradient checkpointing. Setting `use_cache=False`...\n"
          ]
        },
        {
          "metadata": {
            "tags": null
          },
          "name": "stdout",
          "output_type": "stream",
          "text": [
            "tensor(2.3209, device='cuda:0', grad_fn=<AddBackward0>)\n"
          ]
        },
        {
          "metadata": {
            "tags": null
          },
          "name": "stderr",
          "output_type": "stream",
          "text": [
            "`use_cache=True` is incompatible with gradient checkpointing. Setting `use_cache=False`...\n"
          ]
        },
        {
          "metadata": {
            "tags": null
          },
          "name": "stdout",
          "output_type": "stream",
          "text": [
            "tensor(2.3940, device='cuda:0', grad_fn=<AddBackward0>)\n"
          ]
        },
        {
          "metadata": {
            "tags": null
          },
          "name": "stderr",
          "output_type": "stream",
          "text": [
            "`use_cache=True` is incompatible with gradient checkpointing. Setting `use_cache=False`...\n"
          ]
        },
        {
          "metadata": {
            "tags": null
          },
          "name": "stdout",
          "output_type": "stream",
          "text": [
            "tensor(2.9436, device='cuda:0', grad_fn=<AddBackward0>)\n"
          ]
        },
        {
          "metadata": {
            "tags": null
          },
          "name": "stderr",
          "output_type": "stream",
          "text": [
            "`use_cache=True` is incompatible with gradient checkpointing. Setting `use_cache=False`...\n"
          ]
        },
        {
          "metadata": {
            "tags": null
          },
          "name": "stdout",
          "output_type": "stream",
          "text": [
            "tensor(2.9153, device='cuda:0', grad_fn=<AddBackward0>)\n"
          ]
        },
        {
          "metadata": {
            "tags": null
          },
          "name": "stderr",
          "output_type": "stream",
          "text": [
            "`use_cache=True` is incompatible with gradient checkpointing. Setting `use_cache=False`...\n"
          ]
        },
        {
          "metadata": {
            "tags": null
          },
          "name": "stdout",
          "output_type": "stream",
          "text": [
            "tensor(2.9587, device='cuda:0', grad_fn=<AddBackward0>)\n"
          ]
        },
        {
          "metadata": {
            "tags": null
          },
          "name": "stderr",
          "output_type": "stream",
          "text": [
            "`use_cache=True` is incompatible with gradient checkpointing. Setting `use_cache=False`...\n"
          ]
        },
        {
          "metadata": {
            "tags": null
          },
          "name": "stdout",
          "output_type": "stream",
          "text": [
            "tensor(2.9587, device='cuda:0', grad_fn=<AddBackward0>)\n"
          ]
        },
        {
          "metadata": {
            "tags": null
          },
          "name": "stderr",
          "output_type": "stream",
          "text": [
            "`use_cache=True` is incompatible with gradient checkpointing. Setting `use_cache=False`...\n"
          ]
        },
        {
          "metadata": {
            "tags": null
          },
          "name": "stdout",
          "output_type": "stream",
          "text": [
            "tensor(2.9502, device='cuda:0', grad_fn=<AddBackward0>)\n"
          ]
        },
        {
          "metadata": {
            "tags": null
          },
          "name": "stderr",
          "output_type": "stream",
          "text": [
            "`use_cache=True` is incompatible with gradient checkpointing. Setting `use_cache=False`...\n"
          ]
        },
        {
          "metadata": {
            "tags": null
          },
          "name": "stdout",
          "output_type": "stream",
          "text": [
            "Epoch 7: train_loss = 2.592, train_acc = 0.842\n",
            "tensor(2.4000, device='cuda:0', grad_fn=<AddBackward0>)\n"
          ]
        },
        {
          "metadata": {
            "tags": null
          },
          "name": "stderr",
          "output_type": "stream",
          "text": [
            "`use_cache=True` is incompatible with gradient checkpointing. Setting `use_cache=False`...\n"
          ]
        },
        {
          "metadata": {
            "tags": null
          },
          "name": "stdout",
          "output_type": "stream",
          "text": [
            "tensor(2.4176, device='cuda:0', grad_fn=<AddBackward0>)\n"
          ]
        },
        {
          "metadata": {
            "tags": null
          },
          "name": "stderr",
          "output_type": "stream",
          "text": [
            "`use_cache=True` is incompatible with gradient checkpointing. Setting `use_cache=False`...\n"
          ]
        },
        {
          "metadata": {
            "tags": null
          },
          "name": "stdout",
          "output_type": "stream",
          "text": [
            "tensor(2.3428, device='cuda:0', grad_fn=<AddBackward0>)\n"
          ]
        },
        {
          "metadata": {
            "tags": null
          },
          "name": "stderr",
          "output_type": "stream",
          "text": [
            "`use_cache=True` is incompatible with gradient checkpointing. Setting `use_cache=False`...\n"
          ]
        },
        {
          "metadata": {
            "tags": null
          },
          "name": "stdout",
          "output_type": "stream",
          "text": [
            "tensor(2.2902, device='cuda:0', grad_fn=<AddBackward0>)\n"
          ]
        },
        {
          "metadata": {
            "tags": null
          },
          "name": "stderr",
          "output_type": "stream",
          "text": [
            "`use_cache=True` is incompatible with gradient checkpointing. Setting `use_cache=False`...\n"
          ]
        },
        {
          "metadata": {
            "tags": null
          },
          "name": "stdout",
          "output_type": "stream",
          "text": [
            "tensor(2.3516, device='cuda:0', grad_fn=<AddBackward0>)\n"
          ]
        },
        {
          "metadata": {
            "tags": null
          },
          "name": "stderr",
          "output_type": "stream",
          "text": [
            "`use_cache=True` is incompatible with gradient checkpointing. Setting `use_cache=False`...\n"
          ]
        },
        {
          "metadata": {
            "tags": null
          },
          "name": "stdout",
          "output_type": "stream",
          "text": [
            "tensor(2.4175, device='cuda:0', grad_fn=<AddBackward0>)\n"
          ]
        },
        {
          "metadata": {
            "tags": null
          },
          "name": "stderr",
          "output_type": "stream",
          "text": [
            "`use_cache=True` is incompatible with gradient checkpointing. Setting `use_cache=False`...\n"
          ]
        },
        {
          "metadata": {
            "tags": null
          },
          "name": "stdout",
          "output_type": "stream",
          "text": [
            "tensor(2.3969, device='cuda:0', grad_fn=<AddBackward0>)\n"
          ]
        },
        {
          "metadata": {
            "tags": null
          },
          "name": "stderr",
          "output_type": "stream",
          "text": [
            "`use_cache=True` is incompatible with gradient checkpointing. Setting `use_cache=False`...\n"
          ]
        },
        {
          "metadata": {
            "tags": null
          },
          "name": "stdout",
          "output_type": "stream",
          "text": [
            "tensor(2.4282, device='cuda:0', grad_fn=<AddBackward0>)\n"
          ]
        },
        {
          "metadata": {
            "tags": null
          },
          "name": "stderr",
          "output_type": "stream",
          "text": [
            "`use_cache=True` is incompatible with gradient checkpointing. Setting `use_cache=False`...\n"
          ]
        },
        {
          "metadata": {
            "tags": null
          },
          "name": "stdout",
          "output_type": "stream",
          "text": [
            "tensor(2.2800, device='cuda:0', grad_fn=<AddBackward0>)\n"
          ]
        },
        {
          "metadata": {
            "tags": null
          },
          "name": "stderr",
          "output_type": "stream",
          "text": [
            "`use_cache=True` is incompatible with gradient checkpointing. Setting `use_cache=False`...\n"
          ]
        },
        {
          "metadata": {
            "tags": null
          },
          "name": "stdout",
          "output_type": "stream",
          "text": [
            "tensor(2.2695, device='cuda:0', grad_fn=<AddBackward0>)\n"
          ]
        },
        {
          "metadata": {
            "tags": null
          },
          "name": "stderr",
          "output_type": "stream",
          "text": [
            "`use_cache=True` is incompatible with gradient checkpointing. Setting `use_cache=False`...\n"
          ]
        },
        {
          "metadata": {
            "tags": null
          },
          "name": "stdout",
          "output_type": "stream",
          "text": [
            "tensor(2.2993, device='cuda:0', grad_fn=<AddBackward0>)\n"
          ]
        },
        {
          "metadata": {
            "tags": null
          },
          "name": "stderr",
          "output_type": "stream",
          "text": [
            "`use_cache=True` is incompatible with gradient checkpointing. Setting `use_cache=False`...\n"
          ]
        },
        {
          "metadata": {
            "tags": null
          },
          "name": "stdout",
          "output_type": "stream",
          "text": [
            "tensor(2.3010, device='cuda:0', grad_fn=<AddBackward0>)\n"
          ]
        },
        {
          "metadata": {
            "tags": null
          },
          "name": "stderr",
          "output_type": "stream",
          "text": [
            "`use_cache=True` is incompatible with gradient checkpointing. Setting `use_cache=False`...\n"
          ]
        },
        {
          "metadata": {
            "tags": null
          },
          "name": "stdout",
          "output_type": "stream",
          "text": [
            "tensor(2.3828, device='cuda:0', grad_fn=<AddBackward0>)\n"
          ]
        },
        {
          "metadata": {
            "tags": null
          },
          "name": "stderr",
          "output_type": "stream",
          "text": [
            "`use_cache=True` is incompatible with gradient checkpointing. Setting `use_cache=False`...\n"
          ]
        },
        {
          "metadata": {
            "tags": null
          },
          "name": "stdout",
          "output_type": "stream",
          "text": [
            "tensor(2.3998, device='cuda:0', grad_fn=<AddBackward0>)\n"
          ]
        },
        {
          "metadata": {
            "tags": null
          },
          "name": "stderr",
          "output_type": "stream",
          "text": [
            "`use_cache=True` is incompatible with gradient checkpointing. Setting `use_cache=False`...\n"
          ]
        },
        {
          "metadata": {
            "tags": null
          },
          "name": "stdout",
          "output_type": "stream",
          "text": [
            "tensor(2.3355, device='cuda:0', grad_fn=<AddBackward0>)\n"
          ]
        },
        {
          "metadata": {
            "tags": null
          },
          "name": "stderr",
          "output_type": "stream",
          "text": [
            "`use_cache=True` is incompatible with gradient checkpointing. Setting `use_cache=False`...\n"
          ]
        },
        {
          "metadata": {
            "tags": null
          },
          "name": "stdout",
          "output_type": "stream",
          "text": [
            "tensor(2.2764, device='cuda:0', grad_fn=<AddBackward0>)\n"
          ]
        },
        {
          "metadata": {
            "tags": null
          },
          "name": "stderr",
          "output_type": "stream",
          "text": [
            "`use_cache=True` is incompatible with gradient checkpointing. Setting `use_cache=False`...\n"
          ]
        },
        {
          "metadata": {
            "tags": null
          },
          "name": "stdout",
          "output_type": "stream",
          "text": [
            "tensor(2.3698, device='cuda:0', grad_fn=<AddBackward0>)\n"
          ]
        },
        {
          "metadata": {
            "tags": null
          },
          "name": "stderr",
          "output_type": "stream",
          "text": [
            "`use_cache=True` is incompatible with gradient checkpointing. Setting `use_cache=False`...\n"
          ]
        },
        {
          "metadata": {
            "tags": null
          },
          "name": "stdout",
          "output_type": "stream",
          "text": [
            "tensor(2.3184, device='cuda:0', grad_fn=<AddBackward0>)\n"
          ]
        },
        {
          "metadata": {
            "tags": null
          },
          "name": "stderr",
          "output_type": "stream",
          "text": [
            "`use_cache=True` is incompatible with gradient checkpointing. Setting `use_cache=False`...\n"
          ]
        },
        {
          "metadata": {
            "tags": null
          },
          "name": "stdout",
          "output_type": "stream",
          "text": [
            "tensor(2.2732, device='cuda:0', grad_fn=<AddBackward0>)\n"
          ]
        },
        {
          "metadata": {
            "tags": null
          },
          "name": "stderr",
          "output_type": "stream",
          "text": [
            "`use_cache=True` is incompatible with gradient checkpointing. Setting `use_cache=False`...\n"
          ]
        },
        {
          "metadata": {
            "tags": null
          },
          "name": "stdout",
          "output_type": "stream",
          "text": [
            "tensor(2.3757, device='cuda:0', grad_fn=<AddBackward0>)\n"
          ]
        },
        {
          "metadata": {
            "tags": null
          },
          "name": "stderr",
          "output_type": "stream",
          "text": [
            "`use_cache=True` is incompatible with gradient checkpointing. Setting `use_cache=False`...\n"
          ]
        },
        {
          "metadata": {
            "tags": null
          },
          "name": "stdout",
          "output_type": "stream",
          "text": [
            "tensor(2.3681, device='cuda:0', grad_fn=<AddBackward0>)\n"
          ]
        },
        {
          "metadata": {
            "tags": null
          },
          "name": "stderr",
          "output_type": "stream",
          "text": [
            "`use_cache=True` is incompatible with gradient checkpointing. Setting `use_cache=False`...\n"
          ]
        },
        {
          "metadata": {
            "tags": null
          },
          "name": "stdout",
          "output_type": "stream",
          "text": [
            "tensor(2.3302, device='cuda:0', grad_fn=<AddBackward0>)\n"
          ]
        },
        {
          "metadata": {
            "tags": null
          },
          "name": "stderr",
          "output_type": "stream",
          "text": [
            "`use_cache=True` is incompatible with gradient checkpointing. Setting `use_cache=False`...\n"
          ]
        },
        {
          "metadata": {
            "tags": null
          },
          "name": "stdout",
          "output_type": "stream",
          "text": [
            "tensor(2.2969, device='cuda:0', grad_fn=<AddBackward0>)\n"
          ]
        },
        {
          "metadata": {
            "tags": null
          },
          "name": "stderr",
          "output_type": "stream",
          "text": [
            "`use_cache=True` is incompatible with gradient checkpointing. Setting `use_cache=False`...\n"
          ]
        },
        {
          "metadata": {
            "tags": null
          },
          "name": "stdout",
          "output_type": "stream",
          "text": [
            "tensor(2.2907, device='cuda:0', grad_fn=<AddBackward0>)\n"
          ]
        },
        {
          "metadata": {
            "tags": null
          },
          "name": "stderr",
          "output_type": "stream",
          "text": [
            "`use_cache=True` is incompatible with gradient checkpointing. Setting `use_cache=False`...\n"
          ]
        },
        {
          "metadata": {
            "tags": null
          },
          "name": "stdout",
          "output_type": "stream",
          "text": [
            "tensor(2.1995, device='cuda:0', grad_fn=<AddBackward0>)\n"
          ]
        },
        {
          "metadata": {
            "tags": null
          },
          "name": "stderr",
          "output_type": "stream",
          "text": [
            "`use_cache=True` is incompatible with gradient checkpointing. Setting `use_cache=False`...\n"
          ]
        },
        {
          "metadata": {
            "tags": null
          },
          "name": "stdout",
          "output_type": "stream",
          "text": [
            "tensor(2.1943, device='cuda:0', grad_fn=<AddBackward0>)\n"
          ]
        },
        {
          "metadata": {
            "tags": null
          },
          "name": "stderr",
          "output_type": "stream",
          "text": [
            "`use_cache=True` is incompatible with gradient checkpointing. Setting `use_cache=False`...\n"
          ]
        },
        {
          "metadata": {
            "tags": null
          },
          "name": "stdout",
          "output_type": "stream",
          "text": [
            "tensor(2.1738, device='cuda:0', grad_fn=<AddBackward0>)\n"
          ]
        },
        {
          "metadata": {
            "tags": null
          },
          "name": "stderr",
          "output_type": "stream",
          "text": [
            "`use_cache=True` is incompatible with gradient checkpointing. Setting `use_cache=False`...\n"
          ]
        },
        {
          "metadata": {
            "tags": null
          },
          "name": "stdout",
          "output_type": "stream",
          "text": [
            "tensor(2.1584, device='cuda:0', grad_fn=<AddBackward0>)\n"
          ]
        },
        {
          "metadata": {
            "tags": null
          },
          "name": "stderr",
          "output_type": "stream",
          "text": [
            "`use_cache=True` is incompatible with gradient checkpointing. Setting `use_cache=False`...\n"
          ]
        },
        {
          "metadata": {
            "tags": null
          },
          "name": "stdout",
          "output_type": "stream",
          "text": [
            "tensor(2.2379, device='cuda:0', grad_fn=<AddBackward0>)\n"
          ]
        },
        {
          "metadata": {
            "tags": null
          },
          "name": "stderr",
          "output_type": "stream",
          "text": [
            "`use_cache=True` is incompatible with gradient checkpointing. Setting `use_cache=False`...\n"
          ]
        },
        {
          "metadata": {
            "tags": null
          },
          "name": "stdout",
          "output_type": "stream",
          "text": [
            "tensor(2.8651, device='cuda:0', grad_fn=<AddBackward0>)\n"
          ]
        },
        {
          "metadata": {
            "tags": null
          },
          "name": "stderr",
          "output_type": "stream",
          "text": [
            "`use_cache=True` is incompatible with gradient checkpointing. Setting `use_cache=False`...\n"
          ]
        },
        {
          "metadata": {
            "tags": null
          },
          "name": "stdout",
          "output_type": "stream",
          "text": [
            "tensor(2.8469, device='cuda:0', grad_fn=<AddBackward0>)\n"
          ]
        },
        {
          "metadata": {
            "tags": null
          },
          "name": "stderr",
          "output_type": "stream",
          "text": [
            "`use_cache=True` is incompatible with gradient checkpointing. Setting `use_cache=False`...\n"
          ]
        },
        {
          "metadata": {
            "tags": null
          },
          "name": "stdout",
          "output_type": "stream",
          "text": [
            "tensor(2.8781, device='cuda:0', grad_fn=<AddBackward0>)\n"
          ]
        },
        {
          "metadata": {
            "tags": null
          },
          "name": "stderr",
          "output_type": "stream",
          "text": [
            "`use_cache=True` is incompatible with gradient checkpointing. Setting `use_cache=False`...\n"
          ]
        },
        {
          "metadata": {
            "tags": null
          },
          "name": "stdout",
          "output_type": "stream",
          "text": [
            "tensor(2.8833, device='cuda:0', grad_fn=<AddBackward0>)\n"
          ]
        },
        {
          "metadata": {
            "tags": null
          },
          "name": "stderr",
          "output_type": "stream",
          "text": [
            "`use_cache=True` is incompatible with gradient checkpointing. Setting `use_cache=False`...\n"
          ]
        },
        {
          "metadata": {
            "tags": null
          },
          "name": "stdout",
          "output_type": "stream",
          "text": [
            "tensor(2.8985, device='cuda:0', grad_fn=<AddBackward0>)\n"
          ]
        },
        {
          "metadata": {
            "tags": null
          },
          "name": "stderr",
          "output_type": "stream",
          "text": [
            "`use_cache=True` is incompatible with gradient checkpointing. Setting `use_cache=False`...\n"
          ]
        },
        {
          "metadata": {
            "tags": null
          },
          "name": "stdout",
          "output_type": "stream",
          "text": [
            "Epoch 8: train_loss = 2.398, train_acc = 0.885\n",
            "tensor(2.2311, device='cuda:0', grad_fn=<AddBackward0>)\n"
          ]
        },
        {
          "metadata": {
            "tags": null
          },
          "name": "stderr",
          "output_type": "stream",
          "text": [
            "`use_cache=True` is incompatible with gradient checkpointing. Setting `use_cache=False`...\n"
          ]
        },
        {
          "metadata": {
            "tags": null
          },
          "name": "stdout",
          "output_type": "stream",
          "text": [
            "tensor(2.2713, device='cuda:0', grad_fn=<AddBackward0>)\n"
          ]
        },
        {
          "metadata": {
            "tags": null
          },
          "name": "stderr",
          "output_type": "stream",
          "text": [
            "`use_cache=True` is incompatible with gradient checkpointing. Setting `use_cache=False`...\n"
          ]
        },
        {
          "metadata": {
            "tags": null
          },
          "name": "stdout",
          "output_type": "stream",
          "text": [
            "tensor(2.1902, device='cuda:0', grad_fn=<AddBackward0>)\n"
          ]
        },
        {
          "metadata": {
            "tags": null
          },
          "name": "stderr",
          "output_type": "stream",
          "text": [
            "`use_cache=True` is incompatible with gradient checkpointing. Setting `use_cache=False`...\n"
          ]
        },
        {
          "metadata": {
            "tags": null
          },
          "name": "stdout",
          "output_type": "stream",
          "text": [
            "tensor(2.1334, device='cuda:0', grad_fn=<AddBackward0>)\n"
          ]
        },
        {
          "metadata": {
            "tags": null
          },
          "name": "stderr",
          "output_type": "stream",
          "text": [
            "`use_cache=True` is incompatible with gradient checkpointing. Setting `use_cache=False`...\n"
          ]
        },
        {
          "metadata": {
            "tags": null
          },
          "name": "stdout",
          "output_type": "stream",
          "text": [
            "tensor(2.2124, device='cuda:0', grad_fn=<AddBackward0>)\n"
          ]
        },
        {
          "metadata": {
            "tags": null
          },
          "name": "stderr",
          "output_type": "stream",
          "text": [
            "`use_cache=True` is incompatible with gradient checkpointing. Setting `use_cache=False`...\n"
          ]
        },
        {
          "metadata": {
            "tags": null
          },
          "name": "stdout",
          "output_type": "stream",
          "text": [
            "tensor(2.2753, device='cuda:0', grad_fn=<AddBackward0>)\n"
          ]
        },
        {
          "metadata": {
            "tags": null
          },
          "name": "stderr",
          "output_type": "stream",
          "text": [
            "`use_cache=True` is incompatible with gradient checkpointing. Setting `use_cache=False`...\n"
          ]
        },
        {
          "metadata": {
            "tags": null
          },
          "name": "stdout",
          "output_type": "stream",
          "text": [
            "tensor(2.2672, device='cuda:0', grad_fn=<AddBackward0>)\n"
          ]
        },
        {
          "metadata": {
            "tags": null
          },
          "name": "stderr",
          "output_type": "stream",
          "text": [
            "`use_cache=True` is incompatible with gradient checkpointing. Setting `use_cache=False`...\n"
          ]
        },
        {
          "metadata": {
            "tags": null
          },
          "name": "stdout",
          "output_type": "stream",
          "text": [
            "tensor(2.2695, device='cuda:0', grad_fn=<AddBackward0>)\n"
          ]
        },
        {
          "metadata": {
            "tags": null
          },
          "name": "stderr",
          "output_type": "stream",
          "text": [
            "`use_cache=True` is incompatible with gradient checkpointing. Setting `use_cache=False`...\n"
          ]
        },
        {
          "metadata": {
            "tags": null
          },
          "name": "stdout",
          "output_type": "stream",
          "text": [
            "tensor(2.1437, device='cuda:0', grad_fn=<AddBackward0>)\n"
          ]
        },
        {
          "metadata": {
            "tags": null
          },
          "name": "stderr",
          "output_type": "stream",
          "text": [
            "`use_cache=True` is incompatible with gradient checkpointing. Setting `use_cache=False`...\n"
          ]
        },
        {
          "metadata": {
            "tags": null
          },
          "name": "stdout",
          "output_type": "stream",
          "text": [
            "tensor(2.1228, device='cuda:0', grad_fn=<AddBackward0>)\n"
          ]
        },
        {
          "metadata": {
            "tags": null
          },
          "name": "stderr",
          "output_type": "stream",
          "text": [
            "`use_cache=True` is incompatible with gradient checkpointing. Setting `use_cache=False`...\n"
          ]
        },
        {
          "metadata": {
            "tags": null
          },
          "name": "stdout",
          "output_type": "stream",
          "text": [
            "tensor(2.1636, device='cuda:0', grad_fn=<AddBackward0>)\n"
          ]
        },
        {
          "metadata": {
            "tags": null
          },
          "name": "stderr",
          "output_type": "stream",
          "text": [
            "`use_cache=True` is incompatible with gradient checkpointing. Setting `use_cache=False`...\n"
          ]
        },
        {
          "metadata": {
            "tags": null
          },
          "name": "stdout",
          "output_type": "stream",
          "text": [
            "tensor(2.1560, device='cuda:0', grad_fn=<AddBackward0>)\n"
          ]
        },
        {
          "metadata": {
            "tags": null
          },
          "name": "stderr",
          "output_type": "stream",
          "text": [
            "`use_cache=True` is incompatible with gradient checkpointing. Setting `use_cache=False`...\n"
          ]
        },
        {
          "metadata": {
            "tags": null
          },
          "name": "stdout",
          "output_type": "stream",
          "text": [
            "tensor(2.2345, device='cuda:0', grad_fn=<AddBackward0>)\n"
          ]
        },
        {
          "metadata": {
            "tags": null
          },
          "name": "stderr",
          "output_type": "stream",
          "text": [
            "`use_cache=True` is incompatible with gradient checkpointing. Setting `use_cache=False`...\n"
          ]
        },
        {
          "metadata": {
            "tags": null
          },
          "name": "stdout",
          "output_type": "stream",
          "text": [
            "tensor(2.2689, device='cuda:0', grad_fn=<AddBackward0>)\n"
          ]
        },
        {
          "metadata": {
            "tags": null
          },
          "name": "stderr",
          "output_type": "stream",
          "text": [
            "`use_cache=True` is incompatible with gradient checkpointing. Setting `use_cache=False`...\n"
          ]
        },
        {
          "metadata": {
            "tags": null
          },
          "name": "stdout",
          "output_type": "stream",
          "text": [
            "tensor(2.1837, device='cuda:0', grad_fn=<AddBackward0>)\n"
          ]
        },
        {
          "metadata": {
            "tags": null
          },
          "name": "stderr",
          "output_type": "stream",
          "text": [
            "`use_cache=True` is incompatible with gradient checkpointing. Setting `use_cache=False`...\n"
          ]
        },
        {
          "metadata": {
            "tags": null
          },
          "name": "stdout",
          "output_type": "stream",
          "text": [
            "tensor(2.1177, device='cuda:0', grad_fn=<AddBackward0>)\n"
          ]
        },
        {
          "metadata": {
            "tags": null
          },
          "name": "stderr",
          "output_type": "stream",
          "text": [
            "`use_cache=True` is incompatible with gradient checkpointing. Setting `use_cache=False`...\n"
          ]
        },
        {
          "metadata": {
            "tags": null
          },
          "name": "stdout",
          "output_type": "stream",
          "text": [
            "tensor(2.2233, device='cuda:0', grad_fn=<AddBackward0>)\n"
          ]
        },
        {
          "metadata": {
            "tags": null
          },
          "name": "stderr",
          "output_type": "stream",
          "text": [
            "`use_cache=True` is incompatible with gradient checkpointing. Setting `use_cache=False`...\n"
          ]
        },
        {
          "metadata": {
            "tags": null
          },
          "name": "stdout",
          "output_type": "stream",
          "text": [
            "tensor(2.1768, device='cuda:0', grad_fn=<AddBackward0>)\n"
          ]
        },
        {
          "metadata": {
            "tags": null
          },
          "name": "stderr",
          "output_type": "stream",
          "text": [
            "`use_cache=True` is incompatible with gradient checkpointing. Setting `use_cache=False`...\n"
          ]
        },
        {
          "metadata": {
            "tags": null
          },
          "name": "stdout",
          "output_type": "stream",
          "text": [
            "tensor(2.1262, device='cuda:0', grad_fn=<AddBackward0>)\n"
          ]
        },
        {
          "metadata": {
            "tags": null
          },
          "name": "stderr",
          "output_type": "stream",
          "text": [
            "`use_cache=True` is incompatible with gradient checkpointing. Setting `use_cache=False`...\n"
          ]
        },
        {
          "metadata": {
            "tags": null
          },
          "name": "stdout",
          "output_type": "stream",
          "text": [
            "tensor(2.2430, device='cuda:0', grad_fn=<AddBackward0>)\n"
          ]
        },
        {
          "metadata": {
            "tags": null
          },
          "name": "stderr",
          "output_type": "stream",
          "text": [
            "`use_cache=True` is incompatible with gradient checkpointing. Setting `use_cache=False`...\n"
          ]
        },
        {
          "metadata": {
            "tags": null
          },
          "name": "stdout",
          "output_type": "stream",
          "text": [
            "tensor(2.2420, device='cuda:0', grad_fn=<AddBackward0>)\n"
          ]
        },
        {
          "metadata": {
            "tags": null
          },
          "name": "stderr",
          "output_type": "stream",
          "text": [
            "`use_cache=True` is incompatible with gradient checkpointing. Setting `use_cache=False`...\n"
          ]
        },
        {
          "metadata": {
            "tags": null
          },
          "name": "stdout",
          "output_type": "stream",
          "text": [
            "tensor(2.2102, device='cuda:0', grad_fn=<AddBackward0>)\n"
          ]
        },
        {
          "metadata": {
            "tags": null
          },
          "name": "stderr",
          "output_type": "stream",
          "text": [
            "`use_cache=True` is incompatible with gradient checkpointing. Setting `use_cache=False`...\n"
          ]
        },
        {
          "metadata": {
            "tags": null
          },
          "name": "stdout",
          "output_type": "stream",
          "text": [
            "tensor(2.1702, device='cuda:0', grad_fn=<AddBackward0>)\n"
          ]
        },
        {
          "metadata": {
            "tags": null
          },
          "name": "stderr",
          "output_type": "stream",
          "text": [
            "`use_cache=True` is incompatible with gradient checkpointing. Setting `use_cache=False`...\n"
          ]
        },
        {
          "metadata": {
            "tags": null
          },
          "name": "stdout",
          "output_type": "stream",
          "text": [
            "tensor(2.1660, device='cuda:0', grad_fn=<AddBackward0>)\n"
          ]
        },
        {
          "metadata": {
            "tags": null
          },
          "name": "stderr",
          "output_type": "stream",
          "text": [
            "`use_cache=True` is incompatible with gradient checkpointing. Setting `use_cache=False`...\n"
          ]
        },
        {
          "metadata": {
            "tags": null
          },
          "name": "stdout",
          "output_type": "stream",
          "text": [
            "tensor(2.0735, device='cuda:0', grad_fn=<AddBackward0>)\n"
          ]
        },
        {
          "metadata": {
            "tags": null
          },
          "name": "stderr",
          "output_type": "stream",
          "text": [
            "`use_cache=True` is incompatible with gradient checkpointing. Setting `use_cache=False`...\n"
          ]
        },
        {
          "metadata": {
            "tags": null
          },
          "name": "stdout",
          "output_type": "stream",
          "text": [
            "tensor(2.0739, device='cuda:0', grad_fn=<AddBackward0>)\n"
          ]
        },
        {
          "metadata": {
            "tags": null
          },
          "name": "stderr",
          "output_type": "stream",
          "text": [
            "`use_cache=True` is incompatible with gradient checkpointing. Setting `use_cache=False`...\n"
          ]
        },
        {
          "metadata": {
            "tags": null
          },
          "name": "stdout",
          "output_type": "stream",
          "text": [
            "tensor(2.0571, device='cuda:0', grad_fn=<AddBackward0>)\n"
          ]
        },
        {
          "metadata": {
            "tags": null
          },
          "name": "stderr",
          "output_type": "stream",
          "text": [
            "`use_cache=True` is incompatible with gradient checkpointing. Setting `use_cache=False`...\n"
          ]
        },
        {
          "metadata": {
            "tags": null
          },
          "name": "stdout",
          "output_type": "stream",
          "text": [
            "tensor(2.0462, device='cuda:0', grad_fn=<AddBackward0>)\n"
          ]
        },
        {
          "metadata": {
            "tags": null
          },
          "name": "stderr",
          "output_type": "stream",
          "text": [
            "`use_cache=True` is incompatible with gradient checkpointing. Setting `use_cache=False`...\n"
          ]
        },
        {
          "metadata": {
            "tags": null
          },
          "name": "stdout",
          "output_type": "stream",
          "text": [
            "tensor(2.1253, device='cuda:0', grad_fn=<AddBackward0>)\n"
          ]
        },
        {
          "metadata": {
            "tags": null
          },
          "name": "stderr",
          "output_type": "stream",
          "text": [
            "`use_cache=True` is incompatible with gradient checkpointing. Setting `use_cache=False`...\n"
          ]
        },
        {
          "metadata": {
            "tags": null
          },
          "name": "stdout",
          "output_type": "stream",
          "text": [
            "tensor(2.7918, device='cuda:0', grad_fn=<AddBackward0>)\n"
          ]
        },
        {
          "metadata": {
            "tags": null
          },
          "name": "stderr",
          "output_type": "stream",
          "text": [
            "`use_cache=True` is incompatible with gradient checkpointing. Setting `use_cache=False`...\n"
          ]
        },
        {
          "metadata": {
            "tags": null
          },
          "name": "stdout",
          "output_type": "stream",
          "text": [
            "tensor(2.7786, device='cuda:0', grad_fn=<AddBackward0>)\n"
          ]
        },
        {
          "metadata": {
            "tags": null
          },
          "name": "stderr",
          "output_type": "stream",
          "text": [
            "`use_cache=True` is incompatible with gradient checkpointing. Setting `use_cache=False`...\n"
          ]
        },
        {
          "metadata": {
            "tags": null
          },
          "name": "stdout",
          "output_type": "stream",
          "text": [
            "tensor(2.8019, device='cuda:0', grad_fn=<AddBackward0>)\n"
          ]
        },
        {
          "metadata": {
            "tags": null
          },
          "name": "stderr",
          "output_type": "stream",
          "text": [
            "`use_cache=True` is incompatible with gradient checkpointing. Setting `use_cache=False`...\n"
          ]
        },
        {
          "metadata": {
            "tags": null
          },
          "name": "stdout",
          "output_type": "stream",
          "text": [
            "tensor(2.8104, device='cuda:0', grad_fn=<AddBackward0>)\n"
          ]
        },
        {
          "metadata": {
            "tags": null
          },
          "name": "stderr",
          "output_type": "stream",
          "text": [
            "`use_cache=True` is incompatible with gradient checkpointing. Setting `use_cache=False`...\n"
          ]
        },
        {
          "metadata": {
            "tags": null
          },
          "name": "stdout",
          "output_type": "stream",
          "text": [
            "tensor(2.8211, device='cuda:0', grad_fn=<AddBackward0>)\n"
          ]
        },
        {
          "metadata": {
            "tags": null
          },
          "name": "stderr",
          "output_type": "stream",
          "text": [
            "`use_cache=True` is incompatible with gradient checkpointing. Setting `use_cache=False`...\n"
          ]
        },
        {
          "metadata": {
            "tags": null
          },
          "name": "stdout",
          "output_type": "stream",
          "text": [
            "Epoch 9: train_loss = 2.270, train_acc = 0.898\n",
            "tensor(2.0321, device='cuda:0', grad_fn=<AddBackward0>)\n"
          ]
        },
        {
          "metadata": {
            "tags": null
          },
          "name": "stderr",
          "output_type": "stream",
          "text": [
            "`use_cache=True` is incompatible with gradient checkpointing. Setting `use_cache=False`...\n"
          ]
        },
        {
          "metadata": {
            "tags": null
          },
          "name": "stdout",
          "output_type": "stream",
          "text": [
            "tensor(2.0548, device='cuda:0', grad_fn=<AddBackward0>)\n"
          ]
        },
        {
          "metadata": {
            "tags": null
          },
          "name": "stderr",
          "output_type": "stream",
          "text": [
            "`use_cache=True` is incompatible with gradient checkpointing. Setting `use_cache=False`...\n"
          ]
        },
        {
          "metadata": {
            "tags": null
          },
          "name": "stdout",
          "output_type": "stream",
          "text": [
            "tensor(2.0393, device='cuda:0', grad_fn=<AddBackward0>)\n"
          ]
        },
        {
          "metadata": {
            "tags": null
          },
          "name": "stderr",
          "output_type": "stream",
          "text": [
            "`use_cache=True` is incompatible with gradient checkpointing. Setting `use_cache=False`...\n"
          ]
        },
        {
          "metadata": {
            "tags": null
          },
          "name": "stdout",
          "output_type": "stream",
          "text": [
            "tensor(2.0184, device='cuda:0', grad_fn=<AddBackward0>)\n"
          ]
        },
        {
          "metadata": {
            "tags": null
          },
          "name": "stderr",
          "output_type": "stream",
          "text": [
            "`use_cache=True` is incompatible with gradient checkpointing. Setting `use_cache=False`...\n"
          ]
        },
        {
          "metadata": {
            "tags": null
          },
          "name": "stdout",
          "output_type": "stream",
          "text": [
            "tensor(2.0771, device='cuda:0', grad_fn=<AddBackward0>)\n"
          ]
        },
        {
          "metadata": {
            "tags": null
          },
          "name": "stderr",
          "output_type": "stream",
          "text": [
            "`use_cache=True` is incompatible with gradient checkpointing. Setting `use_cache=False`...\n"
          ]
        },
        {
          "metadata": {
            "tags": null
          },
          "name": "stdout",
          "output_type": "stream",
          "text": [
            "tensor(2.1014, device='cuda:0', grad_fn=<AddBackward0>)\n"
          ]
        },
        {
          "metadata": {
            "tags": null
          },
          "name": "stderr",
          "output_type": "stream",
          "text": [
            "`use_cache=True` is incompatible with gradient checkpointing. Setting `use_cache=False`...\n"
          ]
        },
        {
          "metadata": {
            "tags": null
          },
          "name": "stdout",
          "output_type": "stream",
          "text": [
            "tensor(2.1116, device='cuda:0', grad_fn=<AddBackward0>)\n"
          ]
        },
        {
          "metadata": {
            "tags": null
          },
          "name": "stderr",
          "output_type": "stream",
          "text": [
            "`use_cache=True` is incompatible with gradient checkpointing. Setting `use_cache=False`...\n"
          ]
        },
        {
          "metadata": {
            "tags": null
          },
          "name": "stdout",
          "output_type": "stream",
          "text": [
            "tensor(2.1303, device='cuda:0', grad_fn=<AddBackward0>)\n"
          ]
        },
        {
          "metadata": {
            "tags": null
          },
          "name": "stderr",
          "output_type": "stream",
          "text": [
            "`use_cache=True` is incompatible with gradient checkpointing. Setting `use_cache=False`...\n"
          ]
        },
        {
          "metadata": {
            "tags": null
          },
          "name": "stdout",
          "output_type": "stream",
          "text": [
            "tensor(1.9766, device='cuda:0', grad_fn=<AddBackward0>)\n"
          ]
        },
        {
          "metadata": {
            "tags": null
          },
          "name": "stderr",
          "output_type": "stream",
          "text": [
            "`use_cache=True` is incompatible with gradient checkpointing. Setting `use_cache=False`...\n"
          ]
        },
        {
          "metadata": {
            "tags": null
          },
          "name": "stdout",
          "output_type": "stream",
          "text": [
            "tensor(1.9974, device='cuda:0', grad_fn=<AddBackward0>)\n"
          ]
        },
        {
          "metadata": {
            "tags": null
          },
          "name": "stderr",
          "output_type": "stream",
          "text": [
            "`use_cache=True` is incompatible with gradient checkpointing. Setting `use_cache=False`...\n"
          ]
        },
        {
          "metadata": {
            "tags": null
          },
          "name": "stdout",
          "output_type": "stream",
          "text": [
            "tensor(2.0354, device='cuda:0', grad_fn=<AddBackward0>)\n"
          ]
        },
        {
          "metadata": {
            "tags": null
          },
          "name": "stderr",
          "output_type": "stream",
          "text": [
            "`use_cache=True` is incompatible with gradient checkpointing. Setting `use_cache=False`...\n"
          ]
        },
        {
          "metadata": {
            "tags": null
          },
          "name": "stdout",
          "output_type": "stream",
          "text": [
            "tensor(2.0315, device='cuda:0', grad_fn=<AddBackward0>)\n"
          ]
        },
        {
          "metadata": {
            "tags": null
          },
          "name": "stderr",
          "output_type": "stream",
          "text": [
            "`use_cache=True` is incompatible with gradient checkpointing. Setting `use_cache=False`...\n"
          ]
        },
        {
          "metadata": {
            "tags": null
          },
          "name": "stdout",
          "output_type": "stream",
          "text": [
            "tensor(2.1101, device='cuda:0', grad_fn=<AddBackward0>)\n"
          ]
        },
        {
          "metadata": {
            "tags": null
          },
          "name": "stderr",
          "output_type": "stream",
          "text": [
            "`use_cache=True` is incompatible with gradient checkpointing. Setting `use_cache=False`...\n"
          ]
        },
        {
          "metadata": {
            "tags": null
          },
          "name": "stdout",
          "output_type": "stream",
          "text": [
            "tensor(2.1486, device='cuda:0', grad_fn=<AddBackward0>)\n"
          ]
        },
        {
          "metadata": {
            "tags": null
          },
          "name": "stderr",
          "output_type": "stream",
          "text": [
            "`use_cache=True` is incompatible with gradient checkpointing. Setting `use_cache=False`...\n"
          ]
        },
        {
          "metadata": {
            "tags": null
          },
          "name": "stdout",
          "output_type": "stream",
          "text": [
            "tensor(2.0626, device='cuda:0', grad_fn=<AddBackward0>)\n"
          ]
        },
        {
          "metadata": {
            "tags": null
          },
          "name": "stderr",
          "output_type": "stream",
          "text": [
            "`use_cache=True` is incompatible with gradient checkpointing. Setting `use_cache=False`...\n"
          ]
        },
        {
          "metadata": {
            "tags": null
          },
          "name": "stdout",
          "output_type": "stream",
          "text": [
            "tensor(1.9792, device='cuda:0', grad_fn=<AddBackward0>)\n"
          ]
        },
        {
          "metadata": {
            "tags": null
          },
          "name": "stderr",
          "output_type": "stream",
          "text": [
            "`use_cache=True` is incompatible with gradient checkpointing. Setting `use_cache=False`...\n"
          ]
        },
        {
          "metadata": {
            "tags": null
          },
          "name": "stdout",
          "output_type": "stream",
          "text": [
            "tensor(2.1029, device='cuda:0', grad_fn=<AddBackward0>)\n"
          ]
        },
        {
          "metadata": {
            "tags": null
          },
          "name": "stderr",
          "output_type": "stream",
          "text": [
            "`use_cache=True` is incompatible with gradient checkpointing. Setting `use_cache=False`...\n"
          ]
        },
        {
          "metadata": {
            "tags": null
          },
          "name": "stdout",
          "output_type": "stream",
          "text": [
            "tensor(2.0644, device='cuda:0', grad_fn=<AddBackward0>)\n"
          ]
        },
        {
          "metadata": {
            "tags": null
          },
          "name": "stderr",
          "output_type": "stream",
          "text": [
            "`use_cache=True` is incompatible with gradient checkpointing. Setting `use_cache=False`...\n"
          ]
        },
        {
          "metadata": {
            "tags": null
          },
          "name": "stdout",
          "output_type": "stream",
          "text": [
            "tensor(1.9920, device='cuda:0', grad_fn=<AddBackward0>)\n"
          ]
        },
        {
          "metadata": {
            "tags": null
          },
          "name": "stderr",
          "output_type": "stream",
          "text": [
            "`use_cache=True` is incompatible with gradient checkpointing. Setting `use_cache=False`...\n"
          ]
        },
        {
          "metadata": {
            "tags": null
          },
          "name": "stdout",
          "output_type": "stream",
          "text": [
            "tensor(2.1309, device='cuda:0', grad_fn=<AddBackward0>)\n"
          ]
        },
        {
          "metadata": {
            "tags": null
          },
          "name": "stderr",
          "output_type": "stream",
          "text": [
            "`use_cache=True` is incompatible with gradient checkpointing. Setting `use_cache=False`...\n"
          ]
        },
        {
          "metadata": {
            "tags": null
          },
          "name": "stdout",
          "output_type": "stream",
          "text": [
            "tensor(2.1258, device='cuda:0', grad_fn=<AddBackward0>)\n"
          ]
        },
        {
          "metadata": {
            "tags": null
          },
          "name": "stderr",
          "output_type": "stream",
          "text": [
            "`use_cache=True` is incompatible with gradient checkpointing. Setting `use_cache=False`...\n"
          ]
        },
        {
          "metadata": {
            "tags": null
          },
          "name": "stdout",
          "output_type": "stream",
          "text": [
            "tensor(2.1011, device='cuda:0', grad_fn=<AddBackward0>)\n"
          ]
        },
        {
          "metadata": {
            "tags": null
          },
          "name": "stderr",
          "output_type": "stream",
          "text": [
            "`use_cache=True` is incompatible with gradient checkpointing. Setting `use_cache=False`...\n"
          ]
        },
        {
          "metadata": {
            "tags": null
          },
          "name": "stdout",
          "output_type": "stream",
          "text": [
            "tensor(2.0471, device='cuda:0', grad_fn=<AddBackward0>)\n"
          ]
        },
        {
          "metadata": {
            "tags": null
          },
          "name": "stderr",
          "output_type": "stream",
          "text": [
            "`use_cache=True` is incompatible with gradient checkpointing. Setting `use_cache=False`...\n"
          ]
        },
        {
          "metadata": {
            "tags": null
          },
          "name": "stdout",
          "output_type": "stream",
          "text": [
            "tensor(2.0446, device='cuda:0', grad_fn=<AddBackward0>)\n"
          ]
        },
        {
          "metadata": {
            "tags": null
          },
          "name": "stderr",
          "output_type": "stream",
          "text": [
            "`use_cache=True` is incompatible with gradient checkpointing. Setting `use_cache=False`...\n"
          ]
        },
        {
          "metadata": {
            "tags": null
          },
          "name": "stdout",
          "output_type": "stream",
          "text": [
            "tensor(1.9546, device='cuda:0', grad_fn=<AddBackward0>)\n"
          ]
        },
        {
          "metadata": {
            "tags": null
          },
          "name": "stderr",
          "output_type": "stream",
          "text": [
            "`use_cache=True` is incompatible with gradient checkpointing. Setting `use_cache=False`...\n"
          ]
        },
        {
          "metadata": {
            "tags": null
          },
          "name": "stdout",
          "output_type": "stream",
          "text": [
            "tensor(1.9525, device='cuda:0', grad_fn=<AddBackward0>)\n"
          ]
        },
        {
          "metadata": {
            "tags": null
          },
          "name": "stderr",
          "output_type": "stream",
          "text": [
            "`use_cache=True` is incompatible with gradient checkpointing. Setting `use_cache=False`...\n"
          ]
        },
        {
          "metadata": {
            "tags": null
          },
          "name": "stdout",
          "output_type": "stream",
          "text": [
            "tensor(1.9434, device='cuda:0', grad_fn=<AddBackward0>)\n"
          ]
        },
        {
          "metadata": {
            "tags": null
          },
          "name": "stderr",
          "output_type": "stream",
          "text": [
            "`use_cache=True` is incompatible with gradient checkpointing. Setting `use_cache=False`...\n"
          ]
        },
        {
          "metadata": {
            "tags": null
          },
          "name": "stdout",
          "output_type": "stream",
          "text": [
            "tensor(1.9296, device='cuda:0', grad_fn=<AddBackward0>)\n"
          ]
        },
        {
          "metadata": {
            "tags": null
          },
          "name": "stderr",
          "output_type": "stream",
          "text": [
            "`use_cache=True` is incompatible with gradient checkpointing. Setting `use_cache=False`...\n"
          ]
        },
        {
          "metadata": {
            "tags": null
          },
          "name": "stdout",
          "output_type": "stream",
          "text": [
            "tensor(2.0157, device='cuda:0', grad_fn=<AddBackward0>)\n"
          ]
        },
        {
          "metadata": {
            "tags": null
          },
          "name": "stderr",
          "output_type": "stream",
          "text": [
            "`use_cache=True` is incompatible with gradient checkpointing. Setting `use_cache=False`...\n"
          ]
        },
        {
          "metadata": {
            "tags": null
          },
          "name": "stdout",
          "output_type": "stream",
          "text": [
            "tensor(2.7157, device='cuda:0', grad_fn=<AddBackward0>)\n"
          ]
        },
        {
          "metadata": {
            "tags": null
          },
          "name": "stderr",
          "output_type": "stream",
          "text": [
            "`use_cache=True` is incompatible with gradient checkpointing. Setting `use_cache=False`...\n"
          ]
        },
        {
          "metadata": {
            "tags": null
          },
          "name": "stdout",
          "output_type": "stream",
          "text": [
            "tensor(2.6992, device='cuda:0', grad_fn=<AddBackward0>)\n"
          ]
        },
        {
          "metadata": {
            "tags": null
          },
          "name": "stderr",
          "output_type": "stream",
          "text": [
            "`use_cache=True` is incompatible with gradient checkpointing. Setting `use_cache=False`...\n"
          ]
        },
        {
          "metadata": {
            "tags": null
          },
          "name": "stdout",
          "output_type": "stream",
          "text": [
            "tensor(2.7148, device='cuda:0', grad_fn=<AddBackward0>)\n"
          ]
        },
        {
          "metadata": {
            "tags": null
          },
          "name": "stderr",
          "output_type": "stream",
          "text": [
            "`use_cache=True` is incompatible with gradient checkpointing. Setting `use_cache=False`...\n"
          ]
        },
        {
          "metadata": {
            "tags": null
          },
          "name": "stdout",
          "output_type": "stream",
          "text": [
            "tensor(2.7252, device='cuda:0', grad_fn=<AddBackward0>)\n"
          ]
        },
        {
          "metadata": {
            "tags": null
          },
          "name": "stderr",
          "output_type": "stream",
          "text": [
            "`use_cache=True` is incompatible with gradient checkpointing. Setting `use_cache=False`...\n"
          ]
        },
        {
          "metadata": {
            "tags": null
          },
          "name": "stdout",
          "output_type": "stream",
          "text": [
            "tensor(2.7391, device='cuda:0', grad_fn=<AddBackward0>)\n"
          ]
        },
        {
          "metadata": {
            "tags": null
          },
          "name": "stderr",
          "output_type": "stream",
          "text": [
            "`use_cache=True` is incompatible with gradient checkpointing. Setting `use_cache=False`...\n"
          ]
        },
        {
          "metadata": {
            "tags": null
          },
          "name": "stdout",
          "output_type": "stream",
          "text": [
            "Epoch 10: train_loss = 2.144, train_acc = 0.905\n",
            "tensor(1.8958, device='cuda:0', grad_fn=<AddBackward0>)\n"
          ]
        },
        {
          "metadata": {
            "tags": null
          },
          "name": "stderr",
          "output_type": "stream",
          "text": [
            "`use_cache=True` is incompatible with gradient checkpointing. Setting `use_cache=False`...\n"
          ]
        },
        {
          "metadata": {
            "tags": null
          },
          "name": "stdout",
          "output_type": "stream",
          "text": [
            "tensor(1.9128, device='cuda:0', grad_fn=<AddBackward0>)\n"
          ]
        },
        {
          "metadata": {
            "tags": null
          },
          "name": "stderr",
          "output_type": "stream",
          "text": [
            "`use_cache=True` is incompatible with gradient checkpointing. Setting `use_cache=False`...\n"
          ]
        },
        {
          "metadata": {
            "tags": null
          },
          "name": "stdout",
          "output_type": "stream",
          "text": [
            "tensor(1.9234, device='cuda:0', grad_fn=<AddBackward0>)\n"
          ]
        },
        {
          "metadata": {
            "tags": null
          },
          "name": "stderr",
          "output_type": "stream",
          "text": [
            "`use_cache=True` is incompatible with gradient checkpointing. Setting `use_cache=False`...\n"
          ]
        },
        {
          "metadata": {
            "tags": null
          },
          "name": "stdout",
          "output_type": "stream",
          "text": [
            "tensor(1.9201, device='cuda:0', grad_fn=<AddBackward0>)\n"
          ]
        },
        {
          "metadata": {
            "tags": null
          },
          "name": "stderr",
          "output_type": "stream",
          "text": [
            "`use_cache=True` is incompatible with gradient checkpointing. Setting `use_cache=False`...\n"
          ]
        },
        {
          "metadata": {
            "tags": null
          },
          "name": "stdout",
          "output_type": "stream",
          "text": [
            "tensor(1.9709, device='cuda:0', grad_fn=<AddBackward0>)\n"
          ]
        },
        {
          "metadata": {
            "tags": null
          },
          "name": "stderr",
          "output_type": "stream",
          "text": [
            "`use_cache=True` is incompatible with gradient checkpointing. Setting `use_cache=False`...\n"
          ]
        },
        {
          "metadata": {
            "tags": null
          },
          "name": "stdout",
          "output_type": "stream",
          "text": [
            "tensor(1.9587, device='cuda:0', grad_fn=<AddBackward0>)\n"
          ]
        },
        {
          "metadata": {
            "tags": null
          },
          "name": "stderr",
          "output_type": "stream",
          "text": [
            "`use_cache=True` is incompatible with gradient checkpointing. Setting `use_cache=False`...\n"
          ]
        },
        {
          "metadata": {
            "tags": null
          },
          "name": "stdout",
          "output_type": "stream",
          "text": [
            "tensor(1.9828, device='cuda:0', grad_fn=<AddBackward0>)\n"
          ]
        },
        {
          "metadata": {
            "tags": null
          },
          "name": "stderr",
          "output_type": "stream",
          "text": [
            "`use_cache=True` is incompatible with gradient checkpointing. Setting `use_cache=False`...\n"
          ]
        },
        {
          "metadata": {
            "tags": null
          },
          "name": "stdout",
          "output_type": "stream",
          "text": [
            "tensor(1.9978, device='cuda:0', grad_fn=<AddBackward0>)\n"
          ]
        },
        {
          "metadata": {
            "tags": null
          },
          "name": "stderr",
          "output_type": "stream",
          "text": [
            "`use_cache=True` is incompatible with gradient checkpointing. Setting `use_cache=False`...\n"
          ]
        },
        {
          "metadata": {
            "tags": null
          },
          "name": "stdout",
          "output_type": "stream",
          "text": [
            "tensor(1.8517, device='cuda:0', grad_fn=<AddBackward0>)\n"
          ]
        },
        {
          "metadata": {
            "tags": null
          },
          "name": "stderr",
          "output_type": "stream",
          "text": [
            "`use_cache=True` is incompatible with gradient checkpointing. Setting `use_cache=False`...\n"
          ]
        },
        {
          "metadata": {
            "tags": null
          },
          "name": "stdout",
          "output_type": "stream",
          "text": [
            "tensor(1.8946, device='cuda:0', grad_fn=<AddBackward0>)\n"
          ]
        },
        {
          "metadata": {
            "tags": null
          },
          "name": "stderr",
          "output_type": "stream",
          "text": [
            "`use_cache=True` is incompatible with gradient checkpointing. Setting `use_cache=False`...\n"
          ]
        },
        {
          "metadata": {
            "tags": null
          },
          "name": "stdout",
          "output_type": "stream",
          "text": [
            "tensor(1.9317, device='cuda:0', grad_fn=<AddBackward0>)\n"
          ]
        },
        {
          "metadata": {
            "tags": null
          },
          "name": "stderr",
          "output_type": "stream",
          "text": [
            "`use_cache=True` is incompatible with gradient checkpointing. Setting `use_cache=False`...\n"
          ]
        },
        {
          "metadata": {
            "tags": null
          },
          "name": "stdout",
          "output_type": "stream",
          "text": [
            "tensor(1.9276, device='cuda:0', grad_fn=<AddBackward0>)\n"
          ]
        },
        {
          "metadata": {
            "tags": null
          },
          "name": "stderr",
          "output_type": "stream",
          "text": [
            "`use_cache=True` is incompatible with gradient checkpointing. Setting `use_cache=False`...\n"
          ]
        },
        {
          "metadata": {
            "tags": null
          },
          "name": "stdout",
          "output_type": "stream",
          "text": [
            "tensor(2.0145, device='cuda:0', grad_fn=<AddBackward0>)\n"
          ]
        },
        {
          "metadata": {
            "tags": null
          },
          "name": "stderr",
          "output_type": "stream",
          "text": [
            "`use_cache=True` is incompatible with gradient checkpointing. Setting `use_cache=False`...\n"
          ]
        },
        {
          "metadata": {
            "tags": null
          },
          "name": "stdout",
          "output_type": "stream",
          "text": [
            "tensor(2.0418, device='cuda:0', grad_fn=<AddBackward0>)\n"
          ]
        },
        {
          "metadata": {
            "tags": null
          },
          "name": "stderr",
          "output_type": "stream",
          "text": [
            "`use_cache=True` is incompatible with gradient checkpointing. Setting `use_cache=False`...\n"
          ]
        },
        {
          "metadata": {
            "tags": null
          },
          "name": "stdout",
          "output_type": "stream",
          "text": [
            "tensor(1.9412, device='cuda:0', grad_fn=<AddBackward0>)\n"
          ]
        },
        {
          "metadata": {
            "tags": null
          },
          "name": "stderr",
          "output_type": "stream",
          "text": [
            "`use_cache=True` is incompatible with gradient checkpointing. Setting `use_cache=False`...\n"
          ]
        },
        {
          "metadata": {
            "tags": null
          },
          "name": "stdout",
          "output_type": "stream",
          "text": [
            "tensor(1.8472, device='cuda:0', grad_fn=<AddBackward0>)\n"
          ]
        },
        {
          "metadata": {
            "tags": null
          },
          "name": "stderr",
          "output_type": "stream",
          "text": [
            "`use_cache=True` is incompatible with gradient checkpointing. Setting `use_cache=False`...\n"
          ]
        },
        {
          "metadata": {
            "tags": null
          },
          "name": "stdout",
          "output_type": "stream",
          "text": [
            "tensor(1.9853, device='cuda:0', grad_fn=<AddBackward0>)\n"
          ]
        },
        {
          "metadata": {
            "tags": null
          },
          "name": "stderr",
          "output_type": "stream",
          "text": [
            "`use_cache=True` is incompatible with gradient checkpointing. Setting `use_cache=False`...\n"
          ]
        },
        {
          "metadata": {
            "tags": null
          },
          "name": "stdout",
          "output_type": "stream",
          "text": [
            "tensor(1.9399, device='cuda:0', grad_fn=<AddBackward0>)\n"
          ]
        },
        {
          "metadata": {
            "tags": null
          },
          "name": "stderr",
          "output_type": "stream",
          "text": [
            "`use_cache=True` is incompatible with gradient checkpointing. Setting `use_cache=False`...\n"
          ]
        },
        {
          "metadata": {
            "tags": null
          },
          "name": "stdout",
          "output_type": "stream",
          "text": [
            "tensor(1.8616, device='cuda:0', grad_fn=<AddBackward0>)\n"
          ]
        },
        {
          "metadata": {
            "tags": null
          },
          "name": "stderr",
          "output_type": "stream",
          "text": [
            "`use_cache=True` is incompatible with gradient checkpointing. Setting `use_cache=False`...\n"
          ]
        },
        {
          "metadata": {
            "tags": null
          },
          "name": "stdout",
          "output_type": "stream",
          "text": [
            "tensor(2.0209, device='cuda:0', grad_fn=<AddBackward0>)\n"
          ]
        },
        {
          "metadata": {
            "tags": null
          },
          "name": "stderr",
          "output_type": "stream",
          "text": [
            "`use_cache=True` is incompatible with gradient checkpointing. Setting `use_cache=False`...\n"
          ]
        },
        {
          "metadata": {
            "tags": null
          },
          "name": "stdout",
          "output_type": "stream",
          "text": [
            "tensor(2.0255, device='cuda:0', grad_fn=<AddBackward0>)\n"
          ]
        },
        {
          "metadata": {
            "tags": null
          },
          "name": "stderr",
          "output_type": "stream",
          "text": [
            "`use_cache=True` is incompatible with gradient checkpointing. Setting `use_cache=False`...\n"
          ]
        },
        {
          "metadata": {
            "tags": null
          },
          "name": "stdout",
          "output_type": "stream",
          "text": [
            "tensor(1.9898, device='cuda:0', grad_fn=<AddBackward0>)\n"
          ]
        },
        {
          "metadata": {
            "tags": null
          },
          "name": "stderr",
          "output_type": "stream",
          "text": [
            "`use_cache=True` is incompatible with gradient checkpointing. Setting `use_cache=False`...\n"
          ]
        },
        {
          "metadata": {
            "tags": null
          },
          "name": "stdout",
          "output_type": "stream",
          "text": [
            "tensor(1.9371, device='cuda:0', grad_fn=<AddBackward0>)\n"
          ]
        },
        {
          "metadata": {
            "tags": null
          },
          "name": "stderr",
          "output_type": "stream",
          "text": [
            "`use_cache=True` is incompatible with gradient checkpointing. Setting `use_cache=False`...\n"
          ]
        },
        {
          "metadata": {
            "tags": null
          },
          "name": "stdout",
          "output_type": "stream",
          "text": [
            "tensor(1.9260, device='cuda:0', grad_fn=<AddBackward0>)\n"
          ]
        },
        {
          "metadata": {
            "tags": null
          },
          "name": "stderr",
          "output_type": "stream",
          "text": [
            "`use_cache=True` is incompatible with gradient checkpointing. Setting `use_cache=False`...\n"
          ]
        },
        {
          "metadata": {
            "tags": null
          },
          "name": "stdout",
          "output_type": "stream",
          "text": [
            "tensor(1.8431, device='cuda:0', grad_fn=<AddBackward0>)\n"
          ]
        },
        {
          "metadata": {
            "tags": null
          },
          "name": "stderr",
          "output_type": "stream",
          "text": [
            "`use_cache=True` is incompatible with gradient checkpointing. Setting `use_cache=False`...\n"
          ]
        },
        {
          "metadata": {
            "tags": null
          },
          "name": "stdout",
          "output_type": "stream",
          "text": [
            "tensor(1.8388, device='cuda:0', grad_fn=<AddBackward0>)\n"
          ]
        },
        {
          "metadata": {
            "tags": null
          },
          "name": "stderr",
          "output_type": "stream",
          "text": [
            "`use_cache=True` is incompatible with gradient checkpointing. Setting `use_cache=False`...\n"
          ]
        },
        {
          "metadata": {
            "tags": null
          },
          "name": "stdout",
          "output_type": "stream",
          "text": [
            "tensor(1.8316, device='cuda:0', grad_fn=<AddBackward0>)\n"
          ]
        },
        {
          "metadata": {
            "tags": null
          },
          "name": "stderr",
          "output_type": "stream",
          "text": [
            "`use_cache=True` is incompatible with gradient checkpointing. Setting `use_cache=False`...\n"
          ]
        },
        {
          "metadata": {
            "tags": null
          },
          "name": "stdout",
          "output_type": "stream",
          "text": [
            "tensor(1.8162, device='cuda:0', grad_fn=<AddBackward0>)\n"
          ]
        },
        {
          "metadata": {
            "tags": null
          },
          "name": "stderr",
          "output_type": "stream",
          "text": [
            "`use_cache=True` is incompatible with gradient checkpointing. Setting `use_cache=False`...\n"
          ]
        },
        {
          "metadata": {
            "tags": null
          },
          "name": "stdout",
          "output_type": "stream",
          "text": [
            "tensor(1.9118, device='cuda:0', grad_fn=<AddBackward0>)\n"
          ]
        },
        {
          "metadata": {
            "tags": null
          },
          "name": "stderr",
          "output_type": "stream",
          "text": [
            "`use_cache=True` is incompatible with gradient checkpointing. Setting `use_cache=False`...\n"
          ]
        },
        {
          "metadata": {
            "tags": null
          },
          "name": "stdout",
          "output_type": "stream",
          "text": [
            "tensor(2.6298, device='cuda:0', grad_fn=<AddBackward0>)\n"
          ]
        },
        {
          "metadata": {
            "tags": null
          },
          "name": "stderr",
          "output_type": "stream",
          "text": [
            "`use_cache=True` is incompatible with gradient checkpointing. Setting `use_cache=False`...\n"
          ]
        },
        {
          "metadata": {
            "tags": null
          },
          "name": "stdout",
          "output_type": "stream",
          "text": [
            "tensor(2.6171, device='cuda:0', grad_fn=<AddBackward0>)\n"
          ]
        },
        {
          "metadata": {
            "tags": null
          },
          "name": "stderr",
          "output_type": "stream",
          "text": [
            "`use_cache=True` is incompatible with gradient checkpointing. Setting `use_cache=False`...\n"
          ]
        },
        {
          "metadata": {
            "tags": null
          },
          "name": "stdout",
          "output_type": "stream",
          "text": [
            "tensor(2.6252, device='cuda:0', grad_fn=<AddBackward0>)\n"
          ]
        },
        {
          "metadata": {
            "tags": null
          },
          "name": "stderr",
          "output_type": "stream",
          "text": [
            "`use_cache=True` is incompatible with gradient checkpointing. Setting `use_cache=False`...\n"
          ]
        },
        {
          "metadata": {
            "tags": null
          },
          "name": "stdout",
          "output_type": "stream",
          "text": [
            "tensor(2.6362, device='cuda:0', grad_fn=<AddBackward0>)\n"
          ]
        },
        {
          "metadata": {
            "tags": null
          },
          "name": "stderr",
          "output_type": "stream",
          "text": [
            "`use_cache=True` is incompatible with gradient checkpointing. Setting `use_cache=False`...\n"
          ]
        },
        {
          "metadata": {
            "tags": null
          },
          "name": "stdout",
          "output_type": "stream",
          "text": [
            "tensor(2.6445, device='cuda:0', grad_fn=<AddBackward0>)\n"
          ]
        },
        {
          "metadata": {
            "tags": null
          },
          "name": "stderr",
          "output_type": "stream",
          "text": [
            "`use_cache=True` is incompatible with gradient checkpointing. Setting `use_cache=False`...\n"
          ]
        },
        {
          "metadata": {
            "tags": null
          },
          "name": "stdout",
          "output_type": "stream",
          "text": [
            "Epoch 11: train_loss = 2.032, train_acc = 0.918\n",
            "tensor(1.7919, device='cuda:0', grad_fn=<AddBackward0>)\n"
          ]
        },
        {
          "metadata": {
            "tags": null
          },
          "name": "stderr",
          "output_type": "stream",
          "text": [
            "`use_cache=True` is incompatible with gradient checkpointing. Setting `use_cache=False`...\n"
          ]
        },
        {
          "metadata": {
            "tags": null
          },
          "name": "stdout",
          "output_type": "stream",
          "text": [
            "tensor(1.8099, device='cuda:0', grad_fn=<AddBackward0>)\n"
          ]
        },
        {
          "metadata": {
            "tags": null
          },
          "name": "stderr",
          "output_type": "stream",
          "text": [
            "`use_cache=True` is incompatible with gradient checkpointing. Setting `use_cache=False`...\n"
          ]
        },
        {
          "metadata": {
            "tags": null
          },
          "name": "stdout",
          "output_type": "stream",
          "text": [
            "tensor(1.8465, device='cuda:0', grad_fn=<AddBackward0>)\n"
          ]
        },
        {
          "metadata": {
            "tags": null
          },
          "name": "stderr",
          "output_type": "stream",
          "text": [
            "`use_cache=True` is incompatible with gradient checkpointing. Setting `use_cache=False`...\n"
          ]
        },
        {
          "metadata": {
            "tags": null
          },
          "name": "stdout",
          "output_type": "stream",
          "text": [
            "tensor(1.8479, device='cuda:0', grad_fn=<AddBackward0>)\n"
          ]
        },
        {
          "metadata": {
            "tags": null
          },
          "name": "stderr",
          "output_type": "stream",
          "text": [
            "`use_cache=True` is incompatible with gradient checkpointing. Setting `use_cache=False`...\n"
          ]
        },
        {
          "metadata": {
            "tags": null
          },
          "name": "stdout",
          "output_type": "stream",
          "text": [
            "tensor(1.8873, device='cuda:0', grad_fn=<AddBackward0>)\n"
          ]
        },
        {
          "metadata": {
            "tags": null
          },
          "name": "stderr",
          "output_type": "stream",
          "text": [
            "`use_cache=True` is incompatible with gradient checkpointing. Setting `use_cache=False`...\n"
          ]
        },
        {
          "metadata": {
            "tags": null
          },
          "name": "stdout",
          "output_type": "stream",
          "text": [
            "tensor(1.8636, device='cuda:0', grad_fn=<AddBackward0>)\n"
          ]
        },
        {
          "metadata": {
            "tags": null
          },
          "name": "stderr",
          "output_type": "stream",
          "text": [
            "`use_cache=True` is incompatible with gradient checkpointing. Setting `use_cache=False`...\n"
          ]
        },
        {
          "metadata": {
            "tags": null
          },
          "name": "stdout",
          "output_type": "stream",
          "text": [
            "tensor(1.9006, device='cuda:0', grad_fn=<AddBackward0>)\n"
          ]
        },
        {
          "metadata": {
            "tags": null
          },
          "name": "stderr",
          "output_type": "stream",
          "text": [
            "`use_cache=True` is incompatible with gradient checkpointing. Setting `use_cache=False`...\n"
          ]
        },
        {
          "metadata": {
            "tags": null
          },
          "name": "stdout",
          "output_type": "stream",
          "text": [
            "tensor(1.9055, device='cuda:0', grad_fn=<AddBackward0>)\n"
          ]
        },
        {
          "metadata": {
            "tags": null
          },
          "name": "stderr",
          "output_type": "stream",
          "text": [
            "`use_cache=True` is incompatible with gradient checkpointing. Setting `use_cache=False`...\n"
          ]
        },
        {
          "metadata": {
            "tags": null
          },
          "name": "stdout",
          "output_type": "stream",
          "text": [
            "tensor(1.7549, device='cuda:0', grad_fn=<AddBackward0>)\n"
          ]
        },
        {
          "metadata": {
            "tags": null
          },
          "name": "stderr",
          "output_type": "stream",
          "text": [
            "`use_cache=True` is incompatible with gradient checkpointing. Setting `use_cache=False`...\n"
          ]
        },
        {
          "metadata": {
            "tags": null
          },
          "name": "stdout",
          "output_type": "stream",
          "text": [
            "tensor(1.8040, device='cuda:0', grad_fn=<AddBackward0>)\n"
          ]
        },
        {
          "metadata": {
            "tags": null
          },
          "name": "stderr",
          "output_type": "stream",
          "text": [
            "`use_cache=True` is incompatible with gradient checkpointing. Setting `use_cache=False`...\n"
          ]
        },
        {
          "metadata": {
            "tags": null
          },
          "name": "stdout",
          "output_type": "stream",
          "text": [
            "tensor(1.8508, device='cuda:0', grad_fn=<AddBackward0>)\n"
          ]
        },
        {
          "metadata": {
            "tags": null
          },
          "name": "stderr",
          "output_type": "stream",
          "text": [
            "`use_cache=True` is incompatible with gradient checkpointing. Setting `use_cache=False`...\n"
          ]
        },
        {
          "metadata": {
            "tags": null
          },
          "name": "stdout",
          "output_type": "stream",
          "text": [
            "tensor(1.8451, device='cuda:0', grad_fn=<AddBackward0>)\n"
          ]
        },
        {
          "metadata": {
            "tags": null
          },
          "name": "stderr",
          "output_type": "stream",
          "text": [
            "`use_cache=True` is incompatible with gradient checkpointing. Setting `use_cache=False`...\n"
          ]
        },
        {
          "metadata": {
            "tags": null
          },
          "name": "stdout",
          "output_type": "stream",
          "text": [
            "tensor(1.9170, device='cuda:0', grad_fn=<AddBackward0>)\n"
          ]
        },
        {
          "metadata": {
            "tags": null
          },
          "name": "stderr",
          "output_type": "stream",
          "text": [
            "`use_cache=True` is incompatible with gradient checkpointing. Setting `use_cache=False`...\n"
          ]
        },
        {
          "metadata": {
            "tags": null
          },
          "name": "stdout",
          "output_type": "stream",
          "text": [
            "tensor(1.9694, device='cuda:0', grad_fn=<AddBackward0>)\n"
          ]
        },
        {
          "metadata": {
            "tags": null
          },
          "name": "stderr",
          "output_type": "stream",
          "text": [
            "`use_cache=True` is incompatible with gradient checkpointing. Setting `use_cache=False`...\n"
          ]
        },
        {
          "metadata": {
            "tags": null
          },
          "name": "stdout",
          "output_type": "stream",
          "text": [
            "tensor(1.8481, device='cuda:0', grad_fn=<AddBackward0>)\n"
          ]
        },
        {
          "metadata": {
            "tags": null
          },
          "name": "stderr",
          "output_type": "stream",
          "text": [
            "`use_cache=True` is incompatible with gradient checkpointing. Setting `use_cache=False`...\n"
          ]
        },
        {
          "metadata": {
            "tags": null
          },
          "name": "stdout",
          "output_type": "stream",
          "text": [
            "tensor(1.7494, device='cuda:0', grad_fn=<AddBackward0>)\n"
          ]
        },
        {
          "metadata": {
            "tags": null
          },
          "name": "stderr",
          "output_type": "stream",
          "text": [
            "`use_cache=True` is incompatible with gradient checkpointing. Setting `use_cache=False`...\n"
          ]
        },
        {
          "metadata": {
            "tags": null
          },
          "name": "stdout",
          "output_type": "stream",
          "text": [
            "tensor(1.8978, device='cuda:0', grad_fn=<AddBackward0>)\n"
          ]
        },
        {
          "metadata": {
            "tags": null
          },
          "name": "stderr",
          "output_type": "stream",
          "text": [
            "`use_cache=True` is incompatible with gradient checkpointing. Setting `use_cache=False`...\n"
          ]
        },
        {
          "metadata": {
            "tags": null
          },
          "name": "stdout",
          "output_type": "stream",
          "text": [
            "tensor(1.8530, device='cuda:0', grad_fn=<AddBackward0>)\n"
          ]
        },
        {
          "metadata": {
            "tags": null
          },
          "name": "stderr",
          "output_type": "stream",
          "text": [
            "`use_cache=True` is incompatible with gradient checkpointing. Setting `use_cache=False`...\n"
          ]
        },
        {
          "metadata": {
            "tags": null
          },
          "name": "stdout",
          "output_type": "stream",
          "text": [
            "tensor(1.7673, device='cuda:0', grad_fn=<AddBackward0>)\n"
          ]
        },
        {
          "metadata": {
            "tags": null
          },
          "name": "stderr",
          "output_type": "stream",
          "text": [
            "`use_cache=True` is incompatible with gradient checkpointing. Setting `use_cache=False`...\n"
          ]
        },
        {
          "metadata": {
            "tags": null
          },
          "name": "stdout",
          "output_type": "stream",
          "text": [
            "tensor(1.9515, device='cuda:0', grad_fn=<AddBackward0>)\n"
          ]
        },
        {
          "metadata": {
            "tags": null
          },
          "name": "stderr",
          "output_type": "stream",
          "text": [
            "`use_cache=True` is incompatible with gradient checkpointing. Setting `use_cache=False`...\n"
          ]
        },
        {
          "metadata": {
            "tags": null
          },
          "name": "stdout",
          "output_type": "stream",
          "text": [
            "tensor(1.9612, device='cuda:0', grad_fn=<AddBackward0>)\n"
          ]
        },
        {
          "metadata": {
            "tags": null
          },
          "name": "stderr",
          "output_type": "stream",
          "text": [
            "`use_cache=True` is incompatible with gradient checkpointing. Setting `use_cache=False`...\n"
          ]
        },
        {
          "metadata": {
            "tags": null
          },
          "name": "stdout",
          "output_type": "stream",
          "text": [
            "tensor(1.9152, device='cuda:0', grad_fn=<AddBackward0>)\n"
          ]
        },
        {
          "metadata": {
            "tags": null
          },
          "name": "stderr",
          "output_type": "stream",
          "text": [
            "`use_cache=True` is incompatible with gradient checkpointing. Setting `use_cache=False`...\n"
          ]
        },
        {
          "metadata": {
            "tags": null
          },
          "name": "stdout",
          "output_type": "stream",
          "text": [
            "tensor(1.8603, device='cuda:0', grad_fn=<AddBackward0>)\n"
          ]
        },
        {
          "metadata": {
            "tags": null
          },
          "name": "stderr",
          "output_type": "stream",
          "text": [
            "`use_cache=True` is incompatible with gradient checkpointing. Setting `use_cache=False`...\n"
          ]
        },
        {
          "metadata": {
            "tags": null
          },
          "name": "stdout",
          "output_type": "stream",
          "text": [
            "tensor(1.8402, device='cuda:0', grad_fn=<AddBackward0>)\n"
          ]
        },
        {
          "metadata": {
            "tags": null
          },
          "name": "stderr",
          "output_type": "stream",
          "text": [
            "`use_cache=True` is incompatible with gradient checkpointing. Setting `use_cache=False`...\n"
          ]
        },
        {
          "metadata": {
            "tags": null
          },
          "name": "stdout",
          "output_type": "stream",
          "text": [
            "tensor(1.7715, device='cuda:0', grad_fn=<AddBackward0>)\n"
          ]
        },
        {
          "metadata": {
            "tags": null
          },
          "name": "stderr",
          "output_type": "stream",
          "text": [
            "`use_cache=True` is incompatible with gradient checkpointing. Setting `use_cache=False`...\n"
          ]
        },
        {
          "metadata": {
            "tags": null
          },
          "name": "stdout",
          "output_type": "stream",
          "text": [
            "tensor(1.7724, device='cuda:0', grad_fn=<AddBackward0>)\n"
          ]
        },
        {
          "metadata": {
            "tags": null
          },
          "name": "stderr",
          "output_type": "stream",
          "text": [
            "`use_cache=True` is incompatible with gradient checkpointing. Setting `use_cache=False`...\n"
          ]
        },
        {
          "metadata": {
            "tags": null
          },
          "name": "stdout",
          "output_type": "stream",
          "text": [
            "tensor(1.7583, device='cuda:0', grad_fn=<AddBackward0>)\n"
          ]
        },
        {
          "metadata": {
            "tags": null
          },
          "name": "stderr",
          "output_type": "stream",
          "text": [
            "`use_cache=True` is incompatible with gradient checkpointing. Setting `use_cache=False`...\n"
          ]
        },
        {
          "metadata": {
            "tags": null
          },
          "name": "stdout",
          "output_type": "stream",
          "text": [
            "tensor(1.7402, device='cuda:0', grad_fn=<AddBackward0>)\n"
          ]
        },
        {
          "metadata": {
            "tags": null
          },
          "name": "stderr",
          "output_type": "stream",
          "text": [
            "`use_cache=True` is incompatible with gradient checkpointing. Setting `use_cache=False`...\n"
          ]
        },
        {
          "metadata": {
            "tags": null
          },
          "name": "stdout",
          "output_type": "stream",
          "text": [
            "tensor(1.8327, device='cuda:0', grad_fn=<AddBackward0>)\n"
          ]
        },
        {
          "metadata": {
            "tags": null
          },
          "name": "stderr",
          "output_type": "stream",
          "text": [
            "`use_cache=True` is incompatible with gradient checkpointing. Setting `use_cache=False`...\n"
          ]
        },
        {
          "metadata": {
            "tags": null
          },
          "name": "stdout",
          "output_type": "stream",
          "text": [
            "tensor(2.5469, device='cuda:0', grad_fn=<AddBackward0>)\n"
          ]
        },
        {
          "metadata": {
            "tags": null
          },
          "name": "stderr",
          "output_type": "stream",
          "text": [
            "`use_cache=True` is incompatible with gradient checkpointing. Setting `use_cache=False`...\n"
          ]
        },
        {
          "metadata": {
            "tags": null
          },
          "name": "stdout",
          "output_type": "stream",
          "text": [
            "tensor(2.5381, device='cuda:0', grad_fn=<AddBackward0>)\n"
          ]
        },
        {
          "metadata": {
            "tags": null
          },
          "name": "stderr",
          "output_type": "stream",
          "text": [
            "`use_cache=True` is incompatible with gradient checkpointing. Setting `use_cache=False`...\n"
          ]
        },
        {
          "metadata": {
            "tags": null
          },
          "name": "stdout",
          "output_type": "stream",
          "text": [
            "tensor(2.5427, device='cuda:0', grad_fn=<AddBackward0>)\n"
          ]
        },
        {
          "metadata": {
            "tags": null
          },
          "name": "stderr",
          "output_type": "stream",
          "text": [
            "`use_cache=True` is incompatible with gradient checkpointing. Setting `use_cache=False`...\n"
          ]
        },
        {
          "metadata": {
            "tags": null
          },
          "name": "stdout",
          "output_type": "stream",
          "text": [
            "tensor(2.5555, device='cuda:0', grad_fn=<AddBackward0>)\n"
          ]
        },
        {
          "metadata": {
            "tags": null
          },
          "name": "stderr",
          "output_type": "stream",
          "text": [
            "`use_cache=True` is incompatible with gradient checkpointing. Setting `use_cache=False`...\n"
          ]
        },
        {
          "metadata": {
            "tags": null
          },
          "name": "stdout",
          "output_type": "stream",
          "text": [
            "tensor(2.5586, device='cuda:0', grad_fn=<AddBackward0>)\n"
          ]
        },
        {
          "metadata": {
            "tags": null
          },
          "name": "stderr",
          "output_type": "stream",
          "text": [
            "`use_cache=True` is incompatible with gradient checkpointing. Setting `use_cache=False`...\n"
          ]
        },
        {
          "metadata": {
            "tags": null
          },
          "name": "stdout",
          "output_type": "stream",
          "text": [
            "Epoch 12: train_loss = 1.949, train_acc = 0.927\n",
            "tensor(1.7228, device='cuda:0', grad_fn=<AddBackward0>)\n"
          ]
        },
        {
          "metadata": {
            "tags": null
          },
          "name": "stderr",
          "output_type": "stream",
          "text": [
            "`use_cache=True` is incompatible with gradient checkpointing. Setting `use_cache=False`...\n"
          ]
        },
        {
          "metadata": {
            "tags": null
          },
          "name": "stdout",
          "output_type": "stream",
          "text": [
            "tensor(1.7402, device='cuda:0', grad_fn=<AddBackward0>)\n"
          ]
        },
        {
          "metadata": {
            "tags": null
          },
          "name": "stderr",
          "output_type": "stream",
          "text": [
            "`use_cache=True` is incompatible with gradient checkpointing. Setting `use_cache=False`...\n"
          ]
        },
        {
          "metadata": {
            "tags": null
          },
          "name": "stdout",
          "output_type": "stream",
          "text": [
            "tensor(1.7972, device='cuda:0', grad_fn=<AddBackward0>)\n"
          ]
        },
        {
          "metadata": {
            "tags": null
          },
          "name": "stderr",
          "output_type": "stream",
          "text": [
            "`use_cache=True` is incompatible with gradient checkpointing. Setting `use_cache=False`...\n"
          ]
        },
        {
          "metadata": {
            "tags": null
          },
          "name": "stdout",
          "output_type": "stream",
          "text": [
            "tensor(1.8095, device='cuda:0', grad_fn=<AddBackward0>)\n"
          ]
        },
        {
          "metadata": {
            "tags": null
          },
          "name": "stderr",
          "output_type": "stream",
          "text": [
            "`use_cache=True` is incompatible with gradient checkpointing. Setting `use_cache=False`...\n"
          ]
        },
        {
          "metadata": {
            "tags": null
          },
          "name": "stdout",
          "output_type": "stream",
          "text": [
            "tensor(1.8377, device='cuda:0', grad_fn=<AddBackward0>)\n"
          ]
        },
        {
          "metadata": {
            "tags": null
          },
          "name": "stderr",
          "output_type": "stream",
          "text": [
            "`use_cache=True` is incompatible with gradient checkpointing. Setting `use_cache=False`...\n"
          ]
        },
        {
          "metadata": {
            "tags": null
          },
          "name": "stdout",
          "output_type": "stream",
          "text": [
            "tensor(1.7985, device='cuda:0', grad_fn=<AddBackward0>)\n"
          ]
        },
        {
          "metadata": {
            "tags": null
          },
          "name": "stderr",
          "output_type": "stream",
          "text": [
            "`use_cache=True` is incompatible with gradient checkpointing. Setting `use_cache=False`...\n"
          ]
        },
        {
          "metadata": {
            "tags": null
          },
          "name": "stdout",
          "output_type": "stream",
          "text": [
            "tensor(1.8475, device='cuda:0', grad_fn=<AddBackward0>)\n"
          ]
        },
        {
          "metadata": {
            "tags": null
          },
          "name": "stderr",
          "output_type": "stream",
          "text": [
            "`use_cache=True` is incompatible with gradient checkpointing. Setting `use_cache=False`...\n"
          ]
        },
        {
          "metadata": {
            "tags": null
          },
          "name": "stdout",
          "output_type": "stream",
          "text": [
            "tensor(1.8525, device='cuda:0', grad_fn=<AddBackward0>)\n"
          ]
        },
        {
          "metadata": {
            "tags": null
          },
          "name": "stderr",
          "output_type": "stream",
          "text": [
            "`use_cache=True` is incompatible with gradient checkpointing. Setting `use_cache=False`...\n"
          ]
        },
        {
          "metadata": {
            "tags": null
          },
          "name": "stdout",
          "output_type": "stream",
          "text": [
            "tensor(1.7025, device='cuda:0', grad_fn=<AddBackward0>)\n"
          ]
        },
        {
          "metadata": {
            "tags": null
          },
          "name": "stderr",
          "output_type": "stream",
          "text": [
            "`use_cache=True` is incompatible with gradient checkpointing. Setting `use_cache=False`...\n"
          ]
        },
        {
          "metadata": {
            "tags": null
          },
          "name": "stdout",
          "output_type": "stream",
          "text": [
            "tensor(1.7512, device='cuda:0', grad_fn=<AddBackward0>)\n"
          ]
        },
        {
          "metadata": {
            "tags": null
          },
          "name": "stderr",
          "output_type": "stream",
          "text": [
            "`use_cache=True` is incompatible with gradient checkpointing. Setting `use_cache=False`...\n"
          ]
        },
        {
          "metadata": {
            "tags": null
          },
          "name": "stdout",
          "output_type": "stream",
          "text": [
            "tensor(1.8007, device='cuda:0', grad_fn=<AddBackward0>)\n"
          ]
        },
        {
          "metadata": {
            "tags": null
          },
          "name": "stderr",
          "output_type": "stream",
          "text": [
            "`use_cache=True` is incompatible with gradient checkpointing. Setting `use_cache=False`...\n"
          ]
        },
        {
          "metadata": {
            "tags": null
          },
          "name": "stdout",
          "output_type": "stream",
          "text": [
            "tensor(1.7955, device='cuda:0', grad_fn=<AddBackward0>)\n"
          ]
        },
        {
          "metadata": {
            "tags": null
          },
          "name": "stderr",
          "output_type": "stream",
          "text": [
            "`use_cache=True` is incompatible with gradient checkpointing. Setting `use_cache=False`...\n"
          ]
        },
        {
          "metadata": {
            "tags": null
          },
          "name": "stdout",
          "output_type": "stream",
          "text": [
            "tensor(1.8756, device='cuda:0', grad_fn=<AddBackward0>)\n"
          ]
        },
        {
          "metadata": {
            "tags": null
          },
          "name": "stderr",
          "output_type": "stream",
          "text": [
            "`use_cache=True` is incompatible with gradient checkpointing. Setting `use_cache=False`...\n"
          ]
        },
        {
          "metadata": {
            "tags": null
          },
          "name": "stdout",
          "output_type": "stream",
          "text": [
            "tensor(1.9171, device='cuda:0', grad_fn=<AddBackward0>)\n"
          ]
        },
        {
          "metadata": {
            "tags": null
          },
          "name": "stderr",
          "output_type": "stream",
          "text": [
            "`use_cache=True` is incompatible with gradient checkpointing. Setting `use_cache=False`...\n"
          ]
        },
        {
          "metadata": {
            "tags": null
          },
          "name": "stdout",
          "output_type": "stream",
          "text": [
            "tensor(1.7865, device='cuda:0', grad_fn=<AddBackward0>)\n"
          ]
        },
        {
          "metadata": {
            "tags": null
          },
          "name": "stderr",
          "output_type": "stream",
          "text": [
            "`use_cache=True` is incompatible with gradient checkpointing. Setting `use_cache=False`...\n"
          ]
        },
        {
          "metadata": {
            "tags": null
          },
          "name": "stdout",
          "output_type": "stream",
          "text": [
            "tensor(1.6955, device='cuda:0', grad_fn=<AddBackward0>)\n"
          ]
        },
        {
          "metadata": {
            "tags": null
          },
          "name": "stderr",
          "output_type": "stream",
          "text": [
            "`use_cache=True` is incompatible with gradient checkpointing. Setting `use_cache=False`...\n"
          ]
        },
        {
          "metadata": {
            "tags": null
          },
          "name": "stdout",
          "output_type": "stream",
          "text": [
            "tensor(1.8432, device='cuda:0', grad_fn=<AddBackward0>)\n"
          ]
        },
        {
          "metadata": {
            "tags": null
          },
          "name": "stderr",
          "output_type": "stream",
          "text": [
            "`use_cache=True` is incompatible with gradient checkpointing. Setting `use_cache=False`...\n"
          ]
        },
        {
          "metadata": {
            "tags": null
          },
          "name": "stdout",
          "output_type": "stream",
          "text": [
            "tensor(1.7924, device='cuda:0', grad_fn=<AddBackward0>)\n"
          ]
        },
        {
          "metadata": {
            "tags": null
          },
          "name": "stderr",
          "output_type": "stream",
          "text": [
            "`use_cache=True` is incompatible with gradient checkpointing. Setting `use_cache=False`...\n"
          ]
        },
        {
          "metadata": {
            "tags": null
          },
          "name": "stdout",
          "output_type": "stream",
          "text": [
            "tensor(1.7120, device='cuda:0', grad_fn=<AddBackward0>)\n"
          ]
        },
        {
          "metadata": {
            "tags": null
          },
          "name": "stderr",
          "output_type": "stream",
          "text": [
            "`use_cache=True` is incompatible with gradient checkpointing. Setting `use_cache=False`...\n"
          ]
        },
        {
          "metadata": {
            "tags": null
          },
          "name": "stdout",
          "output_type": "stream",
          "text": [
            "tensor(1.8859, device='cuda:0', grad_fn=<AddBackward0>)\n"
          ]
        },
        {
          "metadata": {
            "tags": null
          },
          "name": "stderr",
          "output_type": "stream",
          "text": [
            "`use_cache=True` is incompatible with gradient checkpointing. Setting `use_cache=False`...\n"
          ]
        },
        {
          "metadata": {
            "tags": null
          },
          "name": "stdout",
          "output_type": "stream",
          "text": [
            "tensor(1.8999, device='cuda:0', grad_fn=<AddBackward0>)\n"
          ]
        },
        {
          "metadata": {
            "tags": null
          },
          "name": "stderr",
          "output_type": "stream",
          "text": [
            "`use_cache=True` is incompatible with gradient checkpointing. Setting `use_cache=False`...\n"
          ]
        },
        {
          "metadata": {
            "tags": null
          },
          "name": "stdout",
          "output_type": "stream",
          "text": [
            "tensor(1.8726, device='cuda:0', grad_fn=<AddBackward0>)\n"
          ]
        },
        {
          "metadata": {
            "tags": null
          },
          "name": "stderr",
          "output_type": "stream",
          "text": [
            "`use_cache=True` is incompatible with gradient checkpointing. Setting `use_cache=False`...\n"
          ]
        },
        {
          "metadata": {
            "tags": null
          },
          "name": "stdout",
          "output_type": "stream",
          "text": [
            "tensor(1.8130, device='cuda:0', grad_fn=<AddBackward0>)\n"
          ]
        },
        {
          "metadata": {
            "tags": null
          },
          "name": "stderr",
          "output_type": "stream",
          "text": [
            "`use_cache=True` is incompatible with gradient checkpointing. Setting `use_cache=False`...\n"
          ]
        },
        {
          "metadata": {
            "tags": null
          },
          "name": "stdout",
          "output_type": "stream",
          "text": [
            "tensor(1.7898, device='cuda:0', grad_fn=<AddBackward0>)\n"
          ]
        },
        {
          "metadata": {
            "tags": null
          },
          "name": "stderr",
          "output_type": "stream",
          "text": [
            "`use_cache=True` is incompatible with gradient checkpointing. Setting `use_cache=False`...\n"
          ]
        },
        {
          "metadata": {
            "tags": null
          },
          "name": "stdout",
          "output_type": "stream",
          "text": [
            "tensor(1.7144, device='cuda:0', grad_fn=<AddBackward0>)\n"
          ]
        },
        {
          "metadata": {
            "tags": null
          },
          "name": "stderr",
          "output_type": "stream",
          "text": [
            "`use_cache=True` is incompatible with gradient checkpointing. Setting `use_cache=False`...\n"
          ]
        },
        {
          "metadata": {
            "tags": null
          },
          "name": "stdout",
          "output_type": "stream",
          "text": [
            "tensor(1.7017, device='cuda:0', grad_fn=<AddBackward0>)\n"
          ]
        },
        {
          "metadata": {
            "tags": null
          },
          "name": "stderr",
          "output_type": "stream",
          "text": [
            "`use_cache=True` is incompatible with gradient checkpointing. Setting `use_cache=False`...\n"
          ]
        },
        {
          "metadata": {
            "tags": null
          },
          "name": "stdout",
          "output_type": "stream",
          "text": [
            "tensor(1.6984, device='cuda:0', grad_fn=<AddBackward0>)\n"
          ]
        },
        {
          "metadata": {
            "tags": null
          },
          "name": "stderr",
          "output_type": "stream",
          "text": [
            "`use_cache=True` is incompatible with gradient checkpointing. Setting `use_cache=False`...\n"
          ]
        },
        {
          "metadata": {
            "tags": null
          },
          "name": "stdout",
          "output_type": "stream",
          "text": [
            "tensor(1.6887, device='cuda:0', grad_fn=<AddBackward0>)\n"
          ]
        },
        {
          "metadata": {
            "tags": null
          },
          "name": "stderr",
          "output_type": "stream",
          "text": [
            "`use_cache=True` is incompatible with gradient checkpointing. Setting `use_cache=False`...\n"
          ]
        },
        {
          "metadata": {
            "tags": null
          },
          "name": "stdout",
          "output_type": "stream",
          "text": [
            "tensor(1.7786, device='cuda:0', grad_fn=<AddBackward0>)\n"
          ]
        },
        {
          "metadata": {
            "tags": null
          },
          "name": "stderr",
          "output_type": "stream",
          "text": [
            "`use_cache=True` is incompatible with gradient checkpointing. Setting `use_cache=False`...\n"
          ]
        },
        {
          "metadata": {
            "tags": null
          },
          "name": "stdout",
          "output_type": "stream",
          "text": [
            "tensor(2.4682, device='cuda:0', grad_fn=<AddBackward0>)\n"
          ]
        },
        {
          "metadata": {
            "tags": null
          },
          "name": "stderr",
          "output_type": "stream",
          "text": [
            "`use_cache=True` is incompatible with gradient checkpointing. Setting `use_cache=False`...\n"
          ]
        },
        {
          "metadata": {
            "tags": null
          },
          "name": "stdout",
          "output_type": "stream",
          "text": [
            "tensor(2.4599, device='cuda:0', grad_fn=<AddBackward0>)\n"
          ]
        },
        {
          "metadata": {
            "tags": null
          },
          "name": "stderr",
          "output_type": "stream",
          "text": [
            "`use_cache=True` is incompatible with gradient checkpointing. Setting `use_cache=False`...\n"
          ]
        },
        {
          "metadata": {
            "tags": null
          },
          "name": "stdout",
          "output_type": "stream",
          "text": [
            "tensor(2.4655, device='cuda:0', grad_fn=<AddBackward0>)\n"
          ]
        },
        {
          "metadata": {
            "tags": null
          },
          "name": "stderr",
          "output_type": "stream",
          "text": [
            "`use_cache=True` is incompatible with gradient checkpointing. Setting `use_cache=False`...\n"
          ]
        },
        {
          "metadata": {
            "tags": null
          },
          "name": "stdout",
          "output_type": "stream",
          "text": [
            "tensor(2.4749, device='cuda:0', grad_fn=<AddBackward0>)\n"
          ]
        },
        {
          "metadata": {
            "tags": null
          },
          "name": "stderr",
          "output_type": "stream",
          "text": [
            "`use_cache=True` is incompatible with gradient checkpointing. Setting `use_cache=False`...\n"
          ]
        },
        {
          "metadata": {
            "tags": null
          },
          "name": "stdout",
          "output_type": "stream",
          "text": [
            "tensor(2.4809, device='cuda:0', grad_fn=<AddBackward0>)\n"
          ]
        },
        {
          "metadata": {
            "tags": null
          },
          "name": "stderr",
          "output_type": "stream",
          "text": [
            "`use_cache=True` is incompatible with gradient checkpointing. Setting `use_cache=False`...\n"
          ]
        },
        {
          "metadata": {
            "tags": null
          },
          "name": "stdout",
          "output_type": "stream",
          "text": [
            "Epoch 13: train_loss = 1.890, train_acc = 0.935\n",
            "tensor(1.6894, device='cuda:0', grad_fn=<AddBackward0>)\n"
          ]
        },
        {
          "metadata": {
            "tags": null
          },
          "name": "stderr",
          "output_type": "stream",
          "text": [
            "`use_cache=True` is incompatible with gradient checkpointing. Setting `use_cache=False`...\n"
          ]
        },
        {
          "metadata": {
            "tags": null
          },
          "name": "stdout",
          "output_type": "stream",
          "text": [
            "tensor(1.7070, device='cuda:0', grad_fn=<AddBackward0>)\n"
          ]
        },
        {
          "metadata": {
            "tags": null
          },
          "name": "stderr",
          "output_type": "stream",
          "text": [
            "`use_cache=True` is incompatible with gradient checkpointing. Setting `use_cache=False`...\n"
          ]
        },
        {
          "metadata": {
            "tags": null
          },
          "name": "stdout",
          "output_type": "stream",
          "text": [
            "tensor(1.7617, device='cuda:0', grad_fn=<AddBackward0>)\n"
          ]
        },
        {
          "metadata": {
            "tags": null
          },
          "name": "stderr",
          "output_type": "stream",
          "text": [
            "`use_cache=True` is incompatible with gradient checkpointing. Setting `use_cache=False`...\n"
          ]
        },
        {
          "metadata": {
            "tags": null
          },
          "name": "stdout",
          "output_type": "stream",
          "text": [
            "tensor(1.7740, device='cuda:0', grad_fn=<AddBackward0>)\n"
          ]
        },
        {
          "metadata": {
            "tags": null
          },
          "name": "stderr",
          "output_type": "stream",
          "text": [
            "`use_cache=True` is incompatible with gradient checkpointing. Setting `use_cache=False`...\n"
          ]
        },
        {
          "metadata": {
            "tags": null
          },
          "name": "stdout",
          "output_type": "stream",
          "text": [
            "tensor(1.8063, device='cuda:0', grad_fn=<AddBackward0>)\n"
          ]
        },
        {
          "metadata": {
            "tags": null
          },
          "name": "stderr",
          "output_type": "stream",
          "text": [
            "`use_cache=True` is incompatible with gradient checkpointing. Setting `use_cache=False`...\n"
          ]
        },
        {
          "metadata": {
            "tags": null
          },
          "name": "stdout",
          "output_type": "stream",
          "text": [
            "tensor(1.7632, device='cuda:0', grad_fn=<AddBackward0>)\n"
          ]
        },
        {
          "metadata": {
            "tags": null
          },
          "name": "stderr",
          "output_type": "stream",
          "text": [
            "`use_cache=True` is incompatible with gradient checkpointing. Setting `use_cache=False`...\n"
          ]
        },
        {
          "metadata": {
            "tags": null
          },
          "name": "stdout",
          "output_type": "stream",
          "text": [
            "tensor(1.8212, device='cuda:0', grad_fn=<AddBackward0>)\n"
          ]
        },
        {
          "metadata": {
            "tags": null
          },
          "name": "stderr",
          "output_type": "stream",
          "text": [
            "`use_cache=True` is incompatible with gradient checkpointing. Setting `use_cache=False`...\n"
          ]
        },
        {
          "metadata": {
            "tags": null
          },
          "name": "stdout",
          "output_type": "stream",
          "text": [
            "tensor(1.8170, device='cuda:0', grad_fn=<AddBackward0>)\n"
          ]
        },
        {
          "metadata": {
            "tags": null
          },
          "name": "stderr",
          "output_type": "stream",
          "text": [
            "`use_cache=True` is incompatible with gradient checkpointing. Setting `use_cache=False`...\n"
          ]
        },
        {
          "metadata": {
            "tags": null
          },
          "name": "stdout",
          "output_type": "stream",
          "text": [
            "tensor(1.6700, device='cuda:0', grad_fn=<AddBackward0>)\n"
          ]
        },
        {
          "metadata": {
            "tags": null
          },
          "name": "stderr",
          "output_type": "stream",
          "text": [
            "`use_cache=True` is incompatible with gradient checkpointing. Setting `use_cache=False`...\n"
          ]
        },
        {
          "metadata": {
            "tags": null
          },
          "name": "stdout",
          "output_type": "stream",
          "text": [
            "tensor(1.7216, device='cuda:0', grad_fn=<AddBackward0>)\n"
          ]
        },
        {
          "metadata": {
            "tags": null
          },
          "name": "stderr",
          "output_type": "stream",
          "text": [
            "`use_cache=True` is incompatible with gradient checkpointing. Setting `use_cache=False`...\n"
          ]
        },
        {
          "metadata": {
            "tags": null
          },
          "name": "stdout",
          "output_type": "stream",
          "text": [
            "tensor(1.7696, device='cuda:0', grad_fn=<AddBackward0>)\n"
          ]
        },
        {
          "metadata": {
            "tags": null
          },
          "name": "stderr",
          "output_type": "stream",
          "text": [
            "`use_cache=True` is incompatible with gradient checkpointing. Setting `use_cache=False`...\n"
          ]
        },
        {
          "metadata": {
            "tags": null
          },
          "name": "stdout",
          "output_type": "stream",
          "text": [
            "tensor(1.7621, device='cuda:0', grad_fn=<AddBackward0>)\n"
          ]
        },
        {
          "metadata": {
            "tags": null
          },
          "name": "stderr",
          "output_type": "stream",
          "text": [
            "`use_cache=True` is incompatible with gradient checkpointing. Setting `use_cache=False`...\n"
          ]
        },
        {
          "metadata": {
            "tags": null
          },
          "name": "stdout",
          "output_type": "stream",
          "text": [
            "tensor(1.8403, device='cuda:0', grad_fn=<AddBackward0>)\n"
          ]
        },
        {
          "metadata": {
            "tags": null
          },
          "name": "stderr",
          "output_type": "stream",
          "text": [
            "`use_cache=True` is incompatible with gradient checkpointing. Setting `use_cache=False`...\n"
          ]
        },
        {
          "metadata": {
            "tags": null
          },
          "name": "stdout",
          "output_type": "stream",
          "text": [
            "tensor(1.9009, device='cuda:0', grad_fn=<AddBackward0>)\n"
          ]
        },
        {
          "metadata": {
            "tags": null
          },
          "name": "stderr",
          "output_type": "stream",
          "text": [
            "`use_cache=True` is incompatible with gradient checkpointing. Setting `use_cache=False`...\n"
          ]
        },
        {
          "metadata": {
            "tags": null
          },
          "name": "stdout",
          "output_type": "stream",
          "text": [
            "tensor(1.7421, device='cuda:0', grad_fn=<AddBackward0>)\n"
          ]
        },
        {
          "metadata": {
            "tags": null
          },
          "name": "stderr",
          "output_type": "stream",
          "text": [
            "`use_cache=True` is incompatible with gradient checkpointing. Setting `use_cache=False`...\n"
          ]
        },
        {
          "metadata": {
            "tags": null
          },
          "name": "stdout",
          "output_type": "stream",
          "text": [
            "tensor(1.6515, device='cuda:0', grad_fn=<AddBackward0>)\n"
          ]
        },
        {
          "metadata": {
            "tags": null
          },
          "name": "stderr",
          "output_type": "stream",
          "text": [
            "`use_cache=True` is incompatible with gradient checkpointing. Setting `use_cache=False`...\n"
          ]
        },
        {
          "metadata": {
            "tags": null
          },
          "name": "stdout",
          "output_type": "stream",
          "text": [
            "tensor(1.8011, device='cuda:0', grad_fn=<AddBackward0>)\n"
          ]
        },
        {
          "metadata": {
            "tags": null
          },
          "name": "stderr",
          "output_type": "stream",
          "text": [
            "`use_cache=True` is incompatible with gradient checkpointing. Setting `use_cache=False`...\n"
          ]
        },
        {
          "metadata": {
            "tags": null
          },
          "name": "stdout",
          "output_type": "stream",
          "text": [
            "tensor(1.7508, device='cuda:0', grad_fn=<AddBackward0>)\n"
          ]
        },
        {
          "metadata": {
            "tags": null
          },
          "name": "stderr",
          "output_type": "stream",
          "text": [
            "`use_cache=True` is incompatible with gradient checkpointing. Setting `use_cache=False`...\n"
          ]
        },
        {
          "metadata": {
            "tags": null
          },
          "name": "stdout",
          "output_type": "stream",
          "text": [
            "tensor(1.6707, device='cuda:0', grad_fn=<AddBackward0>)\n"
          ]
        },
        {
          "metadata": {
            "tags": null
          },
          "name": "stderr",
          "output_type": "stream",
          "text": [
            "`use_cache=True` is incompatible with gradient checkpointing. Setting `use_cache=False`...\n"
          ]
        },
        {
          "metadata": {
            "tags": null
          },
          "name": "stdout",
          "output_type": "stream",
          "text": [
            "tensor(1.8477, device='cuda:0', grad_fn=<AddBackward0>)\n"
          ]
        },
        {
          "metadata": {
            "tags": null
          },
          "name": "stderr",
          "output_type": "stream",
          "text": [
            "`use_cache=True` is incompatible with gradient checkpointing. Setting `use_cache=False`...\n"
          ]
        },
        {
          "metadata": {
            "tags": null
          },
          "name": "stdout",
          "output_type": "stream",
          "text": [
            "tensor(1.8565, device='cuda:0', grad_fn=<AddBackward0>)\n"
          ]
        },
        {
          "metadata": {
            "tags": null
          },
          "name": "stderr",
          "output_type": "stream",
          "text": [
            "`use_cache=True` is incompatible with gradient checkpointing. Setting `use_cache=False`...\n"
          ]
        },
        {
          "metadata": {
            "tags": null
          },
          "name": "stdout",
          "output_type": "stream",
          "text": [
            "tensor(1.8324, device='cuda:0', grad_fn=<AddBackward0>)\n"
          ]
        },
        {
          "metadata": {
            "tags": null
          },
          "name": "stderr",
          "output_type": "stream",
          "text": [
            "`use_cache=True` is incompatible with gradient checkpointing. Setting `use_cache=False`...\n"
          ]
        },
        {
          "metadata": {
            "tags": null
          },
          "name": "stdout",
          "output_type": "stream",
          "text": [
            "tensor(1.7715, device='cuda:0', grad_fn=<AddBackward0>)\n"
          ]
        },
        {
          "metadata": {
            "tags": null
          },
          "name": "stderr",
          "output_type": "stream",
          "text": [
            "`use_cache=True` is incompatible with gradient checkpointing. Setting `use_cache=False`...\n"
          ]
        },
        {
          "metadata": {
            "tags": null
          },
          "name": "stdout",
          "output_type": "stream",
          "text": [
            "tensor(1.7452, device='cuda:0', grad_fn=<AddBackward0>)\n"
          ]
        },
        {
          "metadata": {
            "tags": null
          },
          "name": "stderr",
          "output_type": "stream",
          "text": [
            "`use_cache=True` is incompatible with gradient checkpointing. Setting `use_cache=False`...\n"
          ]
        },
        {
          "metadata": {
            "tags": null
          },
          "name": "stdout",
          "output_type": "stream",
          "text": [
            "tensor(1.6753, device='cuda:0', grad_fn=<AddBackward0>)\n"
          ]
        },
        {
          "metadata": {
            "tags": null
          },
          "name": "stderr",
          "output_type": "stream",
          "text": [
            "`use_cache=True` is incompatible with gradient checkpointing. Setting `use_cache=False`...\n"
          ]
        },
        {
          "metadata": {
            "tags": null
          },
          "name": "stdout",
          "output_type": "stream",
          "text": [
            "tensor(1.6634, device='cuda:0', grad_fn=<AddBackward0>)\n"
          ]
        },
        {
          "metadata": {
            "tags": null
          },
          "name": "stderr",
          "output_type": "stream",
          "text": [
            "`use_cache=True` is incompatible with gradient checkpointing. Setting `use_cache=False`...\n"
          ]
        },
        {
          "metadata": {
            "tags": null
          },
          "name": "stdout",
          "output_type": "stream",
          "text": [
            "tensor(1.6600, device='cuda:0', grad_fn=<AddBackward0>)\n"
          ]
        },
        {
          "metadata": {
            "tags": null
          },
          "name": "stderr",
          "output_type": "stream",
          "text": [
            "`use_cache=True` is incompatible with gradient checkpointing. Setting `use_cache=False`...\n"
          ]
        },
        {
          "output_type": "stream",
          "name": "stdout",
          "text": [
            "tensor(1.6534, device='cuda:0', grad_fn=<AddBackward0>)\n"
          ]
        },
        {
          "output_type": "stream",
          "name": "stderr",
          "text": [
            "`use_cache=True` is incompatible with gradient checkpointing. Setting `use_cache=False`...\n"
          ]
        },
        {
          "output_type": "stream",
          "name": "stdout",
          "text": [
            "tensor(1.7414, device='cuda:0', grad_fn=<AddBackward0>)\n"
          ]
        },
        {
          "output_type": "stream",
          "name": "stderr",
          "text": [
            "`use_cache=True` is incompatible with gradient checkpointing. Setting `use_cache=False`...\n"
          ]
        },
        {
          "output_type": "stream",
          "name": "stdout",
          "text": [
            "tensor(2.4025, device='cuda:0', grad_fn=<AddBackward0>)\n"
          ]
        },
        {
          "output_type": "stream",
          "name": "stderr",
          "text": [
            "`use_cache=True` is incompatible with gradient checkpointing. Setting `use_cache=False`...\n"
          ]
        },
        {
          "output_type": "stream",
          "name": "stdout",
          "text": [
            "tensor(2.3950, device='cuda:0', grad_fn=<AddBackward0>)\n"
          ]
        },
        {
          "output_type": "stream",
          "name": "stderr",
          "text": [
            "`use_cache=True` is incompatible with gradient checkpointing. Setting `use_cache=False`...\n"
          ]
        },
        {
          "output_type": "stream",
          "name": "stdout",
          "text": [
            "tensor(2.3980, device='cuda:0', grad_fn=<AddBackward0>)\n"
          ]
        },
        {
          "output_type": "stream",
          "name": "stderr",
          "text": [
            "`use_cache=True` is incompatible with gradient checkpointing. Setting `use_cache=False`...\n"
          ]
        },
        {
          "output_type": "stream",
          "name": "stdout",
          "text": [
            "tensor(2.4080, device='cuda:0', grad_fn=<AddBackward0>)\n"
          ]
        },
        {
          "output_type": "stream",
          "name": "stderr",
          "text": [
            "`use_cache=True` is incompatible with gradient checkpointing. Setting `use_cache=False`...\n"
          ]
        },
        {
          "output_type": "stream",
          "name": "stdout",
          "text": [
            "tensor(2.4084, device='cuda:0', grad_fn=<AddBackward0>)\n"
          ]
        },
        {
          "output_type": "stream",
          "name": "stderr",
          "text": [
            "`use_cache=True` is incompatible with gradient checkpointing. Setting `use_cache=False`...\n"
          ]
        },
        {
          "output_type": "stream",
          "name": "stdout",
          "text": [
            "Epoch 14: train_loss = 1.849, train_acc = 0.939\n",
            "tensor(1.6637, device='cuda:0', grad_fn=<AddBackward0>)\n"
          ]
        },
        {
          "output_type": "stream",
          "name": "stderr",
          "text": [
            "`use_cache=True` is incompatible with gradient checkpointing. Setting `use_cache=False`...\n"
          ]
        },
        {
          "output_type": "stream",
          "name": "stdout",
          "text": [
            "tensor(1.6783, device='cuda:0', grad_fn=<AddBackward0>)\n"
          ]
        },
        {
          "output_type": "stream",
          "name": "stderr",
          "text": [
            "`use_cache=True` is incompatible with gradient checkpointing. Setting `use_cache=False`...\n"
          ]
        },
        {
          "output_type": "stream",
          "name": "stdout",
          "text": [
            "tensor(1.7361, device='cuda:0', grad_fn=<AddBackward0>)\n"
          ]
        },
        {
          "output_type": "stream",
          "name": "stderr",
          "text": [
            "`use_cache=True` is incompatible with gradient checkpointing. Setting `use_cache=False`...\n"
          ]
        },
        {
          "output_type": "stream",
          "name": "stdout",
          "text": [
            "tensor(1.7474, device='cuda:0', grad_fn=<AddBackward0>)\n"
          ]
        },
        {
          "output_type": "stream",
          "name": "stderr",
          "text": [
            "`use_cache=True` is incompatible with gradient checkpointing. Setting `use_cache=False`...\n"
          ]
        },
        {
          "output_type": "stream",
          "name": "stdout",
          "text": [
            "tensor(1.7841, device='cuda:0', grad_fn=<AddBackward0>)\n"
          ]
        },
        {
          "output_type": "stream",
          "name": "stderr",
          "text": [
            "`use_cache=True` is incompatible with gradient checkpointing. Setting `use_cache=False`...\n"
          ]
        },
        {
          "output_type": "stream",
          "name": "stdout",
          "text": [
            "tensor(1.7389, device='cuda:0', grad_fn=<AddBackward0>)\n"
          ]
        },
        {
          "output_type": "stream",
          "name": "stderr",
          "text": [
            "`use_cache=True` is incompatible with gradient checkpointing. Setting `use_cache=False`...\n"
          ]
        },
        {
          "output_type": "stream",
          "name": "stdout",
          "text": [
            "tensor(1.7991, device='cuda:0', grad_fn=<AddBackward0>)\n"
          ]
        },
        {
          "output_type": "stream",
          "name": "stderr",
          "text": [
            "`use_cache=True` is incompatible with gradient checkpointing. Setting `use_cache=False`...\n"
          ]
        },
        {
          "output_type": "stream",
          "name": "stdout",
          "text": [
            "tensor(1.7989, device='cuda:0', grad_fn=<AddBackward0>)\n"
          ]
        },
        {
          "output_type": "stream",
          "name": "stderr",
          "text": [
            "`use_cache=True` is incompatible with gradient checkpointing. Setting `use_cache=False`...\n"
          ]
        },
        {
          "output_type": "stream",
          "name": "stdout",
          "text": [
            "tensor(1.6455, device='cuda:0', grad_fn=<AddBackward0>)\n"
          ]
        },
        {
          "output_type": "stream",
          "name": "stderr",
          "text": [
            "`use_cache=True` is incompatible with gradient checkpointing. Setting `use_cache=False`...\n"
          ]
        },
        {
          "output_type": "stream",
          "name": "stdout",
          "text": [
            "tensor(1.6969, device='cuda:0', grad_fn=<AddBackward0>)\n"
          ]
        },
        {
          "output_type": "stream",
          "name": "stderr",
          "text": [
            "`use_cache=True` is incompatible with gradient checkpointing. Setting `use_cache=False`...\n"
          ]
        },
        {
          "output_type": "stream",
          "name": "stdout",
          "text": [
            "tensor(1.7433, device='cuda:0', grad_fn=<AddBackward0>)\n"
          ]
        },
        {
          "output_type": "stream",
          "name": "stderr",
          "text": [
            "`use_cache=True` is incompatible with gradient checkpointing. Setting `use_cache=False`...\n"
          ]
        },
        {
          "output_type": "stream",
          "name": "stdout",
          "text": [
            "tensor(1.7437, device='cuda:0', grad_fn=<AddBackward0>)\n"
          ]
        },
        {
          "output_type": "stream",
          "name": "stderr",
          "text": [
            "`use_cache=True` is incompatible with gradient checkpointing. Setting `use_cache=False`...\n"
          ]
        },
        {
          "output_type": "stream",
          "name": "stdout",
          "text": [
            "tensor(1.8115, device='cuda:0', grad_fn=<AddBackward0>)\n"
          ]
        },
        {
          "output_type": "stream",
          "name": "stderr",
          "text": [
            "`use_cache=True` is incompatible with gradient checkpointing. Setting `use_cache=False`...\n"
          ]
        },
        {
          "output_type": "stream",
          "name": "stdout",
          "text": [
            "tensor(1.8569, device='cuda:0', grad_fn=<AddBackward0>)\n"
          ]
        },
        {
          "output_type": "stream",
          "name": "stderr",
          "text": [
            "`use_cache=True` is incompatible with gradient checkpointing. Setting `use_cache=False`...\n"
          ]
        },
        {
          "output_type": "stream",
          "name": "stdout",
          "text": [
            "tensor(1.7122, device='cuda:0', grad_fn=<AddBackward0>)\n"
          ]
        },
        {
          "output_type": "stream",
          "name": "stderr",
          "text": [
            "`use_cache=True` is incompatible with gradient checkpointing. Setting `use_cache=False`...\n"
          ]
        },
        {
          "output_type": "stream",
          "name": "stdout",
          "text": [
            "tensor(1.6239, device='cuda:0', grad_fn=<AddBackward0>)\n"
          ]
        },
        {
          "output_type": "stream",
          "name": "stderr",
          "text": [
            "`use_cache=True` is incompatible with gradient checkpointing. Setting `use_cache=False`...\n"
          ]
        },
        {
          "output_type": "stream",
          "name": "stdout",
          "text": [
            "tensor(1.7694, device='cuda:0', grad_fn=<AddBackward0>)\n"
          ]
        },
        {
          "output_type": "stream",
          "name": "stderr",
          "text": [
            "`use_cache=True` is incompatible with gradient checkpointing. Setting `use_cache=False`...\n"
          ]
        },
        {
          "output_type": "stream",
          "name": "stdout",
          "text": [
            "tensor(1.7209, device='cuda:0', grad_fn=<AddBackward0>)\n"
          ]
        },
        {
          "output_type": "stream",
          "name": "stderr",
          "text": [
            "`use_cache=True` is incompatible with gradient checkpointing. Setting `use_cache=False`...\n"
          ]
        },
        {
          "output_type": "stream",
          "name": "stdout",
          "text": [
            "tensor(1.6430, device='cuda:0', grad_fn=<AddBackward0>)\n"
          ]
        },
        {
          "output_type": "stream",
          "name": "stderr",
          "text": [
            "`use_cache=True` is incompatible with gradient checkpointing. Setting `use_cache=False`...\n"
          ]
        },
        {
          "output_type": "stream",
          "name": "stdout",
          "text": [
            "tensor(1.8092, device='cuda:0', grad_fn=<AddBackward0>)\n"
          ]
        },
        {
          "output_type": "stream",
          "name": "stderr",
          "text": [
            "`use_cache=True` is incompatible with gradient checkpointing. Setting `use_cache=False`...\n"
          ]
        },
        {
          "output_type": "stream",
          "name": "stdout",
          "text": [
            "tensor(1.8226, device='cuda:0', grad_fn=<AddBackward0>)\n"
          ]
        },
        {
          "output_type": "stream",
          "name": "stderr",
          "text": [
            "`use_cache=True` is incompatible with gradient checkpointing. Setting `use_cache=False`...\n"
          ]
        },
        {
          "output_type": "stream",
          "name": "stdout",
          "text": [
            "tensor(1.8051, device='cuda:0', grad_fn=<AddBackward0>)\n"
          ]
        },
        {
          "output_type": "stream",
          "name": "stderr",
          "text": [
            "`use_cache=True` is incompatible with gradient checkpointing. Setting `use_cache=False`...\n"
          ]
        },
        {
          "output_type": "stream",
          "name": "stdout",
          "text": [
            "tensor(1.7432, device='cuda:0', grad_fn=<AddBackward0>)\n",
            "500\n"
          ]
        },
        {
          "output_type": "stream",
          "name": "stderr",
          "text": [
            "`use_cache=True` is incompatible with gradient checkpointing. Setting `use_cache=False`...\n"
          ]
        },
        {
          "output_type": "stream",
          "name": "stdout",
          "text": [
            "tensor(1.7201, device='cuda:0', grad_fn=<AddBackward0>)\n"
          ]
        },
        {
          "output_type": "stream",
          "name": "stderr",
          "text": [
            "`use_cache=True` is incompatible with gradient checkpointing. Setting `use_cache=False`...\n"
          ]
        },
        {
          "output_type": "stream",
          "name": "stdout",
          "text": [
            "tensor(1.6517, device='cuda:0', grad_fn=<AddBackward0>)\n"
          ]
        },
        {
          "output_type": "stream",
          "name": "stderr",
          "text": [
            "`use_cache=True` is incompatible with gradient checkpointing. Setting `use_cache=False`...\n"
          ]
        },
        {
          "output_type": "stream",
          "name": "stdout",
          "text": [
            "tensor(1.6382, device='cuda:0', grad_fn=<AddBackward0>)\n"
          ]
        },
        {
          "output_type": "stream",
          "name": "stderr",
          "text": [
            "`use_cache=True` is incompatible with gradient checkpointing. Setting `use_cache=False`...\n"
          ]
        },
        {
          "output_type": "stream",
          "name": "stdout",
          "text": [
            "tensor(1.6353, device='cuda:0', grad_fn=<AddBackward0>)\n"
          ]
        },
        {
          "output_type": "stream",
          "name": "stderr",
          "text": [
            "`use_cache=True` is incompatible with gradient checkpointing. Setting `use_cache=False`...\n"
          ]
        },
        {
          "output_type": "stream",
          "name": "stdout",
          "text": [
            "tensor(1.6299, device='cuda:0', grad_fn=<AddBackward0>)\n"
          ]
        },
        {
          "output_type": "stream",
          "name": "stderr",
          "text": [
            "`use_cache=True` is incompatible with gradient checkpointing. Setting `use_cache=False`...\n"
          ]
        },
        {
          "output_type": "stream",
          "name": "stdout",
          "text": [
            "tensor(1.7134, device='cuda:0', grad_fn=<AddBackward0>)\n"
          ]
        },
        {
          "output_type": "stream",
          "name": "stderr",
          "text": [
            "`use_cache=True` is incompatible with gradient checkpointing. Setting `use_cache=False`...\n"
          ]
        },
        {
          "output_type": "stream",
          "name": "stdout",
          "text": [
            "tensor(2.3487, device='cuda:0', grad_fn=<AddBackward0>)\n"
          ]
        },
        {
          "output_type": "stream",
          "name": "stderr",
          "text": [
            "`use_cache=True` is incompatible with gradient checkpointing. Setting `use_cache=False`...\n"
          ]
        },
        {
          "output_type": "stream",
          "name": "stdout",
          "text": [
            "tensor(2.3438, device='cuda:0', grad_fn=<AddBackward0>)\n"
          ]
        },
        {
          "output_type": "stream",
          "name": "stderr",
          "text": [
            "`use_cache=True` is incompatible with gradient checkpointing. Setting `use_cache=False`...\n"
          ]
        },
        {
          "output_type": "stream",
          "name": "stdout",
          "text": [
            "tensor(2.3439, device='cuda:0', grad_fn=<AddBackward0>)\n"
          ]
        },
        {
          "output_type": "stream",
          "name": "stderr",
          "text": [
            "`use_cache=True` is incompatible with gradient checkpointing. Setting `use_cache=False`...\n"
          ]
        },
        {
          "output_type": "stream",
          "name": "stdout",
          "text": [
            "tensor(2.3562, device='cuda:0', grad_fn=<AddBackward0>)\n"
          ]
        },
        {
          "output_type": "stream",
          "name": "stderr",
          "text": [
            "`use_cache=True` is incompatible with gradient checkpointing. Setting `use_cache=False`...\n"
          ]
        },
        {
          "output_type": "stream",
          "name": "stdout",
          "text": [
            "tensor(2.3545, device='cuda:0', grad_fn=<AddBackward0>)\n"
          ]
        },
        {
          "output_type": "stream",
          "name": "stderr",
          "text": [
            "`use_cache=True` is incompatible with gradient checkpointing. Setting `use_cache=False`...\n"
          ]
        },
        {
          "output_type": "stream",
          "name": "stdout",
          "text": [
            "Epoch 15: train_loss = 1.819, train_acc = 0.942\n",
            "tensor(1.6469, device='cuda:0', grad_fn=<AddBackward0>)\n"
          ]
        },
        {
          "output_type": "stream",
          "name": "stderr",
          "text": [
            "`use_cache=True` is incompatible with gradient checkpointing. Setting `use_cache=False`...\n"
          ]
        },
        {
          "output_type": "stream",
          "name": "stdout",
          "text": [
            "tensor(1.6621, device='cuda:0', grad_fn=<AddBackward0>)\n"
          ]
        },
        {
          "output_type": "stream",
          "name": "stderr",
          "text": [
            "`use_cache=True` is incompatible with gradient checkpointing. Setting `use_cache=False`...\n"
          ]
        },
        {
          "output_type": "stream",
          "name": "stdout",
          "text": [
            "tensor(1.7190, device='cuda:0', grad_fn=<AddBackward0>)\n"
          ]
        },
        {
          "output_type": "stream",
          "name": "stderr",
          "text": [
            "`use_cache=True` is incompatible with gradient checkpointing. Setting `use_cache=False`...\n"
          ]
        },
        {
          "output_type": "stream",
          "name": "stdout",
          "text": [
            "tensor(1.7349, device='cuda:0', grad_fn=<AddBackward0>)\n"
          ]
        },
        {
          "output_type": "stream",
          "name": "stderr",
          "text": [
            "`use_cache=True` is incompatible with gradient checkpointing. Setting `use_cache=False`...\n"
          ]
        },
        {
          "output_type": "stream",
          "name": "stdout",
          "text": [
            "tensor(1.7665, device='cuda:0', grad_fn=<AddBackward0>)\n"
          ]
        },
        {
          "output_type": "stream",
          "name": "stderr",
          "text": [
            "`use_cache=True` is incompatible with gradient checkpointing. Setting `use_cache=False`...\n"
          ]
        },
        {
          "output_type": "stream",
          "name": "stdout",
          "text": [
            "tensor(1.7223, device='cuda:0', grad_fn=<AddBackward0>)\n"
          ]
        },
        {
          "output_type": "stream",
          "name": "stderr",
          "text": [
            "`use_cache=True` is incompatible with gradient checkpointing. Setting `use_cache=False`...\n"
          ]
        },
        {
          "output_type": "stream",
          "name": "stdout",
          "text": [
            "tensor(1.7864, device='cuda:0', grad_fn=<AddBackward0>)\n"
          ]
        },
        {
          "output_type": "stream",
          "name": "stderr",
          "text": [
            "`use_cache=True` is incompatible with gradient checkpointing. Setting `use_cache=False`...\n"
          ]
        },
        {
          "output_type": "stream",
          "name": "stdout",
          "text": [
            "tensor(1.7822, device='cuda:0', grad_fn=<AddBackward0>)\n"
          ]
        },
        {
          "output_type": "stream",
          "name": "stderr",
          "text": [
            "`use_cache=True` is incompatible with gradient checkpointing. Setting `use_cache=False`...\n"
          ]
        },
        {
          "output_type": "stream",
          "name": "stdout",
          "text": [
            "tensor(1.6289, device='cuda:0', grad_fn=<AddBackward0>)\n"
          ]
        },
        {
          "output_type": "stream",
          "name": "stderr",
          "text": [
            "`use_cache=True` is incompatible with gradient checkpointing. Setting `use_cache=False`...\n"
          ]
        },
        {
          "output_type": "stream",
          "name": "stdout",
          "text": [
            "tensor(1.6812, device='cuda:0', grad_fn=<AddBackward0>)\n"
          ]
        },
        {
          "output_type": "stream",
          "name": "stderr",
          "text": [
            "`use_cache=True` is incompatible with gradient checkpointing. Setting `use_cache=False`...\n"
          ]
        },
        {
          "output_type": "stream",
          "name": "stdout",
          "text": [
            "tensor(1.7264, device='cuda:0', grad_fn=<AddBackward0>)\n"
          ]
        },
        {
          "output_type": "stream",
          "name": "stderr",
          "text": [
            "`use_cache=True` is incompatible with gradient checkpointing. Setting `use_cache=False`...\n"
          ]
        },
        {
          "output_type": "stream",
          "name": "stdout",
          "text": [
            "tensor(1.7194, device='cuda:0', grad_fn=<AddBackward0>)\n"
          ]
        },
        {
          "output_type": "stream",
          "name": "stderr",
          "text": [
            "`use_cache=True` is incompatible with gradient checkpointing. Setting `use_cache=False`...\n"
          ]
        },
        {
          "output_type": "stream",
          "name": "stdout",
          "text": [
            "tensor(1.7925, device='cuda:0', grad_fn=<AddBackward0>)\n"
          ]
        },
        {
          "output_type": "stream",
          "name": "stderr",
          "text": [
            "`use_cache=True` is incompatible with gradient checkpointing. Setting `use_cache=False`...\n"
          ]
        },
        {
          "output_type": "stream",
          "name": "stdout",
          "text": [
            "tensor(1.8326, device='cuda:0', grad_fn=<AddBackward0>)\n"
          ]
        },
        {
          "output_type": "stream",
          "name": "stderr",
          "text": [
            "`use_cache=True` is incompatible with gradient checkpointing. Setting `use_cache=False`...\n"
          ]
        },
        {
          "output_type": "stream",
          "name": "stdout",
          "text": [
            "tensor(1.6897, device='cuda:0', grad_fn=<AddBackward0>)\n"
          ]
        },
        {
          "output_type": "stream",
          "name": "stderr",
          "text": [
            "`use_cache=True` is incompatible with gradient checkpointing. Setting `use_cache=False`...\n"
          ]
        },
        {
          "output_type": "stream",
          "name": "stdout",
          "text": [
            "tensor(1.6069, device='cuda:0', grad_fn=<AddBackward0>)\n"
          ]
        },
        {
          "output_type": "stream",
          "name": "stderr",
          "text": [
            "`use_cache=True` is incompatible with gradient checkpointing. Setting `use_cache=False`...\n"
          ]
        },
        {
          "output_type": "stream",
          "name": "stdout",
          "text": [
            "tensor(1.7493, device='cuda:0', grad_fn=<AddBackward0>)\n"
          ]
        },
        {
          "output_type": "stream",
          "name": "stderr",
          "text": [
            "`use_cache=True` is incompatible with gradient checkpointing. Setting `use_cache=False`...\n"
          ]
        },
        {
          "output_type": "stream",
          "name": "stdout",
          "text": [
            "tensor(1.6991, device='cuda:0', grad_fn=<AddBackward0>)\n"
          ]
        },
        {
          "output_type": "stream",
          "name": "stderr",
          "text": [
            "`use_cache=True` is incompatible with gradient checkpointing. Setting `use_cache=False`...\n"
          ]
        },
        {
          "output_type": "stream",
          "name": "stdout",
          "text": [
            "tensor(1.6241, device='cuda:0', grad_fn=<AddBackward0>)\n"
          ]
        },
        {
          "output_type": "stream",
          "name": "stderr",
          "text": [
            "`use_cache=True` is incompatible with gradient checkpointing. Setting `use_cache=False`...\n"
          ]
        },
        {
          "output_type": "stream",
          "name": "stdout",
          "text": [
            "tensor(1.7840, device='cuda:0', grad_fn=<AddBackward0>)\n"
          ]
        },
        {
          "output_type": "stream",
          "name": "stderr",
          "text": [
            "`use_cache=True` is incompatible with gradient checkpointing. Setting `use_cache=False`...\n"
          ]
        },
        {
          "output_type": "stream",
          "name": "stdout",
          "text": [
            "tensor(1.8000, device='cuda:0', grad_fn=<AddBackward0>)\n"
          ]
        },
        {
          "output_type": "stream",
          "name": "stderr",
          "text": [
            "`use_cache=True` is incompatible with gradient checkpointing. Setting `use_cache=False`...\n"
          ]
        },
        {
          "output_type": "stream",
          "name": "stdout",
          "text": [
            "tensor(1.7817, device='cuda:0', grad_fn=<AddBackward0>)\n"
          ]
        },
        {
          "output_type": "stream",
          "name": "stderr",
          "text": [
            "`use_cache=True` is incompatible with gradient checkpointing. Setting `use_cache=False`...\n"
          ]
        },
        {
          "output_type": "stream",
          "name": "stdout",
          "text": [
            "tensor(1.7227, device='cuda:0', grad_fn=<AddBackward0>)\n"
          ]
        },
        {
          "output_type": "stream",
          "name": "stderr",
          "text": [
            "`use_cache=True` is incompatible with gradient checkpointing. Setting `use_cache=False`...\n"
          ]
        },
        {
          "output_type": "stream",
          "name": "stdout",
          "text": [
            "tensor(1.6995, device='cuda:0', grad_fn=<AddBackward0>)\n"
          ]
        },
        {
          "output_type": "stream",
          "name": "stderr",
          "text": [
            "`use_cache=True` is incompatible with gradient checkpointing. Setting `use_cache=False`...\n"
          ]
        },
        {
          "output_type": "stream",
          "name": "stdout",
          "text": [
            "tensor(1.6348, device='cuda:0', grad_fn=<AddBackward0>)\n"
          ]
        },
        {
          "output_type": "stream",
          "name": "stderr",
          "text": [
            "`use_cache=True` is incompatible with gradient checkpointing. Setting `use_cache=False`...\n"
          ]
        },
        {
          "output_type": "stream",
          "name": "stdout",
          "text": [
            "tensor(1.6215, device='cuda:0', grad_fn=<AddBackward0>)\n"
          ]
        },
        {
          "output_type": "stream",
          "name": "stderr",
          "text": [
            "`use_cache=True` is incompatible with gradient checkpointing. Setting `use_cache=False`...\n"
          ]
        },
        {
          "output_type": "stream",
          "name": "stdout",
          "text": [
            "tensor(1.6191, device='cuda:0', grad_fn=<AddBackward0>)\n"
          ]
        },
        {
          "output_type": "stream",
          "name": "stderr",
          "text": [
            "`use_cache=True` is incompatible with gradient checkpointing. Setting `use_cache=False`...\n"
          ]
        },
        {
          "output_type": "stream",
          "name": "stdout",
          "text": [
            "tensor(1.6139, device='cuda:0', grad_fn=<AddBackward0>)\n"
          ]
        },
        {
          "output_type": "stream",
          "name": "stderr",
          "text": [
            "`use_cache=True` is incompatible with gradient checkpointing. Setting `use_cache=False`...\n"
          ]
        },
        {
          "output_type": "stream",
          "name": "stdout",
          "text": [
            "tensor(1.6958, device='cuda:0', grad_fn=<AddBackward0>)\n"
          ]
        },
        {
          "output_type": "stream",
          "name": "stderr",
          "text": [
            "`use_cache=True` is incompatible with gradient checkpointing. Setting `use_cache=False`...\n"
          ]
        },
        {
          "output_type": "stream",
          "name": "stdout",
          "text": [
            "tensor(2.3097, device='cuda:0', grad_fn=<AddBackward0>)\n"
          ]
        },
        {
          "output_type": "stream",
          "name": "stderr",
          "text": [
            "`use_cache=True` is incompatible with gradient checkpointing. Setting `use_cache=False`...\n"
          ]
        },
        {
          "output_type": "stream",
          "name": "stdout",
          "text": [
            "tensor(2.3062, device='cuda:0', grad_fn=<AddBackward0>)\n"
          ]
        },
        {
          "output_type": "stream",
          "name": "stderr",
          "text": [
            "`use_cache=True` is incompatible with gradient checkpointing. Setting `use_cache=False`...\n"
          ]
        },
        {
          "output_type": "stream",
          "name": "stdout",
          "text": [
            "tensor(2.3063, device='cuda:0', grad_fn=<AddBackward0>)\n"
          ]
        },
        {
          "output_type": "stream",
          "name": "stderr",
          "text": [
            "`use_cache=True` is incompatible with gradient checkpointing. Setting `use_cache=False`...\n"
          ]
        },
        {
          "output_type": "stream",
          "name": "stdout",
          "text": [
            "tensor(2.3148, device='cuda:0', grad_fn=<AddBackward0>)\n"
          ]
        },
        {
          "output_type": "stream",
          "name": "stderr",
          "text": [
            "`use_cache=True` is incompatible with gradient checkpointing. Setting `use_cache=False`...\n"
          ]
        },
        {
          "output_type": "stream",
          "name": "stdout",
          "text": [
            "tensor(2.3118, device='cuda:0', grad_fn=<AddBackward0>)\n"
          ]
        },
        {
          "output_type": "stream",
          "name": "stderr",
          "text": [
            "`use_cache=True` is incompatible with gradient checkpointing. Setting `use_cache=False`...\n"
          ]
        },
        {
          "output_type": "stream",
          "name": "stdout",
          "text": [
            "Epoch 16: train_loss = 1.797, train_acc = 0.945\n",
            "tensor(1.6304, device='cuda:0', grad_fn=<AddBackward0>)\n"
          ]
        },
        {
          "output_type": "stream",
          "name": "stderr",
          "text": [
            "`use_cache=True` is incompatible with gradient checkpointing. Setting `use_cache=False`...\n"
          ]
        },
        {
          "output_type": "stream",
          "name": "stdout",
          "text": [
            "tensor(1.6451, device='cuda:0', grad_fn=<AddBackward0>)\n"
          ]
        },
        {
          "output_type": "stream",
          "name": "stderr",
          "text": [
            "`use_cache=True` is incompatible with gradient checkpointing. Setting `use_cache=False`...\n"
          ]
        },
        {
          "output_type": "stream",
          "name": "stdout",
          "text": [
            "tensor(1.7006, device='cuda:0', grad_fn=<AddBackward0>)\n"
          ]
        },
        {
          "output_type": "stream",
          "name": "stderr",
          "text": [
            "`use_cache=True` is incompatible with gradient checkpointing. Setting `use_cache=False`...\n"
          ]
        },
        {
          "output_type": "stream",
          "name": "stdout",
          "text": [
            "tensor(1.7118, device='cuda:0', grad_fn=<AddBackward0>)\n"
          ]
        },
        {
          "output_type": "stream",
          "name": "stderr",
          "text": [
            "`use_cache=True` is incompatible with gradient checkpointing. Setting `use_cache=False`...\n"
          ]
        },
        {
          "output_type": "stream",
          "name": "stdout",
          "text": [
            "tensor(1.7518, device='cuda:0', grad_fn=<AddBackward0>)\n"
          ]
        },
        {
          "output_type": "stream",
          "name": "stderr",
          "text": [
            "`use_cache=True` is incompatible with gradient checkpointing. Setting `use_cache=False`...\n"
          ]
        },
        {
          "output_type": "stream",
          "name": "stdout",
          "text": [
            "tensor(1.7049, device='cuda:0', grad_fn=<AddBackward0>)\n"
          ]
        },
        {
          "output_type": "stream",
          "name": "stderr",
          "text": [
            "`use_cache=True` is incompatible with gradient checkpointing. Setting `use_cache=False`...\n"
          ]
        },
        {
          "output_type": "stream",
          "name": "stdout",
          "text": [
            "tensor(1.7720, device='cuda:0', grad_fn=<AddBackward0>)\n"
          ]
        },
        {
          "output_type": "stream",
          "name": "stderr",
          "text": [
            "`use_cache=True` is incompatible with gradient checkpointing. Setting `use_cache=False`...\n"
          ]
        },
        {
          "output_type": "stream",
          "name": "stdout",
          "text": [
            "tensor(1.7691, device='cuda:0', grad_fn=<AddBackward0>)\n"
          ]
        },
        {
          "output_type": "stream",
          "name": "stderr",
          "text": [
            "`use_cache=True` is incompatible with gradient checkpointing. Setting `use_cache=False`...\n"
          ]
        },
        {
          "output_type": "stream",
          "name": "stdout",
          "text": [
            "tensor(1.6183, device='cuda:0', grad_fn=<AddBackward0>)\n"
          ]
        },
        {
          "output_type": "stream",
          "name": "stderr",
          "text": [
            "`use_cache=True` is incompatible with gradient checkpointing. Setting `use_cache=False`...\n"
          ]
        },
        {
          "output_type": "stream",
          "name": "stdout",
          "text": [
            "tensor(1.6678, device='cuda:0', grad_fn=<AddBackward0>)\n"
          ]
        },
        {
          "output_type": "stream",
          "name": "stderr",
          "text": [
            "`use_cache=True` is incompatible with gradient checkpointing. Setting `use_cache=False`...\n"
          ]
        },
        {
          "output_type": "stream",
          "name": "stdout",
          "text": [
            "tensor(1.7179, device='cuda:0', grad_fn=<AddBackward0>)\n"
          ]
        },
        {
          "output_type": "stream",
          "name": "stderr",
          "text": [
            "`use_cache=True` is incompatible with gradient checkpointing. Setting `use_cache=False`...\n"
          ]
        },
        {
          "output_type": "stream",
          "name": "stdout",
          "text": [
            "tensor(1.7083, device='cuda:0', grad_fn=<AddBackward0>)\n"
          ]
        },
        {
          "output_type": "stream",
          "name": "stderr",
          "text": [
            "`use_cache=True` is incompatible with gradient checkpointing. Setting `use_cache=False`...\n"
          ]
        },
        {
          "output_type": "stream",
          "name": "stdout",
          "text": [
            "tensor(1.7768, device='cuda:0', grad_fn=<AddBackward0>)\n"
          ]
        },
        {
          "output_type": "stream",
          "name": "stderr",
          "text": [
            "`use_cache=True` is incompatible with gradient checkpointing. Setting `use_cache=False`...\n"
          ]
        },
        {
          "output_type": "stream",
          "name": "stdout",
          "text": [
            "tensor(1.8226, device='cuda:0', grad_fn=<AddBackward0>)\n"
          ]
        },
        {
          "output_type": "stream",
          "name": "stderr",
          "text": [
            "`use_cache=True` is incompatible with gradient checkpointing. Setting `use_cache=False`...\n"
          ]
        },
        {
          "output_type": "stream",
          "name": "stdout",
          "text": [
            "tensor(1.6730, device='cuda:0', grad_fn=<AddBackward0>)\n"
          ]
        },
        {
          "output_type": "stream",
          "name": "stderr",
          "text": [
            "`use_cache=True` is incompatible with gradient checkpointing. Setting `use_cache=False`...\n"
          ]
        },
        {
          "output_type": "stream",
          "name": "stdout",
          "text": [
            "tensor(1.5948, device='cuda:0', grad_fn=<AddBackward0>)\n"
          ]
        },
        {
          "output_type": "stream",
          "name": "stderr",
          "text": [
            "`use_cache=True` is incompatible with gradient checkpointing. Setting `use_cache=False`...\n"
          ]
        },
        {
          "output_type": "stream",
          "name": "stdout",
          "text": [
            "tensor(1.7331, device='cuda:0', grad_fn=<AddBackward0>)\n"
          ]
        },
        {
          "output_type": "stream",
          "name": "stderr",
          "text": [
            "`use_cache=True` is incompatible with gradient checkpointing. Setting `use_cache=False`...\n"
          ]
        },
        {
          "output_type": "stream",
          "name": "stdout",
          "text": [
            "tensor(1.6807, device='cuda:0', grad_fn=<AddBackward0>)\n"
          ]
        },
        {
          "output_type": "stream",
          "name": "stderr",
          "text": [
            "`use_cache=True` is incompatible with gradient checkpointing. Setting `use_cache=False`...\n"
          ]
        },
        {
          "output_type": "stream",
          "name": "stdout",
          "text": [
            "tensor(1.6143, device='cuda:0', grad_fn=<AddBackward0>)\n"
          ]
        },
        {
          "output_type": "stream",
          "name": "stderr",
          "text": [
            "`use_cache=True` is incompatible with gradient checkpointing. Setting `use_cache=False`...\n"
          ]
        },
        {
          "output_type": "stream",
          "name": "stdout",
          "text": [
            "tensor(1.7651, device='cuda:0', grad_fn=<AddBackward0>)\n"
          ]
        },
        {
          "output_type": "stream",
          "name": "stderr",
          "text": [
            "`use_cache=True` is incompatible with gradient checkpointing. Setting `use_cache=False`...\n"
          ]
        },
        {
          "output_type": "stream",
          "name": "stdout",
          "text": [
            "tensor(1.7849, device='cuda:0', grad_fn=<AddBackward0>)\n"
          ]
        },
        {
          "output_type": "stream",
          "name": "stderr",
          "text": [
            "`use_cache=True` is incompatible with gradient checkpointing. Setting `use_cache=False`...\n"
          ]
        },
        {
          "output_type": "stream",
          "name": "stdout",
          "text": [
            "tensor(1.7635, device='cuda:0', grad_fn=<AddBackward0>)\n"
          ]
        },
        {
          "output_type": "stream",
          "name": "stderr",
          "text": [
            "`use_cache=True` is incompatible with gradient checkpointing. Setting `use_cache=False`...\n"
          ]
        },
        {
          "output_type": "stream",
          "name": "stdout",
          "text": [
            "tensor(1.7073, device='cuda:0', grad_fn=<AddBackward0>)\n"
          ]
        },
        {
          "output_type": "stream",
          "name": "stderr",
          "text": [
            "`use_cache=True` is incompatible with gradient checkpointing. Setting `use_cache=False`...\n"
          ]
        },
        {
          "output_type": "stream",
          "name": "stdout",
          "text": [
            "tensor(1.6876, device='cuda:0', grad_fn=<AddBackward0>)\n"
          ]
        },
        {
          "output_type": "stream",
          "name": "stderr",
          "text": [
            "`use_cache=True` is incompatible with gradient checkpointing. Setting `use_cache=False`...\n"
          ]
        },
        {
          "output_type": "stream",
          "name": "stdout",
          "text": [
            "tensor(1.6239, device='cuda:0', grad_fn=<AddBackward0>)\n"
          ]
        },
        {
          "output_type": "stream",
          "name": "stderr",
          "text": [
            "`use_cache=True` is incompatible with gradient checkpointing. Setting `use_cache=False`...\n"
          ]
        },
        {
          "output_type": "stream",
          "name": "stdout",
          "text": [
            "tensor(1.6118, device='cuda:0', grad_fn=<AddBackward0>)\n"
          ]
        },
        {
          "output_type": "stream",
          "name": "stderr",
          "text": [
            "`use_cache=True` is incompatible with gradient checkpointing. Setting `use_cache=False`...\n"
          ]
        },
        {
          "output_type": "stream",
          "name": "stdout",
          "text": [
            "tensor(1.6081, device='cuda:0', grad_fn=<AddBackward0>)\n"
          ]
        },
        {
          "output_type": "stream",
          "name": "stderr",
          "text": [
            "`use_cache=True` is incompatible with gradient checkpointing. Setting `use_cache=False`...\n"
          ]
        },
        {
          "output_type": "stream",
          "name": "stdout",
          "text": [
            "tensor(1.6032, device='cuda:0', grad_fn=<AddBackward0>)\n"
          ]
        },
        {
          "output_type": "stream",
          "name": "stderr",
          "text": [
            "`use_cache=True` is incompatible with gradient checkpointing. Setting `use_cache=False`...\n"
          ]
        },
        {
          "output_type": "stream",
          "name": "stdout",
          "text": [
            "tensor(1.6853, device='cuda:0', grad_fn=<AddBackward0>)\n"
          ]
        },
        {
          "output_type": "stream",
          "name": "stderr",
          "text": [
            "`use_cache=True` is incompatible with gradient checkpointing. Setting `use_cache=False`...\n"
          ]
        },
        {
          "output_type": "stream",
          "name": "stdout",
          "text": [
            "tensor(2.2795, device='cuda:0', grad_fn=<AddBackward0>)\n"
          ]
        },
        {
          "output_type": "stream",
          "name": "stderr",
          "text": [
            "`use_cache=True` is incompatible with gradient checkpointing. Setting `use_cache=False`...\n"
          ]
        },
        {
          "output_type": "stream",
          "name": "stdout",
          "text": [
            "tensor(2.2774, device='cuda:0', grad_fn=<AddBackward0>)\n"
          ]
        },
        {
          "output_type": "stream",
          "name": "stderr",
          "text": [
            "`use_cache=True` is incompatible with gradient checkpointing. Setting `use_cache=False`...\n"
          ]
        },
        {
          "output_type": "stream",
          "name": "stdout",
          "text": [
            "tensor(2.2766, device='cuda:0', grad_fn=<AddBackward0>)\n"
          ]
        },
        {
          "output_type": "stream",
          "name": "stderr",
          "text": [
            "`use_cache=True` is incompatible with gradient checkpointing. Setting `use_cache=False`...\n"
          ]
        },
        {
          "output_type": "stream",
          "name": "stdout",
          "text": [
            "tensor(2.2864, device='cuda:0', grad_fn=<AddBackward0>)\n"
          ]
        },
        {
          "output_type": "stream",
          "name": "stderr",
          "text": [
            "`use_cache=True` is incompatible with gradient checkpointing. Setting `use_cache=False`...\n"
          ]
        },
        {
          "output_type": "stream",
          "name": "stdout",
          "text": [
            "tensor(2.2786, device='cuda:0', grad_fn=<AddBackward0>)\n"
          ]
        },
        {
          "output_type": "stream",
          "name": "stderr",
          "text": [
            "`use_cache=True` is incompatible with gradient checkpointing. Setting `use_cache=False`...\n"
          ]
        },
        {
          "output_type": "stream",
          "name": "stdout",
          "text": [
            "Epoch 17: train_loss = 1.780, train_acc = 0.947\n",
            "tensor(1.6184, device='cuda:0', grad_fn=<AddBackward0>)\n"
          ]
        },
        {
          "output_type": "stream",
          "name": "stderr",
          "text": [
            "`use_cache=True` is incompatible with gradient checkpointing. Setting `use_cache=False`...\n"
          ]
        },
        {
          "output_type": "stream",
          "name": "stdout",
          "text": [
            "tensor(1.6353, device='cuda:0', grad_fn=<AddBackward0>)\n"
          ]
        },
        {
          "output_type": "stream",
          "name": "stderr",
          "text": [
            "`use_cache=True` is incompatible with gradient checkpointing. Setting `use_cache=False`...\n"
          ]
        },
        {
          "output_type": "stream",
          "name": "stdout",
          "text": [
            "tensor(1.6912, device='cuda:0', grad_fn=<AddBackward0>)\n"
          ]
        },
        {
          "output_type": "stream",
          "name": "stderr",
          "text": [
            "`use_cache=True` is incompatible with gradient checkpointing. Setting `use_cache=False`...\n"
          ]
        },
        {
          "output_type": "stream",
          "name": "stdout",
          "text": [
            "tensor(1.6970, device='cuda:0', grad_fn=<AddBackward0>)\n"
          ]
        },
        {
          "output_type": "stream",
          "name": "stderr",
          "text": [
            "`use_cache=True` is incompatible with gradient checkpointing. Setting `use_cache=False`...\n"
          ]
        },
        {
          "output_type": "stream",
          "name": "stdout",
          "text": [
            "tensor(1.7399, device='cuda:0', grad_fn=<AddBackward0>)\n"
          ]
        },
        {
          "output_type": "stream",
          "name": "stderr",
          "text": [
            "`use_cache=True` is incompatible with gradient checkpointing. Setting `use_cache=False`...\n"
          ]
        },
        {
          "output_type": "stream",
          "name": "stdout",
          "text": [
            "tensor(1.6965, device='cuda:0', grad_fn=<AddBackward0>)\n"
          ]
        },
        {
          "output_type": "stream",
          "name": "stderr",
          "text": [
            "`use_cache=True` is incompatible with gradient checkpointing. Setting `use_cache=False`...\n"
          ]
        },
        {
          "output_type": "stream",
          "name": "stdout",
          "text": [
            "tensor(1.7643, device='cuda:0', grad_fn=<AddBackward0>)\n"
          ]
        },
        {
          "output_type": "stream",
          "name": "stderr",
          "text": [
            "`use_cache=True` is incompatible with gradient checkpointing. Setting `use_cache=False`...\n"
          ]
        },
        {
          "output_type": "stream",
          "name": "stdout",
          "text": [
            "tensor(1.7587, device='cuda:0', grad_fn=<AddBackward0>)\n"
          ]
        },
        {
          "output_type": "stream",
          "name": "stderr",
          "text": [
            "`use_cache=True` is incompatible with gradient checkpointing. Setting `use_cache=False`...\n"
          ]
        },
        {
          "output_type": "stream",
          "name": "stdout",
          "text": [
            "tensor(1.6073, device='cuda:0', grad_fn=<AddBackward0>)\n"
          ]
        },
        {
          "output_type": "stream",
          "name": "stderr",
          "text": [
            "`use_cache=True` is incompatible with gradient checkpointing. Setting `use_cache=False`...\n"
          ]
        },
        {
          "output_type": "stream",
          "name": "stdout",
          "text": [
            "tensor(1.6554, device='cuda:0', grad_fn=<AddBackward0>)\n"
          ]
        },
        {
          "output_type": "stream",
          "name": "stderr",
          "text": [
            "`use_cache=True` is incompatible with gradient checkpointing. Setting `use_cache=False`...\n"
          ]
        },
        {
          "output_type": "stream",
          "name": "stdout",
          "text": [
            "tensor(1.7013, device='cuda:0', grad_fn=<AddBackward0>)\n"
          ]
        },
        {
          "output_type": "stream",
          "name": "stderr",
          "text": [
            "`use_cache=True` is incompatible with gradient checkpointing. Setting `use_cache=False`...\n"
          ]
        },
        {
          "output_type": "stream",
          "name": "stdout",
          "text": [
            "tensor(1.6975, device='cuda:0', grad_fn=<AddBackward0>)\n"
          ]
        },
        {
          "output_type": "stream",
          "name": "stderr",
          "text": [
            "`use_cache=True` is incompatible with gradient checkpointing. Setting `use_cache=False`...\n"
          ]
        },
        {
          "output_type": "stream",
          "name": "stdout",
          "text": [
            "tensor(1.7705, device='cuda:0', grad_fn=<AddBackward0>)\n"
          ]
        },
        {
          "output_type": "stream",
          "name": "stderr",
          "text": [
            "`use_cache=True` is incompatible with gradient checkpointing. Setting `use_cache=False`...\n"
          ]
        },
        {
          "output_type": "stream",
          "name": "stdout",
          "text": [
            "tensor(1.8068, device='cuda:0', grad_fn=<AddBackward0>)\n"
          ]
        },
        {
          "output_type": "stream",
          "name": "stderr",
          "text": [
            "`use_cache=True` is incompatible with gradient checkpointing. Setting `use_cache=False`...\n"
          ]
        },
        {
          "output_type": "stream",
          "name": "stdout",
          "text": [
            "tensor(1.6590, device='cuda:0', grad_fn=<AddBackward0>)\n"
          ]
        },
        {
          "output_type": "stream",
          "name": "stderr",
          "text": [
            "`use_cache=True` is incompatible with gradient checkpointing. Setting `use_cache=False`...\n"
          ]
        },
        {
          "output_type": "stream",
          "name": "stdout",
          "text": [
            "tensor(1.5855, device='cuda:0', grad_fn=<AddBackward0>)\n"
          ]
        },
        {
          "output_type": "stream",
          "name": "stderr",
          "text": [
            "`use_cache=True` is incompatible with gradient checkpointing. Setting `use_cache=False`...\n"
          ]
        },
        {
          "output_type": "stream",
          "name": "stdout",
          "text": [
            "tensor(1.7219, device='cuda:0', grad_fn=<AddBackward0>)\n"
          ]
        },
        {
          "output_type": "stream",
          "name": "stderr",
          "text": [
            "`use_cache=True` is incompatible with gradient checkpointing. Setting `use_cache=False`...\n"
          ]
        },
        {
          "output_type": "stream",
          "name": "stdout",
          "text": [
            "tensor(1.6662, device='cuda:0', grad_fn=<AddBackward0>)\n"
          ]
        },
        {
          "output_type": "stream",
          "name": "stderr",
          "text": [
            "`use_cache=True` is incompatible with gradient checkpointing. Setting `use_cache=False`...\n"
          ]
        },
        {
          "output_type": "stream",
          "name": "stdout",
          "text": [
            "tensor(1.6071, device='cuda:0', grad_fn=<AddBackward0>)\n"
          ]
        },
        {
          "output_type": "stream",
          "name": "stderr",
          "text": [
            "`use_cache=True` is incompatible with gradient checkpointing. Setting `use_cache=False`...\n"
          ]
        },
        {
          "output_type": "stream",
          "name": "stdout",
          "text": [
            "tensor(1.7521, device='cuda:0', grad_fn=<AddBackward0>)\n"
          ]
        },
        {
          "output_type": "stream",
          "name": "stderr",
          "text": [
            "`use_cache=True` is incompatible with gradient checkpointing. Setting `use_cache=False`...\n"
          ]
        },
        {
          "output_type": "stream",
          "name": "stdout",
          "text": [
            "tensor(1.7712, device='cuda:0', grad_fn=<AddBackward0>)\n"
          ]
        },
        {
          "output_type": "stream",
          "name": "stderr",
          "text": [
            "`use_cache=True` is incompatible with gradient checkpointing. Setting `use_cache=False`...\n"
          ]
        },
        {
          "output_type": "stream",
          "name": "stdout",
          "text": [
            "tensor(1.7511, device='cuda:0', grad_fn=<AddBackward0>)\n"
          ]
        },
        {
          "output_type": "stream",
          "name": "stderr",
          "text": [
            "`use_cache=True` is incompatible with gradient checkpointing. Setting `use_cache=False`...\n"
          ]
        },
        {
          "output_type": "stream",
          "name": "stdout",
          "text": [
            "tensor(1.6982, device='cuda:0', grad_fn=<AddBackward0>)\n"
          ]
        },
        {
          "output_type": "stream",
          "name": "stderr",
          "text": [
            "`use_cache=True` is incompatible with gradient checkpointing. Setting `use_cache=False`...\n"
          ]
        },
        {
          "output_type": "stream",
          "name": "stdout",
          "text": [
            "tensor(1.6775, device='cuda:0', grad_fn=<AddBackward0>)\n"
          ]
        },
        {
          "output_type": "stream",
          "name": "stderr",
          "text": [
            "`use_cache=True` is incompatible with gradient checkpointing. Setting `use_cache=False`...\n"
          ]
        },
        {
          "output_type": "stream",
          "name": "stdout",
          "text": [
            "tensor(1.6157, device='cuda:0', grad_fn=<AddBackward0>)\n"
          ]
        },
        {
          "output_type": "stream",
          "name": "stderr",
          "text": [
            "`use_cache=True` is incompatible with gradient checkpointing. Setting `use_cache=False`...\n"
          ]
        },
        {
          "output_type": "stream",
          "name": "stdout",
          "text": [
            "tensor(1.6029, device='cuda:0', grad_fn=<AddBackward0>)\n"
          ]
        },
        {
          "output_type": "stream",
          "name": "stderr",
          "text": [
            "`use_cache=True` is incompatible with gradient checkpointing. Setting `use_cache=False`...\n"
          ]
        },
        {
          "output_type": "stream",
          "name": "stdout",
          "text": [
            "tensor(1.5997, device='cuda:0', grad_fn=<AddBackward0>)\n"
          ]
        },
        {
          "output_type": "stream",
          "name": "stderr",
          "text": [
            "`use_cache=True` is incompatible with gradient checkpointing. Setting `use_cache=False`...\n"
          ]
        },
        {
          "output_type": "stream",
          "name": "stdout",
          "text": [
            "tensor(1.5966, device='cuda:0', grad_fn=<AddBackward0>)\n"
          ]
        },
        {
          "output_type": "stream",
          "name": "stderr",
          "text": [
            "`use_cache=True` is incompatible with gradient checkpointing. Setting `use_cache=False`...\n"
          ]
        },
        {
          "output_type": "stream",
          "name": "stdout",
          "text": [
            "tensor(1.6743, device='cuda:0', grad_fn=<AddBackward0>)\n"
          ]
        },
        {
          "output_type": "stream",
          "name": "stderr",
          "text": [
            "`use_cache=True` is incompatible with gradient checkpointing. Setting `use_cache=False`...\n"
          ]
        },
        {
          "output_type": "stream",
          "name": "stdout",
          "text": [
            "tensor(2.2581, device='cuda:0', grad_fn=<AddBackward0>)\n"
          ]
        },
        {
          "output_type": "stream",
          "name": "stderr",
          "text": [
            "`use_cache=True` is incompatible with gradient checkpointing. Setting `use_cache=False`...\n"
          ]
        },
        {
          "output_type": "stream",
          "name": "stdout",
          "text": [
            "tensor(2.2579, device='cuda:0', grad_fn=<AddBackward0>)\n"
          ]
        },
        {
          "output_type": "stream",
          "name": "stderr",
          "text": [
            "`use_cache=True` is incompatible with gradient checkpointing. Setting `use_cache=False`...\n"
          ]
        },
        {
          "output_type": "stream",
          "name": "stdout",
          "text": [
            "tensor(2.2539, device='cuda:0', grad_fn=<AddBackward0>)\n"
          ]
        },
        {
          "output_type": "stream",
          "name": "stderr",
          "text": [
            "`use_cache=True` is incompatible with gradient checkpointing. Setting `use_cache=False`...\n"
          ]
        },
        {
          "output_type": "stream",
          "name": "stdout",
          "text": [
            "tensor(2.2654, device='cuda:0', grad_fn=<AddBackward0>)\n"
          ]
        },
        {
          "output_type": "stream",
          "name": "stderr",
          "text": [
            "`use_cache=True` is incompatible with gradient checkpointing. Setting `use_cache=False`...\n"
          ]
        },
        {
          "output_type": "stream",
          "name": "stdout",
          "text": [
            "tensor(2.2576, device='cuda:0', grad_fn=<AddBackward0>)\n"
          ]
        },
        {
          "output_type": "stream",
          "name": "stderr",
          "text": [
            "`use_cache=True` is incompatible with gradient checkpointing. Setting `use_cache=False`...\n"
          ]
        },
        {
          "output_type": "stream",
          "name": "stdout",
          "text": [
            "Epoch 18: train_loss = 1.768, train_acc = 0.948\n",
            "tensor(1.6097, device='cuda:0', grad_fn=<AddBackward0>)\n"
          ]
        },
        {
          "output_type": "stream",
          "name": "stderr",
          "text": [
            "`use_cache=True` is incompatible with gradient checkpointing. Setting `use_cache=False`...\n"
          ]
        },
        {
          "output_type": "stream",
          "name": "stdout",
          "text": [
            "tensor(1.6246, device='cuda:0', grad_fn=<AddBackward0>)\n"
          ]
        },
        {
          "output_type": "stream",
          "name": "stderr",
          "text": [
            "`use_cache=True` is incompatible with gradient checkpointing. Setting `use_cache=False`...\n"
          ]
        },
        {
          "output_type": "stream",
          "name": "stdout",
          "text": [
            "tensor(1.6777, device='cuda:0', grad_fn=<AddBackward0>)\n"
          ]
        },
        {
          "output_type": "stream",
          "name": "stderr",
          "text": [
            "`use_cache=True` is incompatible with gradient checkpointing. Setting `use_cache=False`...\n"
          ]
        },
        {
          "output_type": "stream",
          "name": "stdout",
          "text": [
            "tensor(1.6908, device='cuda:0', grad_fn=<AddBackward0>)\n"
          ]
        },
        {
          "output_type": "stream",
          "name": "stderr",
          "text": [
            "`use_cache=True` is incompatible with gradient checkpointing. Setting `use_cache=False`...\n"
          ]
        },
        {
          "output_type": "stream",
          "name": "stdout",
          "text": [
            "tensor(1.7347, device='cuda:0', grad_fn=<AddBackward0>)\n"
          ]
        },
        {
          "output_type": "stream",
          "name": "stderr",
          "text": [
            "`use_cache=True` is incompatible with gradient checkpointing. Setting `use_cache=False`...\n"
          ]
        },
        {
          "output_type": "stream",
          "name": "stdout",
          "text": [
            "tensor(1.6889, device='cuda:0', grad_fn=<AddBackward0>)\n"
          ]
        },
        {
          "output_type": "stream",
          "name": "stderr",
          "text": [
            "`use_cache=True` is incompatible with gradient checkpointing. Setting `use_cache=False`...\n"
          ]
        },
        {
          "output_type": "stream",
          "name": "stdout",
          "text": [
            "tensor(1.7588, device='cuda:0', grad_fn=<AddBackward0>)\n"
          ]
        },
        {
          "output_type": "stream",
          "name": "stderr",
          "text": [
            "`use_cache=True` is incompatible with gradient checkpointing. Setting `use_cache=False`...\n"
          ]
        },
        {
          "output_type": "stream",
          "name": "stdout",
          "text": [
            "tensor(1.7533, device='cuda:0', grad_fn=<AddBackward0>)\n"
          ]
        },
        {
          "output_type": "stream",
          "name": "stderr",
          "text": [
            "`use_cache=True` is incompatible with gradient checkpointing. Setting `use_cache=False`...\n"
          ]
        },
        {
          "output_type": "stream",
          "name": "stdout",
          "text": [
            "tensor(1.6019, device='cuda:0', grad_fn=<AddBackward0>)\n"
          ]
        },
        {
          "output_type": "stream",
          "name": "stderr",
          "text": [
            "`use_cache=True` is incompatible with gradient checkpointing. Setting `use_cache=False`...\n"
          ]
        },
        {
          "output_type": "stream",
          "name": "stdout",
          "text": [
            "tensor(1.6552, device='cuda:0', grad_fn=<AddBackward0>)\n"
          ]
        },
        {
          "output_type": "stream",
          "name": "stderr",
          "text": [
            "`use_cache=True` is incompatible with gradient checkpointing. Setting `use_cache=False`...\n"
          ]
        },
        {
          "output_type": "stream",
          "name": "stdout",
          "text": [
            "tensor(1.6943, device='cuda:0', grad_fn=<AddBackward0>)\n"
          ]
        },
        {
          "output_type": "stream",
          "name": "stderr",
          "text": [
            "`use_cache=True` is incompatible with gradient checkpointing. Setting `use_cache=False`...\n"
          ]
        },
        {
          "output_type": "stream",
          "name": "stdout",
          "text": [
            "tensor(1.6903, device='cuda:0', grad_fn=<AddBackward0>)\n"
          ]
        },
        {
          "output_type": "stream",
          "name": "stderr",
          "text": [
            "`use_cache=True` is incompatible with gradient checkpointing. Setting `use_cache=False`...\n"
          ]
        },
        {
          "output_type": "stream",
          "name": "stdout",
          "text": [
            "tensor(1.7628, device='cuda:0', grad_fn=<AddBackward0>)\n"
          ]
        },
        {
          "output_type": "stream",
          "name": "stderr",
          "text": [
            "`use_cache=True` is incompatible with gradient checkpointing. Setting `use_cache=False`...\n"
          ]
        },
        {
          "output_type": "stream",
          "name": "stdout",
          "text": [
            "tensor(1.7980, device='cuda:0', grad_fn=<AddBackward0>)\n"
          ]
        },
        {
          "output_type": "stream",
          "name": "stderr",
          "text": [
            "`use_cache=True` is incompatible with gradient checkpointing. Setting `use_cache=False`...\n"
          ]
        },
        {
          "output_type": "stream",
          "name": "stdout",
          "text": [
            "tensor(1.6523, device='cuda:0', grad_fn=<AddBackward0>)\n"
          ]
        },
        {
          "output_type": "stream",
          "name": "stderr",
          "text": [
            "`use_cache=True` is incompatible with gradient checkpointing. Setting `use_cache=False`...\n"
          ]
        },
        {
          "output_type": "stream",
          "name": "stdout",
          "text": [
            "tensor(1.5807, device='cuda:0', grad_fn=<AddBackward0>)\n"
          ]
        },
        {
          "output_type": "stream",
          "name": "stderr",
          "text": [
            "`use_cache=True` is incompatible with gradient checkpointing. Setting `use_cache=False`...\n"
          ]
        },
        {
          "output_type": "stream",
          "name": "stdout",
          "text": [
            "tensor(1.7176, device='cuda:0', grad_fn=<AddBackward0>)\n"
          ]
        },
        {
          "output_type": "stream",
          "name": "stderr",
          "text": [
            "`use_cache=True` is incompatible with gradient checkpointing. Setting `use_cache=False`...\n"
          ]
        },
        {
          "output_type": "stream",
          "name": "stdout",
          "text": [
            "tensor(1.6595, device='cuda:0', grad_fn=<AddBackward0>)\n"
          ]
        },
        {
          "output_type": "stream",
          "name": "stderr",
          "text": [
            "`use_cache=True` is incompatible with gradient checkpointing. Setting `use_cache=False`...\n"
          ]
        },
        {
          "output_type": "stream",
          "name": "stdout",
          "text": [
            "tensor(1.5983, device='cuda:0', grad_fn=<AddBackward0>)\n"
          ]
        },
        {
          "output_type": "stream",
          "name": "stderr",
          "text": [
            "`use_cache=True` is incompatible with gradient checkpointing. Setting `use_cache=False`...\n"
          ]
        },
        {
          "output_type": "stream",
          "name": "stdout",
          "text": [
            "tensor(1.7449, device='cuda:0', grad_fn=<AddBackward0>)\n"
          ]
        },
        {
          "output_type": "stream",
          "name": "stderr",
          "text": [
            "`use_cache=True` is incompatible with gradient checkpointing. Setting `use_cache=False`...\n"
          ]
        },
        {
          "output_type": "stream",
          "name": "stdout",
          "text": [
            "tensor(1.7647, device='cuda:0', grad_fn=<AddBackward0>)\n"
          ]
        },
        {
          "output_type": "stream",
          "name": "stderr",
          "text": [
            "`use_cache=True` is incompatible with gradient checkpointing. Setting `use_cache=False`...\n"
          ]
        },
        {
          "output_type": "stream",
          "name": "stdout",
          "text": [
            "tensor(1.7446, device='cuda:0', grad_fn=<AddBackward0>)\n"
          ]
        },
        {
          "output_type": "stream",
          "name": "stderr",
          "text": [
            "`use_cache=True` is incompatible with gradient checkpointing. Setting `use_cache=False`...\n"
          ]
        },
        {
          "output_type": "stream",
          "name": "stdout",
          "text": [
            "tensor(1.6960, device='cuda:0', grad_fn=<AddBackward0>)\n"
          ]
        },
        {
          "output_type": "stream",
          "name": "stderr",
          "text": [
            "`use_cache=True` is incompatible with gradient checkpointing. Setting `use_cache=False`...\n"
          ]
        },
        {
          "output_type": "stream",
          "name": "stdout",
          "text": [
            "tensor(1.6716, device='cuda:0', grad_fn=<AddBackward0>)\n"
          ]
        },
        {
          "output_type": "stream",
          "name": "stderr",
          "text": [
            "`use_cache=True` is incompatible with gradient checkpointing. Setting `use_cache=False`...\n"
          ]
        },
        {
          "output_type": "stream",
          "name": "stdout",
          "text": [
            "tensor(1.6096, device='cuda:0', grad_fn=<AddBackward0>)\n"
          ]
        },
        {
          "output_type": "stream",
          "name": "stderr",
          "text": [
            "`use_cache=True` is incompatible with gradient checkpointing. Setting `use_cache=False`...\n"
          ]
        },
        {
          "output_type": "stream",
          "name": "stdout",
          "text": [
            "tensor(1.5977, device='cuda:0', grad_fn=<AddBackward0>)\n"
          ]
        },
        {
          "output_type": "stream",
          "name": "stderr",
          "text": [
            "`use_cache=True` is incompatible with gradient checkpointing. Setting `use_cache=False`...\n"
          ]
        },
        {
          "output_type": "stream",
          "name": "stdout",
          "text": [
            "tensor(1.5973, device='cuda:0', grad_fn=<AddBackward0>)\n"
          ]
        },
        {
          "output_type": "stream",
          "name": "stderr",
          "text": [
            "`use_cache=True` is incompatible with gradient checkpointing. Setting `use_cache=False`...\n"
          ]
        },
        {
          "output_type": "stream",
          "name": "stdout",
          "text": [
            "tensor(1.5900, device='cuda:0', grad_fn=<AddBackward0>)\n"
          ]
        },
        {
          "output_type": "stream",
          "name": "stderr",
          "text": [
            "`use_cache=True` is incompatible with gradient checkpointing. Setting `use_cache=False`...\n"
          ]
        },
        {
          "output_type": "stream",
          "name": "stdout",
          "text": [
            "tensor(1.6699, device='cuda:0', grad_fn=<AddBackward0>)\n"
          ]
        },
        {
          "output_type": "stream",
          "name": "stderr",
          "text": [
            "`use_cache=True` is incompatible with gradient checkpointing. Setting `use_cache=False`...\n"
          ]
        },
        {
          "output_type": "stream",
          "name": "stdout",
          "text": [
            "tensor(2.2468, device='cuda:0', grad_fn=<AddBackward0>)\n"
          ]
        },
        {
          "output_type": "stream",
          "name": "stderr",
          "text": [
            "`use_cache=True` is incompatible with gradient checkpointing. Setting `use_cache=False`...\n"
          ]
        },
        {
          "output_type": "stream",
          "name": "stdout",
          "text": [
            "tensor(2.2459, device='cuda:0', grad_fn=<AddBackward0>)\n"
          ]
        },
        {
          "output_type": "stream",
          "name": "stderr",
          "text": [
            "`use_cache=True` is incompatible with gradient checkpointing. Setting `use_cache=False`...\n"
          ]
        },
        {
          "output_type": "stream",
          "name": "stdout",
          "text": [
            "tensor(2.2411, device='cuda:0', grad_fn=<AddBackward0>)\n"
          ]
        },
        {
          "output_type": "stream",
          "name": "stderr",
          "text": [
            "`use_cache=True` is incompatible with gradient checkpointing. Setting `use_cache=False`...\n"
          ]
        },
        {
          "output_type": "stream",
          "name": "stdout",
          "text": [
            "tensor(2.2537, device='cuda:0', grad_fn=<AddBackward0>)\n"
          ]
        },
        {
          "output_type": "stream",
          "name": "stderr",
          "text": [
            "`use_cache=True` is incompatible with gradient checkpointing. Setting `use_cache=False`...\n"
          ]
        },
        {
          "output_type": "stream",
          "name": "stdout",
          "text": [
            "tensor(2.2453, device='cuda:0', grad_fn=<AddBackward0>)\n"
          ]
        },
        {
          "output_type": "stream",
          "name": "stderr",
          "text": [
            "`use_cache=True` is incompatible with gradient checkpointing. Setting `use_cache=False`...\n"
          ]
        },
        {
          "output_type": "stream",
          "name": "stdout",
          "text": [
            "Epoch 19: train_loss = 1.761, train_acc = 0.949\n",
            "tensor(1.6057, device='cuda:0', grad_fn=<AddBackward0>)\n"
          ]
        },
        {
          "output_type": "stream",
          "name": "stderr",
          "text": [
            "`use_cache=True` is incompatible with gradient checkpointing. Setting `use_cache=False`...\n"
          ]
        },
        {
          "output_type": "stream",
          "name": "stdout",
          "text": [
            "tensor(1.6210, device='cuda:0', grad_fn=<AddBackward0>)\n"
          ]
        },
        {
          "output_type": "stream",
          "name": "stderr",
          "text": [
            "`use_cache=True` is incompatible with gradient checkpointing. Setting `use_cache=False`...\n"
          ]
        },
        {
          "output_type": "stream",
          "name": "stdout",
          "text": [
            "tensor(1.6716, device='cuda:0', grad_fn=<AddBackward0>)\n"
          ]
        },
        {
          "output_type": "stream",
          "name": "stderr",
          "text": [
            "`use_cache=True` is incompatible with gradient checkpointing. Setting `use_cache=False`...\n"
          ]
        },
        {
          "output_type": "stream",
          "name": "stdout",
          "text": [
            "tensor(1.6861, device='cuda:0', grad_fn=<AddBackward0>)\n"
          ]
        },
        {
          "output_type": "stream",
          "name": "stderr",
          "text": [
            "`use_cache=True` is incompatible with gradient checkpointing. Setting `use_cache=False`...\n"
          ]
        },
        {
          "output_type": "stream",
          "name": "stdout",
          "text": [
            "tensor(1.7292, device='cuda:0', grad_fn=<AddBackward0>)\n"
          ]
        },
        {
          "output_type": "stream",
          "name": "stderr",
          "text": [
            "`use_cache=True` is incompatible with gradient checkpointing. Setting `use_cache=False`...\n"
          ]
        },
        {
          "output_type": "stream",
          "name": "stdout",
          "text": [
            "tensor(1.6826, device='cuda:0', grad_fn=<AddBackward0>)\n"
          ]
        },
        {
          "output_type": "stream",
          "name": "stderr",
          "text": [
            "`use_cache=True` is incompatible with gradient checkpointing. Setting `use_cache=False`...\n"
          ]
        },
        {
          "output_type": "stream",
          "name": "stdout",
          "text": [
            "tensor(1.7539, device='cuda:0', grad_fn=<AddBackward0>)\n"
          ]
        },
        {
          "output_type": "stream",
          "name": "stderr",
          "text": [
            "`use_cache=True` is incompatible with gradient checkpointing. Setting `use_cache=False`...\n"
          ]
        },
        {
          "output_type": "stream",
          "name": "stdout",
          "text": [
            "tensor(1.7488, device='cuda:0', grad_fn=<AddBackward0>)\n"
          ]
        },
        {
          "output_type": "stream",
          "name": "stderr",
          "text": [
            "`use_cache=True` is incompatible with gradient checkpointing. Setting `use_cache=False`...\n"
          ]
        },
        {
          "output_type": "stream",
          "name": "stdout",
          "text": [
            "tensor(1.6009, device='cuda:0', grad_fn=<AddBackward0>)\n"
          ]
        },
        {
          "output_type": "stream",
          "name": "stderr",
          "text": [
            "`use_cache=True` is incompatible with gradient checkpointing. Setting `use_cache=False`...\n"
          ]
        },
        {
          "output_type": "stream",
          "name": "stdout",
          "text": [
            "tensor(1.6470, device='cuda:0', grad_fn=<AddBackward0>)\n"
          ]
        },
        {
          "output_type": "stream",
          "name": "stderr",
          "text": [
            "`use_cache=True` is incompatible with gradient checkpointing. Setting `use_cache=False`...\n"
          ]
        },
        {
          "output_type": "stream",
          "name": "stdout",
          "text": [
            "tensor(1.6897, device='cuda:0', grad_fn=<AddBackward0>)\n"
          ]
        },
        {
          "output_type": "stream",
          "name": "stderr",
          "text": [
            "`use_cache=True` is incompatible with gradient checkpointing. Setting `use_cache=False`...\n"
          ]
        },
        {
          "output_type": "stream",
          "name": "stdout",
          "text": [
            "tensor(1.6884, device='cuda:0', grad_fn=<AddBackward0>)\n"
          ]
        },
        {
          "output_type": "stream",
          "name": "stderr",
          "text": [
            "`use_cache=True` is incompatible with gradient checkpointing. Setting `use_cache=False`...\n"
          ]
        },
        {
          "output_type": "stream",
          "name": "stdout",
          "text": [
            "tensor(1.7573, device='cuda:0', grad_fn=<AddBackward0>)\n"
          ]
        },
        {
          "output_type": "stream",
          "name": "stderr",
          "text": [
            "`use_cache=True` is incompatible with gradient checkpointing. Setting `use_cache=False`...\n"
          ]
        },
        {
          "output_type": "stream",
          "name": "stdout",
          "text": [
            "tensor(1.7936, device='cuda:0', grad_fn=<AddBackward0>)\n"
          ]
        },
        {
          "output_type": "stream",
          "name": "stderr",
          "text": [
            "`use_cache=True` is incompatible with gradient checkpointing. Setting `use_cache=False`...\n"
          ]
        },
        {
          "output_type": "stream",
          "name": "stdout",
          "text": [
            "tensor(1.6467, device='cuda:0', grad_fn=<AddBackward0>)\n"
          ]
        },
        {
          "output_type": "stream",
          "name": "stderr",
          "text": [
            "`use_cache=True` is incompatible with gradient checkpointing. Setting `use_cache=False`...\n"
          ]
        },
        {
          "output_type": "stream",
          "name": "stdout",
          "text": [
            "tensor(1.5774, device='cuda:0', grad_fn=<AddBackward0>)\n"
          ]
        },
        {
          "output_type": "stream",
          "name": "stderr",
          "text": [
            "`use_cache=True` is incompatible with gradient checkpointing. Setting `use_cache=False`...\n"
          ]
        },
        {
          "output_type": "stream",
          "name": "stdout",
          "text": [
            "tensor(1.7116, device='cuda:0', grad_fn=<AddBackward0>)\n"
          ]
        },
        {
          "output_type": "stream",
          "name": "stderr",
          "text": [
            "`use_cache=True` is incompatible with gradient checkpointing. Setting `use_cache=False`...\n"
          ]
        },
        {
          "output_type": "stream",
          "name": "stdout",
          "text": [
            "tensor(1.6552, device='cuda:0', grad_fn=<AddBackward0>)\n"
          ]
        },
        {
          "output_type": "stream",
          "name": "stderr",
          "text": [
            "`use_cache=True` is incompatible with gradient checkpointing. Setting `use_cache=False`...\n"
          ]
        },
        {
          "output_type": "stream",
          "name": "stdout",
          "text": [
            "tensor(1.5973, device='cuda:0', grad_fn=<AddBackward0>)\n"
          ]
        },
        {
          "output_type": "stream",
          "name": "stderr",
          "text": [
            "`use_cache=True` is incompatible with gradient checkpointing. Setting `use_cache=False`...\n"
          ]
        },
        {
          "output_type": "stream",
          "name": "stdout",
          "text": [
            "tensor(1.7396, device='cuda:0', grad_fn=<AddBackward0>)\n"
          ]
        },
        {
          "output_type": "stream",
          "name": "stderr",
          "text": [
            "`use_cache=True` is incompatible with gradient checkpointing. Setting `use_cache=False`...\n"
          ]
        },
        {
          "output_type": "stream",
          "name": "stdout",
          "text": [
            "tensor(1.7586, device='cuda:0', grad_fn=<AddBackward0>)\n"
          ]
        },
        {
          "output_type": "stream",
          "name": "stderr",
          "text": [
            "`use_cache=True` is incompatible with gradient checkpointing. Setting `use_cache=False`...\n"
          ]
        },
        {
          "output_type": "stream",
          "name": "stdout",
          "text": [
            "tensor(1.7425, device='cuda:0', grad_fn=<AddBackward0>)\n"
          ]
        },
        {
          "output_type": "stream",
          "name": "stderr",
          "text": [
            "`use_cache=True` is incompatible with gradient checkpointing. Setting `use_cache=False`...\n"
          ]
        },
        {
          "output_type": "stream",
          "name": "stdout",
          "text": [
            "tensor(1.6894, device='cuda:0', grad_fn=<AddBackward0>)\n"
          ]
        },
        {
          "output_type": "stream",
          "name": "stderr",
          "text": [
            "`use_cache=True` is incompatible with gradient checkpointing. Setting `use_cache=False`...\n"
          ]
        },
        {
          "output_type": "stream",
          "name": "stdout",
          "text": [
            "tensor(1.6681, device='cuda:0', grad_fn=<AddBackward0>)\n"
          ]
        },
        {
          "output_type": "stream",
          "name": "stderr",
          "text": [
            "`use_cache=True` is incompatible with gradient checkpointing. Setting `use_cache=False`...\n"
          ]
        },
        {
          "output_type": "stream",
          "name": "stdout",
          "text": [
            "tensor(1.6075, device='cuda:0', grad_fn=<AddBackward0>)\n"
          ]
        },
        {
          "output_type": "stream",
          "name": "stderr",
          "text": [
            "`use_cache=True` is incompatible with gradient checkpointing. Setting `use_cache=False`...\n"
          ]
        },
        {
          "output_type": "stream",
          "name": "stdout",
          "text": [
            "tensor(1.5951, device='cuda:0', grad_fn=<AddBackward0>)\n"
          ]
        },
        {
          "output_type": "stream",
          "name": "stderr",
          "text": [
            "`use_cache=True` is incompatible with gradient checkpointing. Setting `use_cache=False`...\n"
          ]
        },
        {
          "output_type": "stream",
          "name": "stdout",
          "text": [
            "tensor(1.5924, device='cuda:0', grad_fn=<AddBackward0>)\n"
          ]
        },
        {
          "output_type": "stream",
          "name": "stderr",
          "text": [
            "`use_cache=True` is incompatible with gradient checkpointing. Setting `use_cache=False`...\n"
          ]
        },
        {
          "output_type": "stream",
          "name": "stdout",
          "text": [
            "tensor(1.5882, device='cuda:0', grad_fn=<AddBackward0>)\n"
          ]
        },
        {
          "output_type": "stream",
          "name": "stderr",
          "text": [
            "`use_cache=True` is incompatible with gradient checkpointing. Setting `use_cache=False`...\n"
          ]
        },
        {
          "output_type": "stream",
          "name": "stdout",
          "text": [
            "tensor(1.6670, device='cuda:0', grad_fn=<AddBackward0>)\n"
          ]
        },
        {
          "output_type": "stream",
          "name": "stderr",
          "text": [
            "`use_cache=True` is incompatible with gradient checkpointing. Setting `use_cache=False`...\n"
          ]
        },
        {
          "output_type": "stream",
          "name": "stdout",
          "text": [
            "tensor(2.2384, device='cuda:0', grad_fn=<AddBackward0>)\n"
          ]
        },
        {
          "output_type": "stream",
          "name": "stderr",
          "text": [
            "`use_cache=True` is incompatible with gradient checkpointing. Setting `use_cache=False`...\n"
          ]
        },
        {
          "output_type": "stream",
          "name": "stdout",
          "text": [
            "tensor(2.2394, device='cuda:0', grad_fn=<AddBackward0>)\n"
          ]
        },
        {
          "output_type": "stream",
          "name": "stderr",
          "text": [
            "`use_cache=True` is incompatible with gradient checkpointing. Setting `use_cache=False`...\n"
          ]
        },
        {
          "output_type": "stream",
          "name": "stdout",
          "text": [
            "tensor(2.2380, device='cuda:0', grad_fn=<AddBackward0>)\n"
          ]
        },
        {
          "output_type": "stream",
          "name": "stderr",
          "text": [
            "`use_cache=True` is incompatible with gradient checkpointing. Setting `use_cache=False`...\n"
          ]
        },
        {
          "output_type": "stream",
          "name": "stdout",
          "text": [
            "tensor(2.2470, device='cuda:0', grad_fn=<AddBackward0>)\n"
          ]
        },
        {
          "output_type": "stream",
          "name": "stderr",
          "text": [
            "`use_cache=True` is incompatible with gradient checkpointing. Setting `use_cache=False`...\n"
          ]
        },
        {
          "output_type": "stream",
          "name": "stdout",
          "text": [
            "tensor(2.2379, device='cuda:0', grad_fn=<AddBackward0>)\n",
            "Epoch 20: train_loss = 1.756, train_acc = 0.949\n"
          ]
        }
      ]
    },
    {
      "cell_type": "code",
      "source": [
        "import numpy as np\n",
        "import matplotlib.pyplot as plt\n",
        "\n",
        "fig = plt.figure(figsize=(10, 5))\n",
        "\n",
        "# Create an index array for the epochs\n",
        "epochs = np.arange(len(train_loss_values))\n",
        "\n",
        "# Create two subplots, one for train loss and one for train accuracy\n",
        "ax1 = fig.add_subplot(121)\n",
        "ax2 = fig.add_subplot(122)\n",
        "\n",
        "# Plot the train loss values on the first subplot\n",
        "ax1.plot(epochs, metrics['train_loss'])\n",
        "ax1.set_title('Train Loss')\n",
        "ax1.set_xlabel('Epoch')\n",
        "ax1.set_ylabel('Loss')\n",
        "\n",
        "# Plot the train accuracy values on the second subplot\n",
        "ax2.plot(epochs, metrics['train_acc'])\n",
        "ax2.set_title('Train Accuracy')\n",
        "ax2.set_xlabel('Epoch')\n",
        "ax2.set_ylabel('Accuracy')\n",
        "\n",
        "# Show the plot\n",
        "plt.show()"
      ],
      "metadata": {
        "colab": {
          "base_uri": "https://localhost:8080/",
          "height": 487
        },
        "id": "MoiUPXWFgKrT",
        "outputId": "4fa104bc-cf30-4d81-873e-9a6795d409e8"
      },
      "execution_count": 21,
      "outputs": [
        {
          "output_type": "display_data",
          "data": {
            "text/plain": [
              "<Figure size 1000x500 with 2 Axes>"
            ],
            "image/png": "[encoded data removed]"
          },
          "metadata": {}
        }
      ]
    },
    {
      "cell_type": "code",
      "source": [
        "!cp /content/model/* /content/drive/MyDrive/Tugas_Akhir/model/"
      ],
      "metadata": {
        "id": "RLHodVy3gKua"
      },
      "execution_count": 22,
      "outputs": []
    },
    {
      "cell_type": "code",
      "source": [
        "#@title Load the finetuned model State_Dict to the Pretrained GPT-J Model\n",
        "\n",
        "import random\n",
        "from prettytable import PrettyTable\n",
        "from difflib import SequenceMatcher\n",
        "\n",
        "table = PrettyTable()\n",
        "table.field_names = [\"Prompt\", \"Generated Commands\", \"Correct Command\", \"Similarity (%)\"]\n",
        "\n",
        "network1 = [\"192.168.7.0\", \"192.168.50.0\", \"192.168.32.0\", \"192.168.40.0\"]\n",
        "\n",
        "network2 = [\"192.168.100.0\", \"192.168.10.0\", \"192.168.2.0\", \"192.168.5.0\"]\n",
        "\n",
        "router = [\"Router A\", \"Router G\", \"Router X\"]\n",
        "\n",
        "interface = [\"G0/2\",\"G1\",\"F0/0/1\",\"F0/3\"]\n",
        "\n",
        "for i in range(1):\n",
        "  current = [random.choice(network1), random.choice(network2), random.choice(router)]\n",
        "  prompt = f\"Buat route static menuju network 192.168.100.10 dengan subnet mask 255.255.255.0 melalui interface g/0/0/0 di Router A\" #@param {type:\"string\"}\n",
        "  correct_command = f\"[{current[2]}] configure terminal, router rip, version 2, network {current[0]}, network {current[1]},  end [eoc]<|endoftext|>\" #@param {type:\"string\"}\n",
        "  with torch.no_grad():\n",
        "    tokenized_prompt = tokenizer(f\"prompt:{prompt},commands:[\", truncation=True, padding=True, max_length=128, return_tensors='pt')\n",
        "    for i in range(2):\n",
        "      tokenized_prompt = {key: value.to(device) for key, value in tokenized_prompt.items()}\n",
        "      out = gpt.generate(**tokenized_prompt, max_length=128, top_k=50, top_p=0.9, temperature=1.0, do_sample=True, repetition_penalty = 1.2, num_beams=1)\n",
        "      outputs = tokenizer.decode(out[0]).split(\",\")\n",
        "      outputs[1] = outputs[1].replace('\\n',', ')\n",
        "      similarity = SequenceMatcher(None, outputs[1].replace('commands:',''), correct_command).ratio() * 100\n",
        "      row = [prompt, outputs[1].replace('commands:',''), correct_command, f\"{similarity:.2f}%\"]\n",
        "      table.add_row(row)\n",
        "\n",
        "print(table)"
      ],
      "metadata": {
        "colab": {
          "base_uri": "https://localhost:8080/"
        },
        "id": "4HbMxsHEmhV4",
        "outputId": "4e0d2b8a-48ab-4428-92cf-53136477cc3a"
      },
      "execution_count": 24,
      "outputs": [
        {
          "output_type": "stream",
          "name": "stderr",
          "text": [
            "Setting `pad_token_id` to `eos_token_id`:50256 for open-end generation.\n",
            "Setting `pad_token_id` to `eos_token_id`:50256 for open-end generation.\n"
          ]
        },
        {
          "output_type": "stream",
          "name": "stdout",
          "text": [
            "+------------------------------------------------------------------------------------------------------------------------+-------------------------------------------------------------------------------------------+----------------------------------------------------------------------------------------------------------------------------+----------------+\n",
            "|                                                         Prompt                                                         |                                     Generated Commands                                    |                                                      Correct Command                                                       | Similarity (%) |\n",
            "+------------------------------------------------------------------------------------------------------------------------+-------------------------------------------------------------------------------------------+----------------------------------------------------------------------------------------------------------------------------+----------------+\n",
            "| Buat route static menuju network 192.168.100.10 dengan subnet mask 255.255.255.0 melalui interface g/0/0/0 di Router A |                   [Router A] configure terminal, intg g/0/1<|endoftext|>                  | [Router G] configure terminal, router rip, version 2, network 192.168.40.0, network 192.168.100.0,  end [eoc]<|endoftext|> |     55.68%     |\n",
            "| Buat route static menuju network 192.168.100.10 dengan subnet mask 255.255.255.0 melalui interface g/0/0/0 di Router A | [RouterA] configure terminal, interface Gi/0/0/0 enable, encapsulation dot1q<|endoftext|> | [Router G] configure terminal, router rip, version 2, network 192.168.40.0, network 192.168.100.0,  end [eoc]<|endoftext|> |     54.03%     |\n",
            "+------------------------------------------------------------------------------------------------------------------------+-------------------------------------------------------------------------------------------+----------------------------------------------------------------------------------------------------------------------------+----------------+\n"
          ]
        }
      ]
    },
    {
      "cell_type": "code",
      "source": [
        "import re\n",
        "\n",
        "input = f\"Buat route static menuju network 192.168.100.10 dengan subnet mask 255.255.255.0 melalui interface g/0/0/0 di Router A\" #@param {type:\"string\"}\n",
        "gpt.eval()\n",
        "prompt = f\"prompt:{input},commands:[\"\n",
        "with torch.no_grad():\n",
        "  preprocessed_prompt = tokenizer(prompt, truncation=True, padding=True, max_length=256, return_tensors='pt')\n",
        "  preprocessed_prompt = {key: value.to(device) for key, value in preprocessed_prompt.items()}\n",
        "  out = gpt.generate(**preprocessed_prompt, max_length=128, top_k=50, top_p=0.9, temperature=1.0, do_sample=True, repetition_penalty = 1.2, num_beams=1)\n",
        "  outputs = tokenizer.decode(out[0]).split(\",\")\n",
        "  full_commands = outputs[1].replace('\\n',',')\n",
        "\n",
        "  print(full_commands)\n",
        "\n",
        "  prompt = f\"{outputs[1].replace('<|endoftext|>','')},bot_reply:\"\n",
        "  preprocessed_prompt = tokenizer(prompt, truncation=True, padding=True, max_length=256, return_tensors='pt')\n",
        "  preprocessed_prompt = {key: value.to(device) for key, value in preprocessed_prompt.items()}\n",
        "  out = gpt.generate(**preprocessed_prompt, max_length=512, top_k=50, top_p=0.9, temperature=1.0, do_sample=True, repetition_penalty = 1.2, num_beams=1)\n",
        "  outputs = tokenizer.decode(out[0])\n",
        "\n",
        "  pattern = r\"bot_reply:(.*)\"\n",
        "  matches = re.findall(pattern, outputs, re.DOTALL)\n",
        "  bot_reply_text = matches[0].strip()\n",
        "  bot_reply = bot_reply_text.replace(\"\\n\",\",\")\n",
        "\n",
        "  print(f'bot_reply:{bot_reply}')\n"
      ],
      "metadata": {
        "colab": {
          "base_uri": "https://localhost:8080/"
        },
        "id": "1pcUfUP_gN6Z",
        "outputId": "4f478e17-a7d3-4862-9f89-9f4735221230"
      },
      "execution_count": 23,
      "outputs": [
        {
          "output_type": "stream",
          "name": "stderr",
          "text": [
            "Setting `pad_token_id` to `eos_token_id`:50256 for open-end generation.\n",
            "Setting `pad_token_id` to `eos_token_id`:50256 for open-end generation.\n"
          ]
        },
        {
          "output_type": "stream",
          "name": "stdout",
          "text": [
            "commands:[Router B] configure terminal,iproute[–Cocurrentaan adalah IPv4 address 192.168.1.2<|endoftext|>\n",
            "bot_reply:Ada jalanan ini mengaktifkan semua layer sekuriti NAT untuk menyimpan<|endoftext|>\n"
          ]
        }
      ]
    },
    {
      "cell_type": "code",
      "source": [
        "print(outputs)"
      ],
      "metadata": {
        "colab": {
          "base_uri": "https://localhost:8080/"
        },
        "id": "3Kny-0JIgN9E",
        "outputId": "6b246ae8-5cd2-49a1-af72-efb3b95e5375"
      },
      "execution_count": 25,
      "outputs": [
        {
          "output_type": "stream",
          "name": "stdout",
          "text": [
            "['prompt:Buat route static menuju network 192.168.100.10 dengan subnet mask 255.255.255.0 melalui interface g/0/0/0 di Router A', 'commands:[RouterA] configure terminal, interface Gi/0/0/0 enable, encapsulation dot1q<|endoftext|>']\n"
          ]
        }
      ]
    },
    {
      "cell_type": "code",
      "source": [
        "import csv\n",
        "data = [table.field_names] + [[str(cell).strip() for cell in row] for row in table._rows]\n",
        "\n",
        "# Write the data to a CSV file\n",
        "filename = \"table.csv\"\n",
        "with open(filename, \"w\", newline=\"\") as csvfile:\n",
        "    writer = csv.writer(csvfile)\n",
        "    writer.writerows(data)\n",
        "\n",
        "print(f\"Table successfully converted to {filename}\")"
      ],
      "metadata": {
        "colab": {
          "base_uri": "https://localhost:8080/"
        },
        "id": "NdFq8eU5gOE0",
        "outputId": "a50a94c1-86aa-42b8-dc55-d80ddb4ca89d"
      },
      "execution_count": 27,
      "outputs": [
        {
          "output_type": "stream",
          "name": "stdout",
          "text": [
            "Table successfully converted to table.csv\n"
          ]
        }
      ]
    },
    {
      "cell_type": "code",
      "source": [],
      "metadata": {
        "id": "3kEKPbCUpJsM"
      },
      "execution_count": null,
      "outputs": []
    },
    {
      "cell_type": "code",
      "source": [],
      "metadata": {
        "id": "aj1CAofqpJ2Y"
      },
      "execution_count": null,
      "outputs": []
    }
  ]
}